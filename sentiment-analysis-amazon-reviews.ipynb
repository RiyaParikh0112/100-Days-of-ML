{
 "cells": [
  {
   "cell_type": "markdown",
   "id": "19cd741c",
   "metadata": {
    "papermill": {
     "duration": 0.003711,
     "end_time": "2022-10-13T17:13:02.108547",
     "exception": false,
     "start_time": "2022-10-13T17:13:02.104836",
     "status": "completed"
    },
    "tags": []
   },
   "source": [
    "Step 0. Read in Data and NLTK Basics"
   ]
  },
  {
   "cell_type": "code",
   "execution_count": 1,
   "id": "f7f4179d",
   "metadata": {
    "execution": {
     "iopub.execute_input": "2022-10-13T17:13:02.116175Z",
     "iopub.status.busy": "2022-10-13T17:13:02.115718Z",
     "iopub.status.idle": "2022-10-13T17:13:04.260847Z",
     "shell.execute_reply": "2022-10-13T17:13:04.259601Z"
    },
    "papermill": {
     "duration": 2.152448,
     "end_time": "2022-10-13T17:13:04.263897",
     "exception": false,
     "start_time": "2022-10-13T17:13:02.111449",
     "status": "completed"
    },
    "tags": []
   },
   "outputs": [],
   "source": [
    "import pandas as pd\n",
    "import numpy as np\n",
    "import matplotlib.pyplot as plt\n",
    "import seaborn as sns\n",
    "plt.style.use('ggplot')\n",
    "import nltk"
   ]
  },
  {
   "cell_type": "code",
   "execution_count": 2,
   "id": "32d383c4",
   "metadata": {
    "execution": {
     "iopub.execute_input": "2022-10-13T17:13:04.272141Z",
     "iopub.status.busy": "2022-10-13T17:13:04.270953Z",
     "iopub.status.idle": "2022-10-13T17:13:13.320112Z",
     "shell.execute_reply": "2022-10-13T17:13:13.319072Z"
    },
    "papermill": {
     "duration": 9.056171,
     "end_time": "2022-10-13T17:13:13.323013",
     "exception": false,
     "start_time": "2022-10-13T17:13:04.266842",
     "status": "completed"
    },
    "tags": []
   },
   "outputs": [],
   "source": [
    "#reading the data\n",
    "df = pd.read_csv('../input/amazon-fine-food-reviews/Reviews.csv')"
   ]
  },
  {
   "cell_type": "code",
   "execution_count": 3,
   "id": "fc16e41e",
   "metadata": {
    "execution": {
     "iopub.execute_input": "2022-10-13T17:13:13.331234Z",
     "iopub.status.busy": "2022-10-13T17:13:13.330509Z",
     "iopub.status.idle": "2022-10-13T17:13:13.336452Z",
     "shell.execute_reply": "2022-10-13T17:13:13.335220Z"
    },
    "papermill": {
     "duration": 0.013365,
     "end_time": "2022-10-13T17:13:13.339424",
     "exception": false,
     "start_time": "2022-10-13T17:13:13.326059",
     "status": "completed"
    },
    "tags": []
   },
   "outputs": [],
   "source": [
    "df = df.head(500)"
   ]
  },
  {
   "cell_type": "code",
   "execution_count": 4,
   "id": "7f0cbc83",
   "metadata": {
    "execution": {
     "iopub.execute_input": "2022-10-13T17:13:13.347366Z",
     "iopub.status.busy": "2022-10-13T17:13:13.346921Z",
     "iopub.status.idle": "2022-10-13T17:13:13.357501Z",
     "shell.execute_reply": "2022-10-13T17:13:13.356240Z"
    },
    "papermill": {
     "duration": 0.018592,
     "end_time": "2022-10-13T17:13:13.360928",
     "exception": false,
     "start_time": "2022-10-13T17:13:13.342336",
     "status": "completed"
    },
    "tags": []
   },
   "outputs": [
    {
     "data": {
      "text/plain": [
       "(500, 10)"
      ]
     },
     "execution_count": 4,
     "metadata": {},
     "output_type": "execute_result"
    }
   ],
   "source": [
    "df.shape"
   ]
  },
  {
   "cell_type": "code",
   "execution_count": 5,
   "id": "7920b741",
   "metadata": {
    "execution": {
     "iopub.execute_input": "2022-10-13T17:13:13.369003Z",
     "iopub.status.busy": "2022-10-13T17:13:13.368252Z",
     "iopub.status.idle": "2022-10-13T17:13:13.393585Z",
     "shell.execute_reply": "2022-10-13T17:13:13.392351Z"
    },
    "papermill": {
     "duration": 0.032294,
     "end_time": "2022-10-13T17:13:13.396181",
     "exception": false,
     "start_time": "2022-10-13T17:13:13.363887",
     "status": "completed"
    },
    "tags": []
   },
   "outputs": [
    {
     "data": {
      "text/html": [
       "<div>\n",
       "<style scoped>\n",
       "    .dataframe tbody tr th:only-of-type {\n",
       "        vertical-align: middle;\n",
       "    }\n",
       "\n",
       "    .dataframe tbody tr th {\n",
       "        vertical-align: top;\n",
       "    }\n",
       "\n",
       "    .dataframe thead th {\n",
       "        text-align: right;\n",
       "    }\n",
       "</style>\n",
       "<table border=\"1\" class=\"dataframe\">\n",
       "  <thead>\n",
       "    <tr style=\"text-align: right;\">\n",
       "      <th></th>\n",
       "      <th>Id</th>\n",
       "      <th>ProductId</th>\n",
       "      <th>UserId</th>\n",
       "      <th>ProfileName</th>\n",
       "      <th>HelpfulnessNumerator</th>\n",
       "      <th>HelpfulnessDenominator</th>\n",
       "      <th>Score</th>\n",
       "      <th>Time</th>\n",
       "      <th>Summary</th>\n",
       "      <th>Text</th>\n",
       "    </tr>\n",
       "  </thead>\n",
       "  <tbody>\n",
       "    <tr>\n",
       "      <th>0</th>\n",
       "      <td>1</td>\n",
       "      <td>B001E4KFG0</td>\n",
       "      <td>A3SGXH7AUHU8GW</td>\n",
       "      <td>delmartian</td>\n",
       "      <td>1</td>\n",
       "      <td>1</td>\n",
       "      <td>5</td>\n",
       "      <td>1303862400</td>\n",
       "      <td>Good Quality Dog Food</td>\n",
       "      <td>I have bought several of the Vitality canned d...</td>\n",
       "    </tr>\n",
       "    <tr>\n",
       "      <th>1</th>\n",
       "      <td>2</td>\n",
       "      <td>B00813GRG4</td>\n",
       "      <td>A1D87F6ZCVE5NK</td>\n",
       "      <td>dll pa</td>\n",
       "      <td>0</td>\n",
       "      <td>0</td>\n",
       "      <td>1</td>\n",
       "      <td>1346976000</td>\n",
       "      <td>Not as Advertised</td>\n",
       "      <td>Product arrived labeled as Jumbo Salted Peanut...</td>\n",
       "    </tr>\n",
       "    <tr>\n",
       "      <th>2</th>\n",
       "      <td>3</td>\n",
       "      <td>B000LQOCH0</td>\n",
       "      <td>ABXLMWJIXXAIN</td>\n",
       "      <td>Natalia Corres \"Natalia Corres\"</td>\n",
       "      <td>1</td>\n",
       "      <td>1</td>\n",
       "      <td>4</td>\n",
       "      <td>1219017600</td>\n",
       "      <td>\"Delight\" says it all</td>\n",
       "      <td>This is a confection that has been around a fe...</td>\n",
       "    </tr>\n",
       "    <tr>\n",
       "      <th>3</th>\n",
       "      <td>4</td>\n",
       "      <td>B000UA0QIQ</td>\n",
       "      <td>A395BORC6FGVXV</td>\n",
       "      <td>Karl</td>\n",
       "      <td>3</td>\n",
       "      <td>3</td>\n",
       "      <td>2</td>\n",
       "      <td>1307923200</td>\n",
       "      <td>Cough Medicine</td>\n",
       "      <td>If you are looking for the secret ingredient i...</td>\n",
       "    </tr>\n",
       "    <tr>\n",
       "      <th>4</th>\n",
       "      <td>5</td>\n",
       "      <td>B006K2ZZ7K</td>\n",
       "      <td>A1UQRSCLF8GW1T</td>\n",
       "      <td>Michael D. Bigham \"M. Wassir\"</td>\n",
       "      <td>0</td>\n",
       "      <td>0</td>\n",
       "      <td>5</td>\n",
       "      <td>1350777600</td>\n",
       "      <td>Great taffy</td>\n",
       "      <td>Great taffy at a great price.  There was a wid...</td>\n",
       "    </tr>\n",
       "  </tbody>\n",
       "</table>\n",
       "</div>"
      ],
      "text/plain": [
       "   Id   ProductId          UserId                      ProfileName  \\\n",
       "0   1  B001E4KFG0  A3SGXH7AUHU8GW                       delmartian   \n",
       "1   2  B00813GRG4  A1D87F6ZCVE5NK                           dll pa   \n",
       "2   3  B000LQOCH0   ABXLMWJIXXAIN  Natalia Corres \"Natalia Corres\"   \n",
       "3   4  B000UA0QIQ  A395BORC6FGVXV                             Karl   \n",
       "4   5  B006K2ZZ7K  A1UQRSCLF8GW1T    Michael D. Bigham \"M. Wassir\"   \n",
       "\n",
       "   HelpfulnessNumerator  HelpfulnessDenominator  Score        Time  \\\n",
       "0                     1                       1      5  1303862400   \n",
       "1                     0                       0      1  1346976000   \n",
       "2                     1                       1      4  1219017600   \n",
       "3                     3                       3      2  1307923200   \n",
       "4                     0                       0      5  1350777600   \n",
       "\n",
       "                 Summary                                               Text  \n",
       "0  Good Quality Dog Food  I have bought several of the Vitality canned d...  \n",
       "1      Not as Advertised  Product arrived labeled as Jumbo Salted Peanut...  \n",
       "2  \"Delight\" says it all  This is a confection that has been around a fe...  \n",
       "3         Cough Medicine  If you are looking for the secret ingredient i...  \n",
       "4            Great taffy  Great taffy at a great price.  There was a wid...  "
      ]
     },
     "execution_count": 5,
     "metadata": {},
     "output_type": "execute_result"
    }
   ],
   "source": [
    "df.head()"
   ]
  },
  {
   "cell_type": "markdown",
   "id": "9d8c05a8",
   "metadata": {
    "papermill": {
     "duration": 0.002764,
     "end_time": "2022-10-13T17:13:13.402091",
     "exception": false,
     "start_time": "2022-10-13T17:13:13.399327",
     "status": "completed"
    },
    "tags": []
   },
   "source": [
    "# Exploratory Data Analysis"
   ]
  },
  {
   "cell_type": "code",
   "execution_count": null,
   "id": "f9b29589",
   "metadata": {
    "papermill": {
     "duration": 0.002705,
     "end_time": "2022-10-13T17:13:13.407857",
     "exception": false,
     "start_time": "2022-10-13T17:13:13.405152",
     "status": "completed"
    },
    "tags": []
   },
   "outputs": [],
   "source": []
  }
 ],
 "metadata": {
  "kernelspec": {
   "display_name": "Python 3",
   "language": "python",
   "name": "python3"
  },
  "language_info": {
   "codemirror_mode": {
    "name": "ipython",
    "version": 3
   },
   "file_extension": ".py",
   "mimetype": "text/x-python",
   "name": "python",
   "nbconvert_exporter": "python",
   "pygments_lexer": "ipython3",
   "version": "3.7.12"
  },
  "papermill": {
   "default_parameters": {},
   "duration": 22.327722,
   "end_time": "2022-10-13T17:13:14.433905",
   "environment_variables": {},
   "exception": null,
   "input_path": "__notebook__.ipynb",
   "output_path": "__notebook__.ipynb",
   "parameters": {},
   "start_time": "2022-10-13T17:12:52.106183",
   "version": "2.3.4"
  }
 },
 "nbformat": 4,
 "nbformat_minor": 5
}
