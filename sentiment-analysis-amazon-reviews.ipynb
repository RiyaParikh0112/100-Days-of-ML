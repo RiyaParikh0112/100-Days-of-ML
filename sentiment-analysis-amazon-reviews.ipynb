{
 "cells": [
  {
   "cell_type": "markdown",
   "id": "ad0ad9c7",
   "metadata": {
    "papermill": {
     "duration": 0.004135,
     "end_time": "2022-10-13T17:16:13.436414",
     "exception": false,
     "start_time": "2022-10-13T17:16:13.432279",
     "status": "completed"
    },
    "tags": []
   },
   "source": [
    "Step 0. Read in Data and NLTK Basics"
   ]
  },
  {
   "cell_type": "code",
   "execution_count": 1,
   "id": "9c195382",
   "metadata": {
    "execution": {
     "iopub.execute_input": "2022-10-13T17:16:13.445321Z",
     "iopub.status.busy": "2022-10-13T17:16:13.444652Z",
     "iopub.status.idle": "2022-10-13T17:16:15.482428Z",
     "shell.execute_reply": "2022-10-13T17:16:15.481004Z"
    },
    "papermill": {
     "duration": 2.045998,
     "end_time": "2022-10-13T17:16:15.485657",
     "exception": false,
     "start_time": "2022-10-13T17:16:13.439659",
     "status": "completed"
    },
    "tags": []
   },
   "outputs": [],
   "source": [
    "import pandas as pd\n",
    "import numpy as np\n",
    "import matplotlib.pyplot as plt\n",
    "import seaborn as sns\n",
    "plt.style.use('ggplot')\n",
    "import nltk"
   ]
  },
  {
   "cell_type": "code",
   "execution_count": 2,
   "id": "edc8bfc5",
   "metadata": {
    "execution": {
     "iopub.execute_input": "2022-10-13T17:16:15.494467Z",
     "iopub.status.busy": "2022-10-13T17:16:15.493287Z",
     "iopub.status.idle": "2022-10-13T17:16:24.554424Z",
     "shell.execute_reply": "2022-10-13T17:16:24.553221Z"
    },
    "papermill": {
     "duration": 9.069001,
     "end_time": "2022-10-13T17:16:24.557859",
     "exception": false,
     "start_time": "2022-10-13T17:16:15.488858",
     "status": "completed"
    },
    "tags": []
   },
   "outputs": [],
   "source": [
    "#reading the data\n",
    "df = pd.read_csv('../input/amazon-fine-food-reviews/Reviews.csv')"
   ]
  },
  {
   "cell_type": "code",
   "execution_count": 3,
   "id": "399ab549",
   "metadata": {
    "execution": {
     "iopub.execute_input": "2022-10-13T17:16:24.569332Z",
     "iopub.status.busy": "2022-10-13T17:16:24.568545Z",
     "iopub.status.idle": "2022-10-13T17:16:24.574188Z",
     "shell.execute_reply": "2022-10-13T17:16:24.572925Z"
    },
    "papermill": {
     "duration": 0.014931,
     "end_time": "2022-10-13T17:16:24.577482",
     "exception": false,
     "start_time": "2022-10-13T17:16:24.562551",
     "status": "completed"
    },
    "tags": []
   },
   "outputs": [],
   "source": [
    "df = df.head(500)"
   ]
  },
  {
   "cell_type": "code",
   "execution_count": 4,
   "id": "87128232",
   "metadata": {
    "execution": {
     "iopub.execute_input": "2022-10-13T17:16:24.588206Z",
     "iopub.status.busy": "2022-10-13T17:16:24.587744Z",
     "iopub.status.idle": "2022-10-13T17:16:24.597694Z",
     "shell.execute_reply": "2022-10-13T17:16:24.596098Z"
    },
    "papermill": {
     "duration": 0.020262,
     "end_time": "2022-10-13T17:16:24.602105",
     "exception": false,
     "start_time": "2022-10-13T17:16:24.581843",
     "status": "completed"
    },
    "tags": []
   },
   "outputs": [
    {
     "data": {
      "text/plain": [
       "(500, 10)"
      ]
     },
     "execution_count": 4,
     "metadata": {},
     "output_type": "execute_result"
    }
   ],
   "source": [
    "df.shape"
   ]
  },
  {
   "cell_type": "code",
   "execution_count": 5,
   "id": "aa87f1f3",
   "metadata": {
    "execution": {
     "iopub.execute_input": "2022-10-13T17:16:24.613270Z",
     "iopub.status.busy": "2022-10-13T17:16:24.612775Z",
     "iopub.status.idle": "2022-10-13T17:16:24.638840Z",
     "shell.execute_reply": "2022-10-13T17:16:24.637412Z"
    },
    "papermill": {
     "duration": 0.034789,
     "end_time": "2022-10-13T17:16:24.641579",
     "exception": false,
     "start_time": "2022-10-13T17:16:24.606790",
     "status": "completed"
    },
    "tags": []
   },
   "outputs": [
    {
     "data": {
      "text/html": [
       "<div>\n",
       "<style scoped>\n",
       "    .dataframe tbody tr th:only-of-type {\n",
       "        vertical-align: middle;\n",
       "    }\n",
       "\n",
       "    .dataframe tbody tr th {\n",
       "        vertical-align: top;\n",
       "    }\n",
       "\n",
       "    .dataframe thead th {\n",
       "        text-align: right;\n",
       "    }\n",
       "</style>\n",
       "<table border=\"1\" class=\"dataframe\">\n",
       "  <thead>\n",
       "    <tr style=\"text-align: right;\">\n",
       "      <th></th>\n",
       "      <th>Id</th>\n",
       "      <th>ProductId</th>\n",
       "      <th>UserId</th>\n",
       "      <th>ProfileName</th>\n",
       "      <th>HelpfulnessNumerator</th>\n",
       "      <th>HelpfulnessDenominator</th>\n",
       "      <th>Score</th>\n",
       "      <th>Time</th>\n",
       "      <th>Summary</th>\n",
       "      <th>Text</th>\n",
       "    </tr>\n",
       "  </thead>\n",
       "  <tbody>\n",
       "    <tr>\n",
       "      <th>0</th>\n",
       "      <td>1</td>\n",
       "      <td>B001E4KFG0</td>\n",
       "      <td>A3SGXH7AUHU8GW</td>\n",
       "      <td>delmartian</td>\n",
       "      <td>1</td>\n",
       "      <td>1</td>\n",
       "      <td>5</td>\n",
       "      <td>1303862400</td>\n",
       "      <td>Good Quality Dog Food</td>\n",
       "      <td>I have bought several of the Vitality canned d...</td>\n",
       "    </tr>\n",
       "    <tr>\n",
       "      <th>1</th>\n",
       "      <td>2</td>\n",
       "      <td>B00813GRG4</td>\n",
       "      <td>A1D87F6ZCVE5NK</td>\n",
       "      <td>dll pa</td>\n",
       "      <td>0</td>\n",
       "      <td>0</td>\n",
       "      <td>1</td>\n",
       "      <td>1346976000</td>\n",
       "      <td>Not as Advertised</td>\n",
       "      <td>Product arrived labeled as Jumbo Salted Peanut...</td>\n",
       "    </tr>\n",
       "    <tr>\n",
       "      <th>2</th>\n",
       "      <td>3</td>\n",
       "      <td>B000LQOCH0</td>\n",
       "      <td>ABXLMWJIXXAIN</td>\n",
       "      <td>Natalia Corres \"Natalia Corres\"</td>\n",
       "      <td>1</td>\n",
       "      <td>1</td>\n",
       "      <td>4</td>\n",
       "      <td>1219017600</td>\n",
       "      <td>\"Delight\" says it all</td>\n",
       "      <td>This is a confection that has been around a fe...</td>\n",
       "    </tr>\n",
       "    <tr>\n",
       "      <th>3</th>\n",
       "      <td>4</td>\n",
       "      <td>B000UA0QIQ</td>\n",
       "      <td>A395BORC6FGVXV</td>\n",
       "      <td>Karl</td>\n",
       "      <td>3</td>\n",
       "      <td>3</td>\n",
       "      <td>2</td>\n",
       "      <td>1307923200</td>\n",
       "      <td>Cough Medicine</td>\n",
       "      <td>If you are looking for the secret ingredient i...</td>\n",
       "    </tr>\n",
       "    <tr>\n",
       "      <th>4</th>\n",
       "      <td>5</td>\n",
       "      <td>B006K2ZZ7K</td>\n",
       "      <td>A1UQRSCLF8GW1T</td>\n",
       "      <td>Michael D. Bigham \"M. Wassir\"</td>\n",
       "      <td>0</td>\n",
       "      <td>0</td>\n",
       "      <td>5</td>\n",
       "      <td>1350777600</td>\n",
       "      <td>Great taffy</td>\n",
       "      <td>Great taffy at a great price.  There was a wid...</td>\n",
       "    </tr>\n",
       "  </tbody>\n",
       "</table>\n",
       "</div>"
      ],
      "text/plain": [
       "   Id   ProductId          UserId                      ProfileName  \\\n",
       "0   1  B001E4KFG0  A3SGXH7AUHU8GW                       delmartian   \n",
       "1   2  B00813GRG4  A1D87F6ZCVE5NK                           dll pa   \n",
       "2   3  B000LQOCH0   ABXLMWJIXXAIN  Natalia Corres \"Natalia Corres\"   \n",
       "3   4  B000UA0QIQ  A395BORC6FGVXV                             Karl   \n",
       "4   5  B006K2ZZ7K  A1UQRSCLF8GW1T    Michael D. Bigham \"M. Wassir\"   \n",
       "\n",
       "   HelpfulnessNumerator  HelpfulnessDenominator  Score        Time  \\\n",
       "0                     1                       1      5  1303862400   \n",
       "1                     0                       0      1  1346976000   \n",
       "2                     1                       1      4  1219017600   \n",
       "3                     3                       3      2  1307923200   \n",
       "4                     0                       0      5  1350777600   \n",
       "\n",
       "                 Summary                                               Text  \n",
       "0  Good Quality Dog Food  I have bought several of the Vitality canned d...  \n",
       "1      Not as Advertised  Product arrived labeled as Jumbo Salted Peanut...  \n",
       "2  \"Delight\" says it all  This is a confection that has been around a fe...  \n",
       "3         Cough Medicine  If you are looking for the secret ingredient i...  \n",
       "4            Great taffy  Great taffy at a great price.  There was a wid...  "
      ]
     },
     "execution_count": 5,
     "metadata": {},
     "output_type": "execute_result"
    }
   ],
   "source": [
    "df.head()"
   ]
  },
  {
   "cell_type": "markdown",
   "id": "37627048",
   "metadata": {
    "papermill": {
     "duration": 0.003219,
     "end_time": "2022-10-13T17:16:24.648311",
     "exception": false,
     "start_time": "2022-10-13T17:16:24.645092",
     "status": "completed"
    },
    "tags": []
   },
   "source": [
    "# Exploratory Data Analysis"
   ]
  },
  {
   "cell_type": "code",
   "execution_count": 6,
   "id": "37cab911",
   "metadata": {
    "execution": {
     "iopub.execute_input": "2022-10-13T17:16:24.657942Z",
     "iopub.status.busy": "2022-10-13T17:16:24.656533Z",
     "iopub.status.idle": "2022-10-13T17:16:24.948936Z",
     "shell.execute_reply": "2022-10-13T17:16:24.947644Z"
    },
    "papermill": {
     "duration": 0.299773,
     "end_time": "2022-10-13T17:16:24.951519",
     "exception": false,
     "start_time": "2022-10-13T17:16:24.651746",
     "status": "completed"
    },
    "tags": []
   },
   "outputs": [
    {
     "data": {
      "image/png": "[encoded data removed]",
      "text/plain": [
       "<Figure size 720x360 with 1 Axes>"
      ]
     },
     "metadata": {},
     "output_type": "display_data"
    }
   ],
   "source": [
    "df['Score'].value_counts().sort_index().plot(kind='bar',title='Rating Reviews Star',figsize=(10,5))\n",
    "plt.show()"
   ]
  },
  {
   "cell_type": "code",
   "execution_count": null,
   "id": "0883fe56",
   "metadata": {
    "papermill": {
     "duration": 0.003376,
     "end_time": "2022-10-13T17:16:24.958686",
     "exception": false,
     "start_time": "2022-10-13T17:16:24.955310",
     "status": "completed"
    },
    "tags": []
   },
   "outputs": [],
   "source": []
  }
 ],
 "metadata": {
  "kernelspec": {
   "display_name": "Python 3",
   "language": "python",
   "name": "python3"
  },
  "language_info": {
   "codemirror_mode": {
    "name": "ipython",
    "version": 3
   },
   "file_extension": ".py",
   "mimetype": "text/x-python",
   "name": "python",
   "nbconvert_exporter": "python",
   "pygments_lexer": "ipython3",
   "version": "3.7.12"
  },
  "papermill": {
   "default_parameters": {},
   "duration": 23.07458,
   "end_time": "2022-10-13T17:16:26.186538",
   "environment_variables": {},
   "exception": null,
   "input_path": "__notebook__.ipynb",
   "output_path": "__notebook__.ipynb",
   "parameters": {},
   "start_time": "2022-10-13T17:16:03.111958",
   "version": "2.3.4"
  }
 },
 "nbformat": 4,
 "nbformat_minor": 5
}
