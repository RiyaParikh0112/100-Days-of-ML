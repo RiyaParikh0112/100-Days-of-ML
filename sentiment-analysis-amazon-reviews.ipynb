{
 "cells": [
  {
   "cell_type": "markdown",
   "id": "7ae8361f",
   "metadata": {
    "papermill": {
     "duration": 0.005211,
     "end_time": "2022-10-14T04:43:09.901754",
     "exception": false,
     "start_time": "2022-10-14T04:43:09.896543",
     "status": "completed"
    },
    "tags": []
   },
   "source": [
    "Step 0. Read in Data and NLTK Basics"
   ]
  },
  {
   "cell_type": "code",
   "execution_count": 1,
   "id": "572308ac",
   "metadata": {
    "execution": {
     "iopub.execute_input": "2022-10-14T04:43:09.913313Z",
     "iopub.status.busy": "2022-10-14T04:43:09.912762Z",
     "iopub.status.idle": "2022-10-14T04:43:12.094997Z",
     "shell.execute_reply": "2022-10-14T04:43:12.093792Z"
    },
    "papermill": {
     "duration": 2.191098,
     "end_time": "2022-10-14T04:43:12.097665",
     "exception": false,
     "start_time": "2022-10-14T04:43:09.906567",
     "status": "completed"
    },
    "tags": []
   },
   "outputs": [],
   "source": [
    "import pandas as pd\n",
    "import numpy as np\n",
    "import matplotlib.pyplot as plt\n",
    "import seaborn as sns\n",
    "plt.style.use('ggplot')\n",
    "import nltk"
   ]
  },
  {
   "cell_type": "code",
   "execution_count": 2,
   "id": "2a355877",
   "metadata": {
    "execution": {
     "iopub.execute_input": "2022-10-14T04:43:12.107114Z",
     "iopub.status.busy": "2022-10-14T04:43:12.106785Z",
     "iopub.status.idle": "2022-10-14T04:43:19.927232Z",
     "shell.execute_reply": "2022-10-14T04:43:19.925195Z"
    },
    "papermill": {
     "duration": 7.82839,
     "end_time": "2022-10-14T04:43:19.930223",
     "exception": false,
     "start_time": "2022-10-14T04:43:12.101833",
     "status": "completed"
    },
    "tags": []
   },
   "outputs": [],
   "source": [
    "#reading the data\n",
    "df = pd.read_csv('../input/amazon-fine-food-reviews/Reviews.csv')"
   ]
  },
  {
   "cell_type": "code",
   "execution_count": 3,
   "id": "1dfad89e",
   "metadata": {
    "execution": {
     "iopub.execute_input": "2022-10-14T04:43:19.940063Z",
     "iopub.status.busy": "2022-10-14T04:43:19.939728Z",
     "iopub.status.idle": "2022-10-14T04:43:19.945125Z",
     "shell.execute_reply": "2022-10-14T04:43:19.943829Z"
    },
    "papermill": {
     "duration": 0.013025,
     "end_time": "2022-10-14T04:43:19.947418",
     "exception": false,
     "start_time": "2022-10-14T04:43:19.934393",
     "status": "completed"
    },
    "tags": []
   },
   "outputs": [],
   "source": [
    "df = df.head(500)"
   ]
  },
  {
   "cell_type": "code",
   "execution_count": 4,
   "id": "61192c5c",
   "metadata": {
    "execution": {
     "iopub.execute_input": "2022-10-14T04:43:19.957257Z",
     "iopub.status.busy": "2022-10-14T04:43:19.956859Z",
     "iopub.status.idle": "2022-10-14T04:43:19.966548Z",
     "shell.execute_reply": "2022-10-14T04:43:19.964744Z"
    },
    "papermill": {
     "duration": 0.017663,
     "end_time": "2022-10-14T04:43:19.969350",
     "exception": false,
     "start_time": "2022-10-14T04:43:19.951687",
     "status": "completed"
    },
    "tags": []
   },
   "outputs": [
    {
     "data": {
      "text/plain": [
       "(500, 10)"
      ]
     },
     "execution_count": 4,
     "metadata": {},
     "output_type": "execute_result"
    }
   ],
   "source": [
    "df.shape"
   ]
  },
  {
   "cell_type": "code",
   "execution_count": 5,
   "id": "d24b98d6",
   "metadata": {
    "execution": {
     "iopub.execute_input": "2022-10-14T04:43:19.980229Z",
     "iopub.status.busy": "2022-10-14T04:43:19.979359Z",
     "iopub.status.idle": "2022-10-14T04:43:20.001359Z",
     "shell.execute_reply": "2022-10-14T04:43:19.999583Z"
    },
    "papermill": {
     "duration": 0.030334,
     "end_time": "2022-10-14T04:43:20.003934",
     "exception": false,
     "start_time": "2022-10-14T04:43:19.973600",
     "status": "completed"
    },
    "tags": []
   },
   "outputs": [
    {
     "data": {
      "text/html": [
       "<div>\n",
       "<style scoped>\n",
       "    .dataframe tbody tr th:only-of-type {\n",
       "        vertical-align: middle;\n",
       "    }\n",
       "\n",
       "    .dataframe tbody tr th {\n",
       "        vertical-align: top;\n",
       "    }\n",
       "\n",
       "    .dataframe thead th {\n",
       "        text-align: right;\n",
       "    }\n",
       "</style>\n",
       "<table border=\"1\" class=\"dataframe\">\n",
       "  <thead>\n",
       "    <tr style=\"text-align: right;\">\n",
       "      <th></th>\n",
       "      <th>Id</th>\n",
       "      <th>ProductId</th>\n",
       "      <th>UserId</th>\n",
       "      <th>ProfileName</th>\n",
       "      <th>HelpfulnessNumerator</th>\n",
       "      <th>HelpfulnessDenominator</th>\n",
       "      <th>Score</th>\n",
       "      <th>Time</th>\n",
       "      <th>Summary</th>\n",
       "      <th>Text</th>\n",
       "    </tr>\n",
       "  </thead>\n",
       "  <tbody>\n",
       "    <tr>\n",
       "      <th>0</th>\n",
       "      <td>1</td>\n",
       "      <td>B001E4KFG0</td>\n",
       "      <td>A3SGXH7AUHU8GW</td>\n",
       "      <td>delmartian</td>\n",
       "      <td>1</td>\n",
       "      <td>1</td>\n",
       "      <td>5</td>\n",
       "      <td>1303862400</td>\n",
       "      <td>Good Quality Dog Food</td>\n",
       "      <td>I have bought several of the Vitality canned d...</td>\n",
       "    </tr>\n",
       "    <tr>\n",
       "      <th>1</th>\n",
       "      <td>2</td>\n",
       "      <td>B00813GRG4</td>\n",
       "      <td>A1D87F6ZCVE5NK</td>\n",
       "      <td>dll pa</td>\n",
       "      <td>0</td>\n",
       "      <td>0</td>\n",
       "      <td>1</td>\n",
       "      <td>1346976000</td>\n",
       "      <td>Not as Advertised</td>\n",
       "      <td>Product arrived labeled as Jumbo Salted Peanut...</td>\n",
       "    </tr>\n",
       "    <tr>\n",
       "      <th>2</th>\n",
       "      <td>3</td>\n",
       "      <td>B000LQOCH0</td>\n",
       "      <td>ABXLMWJIXXAIN</td>\n",
       "      <td>Natalia Corres \"Natalia Corres\"</td>\n",
       "      <td>1</td>\n",
       "      <td>1</td>\n",
       "      <td>4</td>\n",
       "      <td>1219017600</td>\n",
       "      <td>\"Delight\" says it all</td>\n",
       "      <td>This is a confection that has been around a fe...</td>\n",
       "    </tr>\n",
       "    <tr>\n",
       "      <th>3</th>\n",
       "      <td>4</td>\n",
       "      <td>B000UA0QIQ</td>\n",
       "      <td>A395BORC6FGVXV</td>\n",
       "      <td>Karl</td>\n",
       "      <td>3</td>\n",
       "      <td>3</td>\n",
       "      <td>2</td>\n",
       "      <td>1307923200</td>\n",
       "      <td>Cough Medicine</td>\n",
       "      <td>If you are looking for the secret ingredient i...</td>\n",
       "    </tr>\n",
       "    <tr>\n",
       "      <th>4</th>\n",
       "      <td>5</td>\n",
       "      <td>B006K2ZZ7K</td>\n",
       "      <td>A1UQRSCLF8GW1T</td>\n",
       "      <td>Michael D. Bigham \"M. Wassir\"</td>\n",
       "      <td>0</td>\n",
       "      <td>0</td>\n",
       "      <td>5</td>\n",
       "      <td>1350777600</td>\n",
       "      <td>Great taffy</td>\n",
       "      <td>Great taffy at a great price.  There was a wid...</td>\n",
       "    </tr>\n",
       "  </tbody>\n",
       "</table>\n",
       "</div>"
      ],
      "text/plain": [
       "   Id   ProductId          UserId                      ProfileName  \\\n",
       "0   1  B001E4KFG0  A3SGXH7AUHU8GW                       delmartian   \n",
       "1   2  B00813GRG4  A1D87F6ZCVE5NK                           dll pa   \n",
       "2   3  B000LQOCH0   ABXLMWJIXXAIN  Natalia Corres \"Natalia Corres\"   \n",
       "3   4  B000UA0QIQ  A395BORC6FGVXV                             Karl   \n",
       "4   5  B006K2ZZ7K  A1UQRSCLF8GW1T    Michael D. Bigham \"M. Wassir\"   \n",
       "\n",
       "   HelpfulnessNumerator  HelpfulnessDenominator  Score        Time  \\\n",
       "0                     1                       1      5  1303862400   \n",
       "1                     0                       0      1  1346976000   \n",
       "2                     1                       1      4  1219017600   \n",
       "3                     3                       3      2  1307923200   \n",
       "4                     0                       0      5  1350777600   \n",
       "\n",
       "                 Summary                                               Text  \n",
       "0  Good Quality Dog Food  I have bought several of the Vitality canned d...  \n",
       "1      Not as Advertised  Product arrived labeled as Jumbo Salted Peanut...  \n",
       "2  \"Delight\" says it all  This is a confection that has been around a fe...  \n",
       "3         Cough Medicine  If you are looking for the secret ingredient i...  \n",
       "4            Great taffy  Great taffy at a great price.  There was a wid...  "
      ]
     },
     "execution_count": 5,
     "metadata": {},
     "output_type": "execute_result"
    }
   ],
   "source": [
    "df.head()"
   ]
  },
  {
   "cell_type": "markdown",
   "id": "1650eb12",
   "metadata": {
    "papermill": {
     "duration": 0.004294,
     "end_time": "2022-10-14T04:43:20.012819",
     "exception": false,
     "start_time": "2022-10-14T04:43:20.008525",
     "status": "completed"
    },
    "tags": []
   },
   "source": [
    "# Exploratory Data Analysis"
   ]
  },
  {
   "cell_type": "code",
   "execution_count": 6,
   "id": "ba0e54eb",
   "metadata": {
    "execution": {
     "iopub.execute_input": "2022-10-14T04:43:20.023988Z",
     "iopub.status.busy": "2022-10-14T04:43:20.023629Z",
     "iopub.status.idle": "2022-10-14T04:43:20.236838Z",
     "shell.execute_reply": "2022-10-14T04:43:20.235453Z"
    },
    "papermill": {
     "duration": 0.221537,
     "end_time": "2022-10-14T04:43:20.239134",
     "exception": false,
     "start_time": "2022-10-14T04:43:20.017597",
     "status": "completed"
    },
    "tags": []
   },
   "outputs": [
    {
     "data": {
      "image/png": "[encoded data removed]",
      "text/plain": [
       "<Figure size 720x360 with 1 Axes>"
      ]
     },
     "metadata": {},
     "output_type": "display_data"
    }
   ],
   "source": [
    "df['Score'].value_counts().sort_index().plot(kind='bar',title='Rating Reviews Star',figsize=(10,5))\n",
    "plt.show()"
   ]
  },
  {
   "cell_type": "markdown",
   "id": "f7a57f37",
   "metadata": {
    "papermill": {
     "duration": 0.004523,
     "end_time": "2022-10-14T04:43:20.248494",
     "exception": false,
     "start_time": "2022-10-14T04:43:20.243971",
     "status": "completed"
    },
    "tags": []
   },
   "source": [
    "# NLTK Tokenization"
   ]
  },
  {
   "cell_type": "code",
   "execution_count": 7,
   "id": "78976530",
   "metadata": {
    "execution": {
     "iopub.execute_input": "2022-10-14T04:43:20.259470Z",
     "iopub.status.busy": "2022-10-14T04:43:20.259127Z",
     "iopub.status.idle": "2022-10-14T04:43:20.265102Z",
     "shell.execute_reply": "2022-10-14T04:43:20.263819Z"
    },
    "papermill": {
     "duration": 0.014093,
     "end_time": "2022-10-14T04:43:20.267229",
     "exception": false,
     "start_time": "2022-10-14T04:43:20.253136",
     "status": "completed"
    },
    "tags": []
   },
   "outputs": [
    {
     "name": "stdout",
     "output_type": "stream",
     "text": [
      "This oatmeal is not good. Its mushy, soft, I don't like it. Quaker Oats is the way to go.\n"
     ]
    }
   ],
   "source": [
    "test_case = df['Text'][50]\n",
    "print(test_case)"
   ]
  },
  {
   "cell_type": "code",
   "execution_count": 8,
   "id": "3be94f60",
   "metadata": {
    "execution": {
     "iopub.execute_input": "2022-10-14T04:43:20.278056Z",
     "iopub.status.busy": "2022-10-14T04:43:20.277700Z",
     "iopub.status.idle": "2022-10-14T04:43:20.303617Z",
     "shell.execute_reply": "2022-10-14T04:43:20.301528Z"
    },
    "papermill": {
     "duration": 0.034908,
     "end_time": "2022-10-14T04:43:20.306790",
     "exception": false,
     "start_time": "2022-10-14T04:43:20.271882",
     "status": "completed"
    },
    "tags": []
   },
   "outputs": [
    {
     "data": {
      "text/plain": [
       "['This', 'oatmeal', 'is', 'not', 'good', '.', 'Its', 'mushy', ',', 'soft']"
      ]
     },
     "execution_count": 8,
     "metadata": {},
     "output_type": "execute_result"
    }
   ],
   "source": [
    "tokens = nltk.word_tokenize(test_case)\n",
    "tokens[:10]"
   ]
  },
  {
   "cell_type": "markdown",
   "id": "dc288b1f",
   "metadata": {
    "papermill": {
     "duration": 0.004825,
     "end_time": "2022-10-14T04:43:20.317119",
     "exception": false,
     "start_time": "2022-10-14T04:43:20.312294",
     "status": "completed"
    },
    "tags": []
   },
   "source": [
    "### POS Tagging (Part of Speech)"
   ]
  },
  {
   "cell_type": "code",
   "execution_count": 9,
   "id": "9bfba130",
   "metadata": {
    "execution": {
     "iopub.execute_input": "2022-10-14T04:43:20.330071Z",
     "iopub.status.busy": "2022-10-14T04:43:20.329076Z",
     "iopub.status.idle": "2022-10-14T04:43:20.436630Z",
     "shell.execute_reply": "2022-10-14T04:43:20.435375Z"
    },
    "papermill": {
     "duration": 0.116203,
     "end_time": "2022-10-14T04:43:20.439059",
     "exception": false,
     "start_time": "2022-10-14T04:43:20.322856",
     "status": "completed"
    },
    "tags": []
   },
   "outputs": [],
   "source": [
    "tagged = nltk.pos_tag(tokens)"
   ]
  },
  {
   "cell_type": "code",
   "execution_count": 10,
   "id": "1ce90a1b",
   "metadata": {
    "execution": {
     "iopub.execute_input": "2022-10-14T04:43:20.449800Z",
     "iopub.status.busy": "2022-10-14T04:43:20.449470Z",
     "iopub.status.idle": "2022-10-14T04:43:20.570417Z",
     "shell.execute_reply": "2022-10-14T04:43:20.568267Z"
    },
    "papermill": {
     "duration": 0.129259,
     "end_time": "2022-10-14T04:43:20.572938",
     "exception": false,
     "start_time": "2022-10-14T04:43:20.443679",
     "status": "completed"
    },
    "tags": []
   },
   "outputs": [],
   "source": [
    "entities = nltk.chunk.ne_chunk(tagged)"
   ]
  },
  {
   "cell_type": "code",
   "execution_count": 11,
   "id": "83480434",
   "metadata": {
    "execution": {
     "iopub.execute_input": "2022-10-14T04:43:20.584252Z",
     "iopub.status.busy": "2022-10-14T04:43:20.583908Z",
     "iopub.status.idle": "2022-10-14T04:43:20.590648Z",
     "shell.execute_reply": "2022-10-14T04:43:20.588501Z"
    },
    "papermill": {
     "duration": 0.014606,
     "end_time": "2022-10-14T04:43:20.592970",
     "exception": false,
     "start_time": "2022-10-14T04:43:20.578364",
     "status": "completed"
    },
    "tags": []
   },
   "outputs": [
    {
     "name": "stdout",
     "output_type": "stream",
     "text": [
      "(S\n",
      "  This/DT\n",
      "  oatmeal/NN\n",
      "  is/VBZ\n",
      "  not/RB\n",
      "  good/JJ\n",
      "  ./.\n",
      "  Its/PRP$\n",
      "  mushy/NN\n",
      "  ,/,\n",
      "  soft/JJ\n",
      "  ,/,\n",
      "  I/PRP\n",
      "  do/VBP\n",
      "  n't/RB\n",
      "  like/VB\n",
      "  it/PRP\n",
      "  ./.\n",
      "  (ORGANIZATION Quaker/NNP Oats/NNPS)\n",
      "  is/VBZ\n",
      "  the/DT\n",
      "  way/NN\n",
      "  to/TO\n",
      "  go/VB\n",
      "  ./.)\n"
     ]
    }
   ],
   "source": [
    "print(entities)"
   ]
  },
  {
   "cell_type": "markdown",
   "id": "9ee3d8f6",
   "metadata": {
    "papermill": {
     "duration": 0.004386,
     "end_time": "2022-10-14T04:43:20.602456",
     "exception": false,
     "start_time": "2022-10-14T04:43:20.598070",
     "status": "completed"
    },
    "tags": []
   },
   "source": [
    "## Step 1. VADER Sentiment Scoring\n",
    "\n",
    "Using NLTK's SentimentIntensityAnalyzer to get the neg/neu/pos scores for the text\n",
    "\n",
    "- This uses Bag of Words Approach\n",
    "   1. Stop words are removed\n",
    "   2.each word is scored and combined to a total score"
   ]
  },
  {
   "cell_type": "code",
   "execution_count": 12,
   "id": "e67ed535",
   "metadata": {
    "execution": {
     "iopub.execute_input": "2022-10-14T04:43:20.613550Z",
     "iopub.status.busy": "2022-10-14T04:43:20.613229Z",
     "iopub.status.idle": "2022-10-14T04:43:20.644457Z",
     "shell.execute_reply": "2022-10-14T04:43:20.643365Z"
    },
    "papermill": {
     "duration": 0.039578,
     "end_time": "2022-10-14T04:43:20.646784",
     "exception": false,
     "start_time": "2022-10-14T04:43:20.607206",
     "status": "completed"
    },
    "tags": []
   },
   "outputs": [],
   "source": [
    "from nltk.sentiment import SentimentIntensityAnalyzer\n",
    "from tqdm.notebook import tqdm\n",
    "\n",
    "sia = SentimentIntensityAnalyzer()"
   ]
  },
  {
   "cell_type": "code",
   "execution_count": 13,
   "id": "036f49f7",
   "metadata": {
    "execution": {
     "iopub.execute_input": "2022-10-14T04:43:20.657725Z",
     "iopub.status.busy": "2022-10-14T04:43:20.657050Z",
     "iopub.status.idle": "2022-10-14T04:43:20.664068Z",
     "shell.execute_reply": "2022-10-14T04:43:20.663227Z"
    },
    "papermill": {
     "duration": 0.015773,
     "end_time": "2022-10-14T04:43:20.667233",
     "exception": false,
     "start_time": "2022-10-14T04:43:20.651460",
     "status": "completed"
    },
    "tags": []
   },
   "outputs": [
    {
     "data": {
      "text/plain": [
       "{'neg': 0.0, 'neu': 0.469, 'pos': 0.531, 'compound': 0.6741}"
      ]
     },
     "execution_count": 13,
     "metadata": {},
     "output_type": "execute_result"
    }
   ],
   "source": [
    "sia.polarity_scores('I am very very very happy')"
   ]
  },
  {
   "cell_type": "code",
   "execution_count": null,
   "id": "ebbde8c5",
   "metadata": {
    "papermill": {
     "duration": 0.004621,
     "end_time": "2022-10-14T04:43:20.676998",
     "exception": false,
     "start_time": "2022-10-14T04:43:20.672377",
     "status": "completed"
    },
    "tags": []
   },
   "outputs": [],
   "source": [
    " "
   ]
  }
 ],
 "metadata": {
  "kernelspec": {
   "display_name": "Python 3",
   "language": "python",
   "name": "python3"
  },
  "language_info": {
   "codemirror_mode": {
    "name": "ipython",
    "version": 3
   },
   "file_extension": ".py",
   "mimetype": "text/x-python",
   "name": "python",
   "nbconvert_exporter": "python",
   "pygments_lexer": "ipython3",
   "version": "3.7.12"
  },
  "papermill": {
   "default_parameters": {},
   "duration": 20.455048,
   "end_time": "2022-10-14T04:43:21.705403",
   "environment_variables": {},
   "exception": null,
   "input_path": "__notebook__.ipynb",
   "output_path": "__notebook__.ipynb",
   "parameters": {},
   "start_time": "2022-10-14T04:43:01.250355",
   "version": "2.3.4"
  }
 },
 "nbformat": 4,
 "nbformat_minor": 5
}
