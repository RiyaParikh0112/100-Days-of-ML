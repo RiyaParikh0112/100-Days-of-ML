{
 "cells": [
  {
   "cell_type": "markdown",
   "id": "be8c0668",
   "metadata": {
    "papermill": {
     "duration": 0.005094,
     "end_time": "2022-07-27T02:34:57.822205",
     "exception": false,
     "start_time": "2022-07-27T02:34:57.817111",
     "status": "completed"
    },
    "tags": []
   },
   "source": [
    "1. Gathering Data\n",
    "2. Data Preprocessing\n",
    "3. Split into train test\n",
    "4. As it is a binary classification problem use logisitic regression model\n"
   ]
  },
  {
   "cell_type": "code",
   "execution_count": 1,
   "id": "4339bedb",
   "metadata": {
    "execution": {
     "iopub.execute_input": "2022-07-27T02:34:57.833131Z",
     "iopub.status.busy": "2022-07-27T02:34:57.832090Z",
     "iopub.status.idle": "2022-07-27T02:34:59.610143Z",
     "shell.execute_reply": "2022-07-27T02:34:59.608833Z"
    },
    "papermill": {
     "duration": 1.786379,
     "end_time": "2022-07-27T02:34:59.612960",
     "exception": false,
     "start_time": "2022-07-27T02:34:57.826581",
     "status": "completed"
    },
    "tags": []
   },
   "outputs": [],
   "source": [
    "import pandas as pd\n",
    "import numpy as np\n",
    "import re\n",
    "from nltk.corpus import stopwords\n",
    "from nltk.stem.porter import PorterStemmer\n",
    "from sklearn.feature_extraction.text import TfidfVectorizer\n",
    "from sklearn.linear_model import LogisticRegression\n",
    "from sklearn.model_selection import train_test_split\n",
    "from sklearn.metrics import accuracy_score\n"
   ]
  },
  {
   "cell_type": "code",
   "execution_count": 2,
   "id": "8fe35e00",
   "metadata": {
    "execution": {
     "iopub.execute_input": "2022-07-27T02:34:59.622962Z",
     "iopub.status.busy": "2022-07-27T02:34:59.622578Z",
     "iopub.status.idle": "2022-07-27T02:35:02.215445Z",
     "shell.execute_reply": "2022-07-27T02:35:02.214109Z"
    },
    "papermill": {
     "duration": 2.601076,
     "end_time": "2022-07-27T02:35:02.218244",
     "exception": false,
     "start_time": "2022-07-27T02:34:59.617168",
     "status": "completed"
    },
    "tags": []
   },
   "outputs": [],
   "source": [
    "df = pd.read_csv('../input/fakenews/train.csv')"
   ]
  },
  {
   "cell_type": "code",
   "execution_count": 3,
   "id": "d964f5cd",
   "metadata": {
    "execution": {
     "iopub.execute_input": "2022-07-27T02:35:02.229931Z",
     "iopub.status.busy": "2022-07-27T02:35:02.228866Z",
     "iopub.status.idle": "2022-07-27T02:35:02.262458Z",
     "shell.execute_reply": "2022-07-27T02:35:02.260842Z"
    },
    "papermill": {
     "duration": 0.042764,
     "end_time": "2022-07-27T02:35:02.265997",
     "exception": false,
     "start_time": "2022-07-27T02:35:02.223233",
     "status": "completed"
    },
    "tags": []
   },
   "outputs": [
    {
     "data": {
      "text/html": [
       "<div>\n",
       "<style scoped>\n",
       "    .dataframe tbody tr th:only-of-type {\n",
       "        vertical-align: middle;\n",
       "    }\n",
       "\n",
       "    .dataframe tbody tr th {\n",
       "        vertical-align: top;\n",
       "    }\n",
       "\n",
       "    .dataframe thead th {\n",
       "        text-align: right;\n",
       "    }\n",
       "</style>\n",
       "<table border=\"1\" class=\"dataframe\">\n",
       "  <thead>\n",
       "    <tr style=\"text-align: right;\">\n",
       "      <th></th>\n",
       "      <th>id</th>\n",
       "      <th>title</th>\n",
       "      <th>author</th>\n",
       "      <th>text</th>\n",
       "      <th>label</th>\n",
       "    </tr>\n",
       "  </thead>\n",
       "  <tbody>\n",
       "    <tr>\n",
       "      <th>0</th>\n",
       "      <td>0</td>\n",
       "      <td>House Dem Aide: We Didn’t Even See Comey’s Let...</td>\n",
       "      <td>Darrell Lucus</td>\n",
       "      <td>House Dem Aide: We Didn’t Even See Comey’s Let...</td>\n",
       "      <td>1</td>\n",
       "    </tr>\n",
       "    <tr>\n",
       "      <th>1</th>\n",
       "      <td>1</td>\n",
       "      <td>FLYNN: Hillary Clinton, Big Woman on Campus - ...</td>\n",
       "      <td>Daniel J. Flynn</td>\n",
       "      <td>Ever get the feeling your life circles the rou...</td>\n",
       "      <td>0</td>\n",
       "    </tr>\n",
       "    <tr>\n",
       "      <th>2</th>\n",
       "      <td>2</td>\n",
       "      <td>Why the Truth Might Get You Fired</td>\n",
       "      <td>Consortiumnews.com</td>\n",
       "      <td>Why the Truth Might Get You Fired October 29, ...</td>\n",
       "      <td>1</td>\n",
       "    </tr>\n",
       "    <tr>\n",
       "      <th>3</th>\n",
       "      <td>3</td>\n",
       "      <td>15 Civilians Killed In Single US Airstrike Hav...</td>\n",
       "      <td>Jessica Purkiss</td>\n",
       "      <td>Videos 15 Civilians Killed In Single US Airstr...</td>\n",
       "      <td>1</td>\n",
       "    </tr>\n",
       "    <tr>\n",
       "      <th>4</th>\n",
       "      <td>4</td>\n",
       "      <td>Iranian woman jailed for fictional unpublished...</td>\n",
       "      <td>Howard Portnoy</td>\n",
       "      <td>Print \\nAn Iranian woman has been sentenced to...</td>\n",
       "      <td>1</td>\n",
       "    </tr>\n",
       "    <tr>\n",
       "      <th>...</th>\n",
       "      <td>...</td>\n",
       "      <td>...</td>\n",
       "      <td>...</td>\n",
       "      <td>...</td>\n",
       "      <td>...</td>\n",
       "    </tr>\n",
       "    <tr>\n",
       "      <th>20795</th>\n",
       "      <td>20795</td>\n",
       "      <td>Rapper T.I.: Trump a ’Poster Child For White S...</td>\n",
       "      <td>Jerome Hudson</td>\n",
       "      <td>Rapper T. I. unloaded on black celebrities who...</td>\n",
       "      <td>0</td>\n",
       "    </tr>\n",
       "    <tr>\n",
       "      <th>20796</th>\n",
       "      <td>20796</td>\n",
       "      <td>N.F.L. Playoffs: Schedule, Matchups and Odds -...</td>\n",
       "      <td>Benjamin Hoffman</td>\n",
       "      <td>When the Green Bay Packers lost to the Washing...</td>\n",
       "      <td>0</td>\n",
       "    </tr>\n",
       "    <tr>\n",
       "      <th>20797</th>\n",
       "      <td>20797</td>\n",
       "      <td>Macy’s Is Said to Receive Takeover Approach by...</td>\n",
       "      <td>Michael J. de la Merced and Rachel Abrams</td>\n",
       "      <td>The Macy’s of today grew from the union of sev...</td>\n",
       "      <td>0</td>\n",
       "    </tr>\n",
       "    <tr>\n",
       "      <th>20798</th>\n",
       "      <td>20798</td>\n",
       "      <td>NATO, Russia To Hold Parallel Exercises In Bal...</td>\n",
       "      <td>Alex Ansary</td>\n",
       "      <td>NATO, Russia To Hold Parallel Exercises In Bal...</td>\n",
       "      <td>1</td>\n",
       "    </tr>\n",
       "    <tr>\n",
       "      <th>20799</th>\n",
       "      <td>20799</td>\n",
       "      <td>What Keeps the F-35 Alive</td>\n",
       "      <td>David Swanson</td>\n",
       "      <td>David Swanson is an author, activist, journa...</td>\n",
       "      <td>1</td>\n",
       "    </tr>\n",
       "  </tbody>\n",
       "</table>\n",
       "<p>20800 rows × 5 columns</p>\n",
       "</div>"
      ],
      "text/plain": [
       "          id                                              title  \\\n",
       "0          0  House Dem Aide: We Didn’t Even See Comey’s Let...   \n",
       "1          1  FLYNN: Hillary Clinton, Big Woman on Campus - ...   \n",
       "2          2                  Why the Truth Might Get You Fired   \n",
       "3          3  15 Civilians Killed In Single US Airstrike Hav...   \n",
       "4          4  Iranian woman jailed for fictional unpublished...   \n",
       "...      ...                                                ...   \n",
       "20795  20795  Rapper T.I.: Trump a ’Poster Child For White S...   \n",
       "20796  20796  N.F.L. Playoffs: Schedule, Matchups and Odds -...   \n",
       "20797  20797  Macy’s Is Said to Receive Takeover Approach by...   \n",
       "20798  20798  NATO, Russia To Hold Parallel Exercises In Bal...   \n",
       "20799  20799                          What Keeps the F-35 Alive   \n",
       "\n",
       "                                          author  \\\n",
       "0                                  Darrell Lucus   \n",
       "1                                Daniel J. Flynn   \n",
       "2                             Consortiumnews.com   \n",
       "3                                Jessica Purkiss   \n",
       "4                                 Howard Portnoy   \n",
       "...                                          ...   \n",
       "20795                              Jerome Hudson   \n",
       "20796                           Benjamin Hoffman   \n",
       "20797  Michael J. de la Merced and Rachel Abrams   \n",
       "20798                                Alex Ansary   \n",
       "20799                              David Swanson   \n",
       "\n",
       "                                                    text  label  \n",
       "0      House Dem Aide: We Didn’t Even See Comey’s Let...      1  \n",
       "1      Ever get the feeling your life circles the rou...      0  \n",
       "2      Why the Truth Might Get You Fired October 29, ...      1  \n",
       "3      Videos 15 Civilians Killed In Single US Airstr...      1  \n",
       "4      Print \\nAn Iranian woman has been sentenced to...      1  \n",
       "...                                                  ...    ...  \n",
       "20795  Rapper T. I. unloaded on black celebrities who...      0  \n",
       "20796  When the Green Bay Packers lost to the Washing...      0  \n",
       "20797  The Macy’s of today grew from the union of sev...      0  \n",
       "20798  NATO, Russia To Hold Parallel Exercises In Bal...      1  \n",
       "20799    David Swanson is an author, activist, journa...      1  \n",
       "\n",
       "[20800 rows x 5 columns]"
      ]
     },
     "execution_count": 3,
     "metadata": {},
     "output_type": "execute_result"
    }
   ],
   "source": [
    "df"
   ]
  },
  {
   "cell_type": "code",
   "execution_count": 4,
   "id": "2bc7cd58",
   "metadata": {
    "execution": {
     "iopub.execute_input": "2022-07-27T02:35:02.277384Z",
     "iopub.status.busy": "2022-07-27T02:35:02.277011Z",
     "iopub.status.idle": "2022-07-27T02:35:02.420440Z",
     "shell.execute_reply": "2022-07-27T02:35:02.418179Z"
    },
    "papermill": {
     "duration": 0.152518,
     "end_time": "2022-07-27T02:35:02.423477",
     "exception": false,
     "start_time": "2022-07-27T02:35:02.270959",
     "status": "completed"
    },
    "tags": []
   },
   "outputs": [
    {
     "name": "stderr",
     "output_type": "stream",
     "text": [
      "[nltk_data] Downloading package stopwords to /usr/share/nltk_data...\n",
      "[nltk_data]   Package stopwords is already up-to-date!\n"
     ]
    },
    {
     "data": {
      "text/plain": [
       "True"
      ]
     },
     "execution_count": 4,
     "metadata": {},
     "output_type": "execute_result"
    }
   ],
   "source": [
    "import nltk\n",
    "nltk.download('stopwords')"
   ]
  },
  {
   "cell_type": "code",
   "execution_count": 5,
   "id": "148bb1a2",
   "metadata": {
    "execution": {
     "iopub.execute_input": "2022-07-27T02:35:02.434940Z",
     "iopub.status.busy": "2022-07-27T02:35:02.434490Z",
     "iopub.status.idle": "2022-07-27T02:35:02.443623Z",
     "shell.execute_reply": "2022-07-27T02:35:02.442555Z"
    },
    "papermill": {
     "duration": 0.017628,
     "end_time": "2022-07-27T02:35:02.446037",
     "exception": false,
     "start_time": "2022-07-27T02:35:02.428409",
     "status": "completed"
    },
    "tags": []
   },
   "outputs": [
    {
     "name": "stdout",
     "output_type": "stream",
     "text": [
      "['i', 'me', 'my', 'myself', 'we', 'our', 'ours', 'ourselves', 'you', \"you're\", \"you've\", \"you'll\", \"you'd\", 'your', 'yours', 'yourself', 'yourselves', 'he', 'him', 'his', 'himself', 'she', \"she's\", 'her', 'hers', 'herself', 'it', \"it's\", 'its', 'itself', 'they', 'them', 'their', 'theirs', 'themselves', 'what', 'which', 'who', 'whom', 'this', 'that', \"that'll\", 'these', 'those', 'am', 'is', 'are', 'was', 'were', 'be', 'been', 'being', 'have', 'has', 'had', 'having', 'do', 'does', 'did', 'doing', 'a', 'an', 'the', 'and', 'but', 'if', 'or', 'because', 'as', 'until', 'while', 'of', 'at', 'by', 'for', 'with', 'about', 'against', 'between', 'into', 'through', 'during', 'before', 'after', 'above', 'below', 'to', 'from', 'up', 'down', 'in', 'out', 'on', 'off', 'over', 'under', 'again', 'further', 'then', 'once', 'here', 'there', 'when', 'where', 'why', 'how', 'all', 'any', 'both', 'each', 'few', 'more', 'most', 'other', 'some', 'such', 'no', 'nor', 'not', 'only', 'own', 'same', 'so', 'than', 'too', 'very', 's', 't', 'can', 'will', 'just', 'don', \"don't\", 'should', \"should've\", 'now', 'd', 'll', 'm', 'o', 're', 've', 'y', 'ain', 'aren', \"aren't\", 'couldn', \"couldn't\", 'didn', \"didn't\", 'doesn', \"doesn't\", 'hadn', \"hadn't\", 'hasn', \"hasn't\", 'haven', \"haven't\", 'isn', \"isn't\", 'ma', 'mightn', \"mightn't\", 'mustn', \"mustn't\", 'needn', \"needn't\", 'shan', \"shan't\", 'shouldn', \"shouldn't\", 'wasn', \"wasn't\", 'weren', \"weren't\", 'won', \"won't\", 'wouldn', \"wouldn't\"]\n"
     ]
    }
   ],
   "source": [
    "print(stopwords.words('english'))"
   ]
  },
  {
   "cell_type": "markdown",
   "id": "c2a3de36",
   "metadata": {
    "papermill": {
     "duration": 0.004414,
     "end_time": "2022-07-27T02:35:02.455374",
     "exception": false,
     "start_time": "2022-07-27T02:35:02.450960",
     "status": "completed"
    },
    "tags": []
   },
   "source": [
    "During stemming remove these words"
   ]
  },
  {
   "cell_type": "code",
   "execution_count": 6,
   "id": "cb355880",
   "metadata": {
    "execution": {
     "iopub.execute_input": "2022-07-27T02:35:02.466696Z",
     "iopub.status.busy": "2022-07-27T02:35:02.466270Z",
     "iopub.status.idle": "2022-07-27T02:35:02.471733Z",
     "shell.execute_reply": "2022-07-27T02:35:02.470854Z"
    },
    "papermill": {
     "duration": 0.013564,
     "end_time": "2022-07-27T02:35:02.473701",
     "exception": false,
     "start_time": "2022-07-27T02:35:02.460137",
     "status": "completed"
    },
    "tags": []
   },
   "outputs": [
    {
     "data": {
      "text/plain": [
       "(20800, 5)"
      ]
     },
     "execution_count": 6,
     "metadata": {},
     "output_type": "execute_result"
    }
   ],
   "source": [
    "df.shape"
   ]
  },
  {
   "cell_type": "code",
   "execution_count": 7,
   "id": "b7e989d2",
   "metadata": {
    "execution": {
     "iopub.execute_input": "2022-07-27T02:35:02.487175Z",
     "iopub.status.busy": "2022-07-27T02:35:02.486156Z",
     "iopub.status.idle": "2022-07-27T02:35:02.501138Z",
     "shell.execute_reply": "2022-07-27T02:35:02.499962Z"
    },
    "papermill": {
     "duration": 0.025408,
     "end_time": "2022-07-27T02:35:02.504018",
     "exception": false,
     "start_time": "2022-07-27T02:35:02.478610",
     "status": "completed"
    },
    "tags": []
   },
   "outputs": [
    {
     "data": {
      "text/plain": [
       "1    10413\n",
       "0    10387\n",
       "Name: label, dtype: int64"
      ]
     },
     "execution_count": 7,
     "metadata": {},
     "output_type": "execute_result"
    }
   ],
   "source": [
    "df['label'].value_counts()"
   ]
  },
  {
   "cell_type": "code",
   "execution_count": 8,
   "id": "04e7a2f1",
   "metadata": {
    "execution": {
     "iopub.execute_input": "2022-07-27T02:35:02.517431Z",
     "iopub.status.busy": "2022-07-27T02:35:02.516659Z",
     "iopub.status.idle": "2022-07-27T02:35:02.531193Z",
     "shell.execute_reply": "2022-07-27T02:35:02.530042Z"
    },
    "papermill": {
     "duration": 0.023502,
     "end_time": "2022-07-27T02:35:02.533478",
     "exception": false,
     "start_time": "2022-07-27T02:35:02.509976",
     "status": "completed"
    },
    "tags": []
   },
   "outputs": [
    {
     "data": {
      "text/plain": [
       "id           0\n",
       "title      558\n",
       "author    1957\n",
       "text        39\n",
       "label        0\n",
       "dtype: int64"
      ]
     },
     "execution_count": 8,
     "metadata": {},
     "output_type": "execute_result"
    }
   ],
   "source": [
    "#count number of missing values in the data set\n",
    "df.isnull().sum()"
   ]
  },
  {
   "cell_type": "code",
   "execution_count": 9,
   "id": "39205f2e",
   "metadata": {
    "execution": {
     "iopub.execute_input": "2022-07-27T02:35:02.548252Z",
     "iopub.status.busy": "2022-07-27T02:35:02.547118Z",
     "iopub.status.idle": "2022-07-27T02:35:02.564013Z",
     "shell.execute_reply": "2022-07-27T02:35:02.562745Z"
    },
    "papermill": {
     "duration": 0.027807,
     "end_time": "2022-07-27T02:35:02.566553",
     "exception": false,
     "start_time": "2022-07-27T02:35:02.538746",
     "status": "completed"
    },
    "tags": []
   },
   "outputs": [],
   "source": [
    "#drop the missing values as the data is large\n",
    "#replace the null values with empty string\n",
    "df = df.fillna('')"
   ]
  },
  {
   "cell_type": "code",
   "execution_count": 10,
   "id": "4be907a1",
   "metadata": {
    "execution": {
     "iopub.execute_input": "2022-07-27T02:35:02.578635Z",
     "iopub.status.busy": "2022-07-27T02:35:02.578227Z",
     "iopub.status.idle": "2022-07-27T02:35:02.597730Z",
     "shell.execute_reply": "2022-07-27T02:35:02.596502Z"
    },
    "papermill": {
     "duration": 0.028388,
     "end_time": "2022-07-27T02:35:02.600053",
     "exception": false,
     "start_time": "2022-07-27T02:35:02.571665",
     "status": "completed"
    },
    "tags": []
   },
   "outputs": [
    {
     "data": {
      "text/plain": [
       "id        0\n",
       "title     0\n",
       "author    0\n",
       "text      0\n",
       "label     0\n",
       "dtype: int64"
      ]
     },
     "execution_count": 10,
     "metadata": {},
     "output_type": "execute_result"
    }
   ],
   "source": [
    "df.isnull().sum()"
   ]
  },
  {
   "cell_type": "code",
   "execution_count": 11,
   "id": "bd564971",
   "metadata": {
    "execution": {
     "iopub.execute_input": "2022-07-27T02:35:02.612447Z",
     "iopub.status.busy": "2022-07-27T02:35:02.612085Z",
     "iopub.status.idle": "2022-07-27T02:35:02.628004Z",
     "shell.execute_reply": "2022-07-27T02:35:02.626277Z"
    },
    "papermill": {
     "duration": 0.024909,
     "end_time": "2022-07-27T02:35:02.630514",
     "exception": false,
     "start_time": "2022-07-27T02:35:02.605605",
     "status": "completed"
    },
    "tags": []
   },
   "outputs": [],
   "source": [
    "# merging the author name and news title\n",
    "df['content'] = df['author']+\" \"+ df['title']"
   ]
  },
  {
   "cell_type": "code",
   "execution_count": 12,
   "id": "3aa44a31",
   "metadata": {
    "execution": {
     "iopub.execute_input": "2022-07-27T02:35:02.642452Z",
     "iopub.status.busy": "2022-07-27T02:35:02.642085Z",
     "iopub.status.idle": "2022-07-27T02:35:02.650625Z",
     "shell.execute_reply": "2022-07-27T02:35:02.649453Z"
    },
    "papermill": {
     "duration": 0.017287,
     "end_time": "2022-07-27T02:35:02.652857",
     "exception": false,
     "start_time": "2022-07-27T02:35:02.635570",
     "status": "completed"
    },
    "tags": []
   },
   "outputs": [
    {
     "data": {
      "text/plain": [
       "0    Darrell Lucus House Dem Aide: We Didn’t Even S...\n",
       "1    Daniel J. Flynn FLYNN: Hillary Clinton, Big Wo...\n",
       "2    Consortiumnews.com Why the Truth Might Get You...\n",
       "3    Jessica Purkiss 15 Civilians Killed In Single ...\n",
       "4    Howard Portnoy Iranian woman jailed for fictio...\n",
       "Name: content, dtype: object"
      ]
     },
     "execution_count": 12,
     "metadata": {},
     "output_type": "execute_result"
    }
   ],
   "source": [
    "df['content'].head()"
   ]
  },
  {
   "cell_type": "code",
   "execution_count": 13,
   "id": "6715a531",
   "metadata": {
    "execution": {
     "iopub.execute_input": "2022-07-27T02:35:02.665047Z",
     "iopub.status.busy": "2022-07-27T02:35:02.664483Z",
     "iopub.status.idle": "2022-07-27T02:35:02.680202Z",
     "shell.execute_reply": "2022-07-27T02:35:02.678664Z"
    },
    "papermill": {
     "duration": 0.025256,
     "end_time": "2022-07-27T02:35:02.683399",
     "exception": false,
     "start_time": "2022-07-27T02:35:02.658143",
     "status": "completed"
    },
    "tags": []
   },
   "outputs": [],
   "source": [
    "#seperating the data and label\n",
    "X=df.drop(columns='label',axis=1)\n",
    "Y=df['label']\n",
    "# X_train,X_test,y_train,y_test=train_test_split(df.drop(columns='label',axis=1),df['label'],random_state=0,test_size=0.1)"
   ]
  },
  {
   "cell_type": "code",
   "execution_count": 14,
   "id": "dceb883d",
   "metadata": {
    "execution": {
     "iopub.execute_input": "2022-07-27T02:35:02.696484Z",
     "iopub.status.busy": "2022-07-27T02:35:02.695675Z",
     "iopub.status.idle": "2022-07-27T02:35:02.701152Z",
     "shell.execute_reply": "2022-07-27T02:35:02.699768Z"
    },
    "papermill": {
     "duration": 0.015096,
     "end_time": "2022-07-27T02:35:02.703940",
     "exception": false,
     "start_time": "2022-07-27T02:35:02.688844",
     "status": "completed"
    },
    "tags": []
   },
   "outputs": [],
   "source": [
    "# X_train.shape"
   ]
  },
  {
   "cell_type": "code",
   "execution_count": 15,
   "id": "43ef222c",
   "metadata": {
    "execution": {
     "iopub.execute_input": "2022-07-27T02:35:02.717151Z",
     "iopub.status.busy": "2022-07-27T02:35:02.716721Z",
     "iopub.status.idle": "2022-07-27T02:35:02.721805Z",
     "shell.execute_reply": "2022-07-27T02:35:02.720679Z"
    },
    "papermill": {
     "duration": 0.014683,
     "end_time": "2022-07-27T02:35:02.724127",
     "exception": false,
     "start_time": "2022-07-27T02:35:02.709444",
     "status": "completed"
    },
    "tags": []
   },
   "outputs": [],
   "source": [
    "#stemming process\n",
    "#that is reducing the word to its root words\n",
    "# then perform vectorisation on that\n",
    "porter_stem = PorterStemmer()"
   ]
  },
  {
   "cell_type": "code",
   "execution_count": 16,
   "id": "400e45a9",
   "metadata": {
    "execution": {
     "iopub.execute_input": "2022-07-27T02:35:02.736695Z",
     "iopub.status.busy": "2022-07-27T02:35:02.736262Z",
     "iopub.status.idle": "2022-07-27T02:35:02.743205Z",
     "shell.execute_reply": "2022-07-27T02:35:02.741793Z"
    },
    "papermill": {
     "duration": 0.016181,
     "end_time": "2022-07-27T02:35:02.745596",
     "exception": false,
     "start_time": "2022-07-27T02:35:02.729415",
     "status": "completed"
    },
    "tags": []
   },
   "outputs": [],
   "source": [
    "def stemming(content):\n",
    "    stemmed_content=re.sub('[^a-zA-Z]',' ',content)\n",
    "    stemmed_content = stemmed_content.lower()\n",
    "    stemmed_content = stemmed_content.split()\n",
    "    stemmed_content = [port_stem.stem(word) for word in stemmed_content if not word in stopwords.words('english')]\n",
    "    stemmed_content = ' '.join(stemmed_content)\n",
    "    return stemmed_content"
   ]
  },
  {
   "cell_type": "code",
   "execution_count": null,
   "id": "f2a723ec",
   "metadata": {
    "papermill": {
     "duration": 0.004854,
     "end_time": "2022-07-27T02:35:02.755811",
     "exception": false,
     "start_time": "2022-07-27T02:35:02.750957",
     "status": "completed"
    },
    "tags": []
   },
   "outputs": [],
   "source": []
  }
 ],
 "metadata": {
  "kernelspec": {
   "display_name": "Python 3",
   "language": "python",
   "name": "python3"
  },
  "language_info": {
   "codemirror_mode": {
    "name": "ipython",
    "version": 3
   },
   "file_extension": ".py",
   "mimetype": "text/x-python",
   "name": "python",
   "nbconvert_exporter": "python",
   "pygments_lexer": "ipython3",
   "version": "3.7.12"
  },
  "papermill": {
   "default_parameters": {},
   "duration": 15.304591,
   "end_time": "2022-07-27T02:35:03.582271",
   "environment_variables": {},
   "exception": null,
   "input_path": "__notebook__.ipynb",
   "output_path": "__notebook__.ipynb",
   "parameters": {},
   "start_time": "2022-07-27T02:34:48.277680",
   "version": "2.3.4"
  }
 },
 "nbformat": 4,
 "nbformat_minor": 5
}
