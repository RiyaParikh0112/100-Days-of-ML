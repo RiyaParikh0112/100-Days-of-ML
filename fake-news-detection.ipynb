{
 "cells": [
  {
   "cell_type": "markdown",
   "id": "bc8ba084",
   "metadata": {
    "papermill": {
     "duration": 0.011865,
     "end_time": "2022-07-27T03:13:00.566171",
     "exception": false,
     "start_time": "2022-07-27T03:13:00.554306",
     "status": "completed"
    },
    "tags": []
   },
   "source": [
    "1. Gathering Data\n",
    "2. Data Preprocessing\n",
    "3. Split into train test\n",
    "4. As it is a binary classification problem use logisitic regression model\n"
   ]
  },
  {
   "cell_type": "code",
   "execution_count": 1,
   "id": "da1b95b3",
   "metadata": {
    "execution": {
     "iopub.execute_input": "2022-07-27T03:13:00.591777Z",
     "iopub.status.busy": "2022-07-27T03:13:00.590389Z",
     "iopub.status.idle": "2022-07-27T03:13:02.548580Z",
     "shell.execute_reply": "2022-07-27T03:13:02.547281Z"
    },
    "papermill": {
     "duration": 1.974735,
     "end_time": "2022-07-27T03:13:02.551743",
     "exception": false,
     "start_time": "2022-07-27T03:13:00.577008",
     "status": "completed"
    },
    "tags": []
   },
   "outputs": [],
   "source": [
    "import pandas as pd\n",
    "import numpy as np\n",
    "import re\n",
    "from nltk.corpus import stopwords\n",
    "from nltk.stem.porter import PorterStemmer\n",
    "from sklearn.feature_extraction.text import TfidfVectorizer\n",
    "from sklearn.linear_model import LogisticRegression\n",
    "from sklearn.model_selection import train_test_split\n",
    "from sklearn.metrics import accuracy_score\n"
   ]
  },
  {
   "cell_type": "code",
   "execution_count": 2,
   "id": "15f9b077",
   "metadata": {
    "execution": {
     "iopub.execute_input": "2022-07-27T03:13:02.575758Z",
     "iopub.status.busy": "2022-07-27T03:13:02.575026Z",
     "iopub.status.idle": "2022-07-27T03:13:05.108095Z",
     "shell.execute_reply": "2022-07-27T03:13:05.107020Z"
    },
    "papermill": {
     "duration": 2.547728,
     "end_time": "2022-07-27T03:13:05.110837",
     "exception": false,
     "start_time": "2022-07-27T03:13:02.563109",
     "status": "completed"
    },
    "tags": []
   },
   "outputs": [],
   "source": [
    "df = pd.read_csv('../input/fakenews/train.csv')"
   ]
  },
  {
   "cell_type": "code",
   "execution_count": 3,
   "id": "e1e4e905",
   "metadata": {
    "execution": {
     "iopub.execute_input": "2022-07-27T03:13:05.133064Z",
     "iopub.status.busy": "2022-07-27T03:13:05.132647Z",
     "iopub.status.idle": "2022-07-27T03:13:05.163259Z",
     "shell.execute_reply": "2022-07-27T03:13:05.162080Z"
    },
    "papermill": {
     "duration": 0.0454,
     "end_time": "2022-07-27T03:13:05.166426",
     "exception": false,
     "start_time": "2022-07-27T03:13:05.121026",
     "status": "completed"
    },
    "tags": []
   },
   "outputs": [
    {
     "data": {
      "text/html": [
       "<div>\n",
       "<style scoped>\n",
       "    .dataframe tbody tr th:only-of-type {\n",
       "        vertical-align: middle;\n",
       "    }\n",
       "\n",
       "    .dataframe tbody tr th {\n",
       "        vertical-align: top;\n",
       "    }\n",
       "\n",
       "    .dataframe thead th {\n",
       "        text-align: right;\n",
       "    }\n",
       "</style>\n",
       "<table border=\"1\" class=\"dataframe\">\n",
       "  <thead>\n",
       "    <tr style=\"text-align: right;\">\n",
       "      <th></th>\n",
       "      <th>id</th>\n",
       "      <th>title</th>\n",
       "      <th>author</th>\n",
       "      <th>text</th>\n",
       "      <th>label</th>\n",
       "    </tr>\n",
       "  </thead>\n",
       "  <tbody>\n",
       "    <tr>\n",
       "      <th>0</th>\n",
       "      <td>0</td>\n",
       "      <td>House Dem Aide: We Didn’t Even See Comey’s Let...</td>\n",
       "      <td>Darrell Lucus</td>\n",
       "      <td>House Dem Aide: We Didn’t Even See Comey’s Let...</td>\n",
       "      <td>1</td>\n",
       "    </tr>\n",
       "    <tr>\n",
       "      <th>1</th>\n",
       "      <td>1</td>\n",
       "      <td>FLYNN: Hillary Clinton, Big Woman on Campus - ...</td>\n",
       "      <td>Daniel J. Flynn</td>\n",
       "      <td>Ever get the feeling your life circles the rou...</td>\n",
       "      <td>0</td>\n",
       "    </tr>\n",
       "    <tr>\n",
       "      <th>2</th>\n",
       "      <td>2</td>\n",
       "      <td>Why the Truth Might Get You Fired</td>\n",
       "      <td>Consortiumnews.com</td>\n",
       "      <td>Why the Truth Might Get You Fired October 29, ...</td>\n",
       "      <td>1</td>\n",
       "    </tr>\n",
       "    <tr>\n",
       "      <th>3</th>\n",
       "      <td>3</td>\n",
       "      <td>15 Civilians Killed In Single US Airstrike Hav...</td>\n",
       "      <td>Jessica Purkiss</td>\n",
       "      <td>Videos 15 Civilians Killed In Single US Airstr...</td>\n",
       "      <td>1</td>\n",
       "    </tr>\n",
       "    <tr>\n",
       "      <th>4</th>\n",
       "      <td>4</td>\n",
       "      <td>Iranian woman jailed for fictional unpublished...</td>\n",
       "      <td>Howard Portnoy</td>\n",
       "      <td>Print \\nAn Iranian woman has been sentenced to...</td>\n",
       "      <td>1</td>\n",
       "    </tr>\n",
       "    <tr>\n",
       "      <th>...</th>\n",
       "      <td>...</td>\n",
       "      <td>...</td>\n",
       "      <td>...</td>\n",
       "      <td>...</td>\n",
       "      <td>...</td>\n",
       "    </tr>\n",
       "    <tr>\n",
       "      <th>20795</th>\n",
       "      <td>20795</td>\n",
       "      <td>Rapper T.I.: Trump a ’Poster Child For White S...</td>\n",
       "      <td>Jerome Hudson</td>\n",
       "      <td>Rapper T. I. unloaded on black celebrities who...</td>\n",
       "      <td>0</td>\n",
       "    </tr>\n",
       "    <tr>\n",
       "      <th>20796</th>\n",
       "      <td>20796</td>\n",
       "      <td>N.F.L. Playoffs: Schedule, Matchups and Odds -...</td>\n",
       "      <td>Benjamin Hoffman</td>\n",
       "      <td>When the Green Bay Packers lost to the Washing...</td>\n",
       "      <td>0</td>\n",
       "    </tr>\n",
       "    <tr>\n",
       "      <th>20797</th>\n",
       "      <td>20797</td>\n",
       "      <td>Macy’s Is Said to Receive Takeover Approach by...</td>\n",
       "      <td>Michael J. de la Merced and Rachel Abrams</td>\n",
       "      <td>The Macy’s of today grew from the union of sev...</td>\n",
       "      <td>0</td>\n",
       "    </tr>\n",
       "    <tr>\n",
       "      <th>20798</th>\n",
       "      <td>20798</td>\n",
       "      <td>NATO, Russia To Hold Parallel Exercises In Bal...</td>\n",
       "      <td>Alex Ansary</td>\n",
       "      <td>NATO, Russia To Hold Parallel Exercises In Bal...</td>\n",
       "      <td>1</td>\n",
       "    </tr>\n",
       "    <tr>\n",
       "      <th>20799</th>\n",
       "      <td>20799</td>\n",
       "      <td>What Keeps the F-35 Alive</td>\n",
       "      <td>David Swanson</td>\n",
       "      <td>David Swanson is an author, activist, journa...</td>\n",
       "      <td>1</td>\n",
       "    </tr>\n",
       "  </tbody>\n",
       "</table>\n",
       "<p>20800 rows × 5 columns</p>\n",
       "</div>"
      ],
      "text/plain": [
       "          id                                              title  \\\n",
       "0          0  House Dem Aide: We Didn’t Even See Comey’s Let...   \n",
       "1          1  FLYNN: Hillary Clinton, Big Woman on Campus - ...   \n",
       "2          2                  Why the Truth Might Get You Fired   \n",
       "3          3  15 Civilians Killed In Single US Airstrike Hav...   \n",
       "4          4  Iranian woman jailed for fictional unpublished...   \n",
       "...      ...                                                ...   \n",
       "20795  20795  Rapper T.I.: Trump a ’Poster Child For White S...   \n",
       "20796  20796  N.F.L. Playoffs: Schedule, Matchups and Odds -...   \n",
       "20797  20797  Macy’s Is Said to Receive Takeover Approach by...   \n",
       "20798  20798  NATO, Russia To Hold Parallel Exercises In Bal...   \n",
       "20799  20799                          What Keeps the F-35 Alive   \n",
       "\n",
       "                                          author  \\\n",
       "0                                  Darrell Lucus   \n",
       "1                                Daniel J. Flynn   \n",
       "2                             Consortiumnews.com   \n",
       "3                                Jessica Purkiss   \n",
       "4                                 Howard Portnoy   \n",
       "...                                          ...   \n",
       "20795                              Jerome Hudson   \n",
       "20796                           Benjamin Hoffman   \n",
       "20797  Michael J. de la Merced and Rachel Abrams   \n",
       "20798                                Alex Ansary   \n",
       "20799                              David Swanson   \n",
       "\n",
       "                                                    text  label  \n",
       "0      House Dem Aide: We Didn’t Even See Comey’s Let...      1  \n",
       "1      Ever get the feeling your life circles the rou...      0  \n",
       "2      Why the Truth Might Get You Fired October 29, ...      1  \n",
       "3      Videos 15 Civilians Killed In Single US Airstr...      1  \n",
       "4      Print \\nAn Iranian woman has been sentenced to...      1  \n",
       "...                                                  ...    ...  \n",
       "20795  Rapper T. I. unloaded on black celebrities who...      0  \n",
       "20796  When the Green Bay Packers lost to the Washing...      0  \n",
       "20797  The Macy’s of today grew from the union of sev...      0  \n",
       "20798  NATO, Russia To Hold Parallel Exercises In Bal...      1  \n",
       "20799    David Swanson is an author, activist, journa...      1  \n",
       "\n",
       "[20800 rows x 5 columns]"
      ]
     },
     "execution_count": 3,
     "metadata": {},
     "output_type": "execute_result"
    }
   ],
   "source": [
    "df"
   ]
  },
  {
   "cell_type": "code",
   "execution_count": 4,
   "id": "047c9c9e",
   "metadata": {
    "execution": {
     "iopub.execute_input": "2022-07-27T03:13:05.189110Z",
     "iopub.status.busy": "2022-07-27T03:13:05.188710Z",
     "iopub.status.idle": "2022-07-27T03:13:05.330565Z",
     "shell.execute_reply": "2022-07-27T03:13:05.329208Z"
    },
    "papermill": {
     "duration": 0.156261,
     "end_time": "2022-07-27T03:13:05.333328",
     "exception": false,
     "start_time": "2022-07-27T03:13:05.177067",
     "status": "completed"
    },
    "tags": []
   },
   "outputs": [
    {
     "name": "stderr",
     "output_type": "stream",
     "text": [
      "[nltk_data] Downloading package stopwords to /usr/share/nltk_data...\n",
      "[nltk_data]   Package stopwords is already up-to-date!\n"
     ]
    },
    {
     "data": {
      "text/plain": [
       "True"
      ]
     },
     "execution_count": 4,
     "metadata": {},
     "output_type": "execute_result"
    }
   ],
   "source": [
    "import nltk\n",
    "nltk.download('stopwords')"
   ]
  },
  {
   "cell_type": "code",
   "execution_count": 5,
   "id": "7d14b561",
   "metadata": {
    "execution": {
     "iopub.execute_input": "2022-07-27T03:13:05.357253Z",
     "iopub.status.busy": "2022-07-27T03:13:05.356814Z",
     "iopub.status.idle": "2022-07-27T03:13:05.366714Z",
     "shell.execute_reply": "2022-07-27T03:13:05.364971Z"
    },
    "papermill": {
     "duration": 0.024932,
     "end_time": "2022-07-27T03:13:05.369342",
     "exception": false,
     "start_time": "2022-07-27T03:13:05.344410",
     "status": "completed"
    },
    "tags": []
   },
   "outputs": [
    {
     "name": "stdout",
     "output_type": "stream",
     "text": [
      "['i', 'me', 'my', 'myself', 'we', 'our', 'ours', 'ourselves', 'you', \"you're\", \"you've\", \"you'll\", \"you'd\", 'your', 'yours', 'yourself', 'yourselves', 'he', 'him', 'his', 'himself', 'she', \"she's\", 'her', 'hers', 'herself', 'it', \"it's\", 'its', 'itself', 'they', 'them', 'their', 'theirs', 'themselves', 'what', 'which', 'who', 'whom', 'this', 'that', \"that'll\", 'these', 'those', 'am', 'is', 'are', 'was', 'were', 'be', 'been', 'being', 'have', 'has', 'had', 'having', 'do', 'does', 'did', 'doing', 'a', 'an', 'the', 'and', 'but', 'if', 'or', 'because', 'as', 'until', 'while', 'of', 'at', 'by', 'for', 'with', 'about', 'against', 'between', 'into', 'through', 'during', 'before', 'after', 'above', 'below', 'to', 'from', 'up', 'down', 'in', 'out', 'on', 'off', 'over', 'under', 'again', 'further', 'then', 'once', 'here', 'there', 'when', 'where', 'why', 'how', 'all', 'any', 'both', 'each', 'few', 'more', 'most', 'other', 'some', 'such', 'no', 'nor', 'not', 'only', 'own', 'same', 'so', 'than', 'too', 'very', 's', 't', 'can', 'will', 'just', 'don', \"don't\", 'should', \"should've\", 'now', 'd', 'll', 'm', 'o', 're', 've', 'y', 'ain', 'aren', \"aren't\", 'couldn', \"couldn't\", 'didn', \"didn't\", 'doesn', \"doesn't\", 'hadn', \"hadn't\", 'hasn', \"hasn't\", 'haven', \"haven't\", 'isn', \"isn't\", 'ma', 'mightn', \"mightn't\", 'mustn', \"mustn't\", 'needn', \"needn't\", 'shan', \"shan't\", 'shouldn', \"shouldn't\", 'wasn', \"wasn't\", 'weren', \"weren't\", 'won', \"won't\", 'wouldn', \"wouldn't\"]\n"
     ]
    }
   ],
   "source": [
    "print(stopwords.words('english'))"
   ]
  },
  {
   "cell_type": "markdown",
   "id": "543f1abb",
   "metadata": {
    "papermill": {
     "duration": 0.010543,
     "end_time": "2022-07-27T03:13:05.390987",
     "exception": false,
     "start_time": "2022-07-27T03:13:05.380444",
     "status": "completed"
    },
    "tags": []
   },
   "source": [
    "During stemming remove these words"
   ]
  },
  {
   "cell_type": "code",
   "execution_count": 6,
   "id": "d856c6cb",
   "metadata": {
    "execution": {
     "iopub.execute_input": "2022-07-27T03:13:05.415246Z",
     "iopub.status.busy": "2022-07-27T03:13:05.414830Z",
     "iopub.status.idle": "2022-07-27T03:13:05.422363Z",
     "shell.execute_reply": "2022-07-27T03:13:05.421058Z"
    },
    "papermill": {
     "duration": 0.022093,
     "end_time": "2022-07-27T03:13:05.424964",
     "exception": false,
     "start_time": "2022-07-27T03:13:05.402871",
     "status": "completed"
    },
    "tags": []
   },
   "outputs": [
    {
     "data": {
      "text/plain": [
       "(20800, 5)"
      ]
     },
     "execution_count": 6,
     "metadata": {},
     "output_type": "execute_result"
    }
   ],
   "source": [
    "df.shape"
   ]
  },
  {
   "cell_type": "code",
   "execution_count": 7,
   "id": "d19b03d9",
   "metadata": {
    "execution": {
     "iopub.execute_input": "2022-07-27T03:13:05.448711Z",
     "iopub.status.busy": "2022-07-27T03:13:05.448280Z",
     "iopub.status.idle": "2022-07-27T03:13:05.463915Z",
     "shell.execute_reply": "2022-07-27T03:13:05.462788Z"
    },
    "papermill": {
     "duration": 0.030452,
     "end_time": "2022-07-27T03:13:05.466476",
     "exception": false,
     "start_time": "2022-07-27T03:13:05.436024",
     "status": "completed"
    },
    "tags": []
   },
   "outputs": [
    {
     "data": {
      "text/plain": [
       "1    10413\n",
       "0    10387\n",
       "Name: label, dtype: int64"
      ]
     },
     "execution_count": 7,
     "metadata": {},
     "output_type": "execute_result"
    }
   ],
   "source": [
    "df['label'].value_counts()"
   ]
  },
  {
   "cell_type": "code",
   "execution_count": 8,
   "id": "f5a20ca5",
   "metadata": {
    "execution": {
     "iopub.execute_input": "2022-07-27T03:13:05.490449Z",
     "iopub.status.busy": "2022-07-27T03:13:05.490084Z",
     "iopub.status.idle": "2022-07-27T03:13:05.508008Z",
     "shell.execute_reply": "2022-07-27T03:13:05.506996Z"
    },
    "papermill": {
     "duration": 0.032757,
     "end_time": "2022-07-27T03:13:05.510249",
     "exception": false,
     "start_time": "2022-07-27T03:13:05.477492",
     "status": "completed"
    },
    "tags": []
   },
   "outputs": [
    {
     "data": {
      "text/plain": [
       "id           0\n",
       "title      558\n",
       "author    1957\n",
       "text        39\n",
       "label        0\n",
       "dtype: int64"
      ]
     },
     "execution_count": 8,
     "metadata": {},
     "output_type": "execute_result"
    }
   ],
   "source": [
    "#count number of missing values in the data set\n",
    "df.isnull().sum()"
   ]
  },
  {
   "cell_type": "code",
   "execution_count": 9,
   "id": "59a14899",
   "metadata": {
    "execution": {
     "iopub.execute_input": "2022-07-27T03:13:05.534936Z",
     "iopub.status.busy": "2022-07-27T03:13:05.533802Z",
     "iopub.status.idle": "2022-07-27T03:13:05.550488Z",
     "shell.execute_reply": "2022-07-27T03:13:05.549226Z"
    },
    "papermill": {
     "duration": 0.031788,
     "end_time": "2022-07-27T03:13:05.553172",
     "exception": false,
     "start_time": "2022-07-27T03:13:05.521384",
     "status": "completed"
    },
    "tags": []
   },
   "outputs": [],
   "source": [
    "#drop the missing values as the data is large\n",
    "#replace the null values with empty string\n",
    "df = df.fillna('')"
   ]
  },
  {
   "cell_type": "code",
   "execution_count": 10,
   "id": "43ce1da9",
   "metadata": {
    "execution": {
     "iopub.execute_input": "2022-07-27T03:13:05.578204Z",
     "iopub.status.busy": "2022-07-27T03:13:05.577450Z",
     "iopub.status.idle": "2022-07-27T03:13:05.596431Z",
     "shell.execute_reply": "2022-07-27T03:13:05.595345Z"
    },
    "papermill": {
     "duration": 0.034408,
     "end_time": "2022-07-27T03:13:05.598840",
     "exception": false,
     "start_time": "2022-07-27T03:13:05.564432",
     "status": "completed"
    },
    "tags": []
   },
   "outputs": [
    {
     "data": {
      "text/plain": [
       "id        0\n",
       "title     0\n",
       "author    0\n",
       "text      0\n",
       "label     0\n",
       "dtype: int64"
      ]
     },
     "execution_count": 10,
     "metadata": {},
     "output_type": "execute_result"
    }
   ],
   "source": [
    "df.isnull().sum()"
   ]
  },
  {
   "cell_type": "code",
   "execution_count": 11,
   "id": "e95c6d50",
   "metadata": {
    "execution": {
     "iopub.execute_input": "2022-07-27T03:13:05.623041Z",
     "iopub.status.busy": "2022-07-27T03:13:05.622615Z",
     "iopub.status.idle": "2022-07-27T03:13:05.639484Z",
     "shell.execute_reply": "2022-07-27T03:13:05.638224Z"
    },
    "papermill": {
     "duration": 0.032014,
     "end_time": "2022-07-27T03:13:05.642209",
     "exception": false,
     "start_time": "2022-07-27T03:13:05.610195",
     "status": "completed"
    },
    "tags": []
   },
   "outputs": [],
   "source": [
    "# merging the author name and news title\n",
    "df['content'] = df['author']+\" \"+ df['title']"
   ]
  },
  {
   "cell_type": "code",
   "execution_count": 12,
   "id": "49b2884e",
   "metadata": {
    "execution": {
     "iopub.execute_input": "2022-07-27T03:13:05.667505Z",
     "iopub.status.busy": "2022-07-27T03:13:05.667079Z",
     "iopub.status.idle": "2022-07-27T03:13:05.675437Z",
     "shell.execute_reply": "2022-07-27T03:13:05.674343Z"
    },
    "papermill": {
     "duration": 0.023516,
     "end_time": "2022-07-27T03:13:05.677871",
     "exception": false,
     "start_time": "2022-07-27T03:13:05.654355",
     "status": "completed"
    },
    "tags": []
   },
   "outputs": [
    {
     "data": {
      "text/plain": [
       "0    Darrell Lucus House Dem Aide: We Didn’t Even S...\n",
       "1    Daniel J. Flynn FLYNN: Hillary Clinton, Big Wo...\n",
       "2    Consortiumnews.com Why the Truth Might Get You...\n",
       "3    Jessica Purkiss 15 Civilians Killed In Single ...\n",
       "4    Howard Portnoy Iranian woman jailed for fictio...\n",
       "Name: content, dtype: object"
      ]
     },
     "execution_count": 12,
     "metadata": {},
     "output_type": "execute_result"
    }
   ],
   "source": [
    "df['content'].head()"
   ]
  },
  {
   "cell_type": "code",
   "execution_count": 13,
   "id": "6257f91f",
   "metadata": {
    "execution": {
     "iopub.execute_input": "2022-07-27T03:13:05.702756Z",
     "iopub.status.busy": "2022-07-27T03:13:05.702341Z",
     "iopub.status.idle": "2022-07-27T03:13:05.707171Z",
     "shell.execute_reply": "2022-07-27T03:13:05.706269Z"
    },
    "papermill": {
     "duration": 0.020029,
     "end_time": "2022-07-27T03:13:05.709639",
     "exception": false,
     "start_time": "2022-07-27T03:13:05.689610",
     "status": "completed"
    },
    "tags": []
   },
   "outputs": [],
   "source": [
    "#seperating the data and label\n",
    "# X=df.drop(columns='label',axis=1)\n",
    "# Y=df['label']\n",
    "# X_train,X_test,y_train,y_test=train_test_split(df.drop(columns='label',axis=1),df['label'],random_state=0,test_size=0.1)"
   ]
  },
  {
   "cell_type": "code",
   "execution_count": 14,
   "id": "55c11e06",
   "metadata": {
    "execution": {
     "iopub.execute_input": "2022-07-27T03:13:05.734771Z",
     "iopub.status.busy": "2022-07-27T03:13:05.734392Z",
     "iopub.status.idle": "2022-07-27T03:13:05.738646Z",
     "shell.execute_reply": "2022-07-27T03:13:05.737494Z"
    },
    "papermill": {
     "duration": 0.019757,
     "end_time": "2022-07-27T03:13:05.740956",
     "exception": false,
     "start_time": "2022-07-27T03:13:05.721199",
     "status": "completed"
    },
    "tags": []
   },
   "outputs": [],
   "source": [
    "# X_train.shape"
   ]
  },
  {
   "cell_type": "code",
   "execution_count": 15,
   "id": "78a140c1",
   "metadata": {
    "execution": {
     "iopub.execute_input": "2022-07-27T03:13:05.766089Z",
     "iopub.status.busy": "2022-07-27T03:13:05.765621Z",
     "iopub.status.idle": "2022-07-27T03:13:05.770484Z",
     "shell.execute_reply": "2022-07-27T03:13:05.769343Z"
    },
    "papermill": {
     "duration": 0.020406,
     "end_time": "2022-07-27T03:13:05.772936",
     "exception": false,
     "start_time": "2022-07-27T03:13:05.752530",
     "status": "completed"
    },
    "tags": []
   },
   "outputs": [],
   "source": [
    "#stemming process\n",
    "#that is reducing the word to its root words\n",
    "# then perform vectorisation on that\n",
    "porter_stem = PorterStemmer()"
   ]
  },
  {
   "cell_type": "code",
   "execution_count": 16,
   "id": "de047cf0",
   "metadata": {
    "execution": {
     "iopub.execute_input": "2022-07-27T03:13:05.798195Z",
     "iopub.status.busy": "2022-07-27T03:13:05.797759Z",
     "iopub.status.idle": "2022-07-27T03:13:05.804424Z",
     "shell.execute_reply": "2022-07-27T03:13:05.803209Z"
    },
    "papermill": {
     "duration": 0.022117,
     "end_time": "2022-07-27T03:13:05.806729",
     "exception": false,
     "start_time": "2022-07-27T03:13:05.784612",
     "status": "completed"
    },
    "tags": []
   },
   "outputs": [],
   "source": [
    "def stemming(content):\n",
    "    stemmed_content=re.sub('[^a-zA-Z]',' ',content)\n",
    "    stemmed_content = stemmed_content.lower()\n",
    "    stemmed_content = stemmed_content.split()\n",
    "    stemmed_content = [porter_stem.stem(word) for word in stemmed_content if not word in stopwords.words('english')]\n",
    "    stemmed_content = ' '.join(stemmed_content)\n",
    "    return stemmed_content"
   ]
  },
  {
   "cell_type": "code",
   "execution_count": 17,
   "id": "f4931595",
   "metadata": {
    "execution": {
     "iopub.execute_input": "2022-07-27T03:13:05.831699Z",
     "iopub.status.busy": "2022-07-27T03:13:05.831264Z",
     "iopub.status.idle": "2022-07-27T03:13:50.947709Z",
     "shell.execute_reply": "2022-07-27T03:13:50.946453Z"
    },
    "papermill": {
     "duration": 45.132238,
     "end_time": "2022-07-27T03:13:50.950628",
     "exception": false,
     "start_time": "2022-07-27T03:13:05.818390",
     "status": "completed"
    },
    "tags": []
   },
   "outputs": [],
   "source": [
    "df['content']=df['content'].apply(stemming)"
   ]
  },
  {
   "cell_type": "code",
   "execution_count": 18,
   "id": "c9df2a51",
   "metadata": {
    "execution": {
     "iopub.execute_input": "2022-07-27T03:13:50.975680Z",
     "iopub.status.busy": "2022-07-27T03:13:50.975267Z",
     "iopub.status.idle": "2022-07-27T03:13:50.984018Z",
     "shell.execute_reply": "2022-07-27T03:13:50.982693Z"
    },
    "papermill": {
     "duration": 0.023983,
     "end_time": "2022-07-27T03:13:50.986352",
     "exception": false,
     "start_time": "2022-07-27T03:13:50.962369",
     "status": "completed"
    },
    "tags": []
   },
   "outputs": [
    {
     "data": {
      "text/plain": [
       "0    darrel lucu hous dem aid even see comey letter...\n",
       "1    daniel j flynn flynn hillari clinton big woman...\n",
       "2               consortiumnew com truth might get fire\n",
       "3    jessica purkiss civilian kill singl us airstri...\n",
       "4    howard portnoy iranian woman jail fiction unpu...\n",
       "Name: content, dtype: object"
      ]
     },
     "execution_count": 18,
     "metadata": {},
     "output_type": "execute_result"
    }
   ],
   "source": [
    "df['content'].head()"
   ]
  },
  {
   "cell_type": "code",
   "execution_count": 19,
   "id": "29429bde",
   "metadata": {
    "execution": {
     "iopub.execute_input": "2022-07-27T03:13:51.011819Z",
     "iopub.status.busy": "2022-07-27T03:13:51.010872Z",
     "iopub.status.idle": "2022-07-27T03:13:51.016299Z",
     "shell.execute_reply": "2022-07-27T03:13:51.015371Z"
    },
    "papermill": {
     "duration": 0.020445,
     "end_time": "2022-07-27T03:13:51.018565",
     "exception": false,
     "start_time": "2022-07-27T03:13:50.998120",
     "status": "completed"
    },
    "tags": []
   },
   "outputs": [],
   "source": [
    "X= df['content'].values\n",
    "Y = df['label'].values\n"
   ]
  },
  {
   "cell_type": "code",
   "execution_count": 20,
   "id": "f39f687f",
   "metadata": {
    "execution": {
     "iopub.execute_input": "2022-07-27T03:13:51.044056Z",
     "iopub.status.busy": "2022-07-27T03:13:51.043633Z",
     "iopub.status.idle": "2022-07-27T03:13:51.050943Z",
     "shell.execute_reply": "2022-07-27T03:13:51.049606Z"
    },
    "papermill": {
     "duration": 0.022938,
     "end_time": "2022-07-27T03:13:51.053430",
     "exception": false,
     "start_time": "2022-07-27T03:13:51.030492",
     "status": "completed"
    },
    "tags": []
   },
   "outputs": [
    {
     "data": {
      "text/plain": [
       "(20800,)"
      ]
     },
     "execution_count": 20,
     "metadata": {},
     "output_type": "execute_result"
    }
   ],
   "source": [
    "Y.shape"
   ]
  },
  {
   "cell_type": "markdown",
   "id": "50ec6a15",
   "metadata": {
    "papermill": {
     "duration": 0.011434,
     "end_time": "2022-07-27T03:13:51.076757",
     "exception": false,
     "start_time": "2022-07-27T03:13:51.065323",
     "status": "completed"
    },
    "tags": []
   },
   "source": [
    "Convert textual data to numerical Data"
   ]
  },
  {
   "cell_type": "code",
   "execution_count": 21,
   "id": "d8aa18cc",
   "metadata": {
    "execution": {
     "iopub.execute_input": "2022-07-27T03:13:51.102282Z",
     "iopub.status.busy": "2022-07-27T03:13:51.101876Z",
     "iopub.status.idle": "2022-07-27T03:13:51.808754Z",
     "shell.execute_reply": "2022-07-27T03:13:51.807505Z"
    },
    "papermill": {
     "duration": 0.722969,
     "end_time": "2022-07-27T03:13:51.811522",
     "exception": false,
     "start_time": "2022-07-27T03:13:51.088553",
     "status": "completed"
    },
    "tags": []
   },
   "outputs": [],
   "source": [
    "vectorizer = TfidfVectorizer()\n",
    "vectorizer.fit(X)\n",
    "X = vectorizer.transform(X)"
   ]
  },
  {
   "cell_type": "code",
   "execution_count": 22,
   "id": "fb105c0c",
   "metadata": {
    "execution": {
     "iopub.execute_input": "2022-07-27T03:13:51.837327Z",
     "iopub.status.busy": "2022-07-27T03:13:51.836896Z",
     "iopub.status.idle": "2022-07-27T03:13:51.846015Z",
     "shell.execute_reply": "2022-07-27T03:13:51.844820Z"
    },
    "papermill": {
     "duration": 0.025629,
     "end_time": "2022-07-27T03:13:51.849102",
     "exception": false,
     "start_time": "2022-07-27T03:13:51.823473",
     "status": "completed"
    },
    "tags": []
   },
   "outputs": [
    {
     "name": "stdout",
     "output_type": "stream",
     "text": [
      "  (0, 15686)\t0.28485063562728646\n",
      "  (0, 13473)\t0.2565896679337957\n",
      "  (0, 8909)\t0.3635963806326075\n",
      "  (0, 8630)\t0.29212514087043684\n",
      "  (0, 7692)\t0.24785219520671603\n",
      "  (0, 7005)\t0.21874169089359144\n",
      "  (0, 4973)\t0.233316966909351\n",
      "  (0, 3792)\t0.2705332480845492\n",
      "  (0, 3600)\t0.3598939188262559\n",
      "  (0, 2959)\t0.2468450128533713\n",
      "  (0, 2483)\t0.3676519686797209\n",
      "  (0, 267)\t0.27010124977708766\n",
      "  (1, 16799)\t0.30071745655510157\n",
      "  (1, 6816)\t0.1904660198296849\n",
      "  (1, 5503)\t0.7143299355715573\n",
      "  (1, 3568)\t0.26373768806048464\n",
      "  (1, 2813)\t0.19094574062359204\n",
      "  (1, 2223)\t0.3827320386859759\n",
      "  (1, 1894)\t0.15521974226349364\n",
      "  (1, 1497)\t0.2939891562094648\n",
      "  (2, 15611)\t0.41544962664721613\n",
      "  (2, 9620)\t0.49351492943649944\n",
      "  (2, 5968)\t0.3474613386728292\n",
      "  (2, 5389)\t0.3866530551182615\n",
      "  (2, 3103)\t0.46097489583229645\n",
      "  :\t:\n",
      "  (20797, 13122)\t0.2482526352197606\n",
      "  (20797, 12344)\t0.27263457663336677\n",
      "  (20797, 12138)\t0.24778257724396507\n",
      "  (20797, 10306)\t0.08038079000566466\n",
      "  (20797, 9588)\t0.174553480255222\n",
      "  (20797, 9518)\t0.2954204003420313\n",
      "  (20797, 8988)\t0.36160868928090795\n",
      "  (20797, 8364)\t0.22322585870464118\n",
      "  (20797, 7042)\t0.21799048897828688\n",
      "  (20797, 3643)\t0.21155500613623743\n",
      "  (20797, 1287)\t0.33538056804139865\n",
      "  (20797, 699)\t0.30685846079762347\n",
      "  (20797, 43)\t0.29710241860700626\n",
      "  (20798, 13046)\t0.22363267488270608\n",
      "  (20798, 11052)\t0.4460515589182236\n",
      "  (20798, 10177)\t0.3192496370187028\n",
      "  (20798, 6889)\t0.32496285694299426\n",
      "  (20798, 5032)\t0.4083701450239529\n",
      "  (20798, 1125)\t0.4460515589182236\n",
      "  (20798, 588)\t0.3112141524638974\n",
      "  (20798, 350)\t0.28446937819072576\n",
      "  (20799, 14852)\t0.5677577267055112\n",
      "  (20799, 8036)\t0.45983893273780013\n",
      "  (20799, 3623)\t0.37927626273066584\n",
      "  (20799, 377)\t0.5677577267055112\n"
     ]
    }
   ],
   "source": [
    "print(X)"
   ]
  },
  {
   "cell_type": "code",
   "execution_count": 23,
   "id": "201f9422",
   "metadata": {
    "execution": {
     "iopub.execute_input": "2022-07-27T03:13:51.875666Z",
     "iopub.status.busy": "2022-07-27T03:13:51.874964Z",
     "iopub.status.idle": "2022-07-27T03:13:51.895200Z",
     "shell.execute_reply": "2022-07-27T03:13:51.893984Z"
    },
    "papermill": {
     "duration": 0.036654,
     "end_time": "2022-07-27T03:13:51.898383",
     "exception": false,
     "start_time": "2022-07-27T03:13:51.861729",
     "status": "completed"
    },
    "tags": []
   },
   "outputs": [],
   "source": [
    "#split the dataset into training and text data\n",
    "X_train,X_test,y_train,y_test = train_test_split(X,Y,test_size=0.2, stratify = Y,random_state = 3)"
   ]
  },
  {
   "cell_type": "markdown",
   "id": "e3ea4923",
   "metadata": {
    "papermill": {
     "duration": 0.011545,
     "end_time": "2022-07-27T03:13:51.922114",
     "exception": false,
     "start_time": "2022-07-27T03:13:51.910569",
     "status": "completed"
    },
    "tags": []
   },
   "source": [
    "Training the Logistic Regression Model\n"
   ]
  },
  {
   "cell_type": "code",
   "execution_count": 24,
   "id": "8f6d2515",
   "metadata": {
    "execution": {
     "iopub.execute_input": "2022-07-27T03:13:51.947595Z",
     "iopub.status.busy": "2022-07-27T03:13:51.946918Z",
     "iopub.status.idle": "2022-07-27T03:13:51.952133Z",
     "shell.execute_reply": "2022-07-27T03:13:51.950876Z"
    },
    "papermill": {
     "duration": 0.02046,
     "end_time": "2022-07-27T03:13:51.954395",
     "exception": false,
     "start_time": "2022-07-27T03:13:51.933935",
     "status": "completed"
    },
    "tags": []
   },
   "outputs": [],
   "source": [
    "model = LogisticRegression()"
   ]
  },
  {
   "cell_type": "code",
   "execution_count": 25,
   "id": "0ef80cd2",
   "metadata": {
    "execution": {
     "iopub.execute_input": "2022-07-27T03:13:51.980187Z",
     "iopub.status.busy": "2022-07-27T03:13:51.979452Z",
     "iopub.status.idle": "2022-07-27T03:13:52.483089Z",
     "shell.execute_reply": "2022-07-27T03:13:52.481791Z"
    },
    "papermill": {
     "duration": 0.520246,
     "end_time": "2022-07-27T03:13:52.486596",
     "exception": false,
     "start_time": "2022-07-27T03:13:51.966350",
     "status": "completed"
    },
    "tags": []
   },
   "outputs": [
    {
     "data": {
      "text/plain": [
       "LogisticRegression()"
      ]
     },
     "execution_count": 25,
     "metadata": {},
     "output_type": "execute_result"
    }
   ],
   "source": [
    "model.fit(X_train,y_train)"
   ]
  },
  {
   "cell_type": "markdown",
   "id": "9f6397de",
   "metadata": {
    "papermill": {
     "duration": 0.045491,
     "end_time": "2022-07-27T03:13:52.569431",
     "exception": false,
     "start_time": "2022-07-27T03:13:52.523940",
     "status": "completed"
    },
    "tags": []
   },
   "source": [
    "## Evaluation\n",
    "accuracy score"
   ]
  },
  {
   "cell_type": "code",
   "execution_count": 26,
   "id": "7562aeb7",
   "metadata": {
    "execution": {
     "iopub.execute_input": "2022-07-27T03:13:52.612748Z",
     "iopub.status.busy": "2022-07-27T03:13:52.612375Z",
     "iopub.status.idle": "2022-07-27T03:13:52.621043Z",
     "shell.execute_reply": "2022-07-27T03:13:52.620043Z"
    },
    "papermill": {
     "duration": 0.02431,
     "end_time": "2022-07-27T03:13:52.623519",
     "exception": false,
     "start_time": "2022-07-27T03:13:52.599209",
     "status": "completed"
    },
    "tags": []
   },
   "outputs": [],
   "source": [
    "X_train_prediction = model.predict(X_train)\n",
    "training_data_accuracy = accuracy_score(X_train_prediction, y_train)"
   ]
  },
  {
   "cell_type": "code",
   "execution_count": 27,
   "id": "980fc272",
   "metadata": {
    "execution": {
     "iopub.execute_input": "2022-07-27T03:13:52.650228Z",
     "iopub.status.busy": "2022-07-27T03:13:52.649410Z",
     "iopub.status.idle": "2022-07-27T03:13:52.656559Z",
     "shell.execute_reply": "2022-07-27T03:13:52.654831Z"
    },
    "papermill": {
     "duration": 0.023474,
     "end_time": "2022-07-27T03:13:52.659175",
     "exception": false,
     "start_time": "2022-07-27T03:13:52.635701",
     "status": "completed"
    },
    "tags": []
   },
   "outputs": [
    {
     "name": "stdout",
     "output_type": "stream",
     "text": [
      "The Accuracy score of the training data is  0.9861778846153846\n"
     ]
    }
   ],
   "source": [
    "print('The Accuracy score of the training data is ',training_data_accuracy)"
   ]
  },
  {
   "cell_type": "markdown",
   "id": "52ae1612",
   "metadata": {
    "papermill": {
     "duration": 0.012366,
     "end_time": "2022-07-27T03:13:52.683850",
     "exception": false,
     "start_time": "2022-07-27T03:13:52.671484",
     "status": "completed"
    },
    "tags": []
   },
   "source": [
    "### Finding the accuracy score for the test data"
   ]
  },
  {
   "cell_type": "code",
   "execution_count": 28,
   "id": "dad8c5db",
   "metadata": {
    "execution": {
     "iopub.execute_input": "2022-07-27T03:13:52.710598Z",
     "iopub.status.busy": "2022-07-27T03:13:52.709382Z",
     "iopub.status.idle": "2022-07-27T03:13:52.715658Z",
     "shell.execute_reply": "2022-07-27T03:13:52.714868Z"
    },
    "papermill": {
     "duration": 0.021713,
     "end_time": "2022-07-27T03:13:52.717776",
     "exception": false,
     "start_time": "2022-07-27T03:13:52.696063",
     "status": "completed"
    },
    "tags": []
   },
   "outputs": [],
   "source": [
    "X_test_prediction = model.predict(X_test)\n",
    "testing_data_accuracy = accuracy_score(X_test_prediction,y_test)"
   ]
  },
  {
   "cell_type": "code",
   "execution_count": 29,
   "id": "03d423ba",
   "metadata": {
    "execution": {
     "iopub.execute_input": "2022-07-27T03:13:52.744153Z",
     "iopub.status.busy": "2022-07-27T03:13:52.743241Z",
     "iopub.status.idle": "2022-07-27T03:13:52.750256Z",
     "shell.execute_reply": "2022-07-27T03:13:52.748243Z"
    },
    "papermill": {
     "duration": 0.02391,
     "end_time": "2022-07-27T03:13:52.753718",
     "exception": false,
     "start_time": "2022-07-27T03:13:52.729808",
     "status": "completed"
    },
    "tags": []
   },
   "outputs": [
    {
     "name": "stdout",
     "output_type": "stream",
     "text": [
      "The Accuracy score of the test data is  0.9764423076923077\n"
     ]
    }
   ],
   "source": [
    " print('The Accuracy score of the test data is ',testing_data_accuracy)"
   ]
  },
  {
   "cell_type": "markdown",
   "id": "c6e312d6",
   "metadata": {
    "papermill": {
     "duration": 0.011646,
     "end_time": "2022-07-27T03:13:52.777838",
     "exception": false,
     "start_time": "2022-07-27T03:13:52.766192",
     "status": "completed"
    },
    "tags": []
   },
   "source": [
    "# Making a Prediction System"
   ]
  },
  {
   "cell_type": "code",
   "execution_count": 30,
   "id": "ff8b2e72",
   "metadata": {
    "execution": {
     "iopub.execute_input": "2022-07-27T03:13:52.804237Z",
     "iopub.status.busy": "2022-07-27T03:13:52.803403Z",
     "iopub.status.idle": "2022-07-27T03:13:52.810556Z",
     "shell.execute_reply": "2022-07-27T03:13:52.809265Z"
    },
    "papermill": {
     "duration": 0.024324,
     "end_time": "2022-07-27T03:13:52.814213",
     "exception": false,
     "start_time": "2022-07-27T03:13:52.789889",
     "status": "completed"
    },
    "tags": []
   },
   "outputs": [
    {
     "name": "stdout",
     "output_type": "stream",
     "text": [
      "This is a Fake News\n"
     ]
    }
   ],
   "source": [
    "X_new = X_test[109]\n",
    "prediction = model.predict(X_new)\n",
    "# print(prediction)\n",
    "\n",
    "if (prediction[0]==0):\n",
    " print('This is a Fake News')\n",
    "else:\n",
    " print('This is a Real News')"
   ]
  },
  {
   "cell_type": "code",
   "execution_count": 31,
   "id": "a7bae73b",
   "metadata": {
    "execution": {
     "iopub.execute_input": "2022-07-27T03:13:52.842513Z",
     "iopub.status.busy": "2022-07-27T03:13:52.841770Z",
     "iopub.status.idle": "2022-07-27T03:13:52.847689Z",
     "shell.execute_reply": "2022-07-27T03:13:52.846309Z"
    },
    "papermill": {
     "duration": 0.02255,
     "end_time": "2022-07-27T03:13:52.850373",
     "exception": false,
     "start_time": "2022-07-27T03:13:52.827823",
     "status": "completed"
    },
    "tags": []
   },
   "outputs": [
    {
     "name": "stdout",
     "output_type": "stream",
     "text": [
      "0\n"
     ]
    }
   ],
   "source": [
    "print(y_test[109])"
   ]
  },
  {
   "cell_type": "code",
   "execution_count": null,
   "id": "b5ca957c",
   "metadata": {
    "papermill": {
     "duration": 0.011882,
     "end_time": "2022-07-27T03:13:52.874651",
     "exception": false,
     "start_time": "2022-07-27T03:13:52.862769",
     "status": "completed"
    },
    "tags": []
   },
   "outputs": [],
   "source": []
  }
 ],
 "metadata": {
  "kernelspec": {
   "display_name": "Python 3",
   "language": "python",
   "name": "python3"
  },
  "language_info": {
   "codemirror_mode": {
    "name": "ipython",
    "version": 3
   },
   "file_extension": ".py",
   "mimetype": "text/x-python",
   "name": "python",
   "nbconvert_exporter": "python",
   "pygments_lexer": "ipython3",
   "version": "3.7.12"
  },
  "papermill": {
   "default_parameters": {},
   "duration": 64.039033,
   "end_time": "2022-07-27T03:13:53.709821",
   "environment_variables": {},
   "exception": null,
   "input_path": "__notebook__.ipynb",
   "output_path": "__notebook__.ipynb",
   "parameters": {},
   "start_time": "2022-07-27T03:12:49.670788",
   "version": "2.3.4"
  }
 },
 "nbformat": 4,
 "nbformat_minor": 5
}
