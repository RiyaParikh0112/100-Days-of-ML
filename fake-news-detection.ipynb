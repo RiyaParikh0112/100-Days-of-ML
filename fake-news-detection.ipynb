{
 "cells": [
  {
   "cell_type": "markdown",
   "id": "d5dafdb1",
   "metadata": {
    "papermill": {
     "duration": 0.008031,
     "end_time": "2022-07-27T02:56:00.147182",
     "exception": false,
     "start_time": "2022-07-27T02:56:00.139151",
     "status": "completed"
    },
    "tags": []
   },
   "source": [
    "1. Gathering Data\n",
    "2. Data Preprocessing\n",
    "3. Split into train test\n",
    "4. As it is a binary classification problem use logisitic regression model\n"
   ]
  },
  {
   "cell_type": "code",
   "execution_count": 1,
   "id": "4f2fc1b8",
   "metadata": {
    "execution": {
     "iopub.execute_input": "2022-07-27T02:56:00.163688Z",
     "iopub.status.busy": "2022-07-27T02:56:00.162959Z",
     "iopub.status.idle": "2022-07-27T02:56:01.966387Z",
     "shell.execute_reply": "2022-07-27T02:56:01.965010Z"
    },
    "papermill": {
     "duration": 1.815739,
     "end_time": "2022-07-27T02:56:01.970096",
     "exception": false,
     "start_time": "2022-07-27T02:56:00.154357",
     "status": "completed"
    },
    "tags": []
   },
   "outputs": [],
   "source": [
    "import pandas as pd\n",
    "import numpy as np\n",
    "import re\n",
    "from nltk.corpus import stopwords\n",
    "from nltk.stem.porter import PorterStemmer\n",
    "from sklearn.feature_extraction.text import TfidfVectorizer\n",
    "from sklearn.linear_model import LogisticRegression\n",
    "from sklearn.model_selection import train_test_split\n",
    "from sklearn.metrics import accuracy_score\n"
   ]
  },
  {
   "cell_type": "code",
   "execution_count": 2,
   "id": "12ee97df",
   "metadata": {
    "execution": {
     "iopub.execute_input": "2022-07-27T02:56:01.988908Z",
     "iopub.status.busy": "2022-07-27T02:56:01.988389Z",
     "iopub.status.idle": "2022-07-27T02:56:04.404659Z",
     "shell.execute_reply": "2022-07-27T02:56:04.403443Z"
    },
    "papermill": {
     "duration": 2.428033,
     "end_time": "2022-07-27T02:56:04.407626",
     "exception": false,
     "start_time": "2022-07-27T02:56:01.979593",
     "status": "completed"
    },
    "tags": []
   },
   "outputs": [],
   "source": [
    "df = pd.read_csv('../input/fakenews/train.csv')"
   ]
  },
  {
   "cell_type": "code",
   "execution_count": 3,
   "id": "7d28db72",
   "metadata": {
    "execution": {
     "iopub.execute_input": "2022-07-27T02:56:04.424389Z",
     "iopub.status.busy": "2022-07-27T02:56:04.423404Z",
     "iopub.status.idle": "2022-07-27T02:56:04.453775Z",
     "shell.execute_reply": "2022-07-27T02:56:04.452613Z"
    },
    "papermill": {
     "duration": 0.041188,
     "end_time": "2022-07-27T02:56:04.456078",
     "exception": false,
     "start_time": "2022-07-27T02:56:04.414890",
     "status": "completed"
    },
    "tags": []
   },
   "outputs": [
    {
     "data": {
      "text/html": [
       "<div>\n",
       "<style scoped>\n",
       "    .dataframe tbody tr th:only-of-type {\n",
       "        vertical-align: middle;\n",
       "    }\n",
       "\n",
       "    .dataframe tbody tr th {\n",
       "        vertical-align: top;\n",
       "    }\n",
       "\n",
       "    .dataframe thead th {\n",
       "        text-align: right;\n",
       "    }\n",
       "</style>\n",
       "<table border=\"1\" class=\"dataframe\">\n",
       "  <thead>\n",
       "    <tr style=\"text-align: right;\">\n",
       "      <th></th>\n",
       "      <th>id</th>\n",
       "      <th>title</th>\n",
       "      <th>author</th>\n",
       "      <th>text</th>\n",
       "      <th>label</th>\n",
       "    </tr>\n",
       "  </thead>\n",
       "  <tbody>\n",
       "    <tr>\n",
       "      <th>0</th>\n",
       "      <td>0</td>\n",
       "      <td>House Dem Aide: We Didn’t Even See Comey’s Let...</td>\n",
       "      <td>Darrell Lucus</td>\n",
       "      <td>House Dem Aide: We Didn’t Even See Comey’s Let...</td>\n",
       "      <td>1</td>\n",
       "    </tr>\n",
       "    <tr>\n",
       "      <th>1</th>\n",
       "      <td>1</td>\n",
       "      <td>FLYNN: Hillary Clinton, Big Woman on Campus - ...</td>\n",
       "      <td>Daniel J. Flynn</td>\n",
       "      <td>Ever get the feeling your life circles the rou...</td>\n",
       "      <td>0</td>\n",
       "    </tr>\n",
       "    <tr>\n",
       "      <th>2</th>\n",
       "      <td>2</td>\n",
       "      <td>Why the Truth Might Get You Fired</td>\n",
       "      <td>Consortiumnews.com</td>\n",
       "      <td>Why the Truth Might Get You Fired October 29, ...</td>\n",
       "      <td>1</td>\n",
       "    </tr>\n",
       "    <tr>\n",
       "      <th>3</th>\n",
       "      <td>3</td>\n",
       "      <td>15 Civilians Killed In Single US Airstrike Hav...</td>\n",
       "      <td>Jessica Purkiss</td>\n",
       "      <td>Videos 15 Civilians Killed In Single US Airstr...</td>\n",
       "      <td>1</td>\n",
       "    </tr>\n",
       "    <tr>\n",
       "      <th>4</th>\n",
       "      <td>4</td>\n",
       "      <td>Iranian woman jailed for fictional unpublished...</td>\n",
       "      <td>Howard Portnoy</td>\n",
       "      <td>Print \\nAn Iranian woman has been sentenced to...</td>\n",
       "      <td>1</td>\n",
       "    </tr>\n",
       "    <tr>\n",
       "      <th>...</th>\n",
       "      <td>...</td>\n",
       "      <td>...</td>\n",
       "      <td>...</td>\n",
       "      <td>...</td>\n",
       "      <td>...</td>\n",
       "    </tr>\n",
       "    <tr>\n",
       "      <th>20795</th>\n",
       "      <td>20795</td>\n",
       "      <td>Rapper T.I.: Trump a ’Poster Child For White S...</td>\n",
       "      <td>Jerome Hudson</td>\n",
       "      <td>Rapper T. I. unloaded on black celebrities who...</td>\n",
       "      <td>0</td>\n",
       "    </tr>\n",
       "    <tr>\n",
       "      <th>20796</th>\n",
       "      <td>20796</td>\n",
       "      <td>N.F.L. Playoffs: Schedule, Matchups and Odds -...</td>\n",
       "      <td>Benjamin Hoffman</td>\n",
       "      <td>When the Green Bay Packers lost to the Washing...</td>\n",
       "      <td>0</td>\n",
       "    </tr>\n",
       "    <tr>\n",
       "      <th>20797</th>\n",
       "      <td>20797</td>\n",
       "      <td>Macy’s Is Said to Receive Takeover Approach by...</td>\n",
       "      <td>Michael J. de la Merced and Rachel Abrams</td>\n",
       "      <td>The Macy’s of today grew from the union of sev...</td>\n",
       "      <td>0</td>\n",
       "    </tr>\n",
       "    <tr>\n",
       "      <th>20798</th>\n",
       "      <td>20798</td>\n",
       "      <td>NATO, Russia To Hold Parallel Exercises In Bal...</td>\n",
       "      <td>Alex Ansary</td>\n",
       "      <td>NATO, Russia To Hold Parallel Exercises In Bal...</td>\n",
       "      <td>1</td>\n",
       "    </tr>\n",
       "    <tr>\n",
       "      <th>20799</th>\n",
       "      <td>20799</td>\n",
       "      <td>What Keeps the F-35 Alive</td>\n",
       "      <td>David Swanson</td>\n",
       "      <td>David Swanson is an author, activist, journa...</td>\n",
       "      <td>1</td>\n",
       "    </tr>\n",
       "  </tbody>\n",
       "</table>\n",
       "<p>20800 rows × 5 columns</p>\n",
       "</div>"
      ],
      "text/plain": [
       "          id                                              title  \\\n",
       "0          0  House Dem Aide: We Didn’t Even See Comey’s Let...   \n",
       "1          1  FLYNN: Hillary Clinton, Big Woman on Campus - ...   \n",
       "2          2                  Why the Truth Might Get You Fired   \n",
       "3          3  15 Civilians Killed In Single US Airstrike Hav...   \n",
       "4          4  Iranian woman jailed for fictional unpublished...   \n",
       "...      ...                                                ...   \n",
       "20795  20795  Rapper T.I.: Trump a ’Poster Child For White S...   \n",
       "20796  20796  N.F.L. Playoffs: Schedule, Matchups and Odds -...   \n",
       "20797  20797  Macy’s Is Said to Receive Takeover Approach by...   \n",
       "20798  20798  NATO, Russia To Hold Parallel Exercises In Bal...   \n",
       "20799  20799                          What Keeps the F-35 Alive   \n",
       "\n",
       "                                          author  \\\n",
       "0                                  Darrell Lucus   \n",
       "1                                Daniel J. Flynn   \n",
       "2                             Consortiumnews.com   \n",
       "3                                Jessica Purkiss   \n",
       "4                                 Howard Portnoy   \n",
       "...                                          ...   \n",
       "20795                              Jerome Hudson   \n",
       "20796                           Benjamin Hoffman   \n",
       "20797  Michael J. de la Merced and Rachel Abrams   \n",
       "20798                                Alex Ansary   \n",
       "20799                              David Swanson   \n",
       "\n",
       "                                                    text  label  \n",
       "0      House Dem Aide: We Didn’t Even See Comey’s Let...      1  \n",
       "1      Ever get the feeling your life circles the rou...      0  \n",
       "2      Why the Truth Might Get You Fired October 29, ...      1  \n",
       "3      Videos 15 Civilians Killed In Single US Airstr...      1  \n",
       "4      Print \\nAn Iranian woman has been sentenced to...      1  \n",
       "...                                                  ...    ...  \n",
       "20795  Rapper T. I. unloaded on black celebrities who...      0  \n",
       "20796  When the Green Bay Packers lost to the Washing...      0  \n",
       "20797  The Macy’s of today grew from the union of sev...      0  \n",
       "20798  NATO, Russia To Hold Parallel Exercises In Bal...      1  \n",
       "20799    David Swanson is an author, activist, journa...      1  \n",
       "\n",
       "[20800 rows x 5 columns]"
      ]
     },
     "execution_count": 3,
     "metadata": {},
     "output_type": "execute_result"
    }
   ],
   "source": [
    "df"
   ]
  },
  {
   "cell_type": "code",
   "execution_count": 4,
   "id": "518213a8",
   "metadata": {
    "execution": {
     "iopub.execute_input": "2022-07-27T02:56:04.474125Z",
     "iopub.status.busy": "2022-07-27T02:56:04.473015Z",
     "iopub.status.idle": "2022-07-27T02:56:04.612384Z",
     "shell.execute_reply": "2022-07-27T02:56:04.611099Z"
    },
    "papermill": {
     "duration": 0.152455,
     "end_time": "2022-07-27T02:56:04.616744",
     "exception": false,
     "start_time": "2022-07-27T02:56:04.464289",
     "status": "completed"
    },
    "tags": []
   },
   "outputs": [
    {
     "name": "stderr",
     "output_type": "stream",
     "text": [
      "[nltk_data] Downloading package stopwords to /usr/share/nltk_data...\n",
      "[nltk_data]   Package stopwords is already up-to-date!\n"
     ]
    },
    {
     "data": {
      "text/plain": [
       "True"
      ]
     },
     "execution_count": 4,
     "metadata": {},
     "output_type": "execute_result"
    }
   ],
   "source": [
    "import nltk\n",
    "nltk.download('stopwords')"
   ]
  },
  {
   "cell_type": "code",
   "execution_count": 5,
   "id": "095d2144",
   "metadata": {
    "execution": {
     "iopub.execute_input": "2022-07-27T02:56:04.634366Z",
     "iopub.status.busy": "2022-07-27T02:56:04.633382Z",
     "iopub.status.idle": "2022-07-27T02:56:04.641680Z",
     "shell.execute_reply": "2022-07-27T02:56:04.640733Z"
    },
    "papermill": {
     "duration": 0.019447,
     "end_time": "2022-07-27T02:56:04.644006",
     "exception": false,
     "start_time": "2022-07-27T02:56:04.624559",
     "status": "completed"
    },
    "tags": []
   },
   "outputs": [
    {
     "name": "stdout",
     "output_type": "stream",
     "text": [
      "['i', 'me', 'my', 'myself', 'we', 'our', 'ours', 'ourselves', 'you', \"you're\", \"you've\", \"you'll\", \"you'd\", 'your', 'yours', 'yourself', 'yourselves', 'he', 'him', 'his', 'himself', 'she', \"she's\", 'her', 'hers', 'herself', 'it', \"it's\", 'its', 'itself', 'they', 'them', 'their', 'theirs', 'themselves', 'what', 'which', 'who', 'whom', 'this', 'that', \"that'll\", 'these', 'those', 'am', 'is', 'are', 'was', 'were', 'be', 'been', 'being', 'have', 'has', 'had', 'having', 'do', 'does', 'did', 'doing', 'a', 'an', 'the', 'and', 'but', 'if', 'or', 'because', 'as', 'until', 'while', 'of', 'at', 'by', 'for', 'with', 'about', 'against', 'between', 'into', 'through', 'during', 'before', 'after', 'above', 'below', 'to', 'from', 'up', 'down', 'in', 'out', 'on', 'off', 'over', 'under', 'again', 'further', 'then', 'once', 'here', 'there', 'when', 'where', 'why', 'how', 'all', 'any', 'both', 'each', 'few', 'more', 'most', 'other', 'some', 'such', 'no', 'nor', 'not', 'only', 'own', 'same', 'so', 'than', 'too', 'very', 's', 't', 'can', 'will', 'just', 'don', \"don't\", 'should', \"should've\", 'now', 'd', 'll', 'm', 'o', 're', 've', 'y', 'ain', 'aren', \"aren't\", 'couldn', \"couldn't\", 'didn', \"didn't\", 'doesn', \"doesn't\", 'hadn', \"hadn't\", 'hasn', \"hasn't\", 'haven', \"haven't\", 'isn', \"isn't\", 'ma', 'mightn', \"mightn't\", 'mustn', \"mustn't\", 'needn', \"needn't\", 'shan', \"shan't\", 'shouldn', \"shouldn't\", 'wasn', \"wasn't\", 'weren', \"weren't\", 'won', \"won't\", 'wouldn', \"wouldn't\"]\n"
     ]
    }
   ],
   "source": [
    "print(stopwords.words('english'))"
   ]
  },
  {
   "cell_type": "markdown",
   "id": "d8e9a9ae",
   "metadata": {
    "papermill": {
     "duration": 0.007355,
     "end_time": "2022-07-27T02:56:04.659232",
     "exception": false,
     "start_time": "2022-07-27T02:56:04.651877",
     "status": "completed"
    },
    "tags": []
   },
   "source": [
    "During stemming remove these words"
   ]
  },
  {
   "cell_type": "code",
   "execution_count": 6,
   "id": "b6f061e7",
   "metadata": {
    "execution": {
     "iopub.execute_input": "2022-07-27T02:56:04.676827Z",
     "iopub.status.busy": "2022-07-27T02:56:04.676111Z",
     "iopub.status.idle": "2022-07-27T02:56:04.681783Z",
     "shell.execute_reply": "2022-07-27T02:56:04.681005Z"
    },
    "papermill": {
     "duration": 0.016755,
     "end_time": "2022-07-27T02:56:04.683750",
     "exception": false,
     "start_time": "2022-07-27T02:56:04.666995",
     "status": "completed"
    },
    "tags": []
   },
   "outputs": [
    {
     "data": {
      "text/plain": [
       "(20800, 5)"
      ]
     },
     "execution_count": 6,
     "metadata": {},
     "output_type": "execute_result"
    }
   ],
   "source": [
    "df.shape"
   ]
  },
  {
   "cell_type": "code",
   "execution_count": 7,
   "id": "292eb6d6",
   "metadata": {
    "execution": {
     "iopub.execute_input": "2022-07-27T02:56:04.701844Z",
     "iopub.status.busy": "2022-07-27T02:56:04.700621Z",
     "iopub.status.idle": "2022-07-27T02:56:04.714282Z",
     "shell.execute_reply": "2022-07-27T02:56:04.713420Z"
    },
    "papermill": {
     "duration": 0.024837,
     "end_time": "2022-07-27T02:56:04.716419",
     "exception": false,
     "start_time": "2022-07-27T02:56:04.691582",
     "status": "completed"
    },
    "tags": []
   },
   "outputs": [
    {
     "data": {
      "text/plain": [
       "1    10413\n",
       "0    10387\n",
       "Name: label, dtype: int64"
      ]
     },
     "execution_count": 7,
     "metadata": {},
     "output_type": "execute_result"
    }
   ],
   "source": [
    "df['label'].value_counts()"
   ]
  },
  {
   "cell_type": "code",
   "execution_count": 8,
   "id": "19ad1148",
   "metadata": {
    "execution": {
     "iopub.execute_input": "2022-07-27T02:56:04.734613Z",
     "iopub.status.busy": "2022-07-27T02:56:04.733998Z",
     "iopub.status.idle": "2022-07-27T02:56:04.750992Z",
     "shell.execute_reply": "2022-07-27T02:56:04.749939Z"
    },
    "papermill": {
     "duration": 0.028829,
     "end_time": "2022-07-27T02:56:04.753298",
     "exception": false,
     "start_time": "2022-07-27T02:56:04.724469",
     "status": "completed"
    },
    "tags": []
   },
   "outputs": [
    {
     "data": {
      "text/plain": [
       "id           0\n",
       "title      558\n",
       "author    1957\n",
       "text        39\n",
       "label        0\n",
       "dtype: int64"
      ]
     },
     "execution_count": 8,
     "metadata": {},
     "output_type": "execute_result"
    }
   ],
   "source": [
    "#count number of missing values in the data set\n",
    "df.isnull().sum()"
   ]
  },
  {
   "cell_type": "code",
   "execution_count": 9,
   "id": "ee4f6e80",
   "metadata": {
    "execution": {
     "iopub.execute_input": "2022-07-27T02:56:04.772150Z",
     "iopub.status.busy": "2022-07-27T02:56:04.771551Z",
     "iopub.status.idle": "2022-07-27T02:56:04.786199Z",
     "shell.execute_reply": "2022-07-27T02:56:04.785355Z"
    },
    "papermill": {
     "duration": 0.026783,
     "end_time": "2022-07-27T02:56:04.788653",
     "exception": false,
     "start_time": "2022-07-27T02:56:04.761870",
     "status": "completed"
    },
    "tags": []
   },
   "outputs": [],
   "source": [
    "#drop the missing values as the data is large\n",
    "#replace the null values with empty string\n",
    "df = df.fillna('')"
   ]
  },
  {
   "cell_type": "code",
   "execution_count": 10,
   "id": "542ff30a",
   "metadata": {
    "execution": {
     "iopub.execute_input": "2022-07-27T02:56:04.807176Z",
     "iopub.status.busy": "2022-07-27T02:56:04.806283Z",
     "iopub.status.idle": "2022-07-27T02:56:04.825755Z",
     "shell.execute_reply": "2022-07-27T02:56:04.824815Z"
    },
    "papermill": {
     "duration": 0.031226,
     "end_time": "2022-07-27T02:56:04.828004",
     "exception": false,
     "start_time": "2022-07-27T02:56:04.796778",
     "status": "completed"
    },
    "tags": []
   },
   "outputs": [
    {
     "data": {
      "text/plain": [
       "id        0\n",
       "title     0\n",
       "author    0\n",
       "text      0\n",
       "label     0\n",
       "dtype: int64"
      ]
     },
     "execution_count": 10,
     "metadata": {},
     "output_type": "execute_result"
    }
   ],
   "source": [
    "df.isnull().sum()"
   ]
  },
  {
   "cell_type": "code",
   "execution_count": 11,
   "id": "039838ab",
   "metadata": {
    "execution": {
     "iopub.execute_input": "2022-07-27T02:56:04.847762Z",
     "iopub.status.busy": "2022-07-27T02:56:04.846985Z",
     "iopub.status.idle": "2022-07-27T02:56:04.864505Z",
     "shell.execute_reply": "2022-07-27T02:56:04.863334Z"
    },
    "papermill": {
     "duration": 0.031043,
     "end_time": "2022-07-27T02:56:04.867243",
     "exception": false,
     "start_time": "2022-07-27T02:56:04.836200",
     "status": "completed"
    },
    "tags": []
   },
   "outputs": [],
   "source": [
    "# merging the author name and news title\n",
    "df['content'] = df['author']+\" \"+ df['title']"
   ]
  },
  {
   "cell_type": "code",
   "execution_count": 12,
   "id": "ae7c75a1",
   "metadata": {
    "execution": {
     "iopub.execute_input": "2022-07-27T02:56:04.886219Z",
     "iopub.status.busy": "2022-07-27T02:56:04.885085Z",
     "iopub.status.idle": "2022-07-27T02:56:04.894278Z",
     "shell.execute_reply": "2022-07-27T02:56:04.892827Z"
    },
    "papermill": {
     "duration": 0.021509,
     "end_time": "2022-07-27T02:56:04.897029",
     "exception": false,
     "start_time": "2022-07-27T02:56:04.875520",
     "status": "completed"
    },
    "tags": []
   },
   "outputs": [
    {
     "data": {
      "text/plain": [
       "0    Darrell Lucus House Dem Aide: We Didn’t Even S...\n",
       "1    Daniel J. Flynn FLYNN: Hillary Clinton, Big Wo...\n",
       "2    Consortiumnews.com Why the Truth Might Get You...\n",
       "3    Jessica Purkiss 15 Civilians Killed In Single ...\n",
       "4    Howard Portnoy Iranian woman jailed for fictio...\n",
       "Name: content, dtype: object"
      ]
     },
     "execution_count": 12,
     "metadata": {},
     "output_type": "execute_result"
    }
   ],
   "source": [
    "df['content'].head()"
   ]
  },
  {
   "cell_type": "code",
   "execution_count": 13,
   "id": "52d69cfb",
   "metadata": {
    "execution": {
     "iopub.execute_input": "2022-07-27T02:56:04.916295Z",
     "iopub.status.busy": "2022-07-27T02:56:04.915551Z",
     "iopub.status.idle": "2022-07-27T02:56:04.920206Z",
     "shell.execute_reply": "2022-07-27T02:56:04.919453Z"
    },
    "papermill": {
     "duration": 0.0169,
     "end_time": "2022-07-27T02:56:04.922504",
     "exception": false,
     "start_time": "2022-07-27T02:56:04.905604",
     "status": "completed"
    },
    "tags": []
   },
   "outputs": [],
   "source": [
    "#seperating the data and label\n",
    "# X=df.drop(columns='label',axis=1)\n",
    "# Y=df['label']\n",
    "# X_train,X_test,y_train,y_test=train_test_split(df.drop(columns='label',axis=1),df['label'],random_state=0,test_size=0.1)"
   ]
  },
  {
   "cell_type": "code",
   "execution_count": 14,
   "id": "9caeca1e",
   "metadata": {
    "execution": {
     "iopub.execute_input": "2022-07-27T02:56:04.941795Z",
     "iopub.status.busy": "2022-07-27T02:56:04.940641Z",
     "iopub.status.idle": "2022-07-27T02:56:04.945696Z",
     "shell.execute_reply": "2022-07-27T02:56:04.944914Z"
    },
    "papermill": {
     "duration": 0.017205,
     "end_time": "2022-07-27T02:56:04.947973",
     "exception": false,
     "start_time": "2022-07-27T02:56:04.930768",
     "status": "completed"
    },
    "tags": []
   },
   "outputs": [],
   "source": [
    "# X_train.shape"
   ]
  },
  {
   "cell_type": "code",
   "execution_count": 15,
   "id": "eca9b568",
   "metadata": {
    "execution": {
     "iopub.execute_input": "2022-07-27T02:56:04.966692Z",
     "iopub.status.busy": "2022-07-27T02:56:04.966099Z",
     "iopub.status.idle": "2022-07-27T02:56:04.971196Z",
     "shell.execute_reply": "2022-07-27T02:56:04.970056Z"
    },
    "papermill": {
     "duration": 0.017276,
     "end_time": "2022-07-27T02:56:04.973509",
     "exception": false,
     "start_time": "2022-07-27T02:56:04.956233",
     "status": "completed"
    },
    "tags": []
   },
   "outputs": [],
   "source": [
    "#stemming process\n",
    "#that is reducing the word to its root words\n",
    "# then perform vectorisation on that\n",
    "porter_stem = PorterStemmer()"
   ]
  },
  {
   "cell_type": "code",
   "execution_count": 16,
   "id": "d575a114",
   "metadata": {
    "execution": {
     "iopub.execute_input": "2022-07-27T02:56:04.993014Z",
     "iopub.status.busy": "2022-07-27T02:56:04.992002Z",
     "iopub.status.idle": "2022-07-27T02:56:04.998888Z",
     "shell.execute_reply": "2022-07-27T02:56:04.997990Z"
    },
    "papermill": {
     "duration": 0.019487,
     "end_time": "2022-07-27T02:56:05.001351",
     "exception": false,
     "start_time": "2022-07-27T02:56:04.981864",
     "status": "completed"
    },
    "tags": []
   },
   "outputs": [],
   "source": [
    "def stemming(content):\n",
    "    stemmed_content=re.sub('[^a-zA-Z]',' ',content)\n",
    "    stemmed_content = stemmed_content.lower()\n",
    "    stemmed_content = stemmed_content.split()\n",
    "    stemmed_content = [porter_stem.stem(word) for word in stemmed_content if not word in stopwords.words('english')]\n",
    "    stemmed_content = ' '.join(stemmed_content)\n",
    "    return stemmed_content"
   ]
  },
  {
   "cell_type": "code",
   "execution_count": 17,
   "id": "2b4913eb",
   "metadata": {
    "execution": {
     "iopub.execute_input": "2022-07-27T02:56:05.020559Z",
     "iopub.status.busy": "2022-07-27T02:56:05.019743Z",
     "iopub.status.idle": "2022-07-27T02:56:50.412791Z",
     "shell.execute_reply": "2022-07-27T02:56:50.411750Z"
    },
    "papermill": {
     "duration": 45.405725,
     "end_time": "2022-07-27T02:56:50.415522",
     "exception": false,
     "start_time": "2022-07-27T02:56:05.009797",
     "status": "completed"
    },
    "tags": []
   },
   "outputs": [],
   "source": [
    "df['content']=df['content'].apply(stemming)"
   ]
  },
  {
   "cell_type": "code",
   "execution_count": 18,
   "id": "4c5239ad",
   "metadata": {
    "execution": {
     "iopub.execute_input": "2022-07-27T02:56:50.435337Z",
     "iopub.status.busy": "2022-07-27T02:56:50.434768Z",
     "iopub.status.idle": "2022-07-27T02:56:50.442882Z",
     "shell.execute_reply": "2022-07-27T02:56:50.441821Z"
    },
    "papermill": {
     "duration": 0.020393,
     "end_time": "2022-07-27T02:56:50.445282",
     "exception": false,
     "start_time": "2022-07-27T02:56:50.424889",
     "status": "completed"
    },
    "tags": []
   },
   "outputs": [
    {
     "data": {
      "text/plain": [
       "0    darrel lucu hous dem aid even see comey letter...\n",
       "1    daniel j flynn flynn hillari clinton big woman...\n",
       "2               consortiumnew com truth might get fire\n",
       "3    jessica purkiss civilian kill singl us airstri...\n",
       "4    howard portnoy iranian woman jail fiction unpu...\n",
       "Name: content, dtype: object"
      ]
     },
     "execution_count": 18,
     "metadata": {},
     "output_type": "execute_result"
    }
   ],
   "source": [
    "df['content'].head()"
   ]
  },
  {
   "cell_type": "code",
   "execution_count": 19,
   "id": "64c1d16b",
   "metadata": {
    "execution": {
     "iopub.execute_input": "2022-07-27T02:56:50.464062Z",
     "iopub.status.busy": "2022-07-27T02:56:50.463662Z",
     "iopub.status.idle": "2022-07-27T02:56:50.468773Z",
     "shell.execute_reply": "2022-07-27T02:56:50.467719Z"
    },
    "papermill": {
     "duration": 0.017158,
     "end_time": "2022-07-27T02:56:50.470947",
     "exception": false,
     "start_time": "2022-07-27T02:56:50.453789",
     "status": "completed"
    },
    "tags": []
   },
   "outputs": [],
   "source": [
    "X= df['content'].values\n",
    "Y = df['label'].values\n"
   ]
  },
  {
   "cell_type": "code",
   "execution_count": 20,
   "id": "16bc0111",
   "metadata": {
    "execution": {
     "iopub.execute_input": "2022-07-27T02:56:50.490345Z",
     "iopub.status.busy": "2022-07-27T02:56:50.489340Z",
     "iopub.status.idle": "2022-07-27T02:56:50.495371Z",
     "shell.execute_reply": "2022-07-27T02:56:50.494431Z"
    },
    "papermill": {
     "duration": 0.017787,
     "end_time": "2022-07-27T02:56:50.497494",
     "exception": false,
     "start_time": "2022-07-27T02:56:50.479707",
     "status": "completed"
    },
    "tags": []
   },
   "outputs": [
    {
     "data": {
      "text/plain": [
       "(20800,)"
      ]
     },
     "execution_count": 20,
     "metadata": {},
     "output_type": "execute_result"
    }
   ],
   "source": [
    "Y.shape"
   ]
  },
  {
   "cell_type": "markdown",
   "id": "07a028a6",
   "metadata": {
    "papermill": {
     "duration": 0.008384,
     "end_time": "2022-07-27T02:56:50.514618",
     "exception": false,
     "start_time": "2022-07-27T02:56:50.506234",
     "status": "completed"
    },
    "tags": []
   },
   "source": [
    "Convert textual data to numerical Data"
   ]
  },
  {
   "cell_type": "code",
   "execution_count": 21,
   "id": "2955c149",
   "metadata": {
    "execution": {
     "iopub.execute_input": "2022-07-27T02:56:50.534546Z",
     "iopub.status.busy": "2022-07-27T02:56:50.534119Z",
     "iopub.status.idle": "2022-07-27T02:56:51.226925Z",
     "shell.execute_reply": "2022-07-27T02:56:51.225808Z"
    },
    "papermill": {
     "duration": 0.705606,
     "end_time": "2022-07-27T02:56:51.229775",
     "exception": false,
     "start_time": "2022-07-27T02:56:50.524169",
     "status": "completed"
    },
    "tags": []
   },
   "outputs": [],
   "source": [
    "vectorizer = TfidfVectorizer()\n",
    "vectorizer.fit(X)\n",
    "X = vectorizer.transform(X)"
   ]
  },
  {
   "cell_type": "code",
   "execution_count": 22,
   "id": "6e8e6be6",
   "metadata": {
    "execution": {
     "iopub.execute_input": "2022-07-27T02:56:51.250154Z",
     "iopub.status.busy": "2022-07-27T02:56:51.249748Z",
     "iopub.status.idle": "2022-07-27T02:56:51.258843Z",
     "shell.execute_reply": "2022-07-27T02:56:51.257245Z"
    },
    "papermill": {
     "duration": 0.022309,
     "end_time": "2022-07-27T02:56:51.262018",
     "exception": false,
     "start_time": "2022-07-27T02:56:51.239709",
     "status": "completed"
    },
    "tags": []
   },
   "outputs": [
    {
     "name": "stdout",
     "output_type": "stream",
     "text": [
      "  (0, 15686)\t0.28485063562728646\n",
      "  (0, 13473)\t0.2565896679337957\n",
      "  (0, 8909)\t0.3635963806326075\n",
      "  (0, 8630)\t0.29212514087043684\n",
      "  (0, 7692)\t0.24785219520671603\n",
      "  (0, 7005)\t0.21874169089359144\n",
      "  (0, 4973)\t0.233316966909351\n",
      "  (0, 3792)\t0.2705332480845492\n",
      "  (0, 3600)\t0.3598939188262559\n",
      "  (0, 2959)\t0.2468450128533713\n",
      "  (0, 2483)\t0.3676519686797209\n",
      "  (0, 267)\t0.27010124977708766\n",
      "  (1, 16799)\t0.30071745655510157\n",
      "  (1, 6816)\t0.1904660198296849\n",
      "  (1, 5503)\t0.7143299355715573\n",
      "  (1, 3568)\t0.26373768806048464\n",
      "  (1, 2813)\t0.19094574062359204\n",
      "  (1, 2223)\t0.3827320386859759\n",
      "  (1, 1894)\t0.15521974226349364\n",
      "  (1, 1497)\t0.2939891562094648\n",
      "  (2, 15611)\t0.41544962664721613\n",
      "  (2, 9620)\t0.49351492943649944\n",
      "  (2, 5968)\t0.3474613386728292\n",
      "  (2, 5389)\t0.3866530551182615\n",
      "  (2, 3103)\t0.46097489583229645\n",
      "  :\t:\n",
      "  (20797, 13122)\t0.2482526352197606\n",
      "  (20797, 12344)\t0.27263457663336677\n",
      "  (20797, 12138)\t0.24778257724396507\n",
      "  (20797, 10306)\t0.08038079000566466\n",
      "  (20797, 9588)\t0.174553480255222\n",
      "  (20797, 9518)\t0.2954204003420313\n",
      "  (20797, 8988)\t0.36160868928090795\n",
      "  (20797, 8364)\t0.22322585870464118\n",
      "  (20797, 7042)\t0.21799048897828688\n",
      "  (20797, 3643)\t0.21155500613623743\n",
      "  (20797, 1287)\t0.33538056804139865\n",
      "  (20797, 699)\t0.30685846079762347\n",
      "  (20797, 43)\t0.29710241860700626\n",
      "  (20798, 13046)\t0.22363267488270608\n",
      "  (20798, 11052)\t0.4460515589182236\n",
      "  (20798, 10177)\t0.3192496370187028\n",
      "  (20798, 6889)\t0.32496285694299426\n",
      "  (20798, 5032)\t0.4083701450239529\n",
      "  (20798, 1125)\t0.4460515589182236\n",
      "  (20798, 588)\t0.3112141524638974\n",
      "  (20798, 350)\t0.28446937819072576\n",
      "  (20799, 14852)\t0.5677577267055112\n",
      "  (20799, 8036)\t0.45983893273780013\n",
      "  (20799, 3623)\t0.37927626273066584\n",
      "  (20799, 377)\t0.5677577267055112\n"
     ]
    }
   ],
   "source": [
    "print(X)"
   ]
  },
  {
   "cell_type": "code",
   "execution_count": 23,
   "id": "fea21b50",
   "metadata": {
    "execution": {
     "iopub.execute_input": "2022-07-27T02:56:51.282458Z",
     "iopub.status.busy": "2022-07-27T02:56:51.281333Z",
     "iopub.status.idle": "2022-07-27T02:56:51.286092Z",
     "shell.execute_reply": "2022-07-27T02:56:51.285277Z"
    },
    "papermill": {
     "duration": 0.01706,
     "end_time": "2022-07-27T02:56:51.288287",
     "exception": false,
     "start_time": "2022-07-27T02:56:51.271227",
     "status": "completed"
    },
    "tags": []
   },
   "outputs": [],
   "source": [
    "#split the dataset into training and text data"
   ]
  }
 ],
 "metadata": {
  "kernelspec": {
   "display_name": "Python 3",
   "language": "python",
   "name": "python3"
  },
  "language_info": {
   "codemirror_mode": {
    "name": "ipython",
    "version": 3
   },
   "file_extension": ".py",
   "mimetype": "text/x-python",
   "name": "python",
   "nbconvert_exporter": "python",
   "pygments_lexer": "ipython3",
   "version": "3.7.12"
  },
  "papermill": {
   "default_parameters": {},
   "duration": 62.224465,
   "end_time": "2022-07-27T02:56:52.119203",
   "environment_variables": {},
   "exception": null,
   "input_path": "__notebook__.ipynb",
   "output_path": "__notebook__.ipynb",
   "parameters": {},
   "start_time": "2022-07-27T02:55:49.894738",
   "version": "2.3.4"
  }
 },
 "nbformat": 4,
 "nbformat_minor": 5
}
