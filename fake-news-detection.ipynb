{
 "cells": [
  {
   "cell_type": "markdown",
   "id": "1eb423b5",
   "metadata": {
    "papermill": {
     "duration": 0.013031,
     "end_time": "2022-07-27T03:07:02.505003",
     "exception": false,
     "start_time": "2022-07-27T03:07:02.491972",
     "status": "completed"
    },
    "tags": []
   },
   "source": [
    "1. Gathering Data\n",
    "2. Data Preprocessing\n",
    "3. Split into train test\n",
    "4. As it is a binary classification problem use logisitic regression model\n"
   ]
  },
  {
   "cell_type": "code",
   "execution_count": 1,
   "id": "aec54594",
   "metadata": {
    "execution": {
     "iopub.execute_input": "2022-07-27T03:07:02.521153Z",
     "iopub.status.busy": "2022-07-27T03:07:02.520566Z",
     "iopub.status.idle": "2022-07-27T03:07:04.307381Z",
     "shell.execute_reply": "2022-07-27T03:07:04.305791Z"
    },
    "papermill": {
     "duration": 1.798142,
     "end_time": "2022-07-27T03:07:04.310498",
     "exception": false,
     "start_time": "2022-07-27T03:07:02.512356",
     "status": "completed"
    },
    "tags": []
   },
   "outputs": [],
   "source": [
    "import pandas as pd\n",
    "import numpy as np\n",
    "import re\n",
    "from nltk.corpus import stopwords\n",
    "from nltk.stem.porter import PorterStemmer\n",
    "from sklearn.feature_extraction.text import TfidfVectorizer\n",
    "from sklearn.linear_model import LogisticRegression\n",
    "from sklearn.model_selection import train_test_split\n",
    "from sklearn.metrics import accuracy_score\n"
   ]
  },
  {
   "cell_type": "code",
   "execution_count": 2,
   "id": "b15fe00d",
   "metadata": {
    "execution": {
     "iopub.execute_input": "2022-07-27T03:07:04.326688Z",
     "iopub.status.busy": "2022-07-27T03:07:04.325891Z",
     "iopub.status.idle": "2022-07-27T03:07:06.960187Z",
     "shell.execute_reply": "2022-07-27T03:07:06.958768Z"
    },
    "papermill": {
     "duration": 2.645023,
     "end_time": "2022-07-27T03:07:06.962667",
     "exception": false,
     "start_time": "2022-07-27T03:07:04.317644",
     "status": "completed"
    },
    "tags": []
   },
   "outputs": [],
   "source": [
    "df = pd.read_csv('../input/fakenews/train.csv')"
   ]
  },
  {
   "cell_type": "code",
   "execution_count": 3,
   "id": "6b34e43a",
   "metadata": {
    "execution": {
     "iopub.execute_input": "2022-07-27T03:07:06.978078Z",
     "iopub.status.busy": "2022-07-27T03:07:06.977472Z",
     "iopub.status.idle": "2022-07-27T03:07:07.004708Z",
     "shell.execute_reply": "2022-07-27T03:07:07.003608Z"
    },
    "papermill": {
     "duration": 0.037897,
     "end_time": "2022-07-27T03:07:07.007530",
     "exception": false,
     "start_time": "2022-07-27T03:07:06.969633",
     "status": "completed"
    },
    "tags": []
   },
   "outputs": [
    {
     "data": {
      "text/html": [
       "<div>\n",
       "<style scoped>\n",
       "    .dataframe tbody tr th:only-of-type {\n",
       "        vertical-align: middle;\n",
       "    }\n",
       "\n",
       "    .dataframe tbody tr th {\n",
       "        vertical-align: top;\n",
       "    }\n",
       "\n",
       "    .dataframe thead th {\n",
       "        text-align: right;\n",
       "    }\n",
       "</style>\n",
       "<table border=\"1\" class=\"dataframe\">\n",
       "  <thead>\n",
       "    <tr style=\"text-align: right;\">\n",
       "      <th></th>\n",
       "      <th>id</th>\n",
       "      <th>title</th>\n",
       "      <th>author</th>\n",
       "      <th>text</th>\n",
       "      <th>label</th>\n",
       "    </tr>\n",
       "  </thead>\n",
       "  <tbody>\n",
       "    <tr>\n",
       "      <th>0</th>\n",
       "      <td>0</td>\n",
       "      <td>House Dem Aide: We Didn’t Even See Comey’s Let...</td>\n",
       "      <td>Darrell Lucus</td>\n",
       "      <td>House Dem Aide: We Didn’t Even See Comey’s Let...</td>\n",
       "      <td>1</td>\n",
       "    </tr>\n",
       "    <tr>\n",
       "      <th>1</th>\n",
       "      <td>1</td>\n",
       "      <td>FLYNN: Hillary Clinton, Big Woman on Campus - ...</td>\n",
       "      <td>Daniel J. Flynn</td>\n",
       "      <td>Ever get the feeling your life circles the rou...</td>\n",
       "      <td>0</td>\n",
       "    </tr>\n",
       "    <tr>\n",
       "      <th>2</th>\n",
       "      <td>2</td>\n",
       "      <td>Why the Truth Might Get You Fired</td>\n",
       "      <td>Consortiumnews.com</td>\n",
       "      <td>Why the Truth Might Get You Fired October 29, ...</td>\n",
       "      <td>1</td>\n",
       "    </tr>\n",
       "    <tr>\n",
       "      <th>3</th>\n",
       "      <td>3</td>\n",
       "      <td>15 Civilians Killed In Single US Airstrike Hav...</td>\n",
       "      <td>Jessica Purkiss</td>\n",
       "      <td>Videos 15 Civilians Killed In Single US Airstr...</td>\n",
       "      <td>1</td>\n",
       "    </tr>\n",
       "    <tr>\n",
       "      <th>4</th>\n",
       "      <td>4</td>\n",
       "      <td>Iranian woman jailed for fictional unpublished...</td>\n",
       "      <td>Howard Portnoy</td>\n",
       "      <td>Print \\nAn Iranian woman has been sentenced to...</td>\n",
       "      <td>1</td>\n",
       "    </tr>\n",
       "    <tr>\n",
       "      <th>...</th>\n",
       "      <td>...</td>\n",
       "      <td>...</td>\n",
       "      <td>...</td>\n",
       "      <td>...</td>\n",
       "      <td>...</td>\n",
       "    </tr>\n",
       "    <tr>\n",
       "      <th>20795</th>\n",
       "      <td>20795</td>\n",
       "      <td>Rapper T.I.: Trump a ’Poster Child For White S...</td>\n",
       "      <td>Jerome Hudson</td>\n",
       "      <td>Rapper T. I. unloaded on black celebrities who...</td>\n",
       "      <td>0</td>\n",
       "    </tr>\n",
       "    <tr>\n",
       "      <th>20796</th>\n",
       "      <td>20796</td>\n",
       "      <td>N.F.L. Playoffs: Schedule, Matchups and Odds -...</td>\n",
       "      <td>Benjamin Hoffman</td>\n",
       "      <td>When the Green Bay Packers lost to the Washing...</td>\n",
       "      <td>0</td>\n",
       "    </tr>\n",
       "    <tr>\n",
       "      <th>20797</th>\n",
       "      <td>20797</td>\n",
       "      <td>Macy’s Is Said to Receive Takeover Approach by...</td>\n",
       "      <td>Michael J. de la Merced and Rachel Abrams</td>\n",
       "      <td>The Macy’s of today grew from the union of sev...</td>\n",
       "      <td>0</td>\n",
       "    </tr>\n",
       "    <tr>\n",
       "      <th>20798</th>\n",
       "      <td>20798</td>\n",
       "      <td>NATO, Russia To Hold Parallel Exercises In Bal...</td>\n",
       "      <td>Alex Ansary</td>\n",
       "      <td>NATO, Russia To Hold Parallel Exercises In Bal...</td>\n",
       "      <td>1</td>\n",
       "    </tr>\n",
       "    <tr>\n",
       "      <th>20799</th>\n",
       "      <td>20799</td>\n",
       "      <td>What Keeps the F-35 Alive</td>\n",
       "      <td>David Swanson</td>\n",
       "      <td>David Swanson is an author, activist, journa...</td>\n",
       "      <td>1</td>\n",
       "    </tr>\n",
       "  </tbody>\n",
       "</table>\n",
       "<p>20800 rows × 5 columns</p>\n",
       "</div>"
      ],
      "text/plain": [
       "          id                                              title  \\\n",
       "0          0  House Dem Aide: We Didn’t Even See Comey’s Let...   \n",
       "1          1  FLYNN: Hillary Clinton, Big Woman on Campus - ...   \n",
       "2          2                  Why the Truth Might Get You Fired   \n",
       "3          3  15 Civilians Killed In Single US Airstrike Hav...   \n",
       "4          4  Iranian woman jailed for fictional unpublished...   \n",
       "...      ...                                                ...   \n",
       "20795  20795  Rapper T.I.: Trump a ’Poster Child For White S...   \n",
       "20796  20796  N.F.L. Playoffs: Schedule, Matchups and Odds -...   \n",
       "20797  20797  Macy’s Is Said to Receive Takeover Approach by...   \n",
       "20798  20798  NATO, Russia To Hold Parallel Exercises In Bal...   \n",
       "20799  20799                          What Keeps the F-35 Alive   \n",
       "\n",
       "                                          author  \\\n",
       "0                                  Darrell Lucus   \n",
       "1                                Daniel J. Flynn   \n",
       "2                             Consortiumnews.com   \n",
       "3                                Jessica Purkiss   \n",
       "4                                 Howard Portnoy   \n",
       "...                                          ...   \n",
       "20795                              Jerome Hudson   \n",
       "20796                           Benjamin Hoffman   \n",
       "20797  Michael J. de la Merced and Rachel Abrams   \n",
       "20798                                Alex Ansary   \n",
       "20799                              David Swanson   \n",
       "\n",
       "                                                    text  label  \n",
       "0      House Dem Aide: We Didn’t Even See Comey’s Let...      1  \n",
       "1      Ever get the feeling your life circles the rou...      0  \n",
       "2      Why the Truth Might Get You Fired October 29, ...      1  \n",
       "3      Videos 15 Civilians Killed In Single US Airstr...      1  \n",
       "4      Print \\nAn Iranian woman has been sentenced to...      1  \n",
       "...                                                  ...    ...  \n",
       "20795  Rapper T. I. unloaded on black celebrities who...      0  \n",
       "20796  When the Green Bay Packers lost to the Washing...      0  \n",
       "20797  The Macy’s of today grew from the union of sev...      0  \n",
       "20798  NATO, Russia To Hold Parallel Exercises In Bal...      1  \n",
       "20799    David Swanson is an author, activist, journa...      1  \n",
       "\n",
       "[20800 rows x 5 columns]"
      ]
     },
     "execution_count": 3,
     "metadata": {},
     "output_type": "execute_result"
    }
   ],
   "source": [
    "df"
   ]
  },
  {
   "cell_type": "code",
   "execution_count": 4,
   "id": "43d7540c",
   "metadata": {
    "execution": {
     "iopub.execute_input": "2022-07-27T03:07:07.023763Z",
     "iopub.status.busy": "2022-07-27T03:07:07.022950Z",
     "iopub.status.idle": "2022-07-27T03:07:07.120806Z",
     "shell.execute_reply": "2022-07-27T03:07:07.119476Z"
    },
    "papermill": {
     "duration": 0.1085,
     "end_time": "2022-07-27T03:07:07.123138",
     "exception": false,
     "start_time": "2022-07-27T03:07:07.014638",
     "status": "completed"
    },
    "tags": []
   },
   "outputs": [
    {
     "name": "stderr",
     "output_type": "stream",
     "text": [
      "[nltk_data] Downloading package stopwords to /usr/share/nltk_data...\n",
      "[nltk_data]   Package stopwords is already up-to-date!\n"
     ]
    },
    {
     "data": {
      "text/plain": [
       "True"
      ]
     },
     "execution_count": 4,
     "metadata": {},
     "output_type": "execute_result"
    }
   ],
   "source": [
    "import nltk\n",
    "nltk.download('stopwords')"
   ]
  },
  {
   "cell_type": "code",
   "execution_count": 5,
   "id": "5286654f",
   "metadata": {
    "execution": {
     "iopub.execute_input": "2022-07-27T03:07:07.139791Z",
     "iopub.status.busy": "2022-07-27T03:07:07.139431Z",
     "iopub.status.idle": "2022-07-27T03:07:07.148574Z",
     "shell.execute_reply": "2022-07-27T03:07:07.147344Z"
    },
    "papermill": {
     "duration": 0.020713,
     "end_time": "2022-07-27T03:07:07.151074",
     "exception": false,
     "start_time": "2022-07-27T03:07:07.130361",
     "status": "completed"
    },
    "tags": []
   },
   "outputs": [
    {
     "name": "stdout",
     "output_type": "stream",
     "text": [
      "['i', 'me', 'my', 'myself', 'we', 'our', 'ours', 'ourselves', 'you', \"you're\", \"you've\", \"you'll\", \"you'd\", 'your', 'yours', 'yourself', 'yourselves', 'he', 'him', 'his', 'himself', 'she', \"she's\", 'her', 'hers', 'herself', 'it', \"it's\", 'its', 'itself', 'they', 'them', 'their', 'theirs', 'themselves', 'what', 'which', 'who', 'whom', 'this', 'that', \"that'll\", 'these', 'those', 'am', 'is', 'are', 'was', 'were', 'be', 'been', 'being', 'have', 'has', 'had', 'having', 'do', 'does', 'did', 'doing', 'a', 'an', 'the', 'and', 'but', 'if', 'or', 'because', 'as', 'until', 'while', 'of', 'at', 'by', 'for', 'with', 'about', 'against', 'between', 'into', 'through', 'during', 'before', 'after', 'above', 'below', 'to', 'from', 'up', 'down', 'in', 'out', 'on', 'off', 'over', 'under', 'again', 'further', 'then', 'once', 'here', 'there', 'when', 'where', 'why', 'how', 'all', 'any', 'both', 'each', 'few', 'more', 'most', 'other', 'some', 'such', 'no', 'nor', 'not', 'only', 'own', 'same', 'so', 'than', 'too', 'very', 's', 't', 'can', 'will', 'just', 'don', \"don't\", 'should', \"should've\", 'now', 'd', 'll', 'm', 'o', 're', 've', 'y', 'ain', 'aren', \"aren't\", 'couldn', \"couldn't\", 'didn', \"didn't\", 'doesn', \"doesn't\", 'hadn', \"hadn't\", 'hasn', \"hasn't\", 'haven', \"haven't\", 'isn', \"isn't\", 'ma', 'mightn', \"mightn't\", 'mustn', \"mustn't\", 'needn', \"needn't\", 'shan', \"shan't\", 'shouldn', \"shouldn't\", 'wasn', \"wasn't\", 'weren', \"weren't\", 'won', \"won't\", 'wouldn', \"wouldn't\"]\n"
     ]
    }
   ],
   "source": [
    "print(stopwords.words('english'))"
   ]
  },
  {
   "cell_type": "markdown",
   "id": "21715500",
   "metadata": {
    "papermill": {
     "duration": 0.007232,
     "end_time": "2022-07-27T03:07:07.165832",
     "exception": false,
     "start_time": "2022-07-27T03:07:07.158600",
     "status": "completed"
    },
    "tags": []
   },
   "source": [
    "During stemming remove these words"
   ]
  },
  {
   "cell_type": "code",
   "execution_count": 6,
   "id": "b952051d",
   "metadata": {
    "execution": {
     "iopub.execute_input": "2022-07-27T03:07:07.183117Z",
     "iopub.status.busy": "2022-07-27T03:07:07.182760Z",
     "iopub.status.idle": "2022-07-27T03:07:07.189711Z",
     "shell.execute_reply": "2022-07-27T03:07:07.188624Z"
    },
    "papermill": {
     "duration": 0.017678,
     "end_time": "2022-07-27T03:07:07.191884",
     "exception": false,
     "start_time": "2022-07-27T03:07:07.174206",
     "status": "completed"
    },
    "tags": []
   },
   "outputs": [
    {
     "data": {
      "text/plain": [
       "(20800, 5)"
      ]
     },
     "execution_count": 6,
     "metadata": {},
     "output_type": "execute_result"
    }
   ],
   "source": [
    "df.shape"
   ]
  },
  {
   "cell_type": "code",
   "execution_count": 7,
   "id": "09d97188",
   "metadata": {
    "execution": {
     "iopub.execute_input": "2022-07-27T03:07:07.208372Z",
     "iopub.status.busy": "2022-07-27T03:07:07.207953Z",
     "iopub.status.idle": "2022-07-27T03:07:07.221037Z",
     "shell.execute_reply": "2022-07-27T03:07:07.220290Z"
    },
    "papermill": {
     "duration": 0.0237,
     "end_time": "2022-07-27T03:07:07.222933",
     "exception": false,
     "start_time": "2022-07-27T03:07:07.199233",
     "status": "completed"
    },
    "tags": []
   },
   "outputs": [
    {
     "data": {
      "text/plain": [
       "1    10413\n",
       "0    10387\n",
       "Name: label, dtype: int64"
      ]
     },
     "execution_count": 7,
     "metadata": {},
     "output_type": "execute_result"
    }
   ],
   "source": [
    "df['label'].value_counts()"
   ]
  },
  {
   "cell_type": "code",
   "execution_count": 8,
   "id": "db99f228",
   "metadata": {
    "execution": {
     "iopub.execute_input": "2022-07-27T03:07:07.240754Z",
     "iopub.status.busy": "2022-07-27T03:07:07.239451Z",
     "iopub.status.idle": "2022-07-27T03:07:07.255014Z",
     "shell.execute_reply": "2022-07-27T03:07:07.253859Z"
    },
    "papermill": {
     "duration": 0.026544,
     "end_time": "2022-07-27T03:07:07.257220",
     "exception": false,
     "start_time": "2022-07-27T03:07:07.230676",
     "status": "completed"
    },
    "tags": []
   },
   "outputs": [
    {
     "data": {
      "text/plain": [
       "id           0\n",
       "title      558\n",
       "author    1957\n",
       "text        39\n",
       "label        0\n",
       "dtype: int64"
      ]
     },
     "execution_count": 8,
     "metadata": {},
     "output_type": "execute_result"
    }
   ],
   "source": [
    "#count number of missing values in the data set\n",
    "df.isnull().sum()"
   ]
  },
  {
   "cell_type": "code",
   "execution_count": 9,
   "id": "75c3363a",
   "metadata": {
    "execution": {
     "iopub.execute_input": "2022-07-27T03:07:07.275412Z",
     "iopub.status.busy": "2022-07-27T03:07:07.274305Z",
     "iopub.status.idle": "2022-07-27T03:07:07.287848Z",
     "shell.execute_reply": "2022-07-27T03:07:07.286732Z"
    },
    "papermill": {
     "duration": 0.025162,
     "end_time": "2022-07-27T03:07:07.290142",
     "exception": false,
     "start_time": "2022-07-27T03:07:07.264980",
     "status": "completed"
    },
    "tags": []
   },
   "outputs": [],
   "source": [
    "#drop the missing values as the data is large\n",
    "#replace the null values with empty string\n",
    "df = df.fillna('')"
   ]
  },
  {
   "cell_type": "code",
   "execution_count": 10,
   "id": "41ecb281",
   "metadata": {
    "execution": {
     "iopub.execute_input": "2022-07-27T03:07:07.307489Z",
     "iopub.status.busy": "2022-07-27T03:07:07.306783Z",
     "iopub.status.idle": "2022-07-27T03:07:07.322938Z",
     "shell.execute_reply": "2022-07-27T03:07:07.321952Z"
    },
    "papermill": {
     "duration": 0.027453,
     "end_time": "2022-07-27T03:07:07.325139",
     "exception": false,
     "start_time": "2022-07-27T03:07:07.297686",
     "status": "completed"
    },
    "tags": []
   },
   "outputs": [
    {
     "data": {
      "text/plain": [
       "id        0\n",
       "title     0\n",
       "author    0\n",
       "text      0\n",
       "label     0\n",
       "dtype: int64"
      ]
     },
     "execution_count": 10,
     "metadata": {},
     "output_type": "execute_result"
    }
   ],
   "source": [
    "df.isnull().sum()"
   ]
  },
  {
   "cell_type": "code",
   "execution_count": 11,
   "id": "bbf7af82",
   "metadata": {
    "execution": {
     "iopub.execute_input": "2022-07-27T03:07:07.343342Z",
     "iopub.status.busy": "2022-07-27T03:07:07.342574Z",
     "iopub.status.idle": "2022-07-27T03:07:07.358021Z",
     "shell.execute_reply": "2022-07-27T03:07:07.356881Z"
    },
    "papermill": {
     "duration": 0.027651,
     "end_time": "2022-07-27T03:07:07.360466",
     "exception": false,
     "start_time": "2022-07-27T03:07:07.332815",
     "status": "completed"
    },
    "tags": []
   },
   "outputs": [],
   "source": [
    "# merging the author name and news title\n",
    "df['content'] = df['author']+\" \"+ df['title']"
   ]
  },
  {
   "cell_type": "code",
   "execution_count": 12,
   "id": "79eb6982",
   "metadata": {
    "execution": {
     "iopub.execute_input": "2022-07-27T03:07:07.378122Z",
     "iopub.status.busy": "2022-07-27T03:07:07.377726Z",
     "iopub.status.idle": "2022-07-27T03:07:07.385965Z",
     "shell.execute_reply": "2022-07-27T03:07:07.384840Z"
    },
    "papermill": {
     "duration": 0.019764,
     "end_time": "2022-07-27T03:07:07.388193",
     "exception": false,
     "start_time": "2022-07-27T03:07:07.368429",
     "status": "completed"
    },
    "tags": []
   },
   "outputs": [
    {
     "data": {
      "text/plain": [
       "0    Darrell Lucus House Dem Aide: We Didn’t Even S...\n",
       "1    Daniel J. Flynn FLYNN: Hillary Clinton, Big Wo...\n",
       "2    Consortiumnews.com Why the Truth Might Get You...\n",
       "3    Jessica Purkiss 15 Civilians Killed In Single ...\n",
       "4    Howard Portnoy Iranian woman jailed for fictio...\n",
       "Name: content, dtype: object"
      ]
     },
     "execution_count": 12,
     "metadata": {},
     "output_type": "execute_result"
    }
   ],
   "source": [
    "df['content'].head()"
   ]
  },
  {
   "cell_type": "code",
   "execution_count": 13,
   "id": "6570e96e",
   "metadata": {
    "execution": {
     "iopub.execute_input": "2022-07-27T03:07:07.405864Z",
     "iopub.status.busy": "2022-07-27T03:07:07.405119Z",
     "iopub.status.idle": "2022-07-27T03:07:07.409906Z",
     "shell.execute_reply": "2022-07-27T03:07:07.408906Z"
    },
    "papermill": {
     "duration": 0.016371,
     "end_time": "2022-07-27T03:07:07.412172",
     "exception": false,
     "start_time": "2022-07-27T03:07:07.395801",
     "status": "completed"
    },
    "tags": []
   },
   "outputs": [],
   "source": [
    "#seperating the data and label\n",
    "# X=df.drop(columns='label',axis=1)\n",
    "# Y=df['label']\n",
    "# X_train,X_test,y_train,y_test=train_test_split(df.drop(columns='label',axis=1),df['label'],random_state=0,test_size=0.1)"
   ]
  },
  {
   "cell_type": "code",
   "execution_count": 14,
   "id": "f0297695",
   "metadata": {
    "execution": {
     "iopub.execute_input": "2022-07-27T03:07:07.430237Z",
     "iopub.status.busy": "2022-07-27T03:07:07.429480Z",
     "iopub.status.idle": "2022-07-27T03:07:07.434143Z",
     "shell.execute_reply": "2022-07-27T03:07:07.433332Z"
    },
    "papermill": {
     "duration": 0.016462,
     "end_time": "2022-07-27T03:07:07.436422",
     "exception": false,
     "start_time": "2022-07-27T03:07:07.419960",
     "status": "completed"
    },
    "tags": []
   },
   "outputs": [],
   "source": [
    "# X_train.shape"
   ]
  },
  {
   "cell_type": "code",
   "execution_count": 15,
   "id": "30cca5bc",
   "metadata": {
    "execution": {
     "iopub.execute_input": "2022-07-27T03:07:07.453926Z",
     "iopub.status.busy": "2022-07-27T03:07:07.453178Z",
     "iopub.status.idle": "2022-07-27T03:07:07.457990Z",
     "shell.execute_reply": "2022-07-27T03:07:07.457214Z"
    },
    "papermill": {
     "duration": 0.01598,
     "end_time": "2022-07-27T03:07:07.460040",
     "exception": false,
     "start_time": "2022-07-27T03:07:07.444060",
     "status": "completed"
    },
    "tags": []
   },
   "outputs": [],
   "source": [
    "#stemming process\n",
    "#that is reducing the word to its root words\n",
    "# then perform vectorisation on that\n",
    "porter_stem = PorterStemmer()"
   ]
  },
  {
   "cell_type": "code",
   "execution_count": 16,
   "id": "13d1b429",
   "metadata": {
    "execution": {
     "iopub.execute_input": "2022-07-27T03:07:07.477430Z",
     "iopub.status.busy": "2022-07-27T03:07:07.476686Z",
     "iopub.status.idle": "2022-07-27T03:07:07.483198Z",
     "shell.execute_reply": "2022-07-27T03:07:07.482057Z"
    },
    "papermill": {
     "duration": 0.01809,
     "end_time": "2022-07-27T03:07:07.485702",
     "exception": false,
     "start_time": "2022-07-27T03:07:07.467612",
     "status": "completed"
    },
    "tags": []
   },
   "outputs": [],
   "source": [
    "def stemming(content):\n",
    "    stemmed_content=re.sub('[^a-zA-Z]',' ',content)\n",
    "    stemmed_content = stemmed_content.lower()\n",
    "    stemmed_content = stemmed_content.split()\n",
    "    stemmed_content = [porter_stem.stem(word) for word in stemmed_content if not word in stopwords.words('english')]\n",
    "    stemmed_content = ' '.join(stemmed_content)\n",
    "    return stemmed_content"
   ]
  },
  {
   "cell_type": "code",
   "execution_count": 17,
   "id": "49bbbded",
   "metadata": {
    "execution": {
     "iopub.execute_input": "2022-07-27T03:07:07.503008Z",
     "iopub.status.busy": "2022-07-27T03:07:07.502620Z",
     "iopub.status.idle": "2022-07-27T03:07:46.029105Z",
     "shell.execute_reply": "2022-07-27T03:07:46.027645Z"
    },
    "papermill": {
     "duration": 38.538512,
     "end_time": "2022-07-27T03:07:46.032130",
     "exception": false,
     "start_time": "2022-07-27T03:07:07.493618",
     "status": "completed"
    },
    "tags": []
   },
   "outputs": [],
   "source": [
    "df['content']=df['content'].apply(stemming)"
   ]
  },
  {
   "cell_type": "code",
   "execution_count": 18,
   "id": "4abfa346",
   "metadata": {
    "execution": {
     "iopub.execute_input": "2022-07-27T03:07:46.050362Z",
     "iopub.status.busy": "2022-07-27T03:07:46.049983Z",
     "iopub.status.idle": "2022-07-27T03:07:46.059129Z",
     "shell.execute_reply": "2022-07-27T03:07:46.058109Z"
    },
    "papermill": {
     "duration": 0.02078,
     "end_time": "2022-07-27T03:07:46.061215",
     "exception": false,
     "start_time": "2022-07-27T03:07:46.040435",
     "status": "completed"
    },
    "tags": []
   },
   "outputs": [
    {
     "data": {
      "text/plain": [
       "0    darrel lucu hous dem aid even see comey letter...\n",
       "1    daniel j flynn flynn hillari clinton big woman...\n",
       "2               consortiumnew com truth might get fire\n",
       "3    jessica purkiss civilian kill singl us airstri...\n",
       "4    howard portnoy iranian woman jail fiction unpu...\n",
       "Name: content, dtype: object"
      ]
     },
     "execution_count": 18,
     "metadata": {},
     "output_type": "execute_result"
    }
   ],
   "source": [
    "df['content'].head()"
   ]
  },
  {
   "cell_type": "code",
   "execution_count": 19,
   "id": "2a26bbe4",
   "metadata": {
    "execution": {
     "iopub.execute_input": "2022-07-27T03:07:46.078867Z",
     "iopub.status.busy": "2022-07-27T03:07:46.078406Z",
     "iopub.status.idle": "2022-07-27T03:07:46.084012Z",
     "shell.execute_reply": "2022-07-27T03:07:46.082584Z"
    },
    "papermill": {
     "duration": 0.016982,
     "end_time": "2022-07-27T03:07:46.086301",
     "exception": false,
     "start_time": "2022-07-27T03:07:46.069319",
     "status": "completed"
    },
    "tags": []
   },
   "outputs": [],
   "source": [
    "X= df['content'].values\n",
    "Y = df['label'].values\n"
   ]
  },
  {
   "cell_type": "code",
   "execution_count": 20,
   "id": "a4783506",
   "metadata": {
    "execution": {
     "iopub.execute_input": "2022-07-27T03:07:46.104345Z",
     "iopub.status.busy": "2022-07-27T03:07:46.103976Z",
     "iopub.status.idle": "2022-07-27T03:07:46.111157Z",
     "shell.execute_reply": "2022-07-27T03:07:46.110070Z"
    },
    "papermill": {
     "duration": 0.018499,
     "end_time": "2022-07-27T03:07:46.113139",
     "exception": false,
     "start_time": "2022-07-27T03:07:46.094640",
     "status": "completed"
    },
    "tags": []
   },
   "outputs": [
    {
     "data": {
      "text/plain": [
       "(20800,)"
      ]
     },
     "execution_count": 20,
     "metadata": {},
     "output_type": "execute_result"
    }
   ],
   "source": [
    "Y.shape"
   ]
  },
  {
   "cell_type": "markdown",
   "id": "270bee7b",
   "metadata": {
    "papermill": {
     "duration": 0.007573,
     "end_time": "2022-07-27T03:07:46.128711",
     "exception": false,
     "start_time": "2022-07-27T03:07:46.121138",
     "status": "completed"
    },
    "tags": []
   },
   "source": [
    "Convert textual data to numerical Data"
   ]
  },
  {
   "cell_type": "code",
   "execution_count": 21,
   "id": "8b868511",
   "metadata": {
    "execution": {
     "iopub.execute_input": "2022-07-27T03:07:46.146883Z",
     "iopub.status.busy": "2022-07-27T03:07:46.146480Z",
     "iopub.status.idle": "2022-07-27T03:07:46.631770Z",
     "shell.execute_reply": "2022-07-27T03:07:46.630255Z"
    },
    "papermill": {
     "duration": 0.497827,
     "end_time": "2022-07-27T03:07:46.634570",
     "exception": false,
     "start_time": "2022-07-27T03:07:46.136743",
     "status": "completed"
    },
    "tags": []
   },
   "outputs": [],
   "source": [
    "vectorizer = TfidfVectorizer()\n",
    "vectorizer.fit(X)\n",
    "X = vectorizer.transform(X)"
   ]
  },
  {
   "cell_type": "code",
   "execution_count": 22,
   "id": "835f6229",
   "metadata": {
    "execution": {
     "iopub.execute_input": "2022-07-27T03:07:46.652317Z",
     "iopub.status.busy": "2022-07-27T03:07:46.651914Z",
     "iopub.status.idle": "2022-07-27T03:07:46.661352Z",
     "shell.execute_reply": "2022-07-27T03:07:46.659815Z"
    },
    "papermill": {
     "duration": 0.021228,
     "end_time": "2022-07-27T03:07:46.663795",
     "exception": false,
     "start_time": "2022-07-27T03:07:46.642567",
     "status": "completed"
    },
    "tags": []
   },
   "outputs": [
    {
     "name": "stdout",
     "output_type": "stream",
     "text": [
      "  (0, 15686)\t0.28485063562728646\n",
      "  (0, 13473)\t0.2565896679337957\n",
      "  (0, 8909)\t0.3635963806326075\n",
      "  (0, 8630)\t0.29212514087043684\n",
      "  (0, 7692)\t0.24785219520671603\n",
      "  (0, 7005)\t0.21874169089359144\n",
      "  (0, 4973)\t0.233316966909351\n",
      "  (0, 3792)\t0.2705332480845492\n",
      "  (0, 3600)\t0.3598939188262559\n",
      "  (0, 2959)\t0.2468450128533713\n",
      "  (0, 2483)\t0.3676519686797209\n",
      "  (0, 267)\t0.27010124977708766\n",
      "  (1, 16799)\t0.30071745655510157\n",
      "  (1, 6816)\t0.1904660198296849\n",
      "  (1, 5503)\t0.7143299355715573\n",
      "  (1, 3568)\t0.26373768806048464\n",
      "  (1, 2813)\t0.19094574062359204\n",
      "  (1, 2223)\t0.3827320386859759\n",
      "  (1, 1894)\t0.15521974226349364\n",
      "  (1, 1497)\t0.2939891562094648\n",
      "  (2, 15611)\t0.41544962664721613\n",
      "  (2, 9620)\t0.49351492943649944\n",
      "  (2, 5968)\t0.3474613386728292\n",
      "  (2, 5389)\t0.3866530551182615\n",
      "  (2, 3103)\t0.46097489583229645\n",
      "  :\t:\n",
      "  (20797, 13122)\t0.2482526352197606\n",
      "  (20797, 12344)\t0.27263457663336677\n",
      "  (20797, 12138)\t0.24778257724396507\n",
      "  (20797, 10306)\t0.08038079000566466\n",
      "  (20797, 9588)\t0.174553480255222\n",
      "  (20797, 9518)\t0.2954204003420313\n",
      "  (20797, 8988)\t0.36160868928090795\n",
      "  (20797, 8364)\t0.22322585870464118\n",
      "  (20797, 7042)\t0.21799048897828688\n",
      "  (20797, 3643)\t0.21155500613623743\n",
      "  (20797, 1287)\t0.33538056804139865\n",
      "  (20797, 699)\t0.30685846079762347\n",
      "  (20797, 43)\t0.29710241860700626\n",
      "  (20798, 13046)\t0.22363267488270608\n",
      "  (20798, 11052)\t0.4460515589182236\n",
      "  (20798, 10177)\t0.3192496370187028\n",
      "  (20798, 6889)\t0.32496285694299426\n",
      "  (20798, 5032)\t0.4083701450239529\n",
      "  (20798, 1125)\t0.4460515589182236\n",
      "  (20798, 588)\t0.3112141524638974\n",
      "  (20798, 350)\t0.28446937819072576\n",
      "  (20799, 14852)\t0.5677577267055112\n",
      "  (20799, 8036)\t0.45983893273780013\n",
      "  (20799, 3623)\t0.37927626273066584\n",
      "  (20799, 377)\t0.5677577267055112\n"
     ]
    }
   ],
   "source": [
    "print(X)"
   ]
  },
  {
   "cell_type": "code",
   "execution_count": 23,
   "id": "2b4fe89b",
   "metadata": {
    "execution": {
     "iopub.execute_input": "2022-07-27T03:07:46.682242Z",
     "iopub.status.busy": "2022-07-27T03:07:46.681795Z",
     "iopub.status.idle": "2022-07-27T03:07:46.699544Z",
     "shell.execute_reply": "2022-07-27T03:07:46.698612Z"
    },
    "papermill": {
     "duration": 0.029628,
     "end_time": "2022-07-27T03:07:46.701943",
     "exception": false,
     "start_time": "2022-07-27T03:07:46.672315",
     "status": "completed"
    },
    "tags": []
   },
   "outputs": [],
   "source": [
    "#split the dataset into training and text data\n",
    "X_train,X_test,y_train,y_test = train_test_split(X,Y,test_size=0.2, stratify = Y,random_state = 3)"
   ]
  },
  {
   "cell_type": "markdown",
   "id": "c71b254e",
   "metadata": {
    "papermill": {
     "duration": 0.008666,
     "end_time": "2022-07-27T03:07:46.718646",
     "exception": false,
     "start_time": "2022-07-27T03:07:46.709980",
     "status": "completed"
    },
    "tags": []
   },
   "source": [
    "Training the Logistic Regression Model\n"
   ]
  },
  {
   "cell_type": "code",
   "execution_count": 24,
   "id": "f40829bd",
   "metadata": {
    "execution": {
     "iopub.execute_input": "2022-07-27T03:07:46.737831Z",
     "iopub.status.busy": "2022-07-27T03:07:46.737162Z",
     "iopub.status.idle": "2022-07-27T03:07:46.742282Z",
     "shell.execute_reply": "2022-07-27T03:07:46.741353Z"
    },
    "papermill": {
     "duration": 0.017642,
     "end_time": "2022-07-27T03:07:46.744512",
     "exception": false,
     "start_time": "2022-07-27T03:07:46.726870",
     "status": "completed"
    },
    "tags": []
   },
   "outputs": [],
   "source": [
    "model = LogisticRegression()"
   ]
  },
  {
   "cell_type": "code",
   "execution_count": 25,
   "id": "4726e616",
   "metadata": {
    "execution": {
     "iopub.execute_input": "2022-07-27T03:07:46.763357Z",
     "iopub.status.busy": "2022-07-27T03:07:46.762723Z",
     "iopub.status.idle": "2022-07-27T03:07:47.174600Z",
     "shell.execute_reply": "2022-07-27T03:07:47.173090Z"
    },
    "papermill": {
     "duration": 0.424928,
     "end_time": "2022-07-27T03:07:47.177989",
     "exception": false,
     "start_time": "2022-07-27T03:07:46.753061",
     "status": "completed"
    },
    "tags": []
   },
   "outputs": [
    {
     "data": {
      "text/plain": [
       "LogisticRegression()"
      ]
     },
     "execution_count": 25,
     "metadata": {},
     "output_type": "execute_result"
    }
   ],
   "source": [
    "model.fit(X_train,y_train)"
   ]
  },
  {
   "cell_type": "markdown",
   "id": "e0c9fd52",
   "metadata": {
    "papermill": {
     "duration": 0.046137,
     "end_time": "2022-07-27T03:07:47.252057",
     "exception": false,
     "start_time": "2022-07-27T03:07:47.205920",
     "status": "completed"
    },
    "tags": []
   },
   "source": [
    "## Evaluation\n",
    "accuracy score"
   ]
  },
  {
   "cell_type": "code",
   "execution_count": 26,
   "id": "402227e6",
   "metadata": {
    "execution": {
     "iopub.execute_input": "2022-07-27T03:07:47.299154Z",
     "iopub.status.busy": "2022-07-27T03:07:47.298417Z",
     "iopub.status.idle": "2022-07-27T03:07:47.306729Z",
     "shell.execute_reply": "2022-07-27T03:07:47.305481Z"
    },
    "papermill": {
     "duration": 0.019576,
     "end_time": "2022-07-27T03:07:47.308992",
     "exception": false,
     "start_time": "2022-07-27T03:07:47.289416",
     "status": "completed"
    },
    "tags": []
   },
   "outputs": [],
   "source": [
    "X_train_prediction = model.predict(X_train)\n",
    "training_data_accuracy = accuracy_score(X_train_prediction, y_train)"
   ]
  },
  {
   "cell_type": "code",
   "execution_count": 27,
   "id": "22cb511f",
   "metadata": {
    "execution": {
     "iopub.execute_input": "2022-07-27T03:07:47.326995Z",
     "iopub.status.busy": "2022-07-27T03:07:47.326408Z",
     "iopub.status.idle": "2022-07-27T03:07:47.331085Z",
     "shell.execute_reply": "2022-07-27T03:07:47.330276Z"
    },
    "papermill": {
     "duration": 0.017366,
     "end_time": "2022-07-27T03:07:47.334511",
     "exception": false,
     "start_time": "2022-07-27T03:07:47.317145",
     "status": "completed"
    },
    "tags": []
   },
   "outputs": [
    {
     "name": "stdout",
     "output_type": "stream",
     "text": [
      "The Accuracy score of the training data is  0.9861778846153846\n"
     ]
    }
   ],
   "source": [
    "print('The Accuracy score of the training data is ',training_data_accuracy)"
   ]
  },
  {
   "cell_type": "markdown",
   "id": "54258433",
   "metadata": {
    "papermill": {
     "duration": 0.008017,
     "end_time": "2022-07-27T03:07:47.351448",
     "exception": false,
     "start_time": "2022-07-27T03:07:47.343431",
     "status": "completed"
    },
    "tags": []
   },
   "source": [
    "### Finding the accuracy score for the test data"
   ]
  },
  {
   "cell_type": "code",
   "execution_count": 28,
   "id": "43dee002",
   "metadata": {
    "execution": {
     "iopub.execute_input": "2022-07-27T03:07:47.370381Z",
     "iopub.status.busy": "2022-07-27T03:07:47.368959Z",
     "iopub.status.idle": "2022-07-27T03:07:47.376133Z",
     "shell.execute_reply": "2022-07-27T03:07:47.375197Z"
    },
    "papermill": {
     "duration": 0.018974,
     "end_time": "2022-07-27T03:07:47.378650",
     "exception": false,
     "start_time": "2022-07-27T03:07:47.359676",
     "status": "completed"
    },
    "tags": []
   },
   "outputs": [],
   "source": [
    "X_test_prediction = model.predict(X_test)\n",
    "testing_data_accuracy = accuracy_score(X_test_prediction,y_test)"
   ]
  },
  {
   "cell_type": "code",
   "execution_count": 29,
   "id": "cff1dcf7",
   "metadata": {
    "execution": {
     "iopub.execute_input": "2022-07-27T03:07:47.396945Z",
     "iopub.status.busy": "2022-07-27T03:07:47.396137Z",
     "iopub.status.idle": "2022-07-27T03:07:47.402872Z",
     "shell.execute_reply": "2022-07-27T03:07:47.401342Z"
    },
    "papermill": {
     "duration": 0.018755,
     "end_time": "2022-07-27T03:07:47.405663",
     "exception": false,
     "start_time": "2022-07-27T03:07:47.386908",
     "status": "completed"
    },
    "tags": []
   },
   "outputs": [
    {
     "name": "stdout",
     "output_type": "stream",
     "text": [
      "The Accuracy score of the test data is  0.9764423076923077\n"
     ]
    }
   ],
   "source": [
    " print('The Accuracy score of the test data is ',testing_data_accuracy)"
   ]
  },
  {
   "cell_type": "code",
   "execution_count": null,
   "id": "d8a97e16",
   "metadata": {
    "papermill": {
     "duration": 0.007881,
     "end_time": "2022-07-27T03:07:47.422257",
     "exception": false,
     "start_time": "2022-07-27T03:07:47.414376",
     "status": "completed"
    },
    "tags": []
   },
   "outputs": [],
   "source": []
  }
 ],
 "metadata": {
  "kernelspec": {
   "display_name": "Python 3",
   "language": "python",
   "name": "python3"
  },
  "language_info": {
   "codemirror_mode": {
    "name": "ipython",
    "version": 3
   },
   "file_extension": ".py",
   "mimetype": "text/x-python",
   "name": "python",
   "nbconvert_exporter": "python",
   "pygments_lexer": "ipython3",
   "version": "3.7.12"
  },
  "papermill": {
   "default_parameters": {},
   "duration": 55.187378,
   "end_time": "2022-07-27T03:07:48.253441",
   "environment_variables": {},
   "exception": null,
   "input_path": "__notebook__.ipynb",
   "output_path": "__notebook__.ipynb",
   "parameters": {},
   "start_time": "2022-07-27T03:06:53.066063",
   "version": "2.3.4"
  }
 },
 "nbformat": 4,
 "nbformat_minor": 5
}
