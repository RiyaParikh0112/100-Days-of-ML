{
 "cells": [
  {
   "cell_type": "code",
   "execution_count": 1,
   "id": "dd546dc4",
   "metadata": {
    "_cell_guid": "b1076dfc-b9ad-4769-8c92-a6c4dae69d19",
    "_uuid": "8f2839f25d086af736a60e9eeb907d3b93b6e0e5",
    "execution": {
     "iopub.execute_input": "2022-11-24T05:52:43.539070Z",
     "iopub.status.busy": "2022-11-24T05:52:43.538023Z",
     "iopub.status.idle": "2022-11-24T05:52:50.723340Z",
     "shell.execute_reply": "2022-11-24T05:52:50.722020Z"
    },
    "papermill": {
     "duration": 7.19838,
     "end_time": "2022-11-24T05:52:50.726471",
     "exception": false,
     "start_time": "2022-11-24T05:52:43.528091",
     "status": "completed"
    },
    "tags": []
   },
   "outputs": [],
   "source": [
    "import tensorflow\n",
    "from tensorflow import keras\n",
    "from tensorflow.keras import Sequential\n",
    "from tensorflow.keras.layers import Dense"
   ]
  },
  {
   "cell_type": "code",
   "execution_count": 2,
   "id": "f90e1520",
   "metadata": {
    "execution": {
     "iopub.execute_input": "2022-11-24T05:52:50.739051Z",
     "iopub.status.busy": "2022-11-24T05:52:50.738305Z",
     "iopub.status.idle": "2022-11-24T05:52:50.764898Z",
     "shell.execute_reply": "2022-11-24T05:52:50.763718Z"
    },
    "papermill": {
     "duration": 0.036311,
     "end_time": "2022-11-24T05:52:50.768125",
     "exception": false,
     "start_time": "2022-11-24T05:52:50.731814",
     "status": "completed"
    },
    "tags": []
   },
   "outputs": [],
   "source": [
    "import pandas as pd\n",
    "df = pd.read_csv('/kaggle/input/telecom-churn/telecom_churn.csv')"
   ]
  },
  {
   "cell_type": "code",
   "execution_count": 3,
   "id": "20c50c20",
   "metadata": {
    "execution": {
     "iopub.execute_input": "2022-11-24T05:52:50.780820Z",
     "iopub.status.busy": "2022-11-24T05:52:50.780351Z",
     "iopub.status.idle": "2022-11-24T05:52:50.806344Z",
     "shell.execute_reply": "2022-11-24T05:52:50.805199Z"
    },
    "papermill": {
     "duration": 0.035521,
     "end_time": "2022-11-24T05:52:50.809480",
     "exception": false,
     "start_time": "2022-11-24T05:52:50.773959",
     "status": "completed"
    },
    "tags": []
   },
   "outputs": [
    {
     "data": {
      "text/html": [
       "<div>\n",
       "<style scoped>\n",
       "    .dataframe tbody tr th:only-of-type {\n",
       "        vertical-align: middle;\n",
       "    }\n",
       "\n",
       "    .dataframe tbody tr th {\n",
       "        vertical-align: top;\n",
       "    }\n",
       "\n",
       "    .dataframe thead th {\n",
       "        text-align: right;\n",
       "    }\n",
       "</style>\n",
       "<table border=\"1\" class=\"dataframe\">\n",
       "  <thead>\n",
       "    <tr style=\"text-align: right;\">\n",
       "      <th></th>\n",
       "      <th>Churn</th>\n",
       "      <th>AccountWeeks</th>\n",
       "      <th>ContractRenewal</th>\n",
       "      <th>DataPlan</th>\n",
       "      <th>DataUsage</th>\n",
       "      <th>CustServCalls</th>\n",
       "      <th>DayMins</th>\n",
       "      <th>DayCalls</th>\n",
       "      <th>MonthlyCharge</th>\n",
       "      <th>OverageFee</th>\n",
       "      <th>RoamMins</th>\n",
       "    </tr>\n",
       "  </thead>\n",
       "  <tbody>\n",
       "    <tr>\n",
       "      <th>0</th>\n",
       "      <td>0</td>\n",
       "      <td>128</td>\n",
       "      <td>1</td>\n",
       "      <td>1</td>\n",
       "      <td>2.7</td>\n",
       "      <td>1</td>\n",
       "      <td>265.1</td>\n",
       "      <td>110</td>\n",
       "      <td>89.0</td>\n",
       "      <td>9.87</td>\n",
       "      <td>10.0</td>\n",
       "    </tr>\n",
       "    <tr>\n",
       "      <th>1</th>\n",
       "      <td>0</td>\n",
       "      <td>107</td>\n",
       "      <td>1</td>\n",
       "      <td>1</td>\n",
       "      <td>3.7</td>\n",
       "      <td>1</td>\n",
       "      <td>161.6</td>\n",
       "      <td>123</td>\n",
       "      <td>82.0</td>\n",
       "      <td>9.78</td>\n",
       "      <td>13.7</td>\n",
       "    </tr>\n",
       "    <tr>\n",
       "      <th>2</th>\n",
       "      <td>0</td>\n",
       "      <td>137</td>\n",
       "      <td>1</td>\n",
       "      <td>0</td>\n",
       "      <td>0.0</td>\n",
       "      <td>0</td>\n",
       "      <td>243.4</td>\n",
       "      <td>114</td>\n",
       "      <td>52.0</td>\n",
       "      <td>6.06</td>\n",
       "      <td>12.2</td>\n",
       "    </tr>\n",
       "    <tr>\n",
       "      <th>3</th>\n",
       "      <td>0</td>\n",
       "      <td>84</td>\n",
       "      <td>0</td>\n",
       "      <td>0</td>\n",
       "      <td>0.0</td>\n",
       "      <td>2</td>\n",
       "      <td>299.4</td>\n",
       "      <td>71</td>\n",
       "      <td>57.0</td>\n",
       "      <td>3.10</td>\n",
       "      <td>6.6</td>\n",
       "    </tr>\n",
       "    <tr>\n",
       "      <th>4</th>\n",
       "      <td>0</td>\n",
       "      <td>75</td>\n",
       "      <td>0</td>\n",
       "      <td>0</td>\n",
       "      <td>0.0</td>\n",
       "      <td>3</td>\n",
       "      <td>166.7</td>\n",
       "      <td>113</td>\n",
       "      <td>41.0</td>\n",
       "      <td>7.42</td>\n",
       "      <td>10.1</td>\n",
       "    </tr>\n",
       "  </tbody>\n",
       "</table>\n",
       "</div>"
      ],
      "text/plain": [
       "   Churn  AccountWeeks  ContractRenewal  DataPlan  DataUsage  CustServCalls  \\\n",
       "0      0           128                1         1        2.7              1   \n",
       "1      0           107                1         1        3.7              1   \n",
       "2      0           137                1         0        0.0              0   \n",
       "3      0            84                0         0        0.0              2   \n",
       "4      0            75                0         0        0.0              3   \n",
       "\n",
       "   DayMins  DayCalls  MonthlyCharge  OverageFee  RoamMins  \n",
       "0    265.1       110           89.0        9.87      10.0  \n",
       "1    161.6       123           82.0        9.78      13.7  \n",
       "2    243.4       114           52.0        6.06      12.2  \n",
       "3    299.4        71           57.0        3.10       6.6  \n",
       "4    166.7       113           41.0        7.42      10.1  "
      ]
     },
     "execution_count": 3,
     "metadata": {},
     "output_type": "execute_result"
    }
   ],
   "source": [
    "df.head()"
   ]
  },
  {
   "cell_type": "code",
   "execution_count": 4,
   "id": "aedae9bb",
   "metadata": {
    "execution": {
     "iopub.execute_input": "2022-11-24T05:52:50.822424Z",
     "iopub.status.busy": "2022-11-24T05:52:50.821980Z",
     "iopub.status.idle": "2022-11-24T05:52:50.836925Z",
     "shell.execute_reply": "2022-11-24T05:52:50.835683Z"
    },
    "papermill": {
     "duration": 0.024347,
     "end_time": "2022-11-24T05:52:50.839445",
     "exception": false,
     "start_time": "2022-11-24T05:52:50.815098",
     "status": "completed"
    },
    "tags": []
   },
   "outputs": [
    {
     "data": {
      "text/plain": [
       "0    2850\n",
       "1     483\n",
       "Name: Churn, dtype: int64"
      ]
     },
     "execution_count": 4,
     "metadata": {},
     "output_type": "execute_result"
    }
   ],
   "source": [
    "df['Churn'].value_counts()"
   ]
  },
  {
   "cell_type": "code",
   "execution_count": 5,
   "id": "3ca5d767",
   "metadata": {
    "execution": {
     "iopub.execute_input": "2022-11-24T05:52:50.851838Z",
     "iopub.status.busy": "2022-11-24T05:52:50.851416Z",
     "iopub.status.idle": "2022-11-24T05:52:50.860156Z",
     "shell.execute_reply": "2022-11-24T05:52:50.859177Z"
    },
    "papermill": {
     "duration": 0.01768,
     "end_time": "2022-11-24T05:52:50.862362",
     "exception": false,
     "start_time": "2022-11-24T05:52:50.844682",
     "status": "completed"
    },
    "tags": []
   },
   "outputs": [],
   "source": [
    "x= df.drop(columns =['Churn'])\n",
    "y= df['Churn']\n"
   ]
  },
  {
   "cell_type": "code",
   "execution_count": 6,
   "id": "1b27f574",
   "metadata": {
    "execution": {
     "iopub.execute_input": "2022-11-24T05:52:50.875301Z",
     "iopub.status.busy": "2022-11-24T05:52:50.874285Z",
     "iopub.status.idle": "2022-11-24T05:52:51.764829Z",
     "shell.execute_reply": "2022-11-24T05:52:51.763439Z"
    },
    "papermill": {
     "duration": 0.900034,
     "end_time": "2022-11-24T05:52:51.767718",
     "exception": false,
     "start_time": "2022-11-24T05:52:50.867684",
     "status": "completed"
    },
    "tags": []
   },
   "outputs": [],
   "source": [
    "from sklearn.model_selection import train_test_split\n",
    "x_train,x_test,y_train,y_test = train_test_split(x,y,test_size = 0.2, random_state=1)"
   ]
  },
  {
   "cell_type": "code",
   "execution_count": 7,
   "id": "68d8f87c",
   "metadata": {
    "execution": {
     "iopub.execute_input": "2022-11-24T05:52:51.782510Z",
     "iopub.status.busy": "2022-11-24T05:52:51.780777Z",
     "iopub.status.idle": "2022-11-24T05:52:51.788519Z",
     "shell.execute_reply": "2022-11-24T05:52:51.787654Z"
    },
    "papermill": {
     "duration": 0.017928,
     "end_time": "2022-11-24T05:52:51.791052",
     "exception": false,
     "start_time": "2022-11-24T05:52:51.773124",
     "status": "completed"
    },
    "tags": []
   },
   "outputs": [
    {
     "data": {
      "text/plain": [
       "(2666, 10)"
      ]
     },
     "execution_count": 7,
     "metadata": {},
     "output_type": "execute_result"
    }
   ],
   "source": [
    "x_train.shape"
   ]
  },
  {
   "cell_type": "code",
   "execution_count": 8,
   "id": "b1f91b3d",
   "metadata": {
    "execution": {
     "iopub.execute_input": "2022-11-24T05:52:51.804401Z",
     "iopub.status.busy": "2022-11-24T05:52:51.803289Z",
     "iopub.status.idle": "2022-11-24T05:52:51.815966Z",
     "shell.execute_reply": "2022-11-24T05:52:51.814723Z"
    },
    "papermill": {
     "duration": 0.022599,
     "end_time": "2022-11-24T05:52:51.819168",
     "exception": false,
     "start_time": "2022-11-24T05:52:51.796569",
     "status": "completed"
    },
    "tags": []
   },
   "outputs": [],
   "source": [
    "from sklearn.preprocessing import StandardScaler\n",
    "scaler = StandardScaler() #create an object of this class\n",
    "x_train_scaled = scaler.fit_transform(x_train)\n",
    "x_test_scaled = scaler.transform(x_test)\n"
   ]
  },
  {
   "cell_type": "code",
   "execution_count": 9,
   "id": "cbedbdfd",
   "metadata": {
    "execution": {
     "iopub.execute_input": "2022-11-24T05:52:51.832238Z",
     "iopub.status.busy": "2022-11-24T05:52:51.831782Z",
     "iopub.status.idle": "2022-11-24T05:52:51.957519Z",
     "shell.execute_reply": "2022-11-24T05:52:51.954221Z"
    },
    "papermill": {
     "duration": 0.135589,
     "end_time": "2022-11-24T05:52:51.960380",
     "exception": false,
     "start_time": "2022-11-24T05:52:51.824791",
     "status": "completed"
    },
    "tags": []
   },
   "outputs": [
    {
     "name": "stderr",
     "output_type": "stream",
     "text": [
      "2022-11-24 05:52:51.871525: I tensorflow/core/common_runtime/process_util.cc:146] Creating new thread pool with default inter op setting: 2. Tune using inter_op_parallelism_threads for best performance.\n"
     ]
    }
   ],
   "source": [
    "model = Sequential()\n",
    "model.add(Dense(3,activation = 'relu',input_dim = 10))\n",
    "model.add(Dense(1,activation = 'sigmoid'))#output layer"
   ]
  },
  {
   "cell_type": "code",
   "execution_count": 10,
   "id": "980a9abc",
   "metadata": {
    "execution": {
     "iopub.execute_input": "2022-11-24T05:52:51.973806Z",
     "iopub.status.busy": "2022-11-24T05:52:51.973323Z",
     "iopub.status.idle": "2022-11-24T05:52:51.980098Z",
     "shell.execute_reply": "2022-11-24T05:52:51.978731Z"
    },
    "papermill": {
     "duration": 0.016637,
     "end_time": "2022-11-24T05:52:51.983003",
     "exception": false,
     "start_time": "2022-11-24T05:52:51.966366",
     "status": "completed"
    },
    "tags": []
   },
   "outputs": [
    {
     "name": "stdout",
     "output_type": "stream",
     "text": [
      "Model: \"sequential\"\n",
      "_________________________________________________________________\n",
      "Layer (type)                 Output Shape              Param #   \n",
      "=================================================================\n",
      "dense (Dense)                (None, 3)                 33        \n",
      "_________________________________________________________________\n",
      "dense_1 (Dense)              (None, 1)                 4         \n",
      "=================================================================\n",
      "Total params: 37\n",
      "Trainable params: 37\n",
      "Non-trainable params: 0\n",
      "_________________________________________________________________\n"
     ]
    }
   ],
   "source": [
    "model.summary()"
   ]
  },
  {
   "cell_type": "code",
   "execution_count": 11,
   "id": "64e97358",
   "metadata": {
    "execution": {
     "iopub.execute_input": "2022-11-24T05:52:51.997720Z",
     "iopub.status.busy": "2022-11-24T05:52:51.997004Z",
     "iopub.status.idle": "2022-11-24T05:52:52.011487Z",
     "shell.execute_reply": "2022-11-24T05:52:52.009989Z"
    },
    "papermill": {
     "duration": 0.024469,
     "end_time": "2022-11-24T05:52:52.014172",
     "exception": false,
     "start_time": "2022-11-24T05:52:51.989703",
     "status": "completed"
    },
    "tags": []
   },
   "outputs": [],
   "source": [
    "model.compile(loss='binary_crossentropy',optimizer='Adam')"
   ]
  },
  {
   "cell_type": "code",
   "execution_count": 12,
   "id": "63be5765",
   "metadata": {
    "execution": {
     "iopub.execute_input": "2022-11-24T05:52:52.026943Z",
     "iopub.status.busy": "2022-11-24T05:52:52.026530Z",
     "iopub.status.idle": "2022-11-24T05:52:53.958009Z",
     "shell.execute_reply": "2022-11-24T05:52:53.956828Z"
    },
    "papermill": {
     "duration": 1.94091,
     "end_time": "2022-11-24T05:52:53.960678",
     "exception": false,
     "start_time": "2022-11-24T05:52:52.019768",
     "status": "completed"
    },
    "tags": []
   },
   "outputs": [
    {
     "name": "stderr",
     "output_type": "stream",
     "text": [
      "2022-11-24 05:52:52.120748: I tensorflow/compiler/mlir/mlir_graph_optimization_pass.cc:185] None of the MLIR Optimization Passes are enabled (registered 2)\n"
     ]
    },
    {
     "name": "stdout",
     "output_type": "stream",
     "text": [
      "Epoch 1/10\n",
      "84/84 [==============================] - 1s 1ms/step - loss: 0.6276\n",
      "Epoch 2/10\n",
      "84/84 [==============================] - 0s 1ms/step - loss: 0.5740\n",
      "Epoch 3/10\n",
      "84/84 [==============================] - 0s 1ms/step - loss: 0.5338\n",
      "Epoch 4/10\n",
      "84/84 [==============================] - 0s 1ms/step - loss: 0.4996\n",
      "Epoch 5/10\n",
      "84/84 [==============================] - 0s 1ms/step - loss: 0.4682\n",
      "Epoch 6/10\n",
      "84/84 [==============================] - 0s 1ms/step - loss: 0.4412\n",
      "Epoch 7/10\n",
      "84/84 [==============================] - 0s 1ms/step - loss: 0.4181\n",
      "Epoch 8/10\n",
      "84/84 [==============================] - 0s 1ms/step - loss: 0.3973\n",
      "Epoch 9/10\n",
      "84/84 [==============================] - 0s 1ms/step - loss: 0.3801\n",
      "Epoch 10/10\n",
      "84/84 [==============================] - 0s 1ms/step - loss: 0.3662\n"
     ]
    },
    {
     "data": {
      "text/plain": [
       "<keras.callbacks.History at 0x7f12157812d0>"
      ]
     },
     "execution_count": 12,
     "metadata": {},
     "output_type": "execute_result"
    }
   ],
   "source": [
    "model.fit(x_train_scaled,y_train,epochs =10)"
   ]
  },
  {
   "cell_type": "code",
   "execution_count": 13,
   "id": "a26e2c90",
   "metadata": {
    "execution": {
     "iopub.execute_input": "2022-11-24T05:52:53.979250Z",
     "iopub.status.busy": "2022-11-24T05:52:53.978867Z",
     "iopub.status.idle": "2022-11-24T05:52:53.986927Z",
     "shell.execute_reply": "2022-11-24T05:52:53.985778Z"
    },
    "papermill": {
     "duration": 0.020796,
     "end_time": "2022-11-24T05:52:53.989257",
     "exception": false,
     "start_time": "2022-11-24T05:52:53.968461",
     "status": "completed"
    },
    "tags": []
   },
   "outputs": [
    {
     "data": {
      "text/plain": [
       "[array([[-1.1049742],\n",
       "        [ 0.5890851],\n",
       "        [-0.7270711]], dtype=float32),\n",
       " array([-0.50181913], dtype=float32)]"
      ]
     },
     "execution_count": 13,
     "metadata": {},
     "output_type": "execute_result"
    }
   ],
   "source": [
    "model.layers[1].get_weights()"
   ]
  },
  {
   "cell_type": "code",
   "execution_count": 14,
   "id": "02ae6c4d",
   "metadata": {
    "execution": {
     "iopub.execute_input": "2022-11-24T05:52:54.008576Z",
     "iopub.status.busy": "2022-11-24T05:52:54.007948Z",
     "iopub.status.idle": "2022-11-24T05:52:54.157024Z",
     "shell.execute_reply": "2022-11-24T05:52:54.155966Z"
    },
    "papermill": {
     "duration": 0.161165,
     "end_time": "2022-11-24T05:52:54.159831",
     "exception": false,
     "start_time": "2022-11-24T05:52:53.998666",
     "status": "completed"
    },
    "tags": []
   },
   "outputs": [],
   "source": [
    "\n",
    "y_log = model.predict(x_test_scaled)\n"
   ]
  },
  {
   "cell_type": "code",
   "execution_count": 15,
   "id": "87c4c12b",
   "metadata": {
    "execution": {
     "iopub.execute_input": "2022-11-24T05:52:54.178465Z",
     "iopub.status.busy": "2022-11-24T05:52:54.177769Z",
     "iopub.status.idle": "2022-11-24T05:52:54.182416Z",
     "shell.execute_reply": "2022-11-24T05:52:54.181582Z"
    },
    "papermill": {
     "duration": 0.016801,
     "end_time": "2022-11-24T05:52:54.184794",
     "exception": false,
     "start_time": "2022-11-24T05:52:54.167993",
     "status": "completed"
    },
    "tags": []
   },
   "outputs": [],
   "source": [
    "import numpy as np\n",
    "y_pred = np.where(y_log>0.2,1,0)"
   ]
  },
  {
   "cell_type": "code",
   "execution_count": null,
   "id": "7ad541e6",
   "metadata": {
    "papermill": {
     "duration": 0.008049,
     "end_time": "2022-11-24T05:52:54.200903",
     "exception": false,
     "start_time": "2022-11-24T05:52:54.192854",
     "status": "completed"
    },
    "tags": []
   },
   "outputs": [],
   "source": []
  },
  {
   "cell_type": "code",
   "execution_count": 16,
   "id": "1c6a2289",
   "metadata": {
    "execution": {
     "iopub.execute_input": "2022-11-24T05:52:54.218790Z",
     "iopub.status.busy": "2022-11-24T05:52:54.218333Z",
     "iopub.status.idle": "2022-11-24T05:52:54.225759Z",
     "shell.execute_reply": "2022-11-24T05:52:54.224881Z"
    },
    "papermill": {
     "duration": 0.019102,
     "end_time": "2022-11-24T05:52:54.227871",
     "exception": false,
     "start_time": "2022-11-24T05:52:54.208769",
     "status": "completed"
    },
    "tags": []
   },
   "outputs": [
    {
     "data": {
      "text/plain": [
       "0.7061469265367316"
      ]
     },
     "execution_count": 16,
     "metadata": {},
     "output_type": "execute_result"
    }
   ],
   "source": [
    "from sklearn.metrics import accuracy_score\n",
    "accuracy_score(y_test,y_pred)"
   ]
  },
  {
   "cell_type": "code",
   "execution_count": null,
   "id": "0f8677f3",
   "metadata": {
    "papermill": {
     "duration": 0.007589,
     "end_time": "2022-11-24T05:52:54.243476",
     "exception": false,
     "start_time": "2022-11-24T05:52:54.235887",
     "status": "completed"
    },
    "tags": []
   },
   "outputs": [],
   "source": []
  }
 ],
 "metadata": {
  "kernelspec": {
   "display_name": "Python 3",
   "language": "python",
   "name": "python3"
  },
  "language_info": {
   "codemirror_mode": {
    "name": "ipython",
    "version": 3
   },
   "file_extension": ".py",
   "mimetype": "text/x-python",
   "name": "python",
   "nbconvert_exporter": "python",
   "pygments_lexer": "ipython3",
   "version": "3.7.12"
  },
  "papermill": {
   "default_parameters": {},
   "duration": 23.158781,
   "end_time": "2022-11-24T05:52:57.542554",
   "environment_variables": {},
   "exception": null,
   "input_path": "__notebook__.ipynb",
   "output_path": "__notebook__.ipynb",
   "parameters": {},
   "start_time": "2022-11-24T05:52:34.383773",
   "version": "2.3.4"
  }
 },
 "nbformat": 4,
 "nbformat_minor": 5
}
