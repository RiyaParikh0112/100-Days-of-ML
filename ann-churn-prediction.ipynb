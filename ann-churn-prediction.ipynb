{
 "cells": [
  {
   "cell_type": "code",
   "execution_count": 1,
   "id": "a296f37b",
   "metadata": {
    "_cell_guid": "b1076dfc-b9ad-4769-8c92-a6c4dae69d19",
    "_uuid": "8f2839f25d086af736a60e9eeb907d3b93b6e0e5",
    "execution": {
     "iopub.execute_input": "2022-11-25T05:23:30.407597Z",
     "iopub.status.busy": "2022-11-25T05:23:30.407096Z",
     "iopub.status.idle": "2022-11-25T05:23:37.195917Z",
     "shell.execute_reply": "2022-11-25T05:23:37.194602Z"
    },
    "papermill": {
     "duration": 6.800507,
     "end_time": "2022-11-25T05:23:37.199010",
     "exception": false,
     "start_time": "2022-11-25T05:23:30.398503",
     "status": "completed"
    },
    "tags": []
   },
   "outputs": [],
   "source": [
    "import tensorflow\n",
    "from tensorflow import keras\n",
    "from tensorflow.keras import Sequential\n",
    "from tensorflow.keras.layers import Dense"
   ]
  },
  {
   "cell_type": "code",
   "execution_count": 2,
   "id": "fa10813b",
   "metadata": {
    "execution": {
     "iopub.execute_input": "2022-11-25T05:23:37.212624Z",
     "iopub.status.busy": "2022-11-25T05:23:37.211296Z",
     "iopub.status.idle": "2022-11-25T05:23:37.243876Z",
     "shell.execute_reply": "2022-11-25T05:23:37.242793Z"
    },
    "papermill": {
     "duration": 0.042176,
     "end_time": "2022-11-25T05:23:37.246935",
     "exception": false,
     "start_time": "2022-11-25T05:23:37.204759",
     "status": "completed"
    },
    "tags": []
   },
   "outputs": [],
   "source": [
    "import pandas as pd\n",
    "df = pd.read_csv('/kaggle/input/telecom-churn/telecom_churn.csv')"
   ]
  },
  {
   "cell_type": "code",
   "execution_count": 3,
   "id": "fbd523be",
   "metadata": {
    "execution": {
     "iopub.execute_input": "2022-11-25T05:23:37.259090Z",
     "iopub.status.busy": "2022-11-25T05:23:37.258646Z",
     "iopub.status.idle": "2022-11-25T05:23:37.284694Z",
     "shell.execute_reply": "2022-11-25T05:23:37.283516Z"
    },
    "papermill": {
     "duration": 0.035968,
     "end_time": "2022-11-25T05:23:37.288138",
     "exception": false,
     "start_time": "2022-11-25T05:23:37.252170",
     "status": "completed"
    },
    "tags": []
   },
   "outputs": [
    {
     "data": {
      "text/html": [
       "<div>\n",
       "<style scoped>\n",
       "    .dataframe tbody tr th:only-of-type {\n",
       "        vertical-align: middle;\n",
       "    }\n",
       "\n",
       "    .dataframe tbody tr th {\n",
       "        vertical-align: top;\n",
       "    }\n",
       "\n",
       "    .dataframe thead th {\n",
       "        text-align: right;\n",
       "    }\n",
       "</style>\n",
       "<table border=\"1\" class=\"dataframe\">\n",
       "  <thead>\n",
       "    <tr style=\"text-align: right;\">\n",
       "      <th></th>\n",
       "      <th>Churn</th>\n",
       "      <th>AccountWeeks</th>\n",
       "      <th>ContractRenewal</th>\n",
       "      <th>DataPlan</th>\n",
       "      <th>DataUsage</th>\n",
       "      <th>CustServCalls</th>\n",
       "      <th>DayMins</th>\n",
       "      <th>DayCalls</th>\n",
       "      <th>MonthlyCharge</th>\n",
       "      <th>OverageFee</th>\n",
       "      <th>RoamMins</th>\n",
       "    </tr>\n",
       "  </thead>\n",
       "  <tbody>\n",
       "    <tr>\n",
       "      <th>0</th>\n",
       "      <td>0</td>\n",
       "      <td>128</td>\n",
       "      <td>1</td>\n",
       "      <td>1</td>\n",
       "      <td>2.7</td>\n",
       "      <td>1</td>\n",
       "      <td>265.1</td>\n",
       "      <td>110</td>\n",
       "      <td>89.0</td>\n",
       "      <td>9.87</td>\n",
       "      <td>10.0</td>\n",
       "    </tr>\n",
       "    <tr>\n",
       "      <th>1</th>\n",
       "      <td>0</td>\n",
       "      <td>107</td>\n",
       "      <td>1</td>\n",
       "      <td>1</td>\n",
       "      <td>3.7</td>\n",
       "      <td>1</td>\n",
       "      <td>161.6</td>\n",
       "      <td>123</td>\n",
       "      <td>82.0</td>\n",
       "      <td>9.78</td>\n",
       "      <td>13.7</td>\n",
       "    </tr>\n",
       "    <tr>\n",
       "      <th>2</th>\n",
       "      <td>0</td>\n",
       "      <td>137</td>\n",
       "      <td>1</td>\n",
       "      <td>0</td>\n",
       "      <td>0.0</td>\n",
       "      <td>0</td>\n",
       "      <td>243.4</td>\n",
       "      <td>114</td>\n",
       "      <td>52.0</td>\n",
       "      <td>6.06</td>\n",
       "      <td>12.2</td>\n",
       "    </tr>\n",
       "    <tr>\n",
       "      <th>3</th>\n",
       "      <td>0</td>\n",
       "      <td>84</td>\n",
       "      <td>0</td>\n",
       "      <td>0</td>\n",
       "      <td>0.0</td>\n",
       "      <td>2</td>\n",
       "      <td>299.4</td>\n",
       "      <td>71</td>\n",
       "      <td>57.0</td>\n",
       "      <td>3.10</td>\n",
       "      <td>6.6</td>\n",
       "    </tr>\n",
       "    <tr>\n",
       "      <th>4</th>\n",
       "      <td>0</td>\n",
       "      <td>75</td>\n",
       "      <td>0</td>\n",
       "      <td>0</td>\n",
       "      <td>0.0</td>\n",
       "      <td>3</td>\n",
       "      <td>166.7</td>\n",
       "      <td>113</td>\n",
       "      <td>41.0</td>\n",
       "      <td>7.42</td>\n",
       "      <td>10.1</td>\n",
       "    </tr>\n",
       "  </tbody>\n",
       "</table>\n",
       "</div>"
      ],
      "text/plain": [
       "   Churn  AccountWeeks  ContractRenewal  DataPlan  DataUsage  CustServCalls  \\\n",
       "0      0           128                1         1        2.7              1   \n",
       "1      0           107                1         1        3.7              1   \n",
       "2      0           137                1         0        0.0              0   \n",
       "3      0            84                0         0        0.0              2   \n",
       "4      0            75                0         0        0.0              3   \n",
       "\n",
       "   DayMins  DayCalls  MonthlyCharge  OverageFee  RoamMins  \n",
       "0    265.1       110           89.0        9.87      10.0  \n",
       "1    161.6       123           82.0        9.78      13.7  \n",
       "2    243.4       114           52.0        6.06      12.2  \n",
       "3    299.4        71           57.0        3.10       6.6  \n",
       "4    166.7       113           41.0        7.42      10.1  "
      ]
     },
     "execution_count": 3,
     "metadata": {},
     "output_type": "execute_result"
    }
   ],
   "source": [
    "df.head()"
   ]
  },
  {
   "cell_type": "code",
   "execution_count": 4,
   "id": "a7a5e319",
   "metadata": {
    "execution": {
     "iopub.execute_input": "2022-11-25T05:23:37.300331Z",
     "iopub.status.busy": "2022-11-25T05:23:37.299890Z",
     "iopub.status.idle": "2022-11-25T05:23:37.313916Z",
     "shell.execute_reply": "2022-11-25T05:23:37.312969Z"
    },
    "papermill": {
     "duration": 0.022665,
     "end_time": "2022-11-25T05:23:37.316062",
     "exception": false,
     "start_time": "2022-11-25T05:23:37.293397",
     "status": "completed"
    },
    "tags": []
   },
   "outputs": [
    {
     "data": {
      "text/plain": [
       "0    2850\n",
       "1     483\n",
       "Name: Churn, dtype: int64"
      ]
     },
     "execution_count": 4,
     "metadata": {},
     "output_type": "execute_result"
    }
   ],
   "source": [
    "df['Churn'].value_counts()"
   ]
  },
  {
   "cell_type": "code",
   "execution_count": 5,
   "id": "1d4d7b48",
   "metadata": {
    "execution": {
     "iopub.execute_input": "2022-11-25T05:23:37.329325Z",
     "iopub.status.busy": "2022-11-25T05:23:37.328112Z",
     "iopub.status.idle": "2022-11-25T05:23:37.337036Z",
     "shell.execute_reply": "2022-11-25T05:23:37.336184Z"
    },
    "papermill": {
     "duration": 0.017698,
     "end_time": "2022-11-25T05:23:37.339224",
     "exception": false,
     "start_time": "2022-11-25T05:23:37.321526",
     "status": "completed"
    },
    "tags": []
   },
   "outputs": [],
   "source": [
    "x= df.drop(columns =['Churn'])\n",
    "y= df['Churn']\n"
   ]
  },
  {
   "cell_type": "code",
   "execution_count": 6,
   "id": "5d7a9f3e",
   "metadata": {
    "execution": {
     "iopub.execute_input": "2022-11-25T05:23:37.352025Z",
     "iopub.status.busy": "2022-11-25T05:23:37.351335Z",
     "iopub.status.idle": "2022-11-25T05:23:38.289689Z",
     "shell.execute_reply": "2022-11-25T05:23:38.288707Z"
    },
    "papermill": {
     "duration": 0.947662,
     "end_time": "2022-11-25T05:23:38.292313",
     "exception": false,
     "start_time": "2022-11-25T05:23:37.344651",
     "status": "completed"
    },
    "tags": []
   },
   "outputs": [],
   "source": [
    "from sklearn.model_selection import train_test_split\n",
    "x_train,x_test,y_train,y_test = train_test_split(x,y,test_size = 0.2, random_state=1)"
   ]
  },
  {
   "cell_type": "code",
   "execution_count": 7,
   "id": "c6f751ff",
   "metadata": {
    "execution": {
     "iopub.execute_input": "2022-11-25T05:23:38.304966Z",
     "iopub.status.busy": "2022-11-25T05:23:38.304309Z",
     "iopub.status.idle": "2022-11-25T05:23:38.310369Z",
     "shell.execute_reply": "2022-11-25T05:23:38.309514Z"
    },
    "papermill": {
     "duration": 0.014886,
     "end_time": "2022-11-25T05:23:38.312476",
     "exception": false,
     "start_time": "2022-11-25T05:23:38.297590",
     "status": "completed"
    },
    "tags": []
   },
   "outputs": [
    {
     "data": {
      "text/plain": [
       "(2666, 10)"
      ]
     },
     "execution_count": 7,
     "metadata": {},
     "output_type": "execute_result"
    }
   ],
   "source": [
    "x_train.shape"
   ]
  },
  {
   "cell_type": "code",
   "execution_count": 8,
   "id": "826e7f68",
   "metadata": {
    "execution": {
     "iopub.execute_input": "2022-11-25T05:23:38.325664Z",
     "iopub.status.busy": "2022-11-25T05:23:38.325013Z",
     "iopub.status.idle": "2022-11-25T05:23:38.336619Z",
     "shell.execute_reply": "2022-11-25T05:23:38.335460Z"
    },
    "papermill": {
     "duration": 0.02113,
     "end_time": "2022-11-25T05:23:38.339079",
     "exception": false,
     "start_time": "2022-11-25T05:23:38.317949",
     "status": "completed"
    },
    "tags": []
   },
   "outputs": [],
   "source": [
    "from sklearn.preprocessing import StandardScaler\n",
    "scaler = StandardScaler() #create an object of this class\n",
    "x_train_scaled = scaler.fit_transform(x_train)\n",
    "x_test_scaled = scaler.transform(x_test)\n"
   ]
  },
  {
   "cell_type": "code",
   "execution_count": 9,
   "id": "ecfd501c",
   "metadata": {
    "execution": {
     "iopub.execute_input": "2022-11-25T05:23:38.352092Z",
     "iopub.status.busy": "2022-11-25T05:23:38.351439Z",
     "iopub.status.idle": "2022-11-25T05:23:38.476597Z",
     "shell.execute_reply": "2022-11-25T05:23:38.475110Z"
    },
    "papermill": {
     "duration": 0.135475,
     "end_time": "2022-11-25T05:23:38.480005",
     "exception": false,
     "start_time": "2022-11-25T05:23:38.344530",
     "status": "completed"
    },
    "tags": []
   },
   "outputs": [
    {
     "name": "stderr",
     "output_type": "stream",
     "text": [
      "2022-11-25 05:23:38.397350: I tensorflow/core/common_runtime/process_util.cc:146] Creating new thread pool with default inter op setting: 2. Tune using inter_op_parallelism_threads for best performance.\n"
     ]
    }
   ],
   "source": [
    "model = Sequential()\n",
    "model.add(Dense(3,activation = 'relu',input_dim = 10))\n",
    "model.add(Dense(1,activation = 'sigmoid'))#output layer"
   ]
  },
  {
   "cell_type": "code",
   "execution_count": 10,
   "id": "6ca467b2",
   "metadata": {
    "execution": {
     "iopub.execute_input": "2022-11-25T05:23:38.493788Z",
     "iopub.status.busy": "2022-11-25T05:23:38.493268Z",
     "iopub.status.idle": "2022-11-25T05:23:38.500641Z",
     "shell.execute_reply": "2022-11-25T05:23:38.498995Z"
    },
    "papermill": {
     "duration": 0.018457,
     "end_time": "2022-11-25T05:23:38.504331",
     "exception": false,
     "start_time": "2022-11-25T05:23:38.485874",
     "status": "completed"
    },
    "tags": []
   },
   "outputs": [
    {
     "name": "stdout",
     "output_type": "stream",
     "text": [
      "Model: \"sequential\"\n",
      "_________________________________________________________________\n",
      "Layer (type)                 Output Shape              Param #   \n",
      "=================================================================\n",
      "dense (Dense)                (None, 3)                 33        \n",
      "_________________________________________________________________\n",
      "dense_1 (Dense)              (None, 1)                 4         \n",
      "=================================================================\n",
      "Total params: 37\n",
      "Trainable params: 37\n",
      "Non-trainable params: 0\n",
      "_________________________________________________________________\n"
     ]
    }
   ],
   "source": [
    "model.summary()"
   ]
  },
  {
   "cell_type": "code",
   "execution_count": 11,
   "id": "7ccb3114",
   "metadata": {
    "execution": {
     "iopub.execute_input": "2022-11-25T05:23:38.519030Z",
     "iopub.status.busy": "2022-11-25T05:23:38.518118Z",
     "iopub.status.idle": "2022-11-25T05:23:38.532900Z",
     "shell.execute_reply": "2022-11-25T05:23:38.531726Z"
    },
    "papermill": {
     "duration": 0.025355,
     "end_time": "2022-11-25T05:23:38.536104",
     "exception": false,
     "start_time": "2022-11-25T05:23:38.510749",
     "status": "completed"
    },
    "tags": []
   },
   "outputs": [],
   "source": [
    "model.compile(loss='binary_crossentropy',optimizer='Adam')"
   ]
  },
  {
   "cell_type": "code",
   "execution_count": 12,
   "id": "66d19291",
   "metadata": {
    "execution": {
     "iopub.execute_input": "2022-11-25T05:23:38.550450Z",
     "iopub.status.busy": "2022-11-25T05:23:38.549325Z",
     "iopub.status.idle": "2022-11-25T05:23:40.416713Z",
     "shell.execute_reply": "2022-11-25T05:23:40.415386Z"
    },
    "papermill": {
     "duration": 1.876999,
     "end_time": "2022-11-25T05:23:40.419247",
     "exception": false,
     "start_time": "2022-11-25T05:23:38.542248",
     "status": "completed"
    },
    "tags": []
   },
   "outputs": [
    {
     "name": "stderr",
     "output_type": "stream",
     "text": [
      "2022-11-25 05:23:38.643080: I tensorflow/compiler/mlir/mlir_graph_optimization_pass.cc:185] None of the MLIR Optimization Passes are enabled (registered 2)\n"
     ]
    },
    {
     "name": "stdout",
     "output_type": "stream",
     "text": [
      "Epoch 1/10\n",
      "84/84 [==============================] - 1s 1ms/step - loss: 0.5548\n",
      "Epoch 2/10\n",
      "84/84 [==============================] - 0s 1ms/step - loss: 0.4899\n",
      "Epoch 3/10\n",
      "84/84 [==============================] - 0s 1ms/step - loss: 0.4369\n",
      "Epoch 4/10\n",
      "84/84 [==============================] - 0s 1ms/step - loss: 0.4000\n",
      "Epoch 5/10\n",
      "84/84 [==============================] - 0s 1ms/step - loss: 0.3764\n",
      "Epoch 6/10\n",
      "84/84 [==============================] - 0s 1ms/step - loss: 0.3624\n",
      "Epoch 7/10\n",
      "84/84 [==============================] - 0s 1ms/step - loss: 0.3532\n",
      "Epoch 8/10\n",
      "84/84 [==============================] - 0s 1ms/step - loss: 0.3470\n",
      "Epoch 9/10\n",
      "84/84 [==============================] - 0s 1ms/step - loss: 0.3424\n",
      "Epoch 10/10\n",
      "84/84 [==============================] - 0s 1ms/step - loss: 0.3386\n"
     ]
    },
    {
     "data": {
      "text/plain": [
       "<keras.callbacks.History at 0x7f582c0fd790>"
      ]
     },
     "execution_count": 12,
     "metadata": {},
     "output_type": "execute_result"
    }
   ],
   "source": [
    "model.fit(x_train_scaled,y_train,epochs =10)"
   ]
  },
  {
   "cell_type": "code",
   "execution_count": 13,
   "id": "ebd17422",
   "metadata": {
    "execution": {
     "iopub.execute_input": "2022-11-25T05:23:40.436485Z",
     "iopub.status.busy": "2022-11-25T05:23:40.436066Z",
     "iopub.status.idle": "2022-11-25T05:23:40.444887Z",
     "shell.execute_reply": "2022-11-25T05:23:40.443956Z"
    },
    "papermill": {
     "duration": 0.020078,
     "end_time": "2022-11-25T05:23:40.447129",
     "exception": false,
     "start_time": "2022-11-25T05:23:40.427051",
     "status": "completed"
    },
    "tags": []
   },
   "outputs": [
    {
     "data": {
      "text/plain": [
       "[array([[-0.5074089 ],\n",
       "        [-0.46129444],\n",
       "        [-1.3345416 ]], dtype=float32),\n",
       " array([-0.2472087], dtype=float32)]"
      ]
     },
     "execution_count": 13,
     "metadata": {},
     "output_type": "execute_result"
    }
   ],
   "source": [
    "model.layers[1].get_weights()"
   ]
  },
  {
   "cell_type": "code",
   "execution_count": 14,
   "id": "f95ef16c",
   "metadata": {
    "execution": {
     "iopub.execute_input": "2022-11-25T05:23:40.466908Z",
     "iopub.status.busy": "2022-11-25T05:23:40.465726Z",
     "iopub.status.idle": "2022-11-25T05:23:40.647184Z",
     "shell.execute_reply": "2022-11-25T05:23:40.646136Z"
    },
    "papermill": {
     "duration": 0.193802,
     "end_time": "2022-11-25T05:23:40.650011",
     "exception": false,
     "start_time": "2022-11-25T05:23:40.456209",
     "status": "completed"
    },
    "tags": []
   },
   "outputs": [],
   "source": [
    "\n",
    "y_log = model.predict(x_test_scaled)\n"
   ]
  },
  {
   "cell_type": "code",
   "execution_count": 15,
   "id": "afd82873",
   "metadata": {
    "execution": {
     "iopub.execute_input": "2022-11-25T05:23:40.668842Z",
     "iopub.status.busy": "2022-11-25T05:23:40.667656Z",
     "iopub.status.idle": "2022-11-25T05:23:40.673810Z",
     "shell.execute_reply": "2022-11-25T05:23:40.672713Z"
    },
    "papermill": {
     "duration": 0.018158,
     "end_time": "2022-11-25T05:23:40.676374",
     "exception": false,
     "start_time": "2022-11-25T05:23:40.658216",
     "status": "completed"
    },
    "tags": []
   },
   "outputs": [],
   "source": [
    "import numpy as np\n",
    "y_pred = np.where(y_log>0.2,1,0)"
   ]
  },
  {
   "cell_type": "code",
   "execution_count": null,
   "id": "ba300fd2",
   "metadata": {
    "papermill": {
     "duration": 0.007877,
     "end_time": "2022-11-25T05:23:40.692231",
     "exception": false,
     "start_time": "2022-11-25T05:23:40.684354",
     "status": "completed"
    },
    "tags": []
   },
   "outputs": [],
   "source": []
  },
  {
   "cell_type": "code",
   "execution_count": 16,
   "id": "62470848",
   "metadata": {
    "execution": {
     "iopub.execute_input": "2022-11-25T05:23:40.711370Z",
     "iopub.status.busy": "2022-11-25T05:23:40.709920Z",
     "iopub.status.idle": "2022-11-25T05:23:40.718669Z",
     "shell.execute_reply": "2022-11-25T05:23:40.717610Z"
    },
    "papermill": {
     "duration": 0.020765,
     "end_time": "2022-11-25T05:23:40.720891",
     "exception": false,
     "start_time": "2022-11-25T05:23:40.700126",
     "status": "completed"
    },
    "tags": []
   },
   "outputs": [
    {
     "data": {
      "text/plain": [
       "0.7886056971514243"
      ]
     },
     "execution_count": 16,
     "metadata": {},
     "output_type": "execute_result"
    }
   ],
   "source": [
    "from sklearn.metrics import accuracy_score\n",
    "accuracy_score(y_test,y_pred)"
   ]
  },
  {
   "cell_type": "code",
   "execution_count": null,
   "id": "98241947",
   "metadata": {
    "papermill": {
     "duration": 0.007784,
     "end_time": "2022-11-25T05:23:40.736813",
     "exception": false,
     "start_time": "2022-11-25T05:23:40.729029",
     "status": "completed"
    },
    "tags": []
   },
   "outputs": [],
   "source": []
  }
 ],
 "metadata": {
  "kernelspec": {
   "display_name": "Python 3",
   "language": "python",
   "name": "python3"
  },
  "language_info": {
   "codemirror_mode": {
    "name": "ipython",
    "version": 3
   },
   "file_extension": ".py",
   "mimetype": "text/x-python",
   "name": "python",
   "nbconvert_exporter": "python",
   "pygments_lexer": "ipython3",
   "version": "3.7.12"
  },
  "papermill": {
   "default_parameters": {},
   "duration": 24.114727,
   "end_time": "2022-11-25T05:23:44.104173",
   "environment_variables": {},
   "exception": null,
   "input_path": "__notebook__.ipynb",
   "output_path": "__notebook__.ipynb",
   "parameters": {},
   "start_time": "2022-11-25T05:23:19.989446",
   "version": "2.3.4"
  }
 },
 "nbformat": 4,
 "nbformat_minor": 5
}
