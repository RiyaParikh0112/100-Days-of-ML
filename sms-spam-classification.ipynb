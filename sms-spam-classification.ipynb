{
 "cells": [
  {
   "cell_type": "code",
   "execution_count": null,
   "id": "58843b26",
   "metadata": {
    "_cell_guid": "b1076dfc-b9ad-4769-8c92-a6c4dae69d19",
    "_uuid": "8f2839f25d086af736a60e9eeb907d3b93b6e0e5",
    "papermill": {
     "duration": 0.009551,
     "end_time": "2022-07-10T06:04:36.832542",
     "exception": false,
     "start_time": "2022-07-10T06:04:36.822991",
     "status": "completed"
    },
    "tags": []
   },
   "outputs": [],
   "source": []
  },
  {
   "cell_type": "code",
   "execution_count": 1,
   "id": "5f59584c",
   "metadata": {
    "execution": {
     "iopub.execute_input": "2022-07-10T06:04:36.852582Z",
     "iopub.status.busy": "2022-07-10T06:04:36.851261Z",
     "iopub.status.idle": "2022-07-10T06:04:36.866746Z",
     "shell.execute_reply": "2022-07-10T06:04:36.865925Z"
    },
    "papermill": {
     "duration": 0.028075,
     "end_time": "2022-07-10T06:04:36.869203",
     "exception": false,
     "start_time": "2022-07-10T06:04:36.841128",
     "status": "completed"
    },
    "tags": []
   },
   "outputs": [],
   "source": [
    "import pandas as pd\n",
    "import numpy as np"
   ]
  },
  {
   "cell_type": "code",
   "execution_count": 2,
   "id": "91b4f160",
   "metadata": {
    "execution": {
     "iopub.execute_input": "2022-07-10T06:04:36.888640Z",
     "iopub.status.busy": "2022-07-10T06:04:36.888124Z",
     "iopub.status.idle": "2022-07-10T06:04:36.924381Z",
     "shell.execute_reply": "2022-07-10T06:04:36.923561Z"
    },
    "papermill": {
     "duration": 0.049386,
     "end_time": "2022-07-10T06:04:36.927203",
     "exception": false,
     "start_time": "2022-07-10T06:04:36.877817",
     "status": "completed"
    },
    "tags": []
   },
   "outputs": [],
   "source": [
    "df = pd.read_csv('/kaggle/input/sms-spam-collection-dataset/spam.csv',encoding='latin-1')"
   ]
  },
  {
   "cell_type": "code",
   "execution_count": 3,
   "id": "fad50f1b",
   "metadata": {
    "execution": {
     "iopub.execute_input": "2022-07-10T06:04:36.946195Z",
     "iopub.status.busy": "2022-07-10T06:04:36.945439Z",
     "iopub.status.idle": "2022-07-10T06:04:36.973490Z",
     "shell.execute_reply": "2022-07-10T06:04:36.972590Z"
    },
    "papermill": {
     "duration": 0.040333,
     "end_time": "2022-07-10T06:04:36.975965",
     "exception": false,
     "start_time": "2022-07-10T06:04:36.935632",
     "status": "completed"
    },
    "tags": []
   },
   "outputs": [
    {
     "data": {
      "text/html": [
       "<div>\n",
       "<style scoped>\n",
       "    .dataframe tbody tr th:only-of-type {\n",
       "        vertical-align: middle;\n",
       "    }\n",
       "\n",
       "    .dataframe tbody tr th {\n",
       "        vertical-align: top;\n",
       "    }\n",
       "\n",
       "    .dataframe thead th {\n",
       "        text-align: right;\n",
       "    }\n",
       "</style>\n",
       "<table border=\"1\" class=\"dataframe\">\n",
       "  <thead>\n",
       "    <tr style=\"text-align: right;\">\n",
       "      <th></th>\n",
       "      <th>v1</th>\n",
       "      <th>v2</th>\n",
       "      <th>Unnamed: 2</th>\n",
       "      <th>Unnamed: 3</th>\n",
       "      <th>Unnamed: 4</th>\n",
       "    </tr>\n",
       "  </thead>\n",
       "  <tbody>\n",
       "    <tr>\n",
       "      <th>1366</th>\n",
       "      <td>ham</td>\n",
       "      <td>Bbq this sat at mine from 6ish. Ur welcome 2 come</td>\n",
       "      <td>NaN</td>\n",
       "      <td>NaN</td>\n",
       "      <td>NaN</td>\n",
       "    </tr>\n",
       "    <tr>\n",
       "      <th>5480</th>\n",
       "      <td>ham</td>\n",
       "      <td>Have you seen who's back at Holby?!</td>\n",
       "      <td>NaN</td>\n",
       "      <td>NaN</td>\n",
       "      <td>NaN</td>\n",
       "    </tr>\n",
       "    <tr>\n",
       "      <th>408</th>\n",
       "      <td>ham</td>\n",
       "      <td>Headin towards busetop</td>\n",
       "      <td>NaN</td>\n",
       "      <td>NaN</td>\n",
       "      <td>NaN</td>\n",
       "    </tr>\n",
       "    <tr>\n",
       "      <th>3253</th>\n",
       "      <td>ham</td>\n",
       "      <td>I can make lasagna for you... vodka...</td>\n",
       "      <td>NaN</td>\n",
       "      <td>NaN</td>\n",
       "      <td>NaN</td>\n",
       "    </tr>\n",
       "    <tr>\n",
       "      <th>4131</th>\n",
       "      <td>ham</td>\n",
       "      <td>Hi baby ive just got back from work and i was ...</td>\n",
       "      <td>NaN</td>\n",
       "      <td>NaN</td>\n",
       "      <td>NaN</td>\n",
       "    </tr>\n",
       "  </tbody>\n",
       "</table>\n",
       "</div>"
      ],
      "text/plain": [
       "       v1                                                 v2 Unnamed: 2  \\\n",
       "1366  ham  Bbq this sat at mine from 6ish. Ur welcome 2 come        NaN   \n",
       "5480  ham                Have you seen who's back at Holby?!        NaN   \n",
       "408   ham                             Headin towards busetop        NaN   \n",
       "3253  ham             I can make lasagna for you... vodka...        NaN   \n",
       "4131  ham  Hi baby ive just got back from work and i was ...        NaN   \n",
       "\n",
       "     Unnamed: 3 Unnamed: 4  \n",
       "1366        NaN        NaN  \n",
       "5480        NaN        NaN  \n",
       "408         NaN        NaN  \n",
       "3253        NaN        NaN  \n",
       "4131        NaN        NaN  "
      ]
     },
     "execution_count": 3,
     "metadata": {},
     "output_type": "execute_result"
    }
   ],
   "source": [
    "df.sample(5)"
   ]
  },
  {
   "cell_type": "code",
   "execution_count": 4,
   "id": "83eb2f11",
   "metadata": {
    "execution": {
     "iopub.execute_input": "2022-07-10T06:04:36.995447Z",
     "iopub.status.busy": "2022-07-10T06:04:36.994694Z",
     "iopub.status.idle": "2022-07-10T06:04:37.001917Z",
     "shell.execute_reply": "2022-07-10T06:04:37.000653Z"
    },
    "papermill": {
     "duration": 0.019641,
     "end_time": "2022-07-10T06:04:37.004270",
     "exception": false,
     "start_time": "2022-07-10T06:04:36.984629",
     "status": "completed"
    },
    "tags": []
   },
   "outputs": [
    {
     "data": {
      "text/plain": [
       "(5572, 5)"
      ]
     },
     "execution_count": 4,
     "metadata": {},
     "output_type": "execute_result"
    }
   ],
   "source": [
    "df.shape"
   ]
  },
  {
   "cell_type": "markdown",
   "id": "9ee92473",
   "metadata": {
    "papermill": {
     "duration": 0.009464,
     "end_time": "2022-07-10T06:04:37.023170",
     "exception": false,
     "start_time": "2022-07-10T06:04:37.013706",
     "status": "completed"
    },
    "tags": []
   },
   "source": [
    "**Now lets start working with the data and make some amazing conclusions**"
   ]
  },
  {
   "cell_type": "markdown",
   "id": "1c4bcf98",
   "metadata": {
    "execution": {
     "iopub.execute_input": "2022-07-10T04:35:58.217491Z",
     "iopub.status.busy": "2022-07-10T04:35:58.216357Z",
     "iopub.status.idle": "2022-07-10T04:35:58.221486Z",
     "shell.execute_reply": "2022-07-10T04:35:58.220739Z",
     "shell.execute_reply.started": "2022-07-10T04:35:58.217454Z"
    },
    "papermill": {
     "duration": 0.009075,
     "end_time": "2022-07-10T06:04:37.041350",
     "exception": false,
     "start_time": "2022-07-10T06:04:37.032275",
     "status": "completed"
    },
    "tags": []
   },
   "source": [
    "## 1. Data Cleaning\n",
    "## 2. EDA\n",
    "## 3. Data Preprocessing --vectorization,stemming,remove stop words\n",
    "## 4. Model Building\n",
    "## 5. Evaluate the model\n",
    "## 6. Improve the model\n",
    "## 7. Website\n",
    "## 8. Deployment on Heroku\n"
   ]
  },
  {
   "cell_type": "markdown",
   "id": "4d9cd407",
   "metadata": {
    "papermill": {
     "duration": 0.00852,
     "end_time": "2022-07-10T06:04:37.058649",
     "exception": false,
     "start_time": "2022-07-10T06:04:37.050129",
     "status": "completed"
    },
    "tags": []
   },
   "source": [
    "# *1. Data Cleaning*"
   ]
  },
  {
   "cell_type": "code",
   "execution_count": 5,
   "id": "3b776baf",
   "metadata": {
    "execution": {
     "iopub.execute_input": "2022-07-10T06:04:37.078294Z",
     "iopub.status.busy": "2022-07-10T06:04:37.077593Z",
     "iopub.status.idle": "2022-07-10T06:04:37.104177Z",
     "shell.execute_reply": "2022-07-10T06:04:37.103018Z"
    },
    "papermill": {
     "duration": 0.040064,
     "end_time": "2022-07-10T06:04:37.107406",
     "exception": false,
     "start_time": "2022-07-10T06:04:37.067342",
     "status": "completed"
    },
    "tags": []
   },
   "outputs": [
    {
     "name": "stdout",
     "output_type": "stream",
     "text": [
      "<class 'pandas.core.frame.DataFrame'>\n",
      "RangeIndex: 5572 entries, 0 to 5571\n",
      "Data columns (total 5 columns):\n",
      " #   Column      Non-Null Count  Dtype \n",
      "---  ------      --------------  ----- \n",
      " 0   v1          5572 non-null   object\n",
      " 1   v2          5572 non-null   object\n",
      " 2   Unnamed: 2  50 non-null     object\n",
      " 3   Unnamed: 3  12 non-null     object\n",
      " 4   Unnamed: 4  6 non-null      object\n",
      "dtypes: object(5)\n",
      "memory usage: 217.8+ KB\n"
     ]
    }
   ],
   "source": [
    "df.info()"
   ]
  },
  {
   "cell_type": "code",
   "execution_count": 6,
   "id": "f611df8b",
   "metadata": {
    "execution": {
     "iopub.execute_input": "2022-07-10T06:04:37.128933Z",
     "iopub.status.busy": "2022-07-10T06:04:37.128078Z",
     "iopub.status.idle": "2022-07-10T06:04:37.140822Z",
     "shell.execute_reply": "2022-07-10T06:04:37.139716Z"
    },
    "papermill": {
     "duration": 0.02527,
     "end_time": "2022-07-10T06:04:37.142994",
     "exception": false,
     "start_time": "2022-07-10T06:04:37.117724",
     "status": "completed"
    },
    "tags": []
   },
   "outputs": [
    {
     "data": {
      "text/html": [
       "<div>\n",
       "<style scoped>\n",
       "    .dataframe tbody tr th:only-of-type {\n",
       "        vertical-align: middle;\n",
       "    }\n",
       "\n",
       "    .dataframe tbody tr th {\n",
       "        vertical-align: top;\n",
       "    }\n",
       "\n",
       "    .dataframe thead th {\n",
       "        text-align: right;\n",
       "    }\n",
       "</style>\n",
       "<table border=\"1\" class=\"dataframe\">\n",
       "  <thead>\n",
       "    <tr style=\"text-align: right;\">\n",
       "      <th></th>\n",
       "      <th>v1</th>\n",
       "      <th>v2</th>\n",
       "    </tr>\n",
       "  </thead>\n",
       "  <tbody>\n",
       "    <tr>\n",
       "      <th>1973</th>\n",
       "      <td>ham</td>\n",
       "      <td>I had askd u a question some hours before. Its...</td>\n",
       "    </tr>\n",
       "    <tr>\n",
       "      <th>4299</th>\n",
       "      <td>ham</td>\n",
       "      <td>Erm... Woodland avenue somewhere. Do you get t...</td>\n",
       "    </tr>\n",
       "    <tr>\n",
       "      <th>5102</th>\n",
       "      <td>spam</td>\n",
       "      <td>This msg is for your mobile content order It h...</td>\n",
       "    </tr>\n",
       "    <tr>\n",
       "      <th>5559</th>\n",
       "      <td>ham</td>\n",
       "      <td>if you aren't here in the next  &amp;lt;#&amp;gt;  hou...</td>\n",
       "    </tr>\n",
       "    <tr>\n",
       "      <th>2847</th>\n",
       "      <td>ham</td>\n",
       "      <td>Sad story of a Man - Last week was my b'day. M...</td>\n",
       "    </tr>\n",
       "  </tbody>\n",
       "</table>\n",
       "</div>"
      ],
      "text/plain": [
       "        v1                                                 v2\n",
       "1973   ham  I had askd u a question some hours before. Its...\n",
       "4299   ham  Erm... Woodland avenue somewhere. Do you get t...\n",
       "5102  spam  This msg is for your mobile content order It h...\n",
       "5559   ham  if you aren't here in the next  &lt;#&gt;  hou...\n",
       "2847   ham  Sad story of a Man - Last week was my b'day. M..."
      ]
     },
     "execution_count": 6,
     "metadata": {},
     "output_type": "execute_result"
    }
   ],
   "source": [
    "# the above information shows that columns 2 3 4 have too much null values so it is good to drop it\n",
    "df.drop(columns=['Unnamed: 2','Unnamed: 3','Unnamed: 4'],inplace= True)\n",
    "#inplace= True because we permanently want to bring change in the original dataset\n",
    "df.sample(5)"
   ]
  },
  {
   "cell_type": "code",
   "execution_count": 7,
   "id": "1d436338",
   "metadata": {
    "execution": {
     "iopub.execute_input": "2022-07-10T06:04:37.163634Z",
     "iopub.status.busy": "2022-07-10T06:04:37.163015Z",
     "iopub.status.idle": "2022-07-10T06:04:37.168596Z",
     "shell.execute_reply": "2022-07-10T06:04:37.167741Z"
    },
    "papermill": {
     "duration": 0.018835,
     "end_time": "2022-07-10T06:04:37.170784",
     "exception": false,
     "start_time": "2022-07-10T06:04:37.151949",
     "status": "completed"
    },
    "tags": []
   },
   "outputs": [],
   "source": [
    "# as the column names are not to descriptive lets rename the names of the columns\n",
    "df.rename(columns={'v1':'message_type', 'v2':'message'},inplace=True)"
   ]
  },
  {
   "cell_type": "code",
   "execution_count": 8,
   "id": "1224065c",
   "metadata": {
    "execution": {
     "iopub.execute_input": "2022-07-10T06:04:37.190958Z",
     "iopub.status.busy": "2022-07-10T06:04:37.190317Z",
     "iopub.status.idle": "2022-07-10T06:04:37.200797Z",
     "shell.execute_reply": "2022-07-10T06:04:37.199733Z"
    },
    "papermill": {
     "duration": 0.023053,
     "end_time": "2022-07-10T06:04:37.202889",
     "exception": false,
     "start_time": "2022-07-10T06:04:37.179836",
     "status": "completed"
    },
    "tags": []
   },
   "outputs": [
    {
     "data": {
      "text/html": [
       "<div>\n",
       "<style scoped>\n",
       "    .dataframe tbody tr th:only-of-type {\n",
       "        vertical-align: middle;\n",
       "    }\n",
       "\n",
       "    .dataframe tbody tr th {\n",
       "        vertical-align: top;\n",
       "    }\n",
       "\n",
       "    .dataframe thead th {\n",
       "        text-align: right;\n",
       "    }\n",
       "</style>\n",
       "<table border=\"1\" class=\"dataframe\">\n",
       "  <thead>\n",
       "    <tr style=\"text-align: right;\">\n",
       "      <th></th>\n",
       "      <th>message_type</th>\n",
       "      <th>message</th>\n",
       "    </tr>\n",
       "  </thead>\n",
       "  <tbody>\n",
       "    <tr>\n",
       "      <th>679</th>\n",
       "      <td>ham</td>\n",
       "      <td>Missed your call cause I was yelling at scrapp...</td>\n",
       "    </tr>\n",
       "    <tr>\n",
       "      <th>1089</th>\n",
       "      <td>ham</td>\n",
       "      <td>Goodmorning today i am late for  &amp;lt;DECIMAL&amp;g...</td>\n",
       "    </tr>\n",
       "    <tr>\n",
       "      <th>1737</th>\n",
       "      <td>ham</td>\n",
       "      <td>I cant pick the phone right now. Pls send a me...</td>\n",
       "    </tr>\n",
       "    <tr>\n",
       "      <th>136</th>\n",
       "      <td>ham</td>\n",
       "      <td>He is there. You call and meet him</td>\n",
       "    </tr>\n",
       "    <tr>\n",
       "      <th>661</th>\n",
       "      <td>ham</td>\n",
       "      <td>Then mum's repent how?</td>\n",
       "    </tr>\n",
       "  </tbody>\n",
       "</table>\n",
       "</div>"
      ],
      "text/plain": [
       "     message_type                                            message\n",
       "679           ham  Missed your call cause I was yelling at scrapp...\n",
       "1089          ham  Goodmorning today i am late for  &lt;DECIMAL&g...\n",
       "1737          ham  I cant pick the phone right now. Pls send a me...\n",
       "136           ham                 He is there. You call and meet him\n",
       "661           ham                             Then mum's repent how?"
      ]
     },
     "execution_count": 8,
     "metadata": {},
     "output_type": "execute_result"
    }
   ],
   "source": [
    "df.sample(5)"
   ]
  },
  {
   "cell_type": "code",
   "execution_count": 9,
   "id": "f54b291c",
   "metadata": {
    "execution": {
     "iopub.execute_input": "2022-07-10T06:04:37.223175Z",
     "iopub.status.busy": "2022-07-10T06:04:37.222680Z",
     "iopub.status.idle": "2022-07-10T06:04:37.227585Z",
     "shell.execute_reply": "2022-07-10T06:04:37.226385Z"
    },
    "papermill": {
     "duration": 0.017661,
     "end_time": "2022-07-10T06:04:37.229760",
     "exception": false,
     "start_time": "2022-07-10T06:04:37.212099",
     "status": "completed"
    },
    "tags": []
   },
   "outputs": [],
   "source": [
    "# in the message type, they are classified as 'ham' and 'spam' but we want it as 1 and O so lets import Label Encoder"
   ]
  },
  {
   "cell_type": "code",
   "execution_count": 10,
   "id": "eaa58797",
   "metadata": {
    "execution": {
     "iopub.execute_input": "2022-07-10T06:04:37.250599Z",
     "iopub.status.busy": "2022-07-10T06:04:37.249944Z",
     "iopub.status.idle": "2022-07-10T06:04:38.449011Z",
     "shell.execute_reply": "2022-07-10T06:04:38.447736Z"
    },
    "papermill": {
     "duration": 1.212781,
     "end_time": "2022-07-10T06:04:38.451900",
     "exception": false,
     "start_time": "2022-07-10T06:04:37.239119",
     "status": "completed"
    },
    "tags": []
   },
   "outputs": [],
   "source": [
    "from sklearn.preprocessing import LabelEncoder\n",
    "encoder =LabelEncoder()"
   ]
  },
  {
   "cell_type": "code",
   "execution_count": 11,
   "id": "c218e197",
   "metadata": {
    "execution": {
     "iopub.execute_input": "2022-07-10T06:04:38.473817Z",
     "iopub.status.busy": "2022-07-10T06:04:38.473445Z",
     "iopub.status.idle": "2022-07-10T06:04:38.483988Z",
     "shell.execute_reply": "2022-07-10T06:04:38.482974Z"
    },
    "papermill": {
     "duration": 0.023188,
     "end_time": "2022-07-10T06:04:38.486088",
     "exception": false,
     "start_time": "2022-07-10T06:04:38.462900",
     "status": "completed"
    },
    "tags": []
   },
   "outputs": [
    {
     "data": {
      "text/plain": [
       "2142    0\n",
       "1864    0\n",
       "3916    0\n",
       "3713    0\n",
       "5498    0\n",
       "Name: message_type, dtype: int64"
      ]
     },
     "execution_count": 11,
     "metadata": {},
     "output_type": "execute_result"
    }
   ],
   "source": [
    "df['message_type']=encoder.fit_transform(df['message_type'])\n",
    "df['message_type'].sample(5)"
   ]
  },
  {
   "cell_type": "code",
   "execution_count": 12,
   "id": "74af43b1",
   "metadata": {
    "execution": {
     "iopub.execute_input": "2022-07-10T06:04:38.507122Z",
     "iopub.status.busy": "2022-07-10T06:04:38.506698Z",
     "iopub.status.idle": "2022-07-10T06:04:38.522928Z",
     "shell.execute_reply": "2022-07-10T06:04:38.521975Z"
    },
    "papermill": {
     "duration": 0.029369,
     "end_time": "2022-07-10T06:04:38.525113",
     "exception": false,
     "start_time": "2022-07-10T06:04:38.495744",
     "status": "completed"
    },
    "tags": []
   },
   "outputs": [
    {
     "data": {
      "text/html": [
       "<div>\n",
       "<style scoped>\n",
       "    .dataframe tbody tr th:only-of-type {\n",
       "        vertical-align: middle;\n",
       "    }\n",
       "\n",
       "    .dataframe tbody tr th {\n",
       "        vertical-align: top;\n",
       "    }\n",
       "\n",
       "    .dataframe thead th {\n",
       "        text-align: right;\n",
       "    }\n",
       "</style>\n",
       "<table border=\"1\" class=\"dataframe\">\n",
       "  <thead>\n",
       "    <tr style=\"text-align: right;\">\n",
       "      <th></th>\n",
       "      <th>message_type</th>\n",
       "      <th>message</th>\n",
       "    </tr>\n",
       "  </thead>\n",
       "  <tbody>\n",
       "    <tr>\n",
       "      <th>2</th>\n",
       "      <td>1</td>\n",
       "      <td>Free entry in 2 a wkly comp to win FA Cup fina...</td>\n",
       "    </tr>\n",
       "    <tr>\n",
       "      <th>5</th>\n",
       "      <td>1</td>\n",
       "      <td>FreeMsg Hey there darling it's been 3 week's n...</td>\n",
       "    </tr>\n",
       "    <tr>\n",
       "      <th>8</th>\n",
       "      <td>1</td>\n",
       "      <td>WINNER!! As a valued network customer you have...</td>\n",
       "    </tr>\n",
       "    <tr>\n",
       "      <th>9</th>\n",
       "      <td>1</td>\n",
       "      <td>Had your mobile 11 months or more? U R entitle...</td>\n",
       "    </tr>\n",
       "    <tr>\n",
       "      <th>11</th>\n",
       "      <td>1</td>\n",
       "      <td>SIX chances to win CASH! From 100 to 20,000 po...</td>\n",
       "    </tr>\n",
       "    <tr>\n",
       "      <th>...</th>\n",
       "      <td>...</td>\n",
       "      <td>...</td>\n",
       "    </tr>\n",
       "    <tr>\n",
       "      <th>5537</th>\n",
       "      <td>1</td>\n",
       "      <td>Want explicit SEX in 30 secs? Ring 02073162414...</td>\n",
       "    </tr>\n",
       "    <tr>\n",
       "      <th>5540</th>\n",
       "      <td>1</td>\n",
       "      <td>ASKED 3MOBILE IF 0870 CHATLINES INCLU IN FREE ...</td>\n",
       "    </tr>\n",
       "    <tr>\n",
       "      <th>5547</th>\n",
       "      <td>1</td>\n",
       "      <td>Had your contract mobile 11 Mnths? Latest Moto...</td>\n",
       "    </tr>\n",
       "    <tr>\n",
       "      <th>5566</th>\n",
       "      <td>1</td>\n",
       "      <td>REMINDER FROM O2: To get 2.50 pounds free call...</td>\n",
       "    </tr>\n",
       "    <tr>\n",
       "      <th>5567</th>\n",
       "      <td>1</td>\n",
       "      <td>This is the 2nd time we have tried 2 contact u...</td>\n",
       "    </tr>\n",
       "  </tbody>\n",
       "</table>\n",
       "<p>747 rows × 2 columns</p>\n",
       "</div>"
      ],
      "text/plain": [
       "      message_type                                            message\n",
       "2                1  Free entry in 2 a wkly comp to win FA Cup fina...\n",
       "5                1  FreeMsg Hey there darling it's been 3 week's n...\n",
       "8                1  WINNER!! As a valued network customer you have...\n",
       "9                1  Had your mobile 11 months or more? U R entitle...\n",
       "11               1  SIX chances to win CASH! From 100 to 20,000 po...\n",
       "...            ...                                                ...\n",
       "5537             1  Want explicit SEX in 30 secs? Ring 02073162414...\n",
       "5540             1  ASKED 3MOBILE IF 0870 CHATLINES INCLU IN FREE ...\n",
       "5547             1  Had your contract mobile 11 Mnths? Latest Moto...\n",
       "5566             1  REMINDER FROM O2: To get 2.50 pounds free call...\n",
       "5567             1  This is the 2nd time we have tried 2 contact u...\n",
       "\n",
       "[747 rows x 2 columns]"
      ]
     },
     "execution_count": 12,
     "metadata": {},
     "output_type": "execute_result"
    }
   ],
   "source": [
    "df[df['message_type']==1]\n",
    "# there are 747 spam messages in the dataset"
   ]
  },
  {
   "cell_type": "code",
   "execution_count": 13,
   "id": "f2cf4540",
   "metadata": {
    "execution": {
     "iopub.execute_input": "2022-07-10T06:04:38.546325Z",
     "iopub.status.busy": "2022-07-10T06:04:38.545638Z",
     "iopub.status.idle": "2022-07-10T06:04:38.554785Z",
     "shell.execute_reply": "2022-07-10T06:04:38.553955Z"
    },
    "papermill": {
     "duration": 0.02231,
     "end_time": "2022-07-10T06:04:38.557037",
     "exception": false,
     "start_time": "2022-07-10T06:04:38.534727",
     "status": "completed"
    },
    "tags": []
   },
   "outputs": [
    {
     "data": {
      "text/plain": [
       "message_type    0\n",
       "message         0\n",
       "dtype: int64"
      ]
     },
     "execution_count": 13,
     "metadata": {},
     "output_type": "execute_result"
    }
   ],
   "source": [
    "#now lets check the missing values\n",
    "df.isnull().sum()\n",
    "# there are no missing values"
   ]
  },
  {
   "cell_type": "code",
   "execution_count": 14,
   "id": "7a52ce58",
   "metadata": {
    "execution": {
     "iopub.execute_input": "2022-07-10T06:04:38.579473Z",
     "iopub.status.busy": "2022-07-10T06:04:38.578742Z",
     "iopub.status.idle": "2022-07-10T06:04:38.588695Z",
     "shell.execute_reply": "2022-07-10T06:04:38.587568Z"
    },
    "papermill": {
     "duration": 0.023812,
     "end_time": "2022-07-10T06:04:38.590986",
     "exception": false,
     "start_time": "2022-07-10T06:04:38.567174",
     "status": "completed"
    },
    "tags": []
   },
   "outputs": [
    {
     "data": {
      "text/plain": [
       "403"
      ]
     },
     "execution_count": 14,
     "metadata": {},
     "output_type": "execute_result"
    }
   ],
   "source": [
    "# now lets check for duplicated values\n",
    "df.duplicated().sum()\n"
   ]
  },
  {
   "cell_type": "markdown",
   "id": "f3280e47",
   "metadata": {
    "papermill": {
     "duration": 0.009946,
     "end_time": "2022-07-10T06:04:38.611235",
     "exception": false,
     "start_time": "2022-07-10T06:04:38.601289",
     "status": "completed"
    },
    "tags": []
   },
   "source": [
    "*There are 403 duplicate values so we simply have to remove those values* "
   ]
  },
  {
   "cell_type": "code",
   "execution_count": 15,
   "id": "7bf77d85",
   "metadata": {
    "execution": {
     "iopub.execute_input": "2022-07-10T06:04:38.633245Z",
     "iopub.status.busy": "2022-07-10T06:04:38.632494Z",
     "iopub.status.idle": "2022-07-10T06:04:38.640661Z",
     "shell.execute_reply": "2022-07-10T06:04:38.639856Z"
    },
    "papermill": {
     "duration": 0.021694,
     "end_time": "2022-07-10T06:04:38.643040",
     "exception": false,
     "start_time": "2022-07-10T06:04:38.621346",
     "status": "completed"
    },
    "tags": []
   },
   "outputs": [],
   "source": [
    "#remove the duplicates\n",
    "df= df.drop_duplicates()"
   ]
  },
  {
   "cell_type": "code",
   "execution_count": 16,
   "id": "1314cc61",
   "metadata": {
    "execution": {
     "iopub.execute_input": "2022-07-10T06:04:38.664702Z",
     "iopub.status.busy": "2022-07-10T06:04:38.664262Z",
     "iopub.status.idle": "2022-07-10T06:04:38.674036Z",
     "shell.execute_reply": "2022-07-10T06:04:38.672967Z"
    },
    "papermill": {
     "duration": 0.023359,
     "end_time": "2022-07-10T06:04:38.676349",
     "exception": false,
     "start_time": "2022-07-10T06:04:38.652990",
     "status": "completed"
    },
    "tags": []
   },
   "outputs": [
    {
     "data": {
      "text/plain": [
       "0"
      ]
     },
     "execution_count": 16,
     "metadata": {},
     "output_type": "execute_result"
    }
   ],
   "source": [
    "df.duplicated().sum()"
   ]
  },
  {
   "cell_type": "markdown",
   "id": "702c7e01",
   "metadata": {
    "papermill": {
     "duration": 0.01008,
     "end_time": "2022-07-10T06:04:38.696426",
     "exception": false,
     "start_time": "2022-07-10T06:04:38.686346",
     "status": "completed"
    },
    "tags": []
   },
   "source": [
    "# 2. Exploratory Data Analysis"
   ]
  },
  {
   "cell_type": "markdown",
   "id": "c2a0a478",
   "metadata": {
    "papermill": {
     "duration": 0.00967,
     "end_time": "2022-07-10T06:04:38.716120",
     "exception": false,
     "start_time": "2022-07-10T06:04:38.706450",
     "status": "completed"
    },
    "tags": []
   },
   "source": [
    "### *Lets visualize this classification problem to get a better understanding of the data*"
   ]
  },
  {
   "cell_type": "code",
   "execution_count": 17,
   "id": "479f4a77",
   "metadata": {
    "execution": {
     "iopub.execute_input": "2022-07-10T06:04:38.738328Z",
     "iopub.status.busy": "2022-07-10T06:04:38.737340Z",
     "iopub.status.idle": "2022-07-10T06:04:38.937319Z",
     "shell.execute_reply": "2022-07-10T06:04:38.936074Z"
    },
    "papermill": {
     "duration": 0.214256,
     "end_time": "2022-07-10T06:04:38.940257",
     "exception": false,
     "start_time": "2022-07-10T06:04:38.726001",
     "status": "completed"
    },
    "tags": []
   },
   "outputs": [],
   "source": [
    "import seaborn as sns\n",
    "import matplotlib.pyplot as plt\n"
   ]
  },
  {
   "cell_type": "code",
   "execution_count": 18,
   "id": "623ab6f6",
   "metadata": {
    "execution": {
     "iopub.execute_input": "2022-07-10T06:04:38.962205Z",
     "iopub.status.busy": "2022-07-10T06:04:38.961590Z",
     "iopub.status.idle": "2022-07-10T06:04:38.970996Z",
     "shell.execute_reply": "2022-07-10T06:04:38.969807Z"
    },
    "papermill": {
     "duration": 0.023443,
     "end_time": "2022-07-10T06:04:38.973779",
     "exception": false,
     "start_time": "2022-07-10T06:04:38.950336",
     "status": "completed"
    },
    "tags": []
   },
   "outputs": [
    {
     "data": {
      "text/plain": [
       "0    4516\n",
       "1     653\n",
       "Name: message_type, dtype: int64"
      ]
     },
     "execution_count": 18,
     "metadata": {},
     "output_type": "execute_result"
    }
   ],
   "source": [
    "df['message_type'].value_counts()"
   ]
  },
  {
   "cell_type": "code",
   "execution_count": 19,
   "id": "7b9460b3",
   "metadata": {
    "execution": {
     "iopub.execute_input": "2022-07-10T06:04:38.996130Z",
     "iopub.status.busy": "2022-07-10T06:04:38.995076Z",
     "iopub.status.idle": "2022-07-10T06:04:39.126035Z",
     "shell.execute_reply": "2022-07-10T06:04:39.124798Z"
    },
    "papermill": {
     "duration": 0.146174,
     "end_time": "2022-07-10T06:04:39.129955",
     "exception": false,
     "start_time": "2022-07-10T06:04:38.983781",
     "status": "completed"
    },
    "tags": []
   },
   "outputs": [
    {
     "data": {
      "image/png": "[encoded data removed]",
      "text/plain": [
       "<Figure size 432x288 with 1 Axes>"
      ]
     },
     "metadata": {},
     "output_type": "display_data"
    }
   ],
   "source": [
    "plt.pie(df['message_type'].value_counts(),labels=[' not spam','spam'],autopct='%0.2f')\n",
    "plt.show()"
   ]
  },
  {
   "cell_type": "markdown",
   "id": "c60dca24",
   "metadata": {
    "papermill": {
     "duration": 0.018787,
     "end_time": "2022-07-10T06:04:39.167892",
     "exception": false,
     "start_time": "2022-07-10T06:04:39.149105",
     "status": "completed"
    },
    "tags": []
   },
   "source": [
    "### there is imbalance in data"
   ]
  },
  {
   "cell_type": "code",
   "execution_count": 20,
   "id": "c6cfd7de",
   "metadata": {
    "execution": {
     "iopub.execute_input": "2022-07-10T06:04:39.209314Z",
     "iopub.status.busy": "2022-07-10T06:04:39.207849Z",
     "iopub.status.idle": "2022-07-10T06:04:39.216375Z",
     "shell.execute_reply": "2022-07-10T06:04:39.215574Z"
    },
    "papermill": {
     "duration": 0.030924,
     "end_time": "2022-07-10T06:04:39.218536",
     "exception": false,
     "start_time": "2022-07-10T06:04:39.187612",
     "status": "completed"
    },
    "tags": []
   },
   "outputs": [],
   "source": [
    "# no. of alphabets in the data\n",
    "# no. of sentences in the data\n",
    "# no. of words in the data"
   ]
  },
  {
   "cell_type": "markdown",
   "id": "25b392b3",
   "metadata": {
    "papermill": {
     "duration": 0.010084,
     "end_time": "2022-07-10T06:04:39.239110",
     "exception": false,
     "start_time": "2022-07-10T06:04:39.229026",
     "status": "completed"
    },
    "tags": []
   },
   "source": [
    "### *Now lets make 3 new columns in the data depicting the no. of characters,words and sentences*"
   ]
  },
  {
   "cell_type": "code",
   "execution_count": 21,
   "id": "357ade03",
   "metadata": {
    "execution": {
     "iopub.execute_input": "2022-07-10T06:04:39.262788Z",
     "iopub.status.busy": "2022-07-10T06:04:39.261399Z",
     "iopub.status.idle": "2022-07-10T06:04:39.936904Z",
     "shell.execute_reply": "2022-07-10T06:04:39.935585Z"
    },
    "papermill": {
     "duration": 0.690292,
     "end_time": "2022-07-10T06:04:39.939604",
     "exception": false,
     "start_time": "2022-07-10T06:04:39.249312",
     "status": "completed"
    },
    "tags": []
   },
   "outputs": [],
   "source": [
    "#natural language tool kit\n",
    "import nltk"
   ]
  },
  {
   "cell_type": "code",
   "execution_count": 22,
   "id": "b571cd48",
   "metadata": {
    "execution": {
     "iopub.execute_input": "2022-07-10T06:04:39.963212Z",
     "iopub.status.busy": "2022-07-10T06:04:39.962694Z",
     "iopub.status.idle": "2022-07-10T06:04:39.978890Z",
     "shell.execute_reply": "2022-07-10T06:04:39.977840Z"
    },
    "papermill": {
     "duration": 0.030592,
     "end_time": "2022-07-10T06:04:39.981416",
     "exception": false,
     "start_time": "2022-07-10T06:04:39.950824",
     "status": "completed"
    },
    "tags": []
   },
   "outputs": [
    {
     "data": {
      "text/html": [
       "<div>\n",
       "<style scoped>\n",
       "    .dataframe tbody tr th:only-of-type {\n",
       "        vertical-align: middle;\n",
       "    }\n",
       "\n",
       "    .dataframe tbody tr th {\n",
       "        vertical-align: top;\n",
       "    }\n",
       "\n",
       "    .dataframe thead th {\n",
       "        text-align: right;\n",
       "    }\n",
       "</style>\n",
       "<table border=\"1\" class=\"dataframe\">\n",
       "  <thead>\n",
       "    <tr style=\"text-align: right;\">\n",
       "      <th></th>\n",
       "      <th>message_type</th>\n",
       "      <th>message</th>\n",
       "      <th>num_characters</th>\n",
       "    </tr>\n",
       "  </thead>\n",
       "  <tbody>\n",
       "    <tr>\n",
       "      <th>0</th>\n",
       "      <td>0</td>\n",
       "      <td>Go until jurong point, crazy.. Available only ...</td>\n",
       "      <td>111</td>\n",
       "    </tr>\n",
       "    <tr>\n",
       "      <th>1</th>\n",
       "      <td>0</td>\n",
       "      <td>Ok lar... Joking wif u oni...</td>\n",
       "      <td>29</td>\n",
       "    </tr>\n",
       "    <tr>\n",
       "      <th>2</th>\n",
       "      <td>1</td>\n",
       "      <td>Free entry in 2 a wkly comp to win FA Cup fina...</td>\n",
       "      <td>155</td>\n",
       "    </tr>\n",
       "    <tr>\n",
       "      <th>3</th>\n",
       "      <td>0</td>\n",
       "      <td>U dun say so early hor... U c already then say...</td>\n",
       "      <td>49</td>\n",
       "    </tr>\n",
       "    <tr>\n",
       "      <th>4</th>\n",
       "      <td>0</td>\n",
       "      <td>Nah I don't think he goes to usf, he lives aro...</td>\n",
       "      <td>61</td>\n",
       "    </tr>\n",
       "  </tbody>\n",
       "</table>\n",
       "</div>"
      ],
      "text/plain": [
       "   message_type                                            message  \\\n",
       "0             0  Go until jurong point, crazy.. Available only ...   \n",
       "1             0                      Ok lar... Joking wif u oni...   \n",
       "2             1  Free entry in 2 a wkly comp to win FA Cup fina...   \n",
       "3             0  U dun say so early hor... U c already then say...   \n",
       "4             0  Nah I don't think he goes to usf, he lives aro...   \n",
       "\n",
       "   num_characters  \n",
       "0             111  \n",
       "1              29  \n",
       "2             155  \n",
       "3              49  \n",
       "4              61  "
      ]
     },
     "execution_count": 22,
     "metadata": {},
     "output_type": "execute_result"
    }
   ],
   "source": [
    "#find the number of alpha numeric characters in the messages column\n",
    "df['num_characters']=df['message'].apply(len)\n",
    "df.head()"
   ]
  },
  {
   "cell_type": "code",
   "execution_count": 23,
   "id": "78415c45",
   "metadata": {
    "execution": {
     "iopub.execute_input": "2022-07-10T06:04:40.005895Z",
     "iopub.status.busy": "2022-07-10T06:04:40.004739Z",
     "iopub.status.idle": "2022-07-10T06:04:41.675478Z",
     "shell.execute_reply": "2022-07-10T06:04:41.674179Z"
    },
    "papermill": {
     "duration": 1.685768,
     "end_time": "2022-07-10T06:04:41.678117",
     "exception": false,
     "start_time": "2022-07-10T06:04:39.992349",
     "status": "completed"
    },
    "tags": []
   },
   "outputs": [
    {
     "data": {
      "text/plain": [
       "0       [Go, until, jurong, point, ,, crazy.., Availab...\n",
       "1                [Ok, lar, ..., Joking, wif, u, oni, ...]\n",
       "2       [Free, entry, in, 2, a, wkly, comp, to, win, F...\n",
       "3       [U, dun, say, so, early, hor, ..., U, c, alrea...\n",
       "4       [Nah, I, do, n't, think, he, goes, to, usf, ,,...\n",
       "                              ...                        \n",
       "5567    [This, is, the, 2nd, time, we, have, tried, 2,...\n",
       "5568     [Will, Ì_, b, going, to, esplanade, fr, home, ?]\n",
       "5569    [Pity, ,, *, was, in, mood, for, that, ., So, ...\n",
       "5570    [The, guy, did, some, bitching, but, I, acted,...\n",
       "5571                  [Rofl, ., Its, true, to, its, name]\n",
       "Name: message, Length: 5169, dtype: object"
      ]
     },
     "execution_count": 23,
     "metadata": {},
     "output_type": "execute_result"
    }
   ],
   "source": [
    "#fetch number of words using NLTK\n",
    "from nltk.tokenize import word_tokenize\n",
    "df['message'].apply(lambda x: nltk.word_tokenize(x))"
   ]
  },
  {
   "cell_type": "code",
   "execution_count": null,
   "id": "c15bf8c2",
   "metadata": {
    "papermill": {
     "duration": 0.010623,
     "end_time": "2022-07-10T06:04:41.699783",
     "exception": false,
     "start_time": "2022-07-10T06:04:41.689160",
     "status": "completed"
    },
    "tags": []
   },
   "outputs": [],
   "source": []
  }
 ],
 "metadata": {
  "kernelspec": {
   "display_name": "Python 3",
   "language": "python",
   "name": "python3"
  },
  "language_info": {
   "codemirror_mode": {
    "name": "ipython",
    "version": 3
   },
   "file_extension": ".py",
   "mimetype": "text/x-python",
   "name": "python",
   "nbconvert_exporter": "python",
   "pygments_lexer": "ipython3",
   "version": "3.7.12"
  },
  "papermill": {
   "default_parameters": {},
   "duration": 16.273208,
   "end_time": "2022-07-10T06:04:42.532488",
   "environment_variables": {},
   "exception": null,
   "input_path": "__notebook__.ipynb",
   "output_path": "__notebook__.ipynb",
   "parameters": {},
   "start_time": "2022-07-10T06:04:26.259280",
   "version": "2.3.4"
  }
 },
 "nbformat": 4,
 "nbformat_minor": 5
}
