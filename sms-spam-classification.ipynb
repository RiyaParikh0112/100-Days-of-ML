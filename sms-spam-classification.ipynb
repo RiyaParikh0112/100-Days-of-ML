{
 "cells": [
  {
   "cell_type": "code",
   "execution_count": null,
   "id": "962d7683",
   "metadata": {
    "_cell_guid": "b1076dfc-b9ad-4769-8c92-a6c4dae69d19",
    "_uuid": "8f2839f25d086af736a60e9eeb907d3b93b6e0e5",
    "papermill": {
     "duration": 0.012309,
     "end_time": "2022-07-10T07:04:08.537498",
     "exception": false,
     "start_time": "2022-07-10T07:04:08.525189",
     "status": "completed"
    },
    "tags": []
   },
   "outputs": [],
   "source": []
  },
  {
   "cell_type": "code",
   "execution_count": 1,
   "id": "e945af5c",
   "metadata": {
    "execution": {
     "iopub.execute_input": "2022-07-10T07:04:08.561872Z",
     "iopub.status.busy": "2022-07-10T07:04:08.560918Z",
     "iopub.status.idle": "2022-07-10T07:04:08.575632Z",
     "shell.execute_reply": "2022-07-10T07:04:08.574399Z"
    },
    "papermill": {
     "duration": 0.029975,
     "end_time": "2022-07-10T07:04:08.578439",
     "exception": false,
     "start_time": "2022-07-10T07:04:08.548464",
     "status": "completed"
    },
    "tags": []
   },
   "outputs": [],
   "source": [
    "import pandas as pd\n",
    "import numpy as np"
   ]
  },
  {
   "cell_type": "code",
   "execution_count": 2,
   "id": "cab669a8",
   "metadata": {
    "execution": {
     "iopub.execute_input": "2022-07-10T07:04:08.602418Z",
     "iopub.status.busy": "2022-07-10T07:04:08.602054Z",
     "iopub.status.idle": "2022-07-10T07:04:08.643800Z",
     "shell.execute_reply": "2022-07-10T07:04:08.642476Z"
    },
    "papermill": {
     "duration": 0.057062,
     "end_time": "2022-07-10T07:04:08.646717",
     "exception": false,
     "start_time": "2022-07-10T07:04:08.589655",
     "status": "completed"
    },
    "tags": []
   },
   "outputs": [],
   "source": [
    "df = pd.read_csv('/kaggle/input/sms-spam-collection-dataset/spam.csv',encoding='latin-1')"
   ]
  },
  {
   "cell_type": "code",
   "execution_count": 3,
   "id": "349cd6b3",
   "metadata": {
    "execution": {
     "iopub.execute_input": "2022-07-10T07:04:08.673142Z",
     "iopub.status.busy": "2022-07-10T07:04:08.672338Z",
     "iopub.status.idle": "2022-07-10T07:04:08.698554Z",
     "shell.execute_reply": "2022-07-10T07:04:08.697375Z"
    },
    "papermill": {
     "duration": 0.042898,
     "end_time": "2022-07-10T07:04:08.701989",
     "exception": false,
     "start_time": "2022-07-10T07:04:08.659091",
     "status": "completed"
    },
    "tags": []
   },
   "outputs": [
    {
     "data": {
      "text/html": [
       "<div>\n",
       "<style scoped>\n",
       "    .dataframe tbody tr th:only-of-type {\n",
       "        vertical-align: middle;\n",
       "    }\n",
       "\n",
       "    .dataframe tbody tr th {\n",
       "        vertical-align: top;\n",
       "    }\n",
       "\n",
       "    .dataframe thead th {\n",
       "        text-align: right;\n",
       "    }\n",
       "</style>\n",
       "<table border=\"1\" class=\"dataframe\">\n",
       "  <thead>\n",
       "    <tr style=\"text-align: right;\">\n",
       "      <th></th>\n",
       "      <th>v1</th>\n",
       "      <th>v2</th>\n",
       "      <th>Unnamed: 2</th>\n",
       "      <th>Unnamed: 3</th>\n",
       "      <th>Unnamed: 4</th>\n",
       "    </tr>\n",
       "  </thead>\n",
       "  <tbody>\n",
       "    <tr>\n",
       "      <th>665</th>\n",
       "      <td>ham</td>\n",
       "      <td>En chikku nange bakra msg kalstiya..then had t...</td>\n",
       "      <td>NaN</td>\n",
       "      <td>NaN</td>\n",
       "      <td>NaN</td>\n",
       "    </tr>\n",
       "    <tr>\n",
       "      <th>763</th>\n",
       "      <td>ham</td>\n",
       "      <td>Nothing but we jus tot u would ask cos u ba gu...</td>\n",
       "      <td>NaN</td>\n",
       "      <td>NaN</td>\n",
       "      <td>NaN</td>\n",
       "    </tr>\n",
       "    <tr>\n",
       "      <th>4172</th>\n",
       "      <td>ham</td>\n",
       "      <td>Ok... But they said i've got wisdom teeth hidd...</td>\n",
       "      <td>NaN</td>\n",
       "      <td>NaN</td>\n",
       "      <td>NaN</td>\n",
       "    </tr>\n",
       "    <tr>\n",
       "      <th>837</th>\n",
       "      <td>ham</td>\n",
       "      <td>Sir, I have been late in paying rent for the p...</td>\n",
       "      <td>NaN</td>\n",
       "      <td>NaN</td>\n",
       "      <td>NaN</td>\n",
       "    </tr>\n",
       "    <tr>\n",
       "      <th>3603</th>\n",
       "      <td>ham</td>\n",
       "      <td>Hey morning what you come to ask:-) pa...</td>\n",
       "      <td>NaN</td>\n",
       "      <td>NaN</td>\n",
       "      <td>NaN</td>\n",
       "    </tr>\n",
       "  </tbody>\n",
       "</table>\n",
       "</div>"
      ],
      "text/plain": [
       "       v1                                                 v2 Unnamed: 2  \\\n",
       "665   ham  En chikku nange bakra msg kalstiya..then had t...        NaN   \n",
       "763   ham  Nothing but we jus tot u would ask cos u ba gu...        NaN   \n",
       "4172  ham  Ok... But they said i've got wisdom teeth hidd...        NaN   \n",
       "837   ham  Sir, I have been late in paying rent for the p...        NaN   \n",
       "3603  ham          Hey morning what you come to ask:-) pa...        NaN   \n",
       "\n",
       "     Unnamed: 3 Unnamed: 4  \n",
       "665         NaN        NaN  \n",
       "763         NaN        NaN  \n",
       "4172        NaN        NaN  \n",
       "837         NaN        NaN  \n",
       "3603        NaN        NaN  "
      ]
     },
     "execution_count": 3,
     "metadata": {},
     "output_type": "execute_result"
    }
   ],
   "source": [
    "df.sample(5)"
   ]
  },
  {
   "cell_type": "code",
   "execution_count": 4,
   "id": "de202553",
   "metadata": {
    "execution": {
     "iopub.execute_input": "2022-07-10T07:04:08.729568Z",
     "iopub.status.busy": "2022-07-10T07:04:08.729029Z",
     "iopub.status.idle": "2022-07-10T07:04:08.736405Z",
     "shell.execute_reply": "2022-07-10T07:04:08.735571Z"
    },
    "papermill": {
     "duration": 0.024393,
     "end_time": "2022-07-10T07:04:08.738655",
     "exception": false,
     "start_time": "2022-07-10T07:04:08.714262",
     "status": "completed"
    },
    "tags": []
   },
   "outputs": [
    {
     "data": {
      "text/plain": [
       "(5572, 5)"
      ]
     },
     "execution_count": 4,
     "metadata": {},
     "output_type": "execute_result"
    }
   ],
   "source": [
    "df.shape"
   ]
  },
  {
   "cell_type": "markdown",
   "id": "1a6884a8",
   "metadata": {
    "papermill": {
     "duration": 0.011842,
     "end_time": "2022-07-10T07:04:08.762719",
     "exception": false,
     "start_time": "2022-07-10T07:04:08.750877",
     "status": "completed"
    },
    "tags": []
   },
   "source": [
    "**Now lets start working with the data and make some amazing conclusions**"
   ]
  },
  {
   "cell_type": "markdown",
   "id": "e8938f23",
   "metadata": {
    "execution": {
     "iopub.execute_input": "2022-07-10T04:35:58.217491Z",
     "iopub.status.busy": "2022-07-10T04:35:58.216357Z",
     "iopub.status.idle": "2022-07-10T04:35:58.221486Z",
     "shell.execute_reply": "2022-07-10T04:35:58.220739Z",
     "shell.execute_reply.started": "2022-07-10T04:35:58.217454Z"
    },
    "papermill": {
     "duration": 0.011724,
     "end_time": "2022-07-10T07:04:08.786726",
     "exception": false,
     "start_time": "2022-07-10T07:04:08.775002",
     "status": "completed"
    },
    "tags": []
   },
   "source": [
    "## 1. Data Cleaning\n",
    "## 2. EDA\n",
    "## 3. Data Preprocessing --vectorization,stemming,remove stop words\n",
    "## 4. Model Building\n",
    "## 5. Evaluate the model\n",
    "## 6. Improve the model\n",
    "## 7. Website\n",
    "## 8. Deployment on Heroku\n"
   ]
  },
  {
   "cell_type": "markdown",
   "id": "e43eb9c9",
   "metadata": {
    "papermill": {
     "duration": 0.011725,
     "end_time": "2022-07-10T07:04:08.810334",
     "exception": false,
     "start_time": "2022-07-10T07:04:08.798609",
     "status": "completed"
    },
    "tags": []
   },
   "source": [
    "# *1. Data Cleaning*"
   ]
  },
  {
   "cell_type": "code",
   "execution_count": 5,
   "id": "ef97c3eb",
   "metadata": {
    "execution": {
     "iopub.execute_input": "2022-07-10T07:04:08.836672Z",
     "iopub.status.busy": "2022-07-10T07:04:08.835660Z",
     "iopub.status.idle": "2022-07-10T07:04:08.864970Z",
     "shell.execute_reply": "2022-07-10T07:04:08.862989Z"
    },
    "papermill": {
     "duration": 0.045267,
     "end_time": "2022-07-10T07:04:08.867420",
     "exception": false,
     "start_time": "2022-07-10T07:04:08.822153",
     "status": "completed"
    },
    "tags": []
   },
   "outputs": [
    {
     "name": "stdout",
     "output_type": "stream",
     "text": [
      "<class 'pandas.core.frame.DataFrame'>\n",
      "RangeIndex: 5572 entries, 0 to 5571\n",
      "Data columns (total 5 columns):\n",
      " #   Column      Non-Null Count  Dtype \n",
      "---  ------      --------------  ----- \n",
      " 0   v1          5572 non-null   object\n",
      " 1   v2          5572 non-null   object\n",
      " 2   Unnamed: 2  50 non-null     object\n",
      " 3   Unnamed: 3  12 non-null     object\n",
      " 4   Unnamed: 4  6 non-null      object\n",
      "dtypes: object(5)\n",
      "memory usage: 217.8+ KB\n"
     ]
    }
   ],
   "source": [
    "df.info()"
   ]
  },
  {
   "cell_type": "code",
   "execution_count": 6,
   "id": "15b34235",
   "metadata": {
    "execution": {
     "iopub.execute_input": "2022-07-10T07:04:08.891418Z",
     "iopub.status.busy": "2022-07-10T07:04:08.891034Z",
     "iopub.status.idle": "2022-07-10T07:04:08.904577Z",
     "shell.execute_reply": "2022-07-10T07:04:08.903589Z"
    },
    "papermill": {
     "duration": 0.028399,
     "end_time": "2022-07-10T07:04:08.906966",
     "exception": false,
     "start_time": "2022-07-10T07:04:08.878567",
     "status": "completed"
    },
    "tags": []
   },
   "outputs": [
    {
     "data": {
      "text/html": [
       "<div>\n",
       "<style scoped>\n",
       "    .dataframe tbody tr th:only-of-type {\n",
       "        vertical-align: middle;\n",
       "    }\n",
       "\n",
       "    .dataframe tbody tr th {\n",
       "        vertical-align: top;\n",
       "    }\n",
       "\n",
       "    .dataframe thead th {\n",
       "        text-align: right;\n",
       "    }\n",
       "</style>\n",
       "<table border=\"1\" class=\"dataframe\">\n",
       "  <thead>\n",
       "    <tr style=\"text-align: right;\">\n",
       "      <th></th>\n",
       "      <th>v1</th>\n",
       "      <th>v2</th>\n",
       "    </tr>\n",
       "  </thead>\n",
       "  <tbody>\n",
       "    <tr>\n",
       "      <th>3990</th>\n",
       "      <td>ham</td>\n",
       "      <td>I am on the way to ur home</td>\n",
       "    </tr>\n",
       "    <tr>\n",
       "      <th>4064</th>\n",
       "      <td>ham</td>\n",
       "      <td>Dont kick coco when he's down</td>\n",
       "    </tr>\n",
       "    <tr>\n",
       "      <th>2219</th>\n",
       "      <td>spam</td>\n",
       "      <td>You have WON a guaranteed å£1000 cash or a å£2...</td>\n",
       "    </tr>\n",
       "    <tr>\n",
       "      <th>1153</th>\n",
       "      <td>spam</td>\n",
       "      <td>1000's of girls many local 2 u who r virgins 2...</td>\n",
       "    </tr>\n",
       "    <tr>\n",
       "      <th>4854</th>\n",
       "      <td>ham</td>\n",
       "      <td>Same to u...</td>\n",
       "    </tr>\n",
       "  </tbody>\n",
       "</table>\n",
       "</div>"
      ],
      "text/plain": [
       "        v1                                                 v2\n",
       "3990   ham                         I am on the way to ur home\n",
       "4064   ham                      Dont kick coco when he's down\n",
       "2219  spam  You have WON a guaranteed å£1000 cash or a å£2...\n",
       "1153  spam  1000's of girls many local 2 u who r virgins 2...\n",
       "4854   ham                                       Same to u..."
      ]
     },
     "execution_count": 6,
     "metadata": {},
     "output_type": "execute_result"
    }
   ],
   "source": [
    "# the above information shows that columns 2 3 4 have too much null values so it is good to drop it\n",
    "df.drop(columns=['Unnamed: 2','Unnamed: 3','Unnamed: 4'],inplace= True)\n",
    "#inplace= True because we permanently want to bring change in the original dataset\n",
    "df.sample(5)"
   ]
  },
  {
   "cell_type": "code",
   "execution_count": 7,
   "id": "d9d723ae",
   "metadata": {
    "execution": {
     "iopub.execute_input": "2022-07-10T07:04:08.932277Z",
     "iopub.status.busy": "2022-07-10T07:04:08.931413Z",
     "iopub.status.idle": "2022-07-10T07:04:08.937395Z",
     "shell.execute_reply": "2022-07-10T07:04:08.936356Z"
    },
    "papermill": {
     "duration": 0.021102,
     "end_time": "2022-07-10T07:04:08.939570",
     "exception": false,
     "start_time": "2022-07-10T07:04:08.918468",
     "status": "completed"
    },
    "tags": []
   },
   "outputs": [],
   "source": [
    "# as the column names are not to descriptive lets rename the names of the columns\n",
    "df.rename(columns={'v1':'message_type', 'v2':'message'},inplace=True)"
   ]
  },
  {
   "cell_type": "code",
   "execution_count": 8,
   "id": "d8f84df7",
   "metadata": {
    "execution": {
     "iopub.execute_input": "2022-07-10T07:04:08.964734Z",
     "iopub.status.busy": "2022-07-10T07:04:08.963885Z",
     "iopub.status.idle": "2022-07-10T07:04:08.976645Z",
     "shell.execute_reply": "2022-07-10T07:04:08.975490Z"
    },
    "papermill": {
     "duration": 0.028372,
     "end_time": "2022-07-10T07:04:08.979315",
     "exception": false,
     "start_time": "2022-07-10T07:04:08.950943",
     "status": "completed"
    },
    "tags": []
   },
   "outputs": [
    {
     "data": {
      "text/html": [
       "<div>\n",
       "<style scoped>\n",
       "    .dataframe tbody tr th:only-of-type {\n",
       "        vertical-align: middle;\n",
       "    }\n",
       "\n",
       "    .dataframe tbody tr th {\n",
       "        vertical-align: top;\n",
       "    }\n",
       "\n",
       "    .dataframe thead th {\n",
       "        text-align: right;\n",
       "    }\n",
       "</style>\n",
       "<table border=\"1\" class=\"dataframe\">\n",
       "  <thead>\n",
       "    <tr style=\"text-align: right;\">\n",
       "      <th></th>\n",
       "      <th>message_type</th>\n",
       "      <th>message</th>\n",
       "    </tr>\n",
       "  </thead>\n",
       "  <tbody>\n",
       "    <tr>\n",
       "      <th>1702</th>\n",
       "      <td>ham</td>\n",
       "      <td>I have lost 10 kilos as of today!</td>\n",
       "    </tr>\n",
       "    <tr>\n",
       "      <th>3878</th>\n",
       "      <td>ham</td>\n",
       "      <td>She left it very vague. She just said she woul...</td>\n",
       "    </tr>\n",
       "    <tr>\n",
       "      <th>1518</th>\n",
       "      <td>ham</td>\n",
       "      <td>Shall i ask one thing if you dont mistake me.</td>\n",
       "    </tr>\n",
       "    <tr>\n",
       "      <th>5493</th>\n",
       "      <td>ham</td>\n",
       "      <td>I think if he rule tamilnadu..then its very to...</td>\n",
       "    </tr>\n",
       "    <tr>\n",
       "      <th>2673</th>\n",
       "      <td>ham</td>\n",
       "      <td>Good afternoon, my boytoy ... How are you feel...</td>\n",
       "    </tr>\n",
       "  </tbody>\n",
       "</table>\n",
       "</div>"
      ],
      "text/plain": [
       "     message_type                                            message\n",
       "1702          ham                  I have lost 10 kilos as of today!\n",
       "3878          ham  She left it very vague. She just said she woul...\n",
       "1518          ham      Shall i ask one thing if you dont mistake me.\n",
       "5493          ham  I think if he rule tamilnadu..then its very to...\n",
       "2673          ham  Good afternoon, my boytoy ... How are you feel..."
      ]
     },
     "execution_count": 8,
     "metadata": {},
     "output_type": "execute_result"
    }
   ],
   "source": [
    "df.sample(5)"
   ]
  },
  {
   "cell_type": "code",
   "execution_count": 9,
   "id": "31eede21",
   "metadata": {
    "execution": {
     "iopub.execute_input": "2022-07-10T07:04:09.006113Z",
     "iopub.status.busy": "2022-07-10T07:04:09.005553Z",
     "iopub.status.idle": "2022-07-10T07:04:09.010168Z",
     "shell.execute_reply": "2022-07-10T07:04:09.008938Z"
    },
    "papermill": {
     "duration": 0.021173,
     "end_time": "2022-07-10T07:04:09.013029",
     "exception": false,
     "start_time": "2022-07-10T07:04:08.991856",
     "status": "completed"
    },
    "tags": []
   },
   "outputs": [],
   "source": [
    "# in the message type, they are classified as 'ham' and 'spam' but we want it as 1 and O so lets import Label Encoder"
   ]
  },
  {
   "cell_type": "code",
   "execution_count": 10,
   "id": "047bfbe3",
   "metadata": {
    "execution": {
     "iopub.execute_input": "2022-07-10T07:04:09.040892Z",
     "iopub.status.busy": "2022-07-10T07:04:09.040430Z",
     "iopub.status.idle": "2022-07-10T07:04:10.185698Z",
     "shell.execute_reply": "2022-07-10T07:04:10.184739Z"
    },
    "papermill": {
     "duration": 1.162383,
     "end_time": "2022-07-10T07:04:10.188373",
     "exception": false,
     "start_time": "2022-07-10T07:04:09.025990",
     "status": "completed"
    },
    "tags": []
   },
   "outputs": [],
   "source": [
    "from sklearn.preprocessing import LabelEncoder\n",
    "encoder =LabelEncoder()"
   ]
  },
  {
   "cell_type": "code",
   "execution_count": 11,
   "id": "84dbced9",
   "metadata": {
    "execution": {
     "iopub.execute_input": "2022-07-10T07:04:10.213026Z",
     "iopub.status.busy": "2022-07-10T07:04:10.212644Z",
     "iopub.status.idle": "2022-07-10T07:04:10.223837Z",
     "shell.execute_reply": "2022-07-10T07:04:10.222726Z"
    },
    "papermill": {
     "duration": 0.026479,
     "end_time": "2022-07-10T07:04:10.226340",
     "exception": false,
     "start_time": "2022-07-10T07:04:10.199861",
     "status": "completed"
    },
    "tags": []
   },
   "outputs": [
    {
     "data": {
      "text/plain": [
       "474     0\n",
       "4131    0\n",
       "406     0\n",
       "1261    0\n",
       "4770    0\n",
       "Name: message_type, dtype: int64"
      ]
     },
     "execution_count": 11,
     "metadata": {},
     "output_type": "execute_result"
    }
   ],
   "source": [
    "df['message_type']=encoder.fit_transform(df['message_type'])\n",
    "df['message_type'].sample(5)"
   ]
  },
  {
   "cell_type": "code",
   "execution_count": 12,
   "id": "6559ce60",
   "metadata": {
    "execution": {
     "iopub.execute_input": "2022-07-10T07:04:10.252602Z",
     "iopub.status.busy": "2022-07-10T07:04:10.252210Z",
     "iopub.status.idle": "2022-07-10T07:04:10.267697Z",
     "shell.execute_reply": "2022-07-10T07:04:10.266616Z"
    },
    "papermill": {
     "duration": 0.032053,
     "end_time": "2022-07-10T07:04:10.269961",
     "exception": false,
     "start_time": "2022-07-10T07:04:10.237908",
     "status": "completed"
    },
    "tags": []
   },
   "outputs": [
    {
     "data": {
      "text/html": [
       "<div>\n",
       "<style scoped>\n",
       "    .dataframe tbody tr th:only-of-type {\n",
       "        vertical-align: middle;\n",
       "    }\n",
       "\n",
       "    .dataframe tbody tr th {\n",
       "        vertical-align: top;\n",
       "    }\n",
       "\n",
       "    .dataframe thead th {\n",
       "        text-align: right;\n",
       "    }\n",
       "</style>\n",
       "<table border=\"1\" class=\"dataframe\">\n",
       "  <thead>\n",
       "    <tr style=\"text-align: right;\">\n",
       "      <th></th>\n",
       "      <th>message_type</th>\n",
       "      <th>message</th>\n",
       "    </tr>\n",
       "  </thead>\n",
       "  <tbody>\n",
       "    <tr>\n",
       "      <th>2</th>\n",
       "      <td>1</td>\n",
       "      <td>Free entry in 2 a wkly comp to win FA Cup fina...</td>\n",
       "    </tr>\n",
       "    <tr>\n",
       "      <th>5</th>\n",
       "      <td>1</td>\n",
       "      <td>FreeMsg Hey there darling it's been 3 week's n...</td>\n",
       "    </tr>\n",
       "    <tr>\n",
       "      <th>8</th>\n",
       "      <td>1</td>\n",
       "      <td>WINNER!! As a valued network customer you have...</td>\n",
       "    </tr>\n",
       "    <tr>\n",
       "      <th>9</th>\n",
       "      <td>1</td>\n",
       "      <td>Had your mobile 11 months or more? U R entitle...</td>\n",
       "    </tr>\n",
       "    <tr>\n",
       "      <th>11</th>\n",
       "      <td>1</td>\n",
       "      <td>SIX chances to win CASH! From 100 to 20,000 po...</td>\n",
       "    </tr>\n",
       "    <tr>\n",
       "      <th>...</th>\n",
       "      <td>...</td>\n",
       "      <td>...</td>\n",
       "    </tr>\n",
       "    <tr>\n",
       "      <th>5537</th>\n",
       "      <td>1</td>\n",
       "      <td>Want explicit SEX in 30 secs? Ring 02073162414...</td>\n",
       "    </tr>\n",
       "    <tr>\n",
       "      <th>5540</th>\n",
       "      <td>1</td>\n",
       "      <td>ASKED 3MOBILE IF 0870 CHATLINES INCLU IN FREE ...</td>\n",
       "    </tr>\n",
       "    <tr>\n",
       "      <th>5547</th>\n",
       "      <td>1</td>\n",
       "      <td>Had your contract mobile 11 Mnths? Latest Moto...</td>\n",
       "    </tr>\n",
       "    <tr>\n",
       "      <th>5566</th>\n",
       "      <td>1</td>\n",
       "      <td>REMINDER FROM O2: To get 2.50 pounds free call...</td>\n",
       "    </tr>\n",
       "    <tr>\n",
       "      <th>5567</th>\n",
       "      <td>1</td>\n",
       "      <td>This is the 2nd time we have tried 2 contact u...</td>\n",
       "    </tr>\n",
       "  </tbody>\n",
       "</table>\n",
       "<p>747 rows × 2 columns</p>\n",
       "</div>"
      ],
      "text/plain": [
       "      message_type                                            message\n",
       "2                1  Free entry in 2 a wkly comp to win FA Cup fina...\n",
       "5                1  FreeMsg Hey there darling it's been 3 week's n...\n",
       "8                1  WINNER!! As a valued network customer you have...\n",
       "9                1  Had your mobile 11 months or more? U R entitle...\n",
       "11               1  SIX chances to win CASH! From 100 to 20,000 po...\n",
       "...            ...                                                ...\n",
       "5537             1  Want explicit SEX in 30 secs? Ring 02073162414...\n",
       "5540             1  ASKED 3MOBILE IF 0870 CHATLINES INCLU IN FREE ...\n",
       "5547             1  Had your contract mobile 11 Mnths? Latest Moto...\n",
       "5566             1  REMINDER FROM O2: To get 2.50 pounds free call...\n",
       "5567             1  This is the 2nd time we have tried 2 contact u...\n",
       "\n",
       "[747 rows x 2 columns]"
      ]
     },
     "execution_count": 12,
     "metadata": {},
     "output_type": "execute_result"
    }
   ],
   "source": [
    "df[df['message_type']==1]\n",
    "# there are 747 spam messages in the dataset"
   ]
  },
  {
   "cell_type": "code",
   "execution_count": 13,
   "id": "16811cbc",
   "metadata": {
    "execution": {
     "iopub.execute_input": "2022-07-10T07:04:10.295454Z",
     "iopub.status.busy": "2022-07-10T07:04:10.295078Z",
     "iopub.status.idle": "2022-07-10T07:04:10.303673Z",
     "shell.execute_reply": "2022-07-10T07:04:10.302858Z"
    },
    "papermill": {
     "duration": 0.024073,
     "end_time": "2022-07-10T07:04:10.305951",
     "exception": false,
     "start_time": "2022-07-10T07:04:10.281878",
     "status": "completed"
    },
    "tags": []
   },
   "outputs": [
    {
     "data": {
      "text/plain": [
       "message_type    0\n",
       "message         0\n",
       "dtype: int64"
      ]
     },
     "execution_count": 13,
     "metadata": {},
     "output_type": "execute_result"
    }
   ],
   "source": [
    "#now lets check the missing values\n",
    "df.isnull().sum()\n",
    "# there are no missing values"
   ]
  },
  {
   "cell_type": "code",
   "execution_count": 14,
   "id": "6fd15c9e",
   "metadata": {
    "execution": {
     "iopub.execute_input": "2022-07-10T07:04:10.331909Z",
     "iopub.status.busy": "2022-07-10T07:04:10.331492Z",
     "iopub.status.idle": "2022-07-10T07:04:10.341337Z",
     "shell.execute_reply": "2022-07-10T07:04:10.340584Z"
    },
    "papermill": {
     "duration": 0.02548,
     "end_time": "2022-07-10T07:04:10.343306",
     "exception": false,
     "start_time": "2022-07-10T07:04:10.317826",
     "status": "completed"
    },
    "tags": []
   },
   "outputs": [
    {
     "data": {
      "text/plain": [
       "403"
      ]
     },
     "execution_count": 14,
     "metadata": {},
     "output_type": "execute_result"
    }
   ],
   "source": [
    "# now lets check for duplicated values\n",
    "df.duplicated().sum()\n"
   ]
  },
  {
   "cell_type": "markdown",
   "id": "1f087b6f",
   "metadata": {
    "papermill": {
     "duration": 0.012461,
     "end_time": "2022-07-10T07:04:10.367826",
     "exception": false,
     "start_time": "2022-07-10T07:04:10.355365",
     "status": "completed"
    },
    "tags": []
   },
   "source": [
    "*There are 403 duplicate values so we simply have to remove those values* "
   ]
  },
  {
   "cell_type": "code",
   "execution_count": 15,
   "id": "419e68ef",
   "metadata": {
    "execution": {
     "iopub.execute_input": "2022-07-10T07:04:10.394109Z",
     "iopub.status.busy": "2022-07-10T07:04:10.393728Z",
     "iopub.status.idle": "2022-07-10T07:04:10.402702Z",
     "shell.execute_reply": "2022-07-10T07:04:10.401661Z"
    },
    "papermill": {
     "duration": 0.02481,
     "end_time": "2022-07-10T07:04:10.404953",
     "exception": false,
     "start_time": "2022-07-10T07:04:10.380143",
     "status": "completed"
    },
    "tags": []
   },
   "outputs": [],
   "source": [
    "#remove the duplicates\n",
    "df= df.drop_duplicates()"
   ]
  },
  {
   "cell_type": "code",
   "execution_count": 16,
   "id": "b0917654",
   "metadata": {
    "execution": {
     "iopub.execute_input": "2022-07-10T07:04:10.430905Z",
     "iopub.status.busy": "2022-07-10T07:04:10.430547Z",
     "iopub.status.idle": "2022-07-10T07:04:10.439747Z",
     "shell.execute_reply": "2022-07-10T07:04:10.438661Z"
    },
    "papermill": {
     "duration": 0.025008,
     "end_time": "2022-07-10T07:04:10.441917",
     "exception": false,
     "start_time": "2022-07-10T07:04:10.416909",
     "status": "completed"
    },
    "tags": []
   },
   "outputs": [
    {
     "data": {
      "text/plain": [
       "0"
      ]
     },
     "execution_count": 16,
     "metadata": {},
     "output_type": "execute_result"
    }
   ],
   "source": [
    "df.duplicated().sum()"
   ]
  },
  {
   "cell_type": "markdown",
   "id": "7384b48e",
   "metadata": {
    "papermill": {
     "duration": 0.011912,
     "end_time": "2022-07-10T07:04:10.465924",
     "exception": false,
     "start_time": "2022-07-10T07:04:10.454012",
     "status": "completed"
    },
    "tags": []
   },
   "source": [
    "# 2. Exploratory Data Analysis"
   ]
  },
  {
   "cell_type": "markdown",
   "id": "16ac01f7",
   "metadata": {
    "papermill": {
     "duration": 0.012204,
     "end_time": "2022-07-10T07:04:10.490099",
     "exception": false,
     "start_time": "2022-07-10T07:04:10.477895",
     "status": "completed"
    },
    "tags": []
   },
   "source": [
    "### *Lets visualize this classification problem to get a better understanding of the data*"
   ]
  },
  {
   "cell_type": "code",
   "execution_count": 17,
   "id": "5258eff0",
   "metadata": {
    "execution": {
     "iopub.execute_input": "2022-07-10T07:04:10.516388Z",
     "iopub.status.busy": "2022-07-10T07:04:10.516034Z",
     "iopub.status.idle": "2022-07-10T07:04:10.714313Z",
     "shell.execute_reply": "2022-07-10T07:04:10.713340Z"
    },
    "papermill": {
     "duration": 0.215057,
     "end_time": "2022-07-10T07:04:10.717214",
     "exception": false,
     "start_time": "2022-07-10T07:04:10.502157",
     "status": "completed"
    },
    "tags": []
   },
   "outputs": [],
   "source": [
    "import seaborn as sns\n",
    "import matplotlib.pyplot as plt\n"
   ]
  },
  {
   "cell_type": "code",
   "execution_count": 18,
   "id": "a68adc42",
   "metadata": {
    "execution": {
     "iopub.execute_input": "2022-07-10T07:04:10.744142Z",
     "iopub.status.busy": "2022-07-10T07:04:10.743251Z",
     "iopub.status.idle": "2022-07-10T07:04:10.751336Z",
     "shell.execute_reply": "2022-07-10T07:04:10.750324Z"
    },
    "papermill": {
     "duration": 0.024434,
     "end_time": "2022-07-10T07:04:10.753847",
     "exception": false,
     "start_time": "2022-07-10T07:04:10.729413",
     "status": "completed"
    },
    "tags": []
   },
   "outputs": [
    {
     "data": {
      "text/plain": [
       "0    4516\n",
       "1     653\n",
       "Name: message_type, dtype: int64"
      ]
     },
     "execution_count": 18,
     "metadata": {},
     "output_type": "execute_result"
    }
   ],
   "source": [
    "df['message_type'].value_counts()"
   ]
  },
  {
   "cell_type": "code",
   "execution_count": 19,
   "id": "4881f6a2",
   "metadata": {
    "execution": {
     "iopub.execute_input": "2022-07-10T07:04:10.781260Z",
     "iopub.status.busy": "2022-07-10T07:04:10.780523Z",
     "iopub.status.idle": "2022-07-10T07:04:10.926710Z",
     "shell.execute_reply": "2022-07-10T07:04:10.925363Z"
    },
    "papermill": {
     "duration": 0.16223,
     "end_time": "2022-07-10T07:04:10.929133",
     "exception": false,
     "start_time": "2022-07-10T07:04:10.766903",
     "status": "completed"
    },
    "tags": []
   },
   "outputs": [
    {
     "data": {
      "image/png": "[encoded data removed]",
      "text/plain": [
       "<Figure size 432x288 with 1 Axes>"
      ]
     },
     "metadata": {},
     "output_type": "display_data"
    }
   ],
   "source": [
    "plt.pie(df['message_type'].value_counts(),labels=[' not spam','spam'],autopct='%0.2f')\n",
    "plt.show()"
   ]
  },
  {
   "cell_type": "markdown",
   "id": "e15a5e2e",
   "metadata": {
    "papermill": {
     "duration": 0.012685,
     "end_time": "2022-07-10T07:04:10.954592",
     "exception": false,
     "start_time": "2022-07-10T07:04:10.941907",
     "status": "completed"
    },
    "tags": []
   },
   "source": [
    "### there is imbalance in data"
   ]
  },
  {
   "cell_type": "code",
   "execution_count": 20,
   "id": "f3141572",
   "metadata": {
    "execution": {
     "iopub.execute_input": "2022-07-10T07:04:10.982307Z",
     "iopub.status.busy": "2022-07-10T07:04:10.981655Z",
     "iopub.status.idle": "2022-07-10T07:04:10.988238Z",
     "shell.execute_reply": "2022-07-10T07:04:10.986945Z"
    },
    "papermill": {
     "duration": 0.023485,
     "end_time": "2022-07-10T07:04:10.990833",
     "exception": false,
     "start_time": "2022-07-10T07:04:10.967348",
     "status": "completed"
    },
    "tags": []
   },
   "outputs": [],
   "source": [
    "# no. of alphabets in the data\n",
    "# no. of sentences in the data\n",
    "# no. of words in the data"
   ]
  },
  {
   "cell_type": "markdown",
   "id": "18a7b533",
   "metadata": {
    "papermill": {
     "duration": 0.013704,
     "end_time": "2022-07-10T07:04:11.017414",
     "exception": false,
     "start_time": "2022-07-10T07:04:11.003710",
     "status": "completed"
    },
    "tags": []
   },
   "source": [
    "### *Now lets make 3 new columns in the data depicting the no. of characters,words and sentences*"
   ]
  },
  {
   "cell_type": "code",
   "execution_count": 21,
   "id": "f9d3ea11",
   "metadata": {
    "execution": {
     "iopub.execute_input": "2022-07-10T07:04:11.045319Z",
     "iopub.status.busy": "2022-07-10T07:04:11.044481Z",
     "iopub.status.idle": "2022-07-10T07:04:11.696904Z",
     "shell.execute_reply": "2022-07-10T07:04:11.695629Z"
    },
    "papermill": {
     "duration": 0.669889,
     "end_time": "2022-07-10T07:04:11.699948",
     "exception": false,
     "start_time": "2022-07-10T07:04:11.030059",
     "status": "completed"
    },
    "tags": []
   },
   "outputs": [],
   "source": [
    "#natural language tool kit\n",
    "import nltk"
   ]
  },
  {
   "cell_type": "code",
   "execution_count": 22,
   "id": "9d938e58",
   "metadata": {
    "execution": {
     "iopub.execute_input": "2022-07-10T07:04:11.728167Z",
     "iopub.status.busy": "2022-07-10T07:04:11.727093Z",
     "iopub.status.idle": "2022-07-10T07:04:11.742317Z",
     "shell.execute_reply": "2022-07-10T07:04:11.741263Z"
    },
    "papermill": {
     "duration": 0.031956,
     "end_time": "2022-07-10T07:04:11.744667",
     "exception": false,
     "start_time": "2022-07-10T07:04:11.712711",
     "status": "completed"
    },
    "tags": []
   },
   "outputs": [
    {
     "data": {
      "text/html": [
       "<div>\n",
       "<style scoped>\n",
       "    .dataframe tbody tr th:only-of-type {\n",
       "        vertical-align: middle;\n",
       "    }\n",
       "\n",
       "    .dataframe tbody tr th {\n",
       "        vertical-align: top;\n",
       "    }\n",
       "\n",
       "    .dataframe thead th {\n",
       "        text-align: right;\n",
       "    }\n",
       "</style>\n",
       "<table border=\"1\" class=\"dataframe\">\n",
       "  <thead>\n",
       "    <tr style=\"text-align: right;\">\n",
       "      <th></th>\n",
       "      <th>message_type</th>\n",
       "      <th>message</th>\n",
       "      <th>num_characters</th>\n",
       "    </tr>\n",
       "  </thead>\n",
       "  <tbody>\n",
       "    <tr>\n",
       "      <th>0</th>\n",
       "      <td>0</td>\n",
       "      <td>Go until jurong point, crazy.. Available only ...</td>\n",
       "      <td>111</td>\n",
       "    </tr>\n",
       "    <tr>\n",
       "      <th>1</th>\n",
       "      <td>0</td>\n",
       "      <td>Ok lar... Joking wif u oni...</td>\n",
       "      <td>29</td>\n",
       "    </tr>\n",
       "    <tr>\n",
       "      <th>2</th>\n",
       "      <td>1</td>\n",
       "      <td>Free entry in 2 a wkly comp to win FA Cup fina...</td>\n",
       "      <td>155</td>\n",
       "    </tr>\n",
       "    <tr>\n",
       "      <th>3</th>\n",
       "      <td>0</td>\n",
       "      <td>U dun say so early hor... U c already then say...</td>\n",
       "      <td>49</td>\n",
       "    </tr>\n",
       "    <tr>\n",
       "      <th>4</th>\n",
       "      <td>0</td>\n",
       "      <td>Nah I don't think he goes to usf, he lives aro...</td>\n",
       "      <td>61</td>\n",
       "    </tr>\n",
       "  </tbody>\n",
       "</table>\n",
       "</div>"
      ],
      "text/plain": [
       "   message_type                                            message  \\\n",
       "0             0  Go until jurong point, crazy.. Available only ...   \n",
       "1             0                      Ok lar... Joking wif u oni...   \n",
       "2             1  Free entry in 2 a wkly comp to win FA Cup fina...   \n",
       "3             0  U dun say so early hor... U c already then say...   \n",
       "4             0  Nah I don't think he goes to usf, he lives aro...   \n",
       "\n",
       "   num_characters  \n",
       "0             111  \n",
       "1              29  \n",
       "2             155  \n",
       "3              49  \n",
       "4              61  "
      ]
     },
     "execution_count": 22,
     "metadata": {},
     "output_type": "execute_result"
    }
   ],
   "source": [
    "#find the number of alpha numeric characters in the messages column\n",
    "df['num_characters']=df['message'].apply(len)\n",
    "df.head()"
   ]
  },
  {
   "cell_type": "code",
   "execution_count": 23,
   "id": "e79135e3",
   "metadata": {
    "execution": {
     "iopub.execute_input": "2022-07-10T07:04:11.772354Z",
     "iopub.status.busy": "2022-07-10T07:04:11.771270Z",
     "iopub.status.idle": "2022-07-10T07:04:13.408835Z",
     "shell.execute_reply": "2022-07-10T07:04:13.407703Z"
    },
    "papermill": {
     "duration": 1.653837,
     "end_time": "2022-07-10T07:04:13.411206",
     "exception": false,
     "start_time": "2022-07-10T07:04:11.757369",
     "status": "completed"
    },
    "tags": []
   },
   "outputs": [
    {
     "data": {
      "text/plain": [
       "0       [Go, until, jurong, point, ,, crazy.., Availab...\n",
       "1                [Ok, lar, ..., Joking, wif, u, oni, ...]\n",
       "2       [Free, entry, in, 2, a, wkly, comp, to, win, F...\n",
       "3       [U, dun, say, so, early, hor, ..., U, c, alrea...\n",
       "4       [Nah, I, do, n't, think, he, goes, to, usf, ,,...\n",
       "                              ...                        \n",
       "5567    [This, is, the, 2nd, time, we, have, tried, 2,...\n",
       "5568     [Will, Ì_, b, going, to, esplanade, fr, home, ?]\n",
       "5569    [Pity, ,, *, was, in, mood, for, that, ., So, ...\n",
       "5570    [The, guy, did, some, bitching, but, I, acted,...\n",
       "5571                  [Rofl, ., Its, true, to, its, name]\n",
       "Name: message, Length: 5169, dtype: object"
      ]
     },
     "execution_count": 23,
     "metadata": {},
     "output_type": "execute_result"
    }
   ],
   "source": [
    "#fetch number of words using NLTK\n",
    "from nltk.tokenize import word_tokenize\n",
    "#word tokenization\n",
    "df['message'].apply(lambda x: nltk.word_tokenize(x))"
   ]
  },
  {
   "cell_type": "code",
   "execution_count": 24,
   "id": "91595090",
   "metadata": {
    "execution": {
     "iopub.execute_input": "2022-07-10T07:04:13.439743Z",
     "iopub.status.busy": "2022-07-10T07:04:13.438518Z",
     "iopub.status.idle": "2022-07-10T07:04:15.049453Z",
     "shell.execute_reply": "2022-07-10T07:04:15.048177Z"
    },
    "papermill": {
     "duration": 1.627795,
     "end_time": "2022-07-10T07:04:15.052021",
     "exception": false,
     "start_time": "2022-07-10T07:04:13.424226",
     "status": "completed"
    },
    "tags": []
   },
   "outputs": [
    {
     "data": {
      "text/html": [
       "<div>\n",
       "<style scoped>\n",
       "    .dataframe tbody tr th:only-of-type {\n",
       "        vertical-align: middle;\n",
       "    }\n",
       "\n",
       "    .dataframe tbody tr th {\n",
       "        vertical-align: top;\n",
       "    }\n",
       "\n",
       "    .dataframe thead th {\n",
       "        text-align: right;\n",
       "    }\n",
       "</style>\n",
       "<table border=\"1\" class=\"dataframe\">\n",
       "  <thead>\n",
       "    <tr style=\"text-align: right;\">\n",
       "      <th></th>\n",
       "      <th>message_type</th>\n",
       "      <th>message</th>\n",
       "      <th>num_characters</th>\n",
       "      <th>num_words</th>\n",
       "    </tr>\n",
       "  </thead>\n",
       "  <tbody>\n",
       "    <tr>\n",
       "      <th>232</th>\n",
       "      <td>0</td>\n",
       "      <td>Sorry battery died, yeah I'm here</td>\n",
       "      <td>33</td>\n",
       "      <td>8</td>\n",
       "    </tr>\n",
       "    <tr>\n",
       "      <th>1538</th>\n",
       "      <td>0</td>\n",
       "      <td>Midnight at the earliest</td>\n",
       "      <td>24</td>\n",
       "      <td>4</td>\n",
       "    </tr>\n",
       "    <tr>\n",
       "      <th>258</th>\n",
       "      <td>1</td>\n",
       "      <td>We tried to contact you re your reply to our o...</td>\n",
       "      <td>154</td>\n",
       "      <td>31</td>\n",
       "    </tr>\n",
       "    <tr>\n",
       "      <th>486</th>\n",
       "      <td>1</td>\n",
       "      <td>FREE MESSAGE Activate your 500 FREE Text Messa...</td>\n",
       "      <td>146</td>\n",
       "      <td>24</td>\n",
       "    </tr>\n",
       "    <tr>\n",
       "      <th>1064</th>\n",
       "      <td>0</td>\n",
       "      <td>That's fine, I'll bitch at you about it later ...</td>\n",
       "      <td>50</td>\n",
       "      <td>13</td>\n",
       "    </tr>\n",
       "  </tbody>\n",
       "</table>\n",
       "</div>"
      ],
      "text/plain": [
       "      message_type                                            message  \\\n",
       "232              0                  Sorry battery died, yeah I'm here   \n",
       "1538             0                           Midnight at the earliest   \n",
       "258              1  We tried to contact you re your reply to our o...   \n",
       "486              1  FREE MESSAGE Activate your 500 FREE Text Messa...   \n",
       "1064             0  That's fine, I'll bitch at you about it later ...   \n",
       "\n",
       "      num_characters  num_words  \n",
       "232               33          8  \n",
       "1538              24          4  \n",
       "258              154         31  \n",
       "486              146         24  \n",
       "1064              50         13  "
      ]
     },
     "execution_count": 24,
     "metadata": {},
     "output_type": "execute_result"
    }
   ],
   "source": [
    "#now find the length of each of the list to get the total number of words in each list\n",
    "df['num_words']=df['message'].apply(lambda x:len(nltk.word_tokenize(x)))\n",
    "df.sample(5)"
   ]
  },
  {
   "cell_type": "code",
   "execution_count": 25,
   "id": "494325a0",
   "metadata": {
    "execution": {
     "iopub.execute_input": "2022-07-10T07:04:15.081275Z",
     "iopub.status.busy": "2022-07-10T07:04:15.080418Z",
     "iopub.status.idle": "2022-07-10T07:04:15.479610Z",
     "shell.execute_reply": "2022-07-10T07:04:15.478813Z"
    },
    "papermill": {
     "duration": 0.416731,
     "end_time": "2022-07-10T07:04:15.482050",
     "exception": false,
     "start_time": "2022-07-10T07:04:15.065319",
     "status": "completed"
    },
    "tags": []
   },
   "outputs": [
    {
     "data": {
      "text/html": [
       "<div>\n",
       "<style scoped>\n",
       "    .dataframe tbody tr th:only-of-type {\n",
       "        vertical-align: middle;\n",
       "    }\n",
       "\n",
       "    .dataframe tbody tr th {\n",
       "        vertical-align: top;\n",
       "    }\n",
       "\n",
       "    .dataframe thead th {\n",
       "        text-align: right;\n",
       "    }\n",
       "</style>\n",
       "<table border=\"1\" class=\"dataframe\">\n",
       "  <thead>\n",
       "    <tr style=\"text-align: right;\">\n",
       "      <th></th>\n",
       "      <th>message_type</th>\n",
       "      <th>message</th>\n",
       "      <th>num_characters</th>\n",
       "      <th>num_words</th>\n",
       "      <th>num_sentences</th>\n",
       "    </tr>\n",
       "  </thead>\n",
       "  <tbody>\n",
       "    <tr>\n",
       "      <th>290</th>\n",
       "      <td>0</td>\n",
       "      <td>Hey you told your name to gautham ah?</td>\n",
       "      <td>37</td>\n",
       "      <td>9</td>\n",
       "      <td>[Hey you told your name to gautham ah?]</td>\n",
       "    </tr>\n",
       "    <tr>\n",
       "      <th>3609</th>\n",
       "      <td>0</td>\n",
       "      <td>Call me. I m unable to cal. Lets meet bhaskar,...</td>\n",
       "      <td>55</td>\n",
       "      <td>15</td>\n",
       "      <td>[Call me., I m unable to cal., Lets meet bhask...</td>\n",
       "    </tr>\n",
       "    <tr>\n",
       "      <th>1275</th>\n",
       "      <td>0</td>\n",
       "      <td>Wot u up 2 u weirdo?</td>\n",
       "      <td>20</td>\n",
       "      <td>7</td>\n",
       "      <td>[Wot u up 2 u weirdo?]</td>\n",
       "    </tr>\n",
       "    <tr>\n",
       "      <th>4901</th>\n",
       "      <td>1</td>\n",
       "      <td>* FREE* POLYPHONIC RINGTONE Text SUPER to 8713...</td>\n",
       "      <td>134</td>\n",
       "      <td>26</td>\n",
       "      <td>[* FREE* POLYPHONIC RINGTONE Text SUPER to 871...</td>\n",
       "    </tr>\n",
       "    <tr>\n",
       "      <th>3195</th>\n",
       "      <td>0</td>\n",
       "      <td>I av a new number,  . Wil u only use this one,ta.</td>\n",
       "      <td>49</td>\n",
       "      <td>16</td>\n",
       "      <td>[I av a new number,  ., Wil u only use this on...</td>\n",
       "    </tr>\n",
       "  </tbody>\n",
       "</table>\n",
       "</div>"
      ],
      "text/plain": [
       "      message_type                                            message  \\\n",
       "290              0              Hey you told your name to gautham ah?   \n",
       "3609             0  Call me. I m unable to cal. Lets meet bhaskar,...   \n",
       "1275             0                               Wot u up 2 u weirdo?   \n",
       "4901             1  * FREE* POLYPHONIC RINGTONE Text SUPER to 8713...   \n",
       "3195             0  I av a new number,  . Wil u only use this one,ta.   \n",
       "\n",
       "      num_characters  num_words  \\\n",
       "290               37          9   \n",
       "3609              55         15   \n",
       "1275              20          7   \n",
       "4901             134         26   \n",
       "3195              49         16   \n",
       "\n",
       "                                          num_sentences  \n",
       "290             [Hey you told your name to gautham ah?]  \n",
       "3609  [Call me., I m unable to cal., Lets meet bhask...  \n",
       "1275                             [Wot u up 2 u weirdo?]  \n",
       "4901  [* FREE* POLYPHONIC RINGTONE Text SUPER to 871...  \n",
       "3195  [I av a new number,  ., Wil u only use this on...  "
      ]
     },
     "execution_count": 25,
     "metadata": {},
     "output_type": "execute_result"
    }
   ],
   "source": [
    "#finding number of sentences\n",
    "df['num_sentences']=df['message'].apply(lambda x: nltk.sent_tokenize(x))\n",
    "df.sample(5)"
   ]
  },
  {
   "cell_type": "code",
   "execution_count": 26,
   "id": "087c8107",
   "metadata": {
    "execution": {
     "iopub.execute_input": "2022-07-10T07:04:15.511755Z",
     "iopub.status.busy": "2022-07-10T07:04:15.510656Z",
     "iopub.status.idle": "2022-07-10T07:04:15.900281Z",
     "shell.execute_reply": "2022-07-10T07:04:15.899165Z"
    },
    "papermill": {
     "duration": 0.406807,
     "end_time": "2022-07-10T07:04:15.902779",
     "exception": false,
     "start_time": "2022-07-10T07:04:15.495972",
     "status": "completed"
    },
    "tags": []
   },
   "outputs": [
    {
     "data": {
      "text/html": [
       "<div>\n",
       "<style scoped>\n",
       "    .dataframe tbody tr th:only-of-type {\n",
       "        vertical-align: middle;\n",
       "    }\n",
       "\n",
       "    .dataframe tbody tr th {\n",
       "        vertical-align: top;\n",
       "    }\n",
       "\n",
       "    .dataframe thead th {\n",
       "        text-align: right;\n",
       "    }\n",
       "</style>\n",
       "<table border=\"1\" class=\"dataframe\">\n",
       "  <thead>\n",
       "    <tr style=\"text-align: right;\">\n",
       "      <th></th>\n",
       "      <th>message_type</th>\n",
       "      <th>message</th>\n",
       "      <th>num_characters</th>\n",
       "      <th>num_words</th>\n",
       "      <th>num_sentences</th>\n",
       "    </tr>\n",
       "  </thead>\n",
       "  <tbody>\n",
       "    <tr>\n",
       "      <th>4679</th>\n",
       "      <td>0</td>\n",
       "      <td>That's cool he'll be here all night, lemme kno...</td>\n",
       "      <td>66</td>\n",
       "      <td>17</td>\n",
       "      <td>1</td>\n",
       "    </tr>\n",
       "    <tr>\n",
       "      <th>3211</th>\n",
       "      <td>0</td>\n",
       "      <td>We got a divorce. Lol. She.s here</td>\n",
       "      <td>33</td>\n",
       "      <td>9</td>\n",
       "      <td>3</td>\n",
       "    </tr>\n",
       "    <tr>\n",
       "      <th>574</th>\n",
       "      <td>0</td>\n",
       "      <td>Nope i waiting in sch 4 daddy...</td>\n",
       "      <td>33</td>\n",
       "      <td>8</td>\n",
       "      <td>1</td>\n",
       "    </tr>\n",
       "    <tr>\n",
       "      <th>3858</th>\n",
       "      <td>1</td>\n",
       "      <td>Win the newest åÒHarry Potter and the Order of...</td>\n",
       "      <td>139</td>\n",
       "      <td>30</td>\n",
       "      <td>1</td>\n",
       "    </tr>\n",
       "    <tr>\n",
       "      <th>2547</th>\n",
       "      <td>1</td>\n",
       "      <td>Text82228&gt;&gt; Get more ringtones, logos and game...</td>\n",
       "      <td>101</td>\n",
       "      <td>18</td>\n",
       "      <td>2</td>\n",
       "    </tr>\n",
       "  </tbody>\n",
       "</table>\n",
       "</div>"
      ],
      "text/plain": [
       "      message_type                                            message  \\\n",
       "4679             0  That's cool he'll be here all night, lemme kno...   \n",
       "3211             0                  We got a divorce. Lol. She.s here   \n",
       "574              0                  Nope i waiting in sch 4 daddy...    \n",
       "3858             1  Win the newest åÒHarry Potter and the Order of...   \n",
       "2547             1  Text82228>> Get more ringtones, logos and game...   \n",
       "\n",
       "      num_characters  num_words  num_sentences  \n",
       "4679              66         17              1  \n",
       "3211              33          9              3  \n",
       "574               33          8              1  \n",
       "3858             139         30              1  \n",
       "2547             101         18              2  "
      ]
     },
     "execution_count": 26,
     "metadata": {},
     "output_type": "execute_result"
    }
   ],
   "source": [
    "#finding no. of sentences\n",
    "df['num_sentences']=df['message'].apply(lambda x: len(nltk.sent_tokenize(x)))\n",
    "df.sample(5)"
   ]
  },
  {
   "cell_type": "code",
   "execution_count": 27,
   "id": "65310f02",
   "metadata": {
    "execution": {
     "iopub.execute_input": "2022-07-10T07:04:15.932698Z",
     "iopub.status.busy": "2022-07-10T07:04:15.932041Z",
     "iopub.status.idle": "2022-07-10T07:04:15.955473Z",
     "shell.execute_reply": "2022-07-10T07:04:15.954312Z"
    },
    "papermill": {
     "duration": 0.041472,
     "end_time": "2022-07-10T07:04:15.958195",
     "exception": false,
     "start_time": "2022-07-10T07:04:15.916723",
     "status": "completed"
    },
    "tags": []
   },
   "outputs": [
    {
     "data": {
      "text/html": [
       "<div>\n",
       "<style scoped>\n",
       "    .dataframe tbody tr th:only-of-type {\n",
       "        vertical-align: middle;\n",
       "    }\n",
       "\n",
       "    .dataframe tbody tr th {\n",
       "        vertical-align: top;\n",
       "    }\n",
       "\n",
       "    .dataframe thead th {\n",
       "        text-align: right;\n",
       "    }\n",
       "</style>\n",
       "<table border=\"1\" class=\"dataframe\">\n",
       "  <thead>\n",
       "    <tr style=\"text-align: right;\">\n",
       "      <th></th>\n",
       "      <th>num_characters</th>\n",
       "      <th>num_words</th>\n",
       "      <th>num_sentences</th>\n",
       "    </tr>\n",
       "  </thead>\n",
       "  <tbody>\n",
       "    <tr>\n",
       "      <th>count</th>\n",
       "      <td>5169.000000</td>\n",
       "      <td>5169.000000</td>\n",
       "      <td>5169.000000</td>\n",
       "    </tr>\n",
       "    <tr>\n",
       "      <th>mean</th>\n",
       "      <td>78.977945</td>\n",
       "      <td>18.286129</td>\n",
       "      <td>1.961308</td>\n",
       "    </tr>\n",
       "    <tr>\n",
       "      <th>std</th>\n",
       "      <td>58.236293</td>\n",
       "      <td>13.226400</td>\n",
       "      <td>1.432583</td>\n",
       "    </tr>\n",
       "    <tr>\n",
       "      <th>min</th>\n",
       "      <td>2.000000</td>\n",
       "      <td>1.000000</td>\n",
       "      <td>1.000000</td>\n",
       "    </tr>\n",
       "    <tr>\n",
       "      <th>25%</th>\n",
       "      <td>36.000000</td>\n",
       "      <td>9.000000</td>\n",
       "      <td>1.000000</td>\n",
       "    </tr>\n",
       "    <tr>\n",
       "      <th>50%</th>\n",
       "      <td>60.000000</td>\n",
       "      <td>15.000000</td>\n",
       "      <td>1.000000</td>\n",
       "    </tr>\n",
       "    <tr>\n",
       "      <th>75%</th>\n",
       "      <td>117.000000</td>\n",
       "      <td>26.000000</td>\n",
       "      <td>2.000000</td>\n",
       "    </tr>\n",
       "    <tr>\n",
       "      <th>max</th>\n",
       "      <td>910.000000</td>\n",
       "      <td>219.000000</td>\n",
       "      <td>38.000000</td>\n",
       "    </tr>\n",
       "  </tbody>\n",
       "</table>\n",
       "</div>"
      ],
      "text/plain": [
       "       num_characters    num_words  num_sentences\n",
       "count     5169.000000  5169.000000    5169.000000\n",
       "mean        78.977945    18.286129       1.961308\n",
       "std         58.236293    13.226400       1.432583\n",
       "min          2.000000     1.000000       1.000000\n",
       "25%         36.000000     9.000000       1.000000\n",
       "50%         60.000000    15.000000       1.000000\n",
       "75%        117.000000    26.000000       2.000000\n",
       "max        910.000000   219.000000      38.000000"
      ]
     },
     "execution_count": 27,
     "metadata": {},
     "output_type": "execute_result"
    }
   ],
   "source": [
    "#lets test the describe function on the new 3 columns\n",
    "df[['num_characters','num_words','num_sentences']].describe()"
   ]
  },
  {
   "cell_type": "markdown",
   "id": "6ab4e054",
   "metadata": {
    "papermill": {
     "duration": 0.013771,
     "end_time": "2022-07-10T07:04:15.986071",
     "exception": false,
     "start_time": "2022-07-10T07:04:15.972300",
     "status": "completed"
    },
    "tags": []
   },
   "source": [
    "### For 'ham' messages"
   ]
  },
  {
   "cell_type": "code",
   "execution_count": 28,
   "id": "6be29ed8",
   "metadata": {
    "execution": {
     "iopub.execute_input": "2022-07-10T07:04:16.016729Z",
     "iopub.status.busy": "2022-07-10T07:04:16.016062Z",
     "iopub.status.idle": "2022-07-10T07:04:16.036731Z",
     "shell.execute_reply": "2022-07-10T07:04:16.035716Z"
    },
    "papermill": {
     "duration": 0.038855,
     "end_time": "2022-07-10T07:04:16.038966",
     "exception": false,
     "start_time": "2022-07-10T07:04:16.000111",
     "status": "completed"
    },
    "tags": []
   },
   "outputs": [
    {
     "data": {
      "text/html": [
       "<div>\n",
       "<style scoped>\n",
       "    .dataframe tbody tr th:only-of-type {\n",
       "        vertical-align: middle;\n",
       "    }\n",
       "\n",
       "    .dataframe tbody tr th {\n",
       "        vertical-align: top;\n",
       "    }\n",
       "\n",
       "    .dataframe thead th {\n",
       "        text-align: right;\n",
       "    }\n",
       "</style>\n",
       "<table border=\"1\" class=\"dataframe\">\n",
       "  <thead>\n",
       "    <tr style=\"text-align: right;\">\n",
       "      <th></th>\n",
       "      <th>num_characters</th>\n",
       "      <th>num_words</th>\n",
       "      <th>num_sentences</th>\n",
       "    </tr>\n",
       "  </thead>\n",
       "  <tbody>\n",
       "    <tr>\n",
       "      <th>count</th>\n",
       "      <td>4516.000000</td>\n",
       "      <td>4516.000000</td>\n",
       "      <td>4516.000000</td>\n",
       "    </tr>\n",
       "    <tr>\n",
       "      <th>mean</th>\n",
       "      <td>70.459256</td>\n",
       "      <td>16.957484</td>\n",
       "      <td>1.815545</td>\n",
       "    </tr>\n",
       "    <tr>\n",
       "      <th>std</th>\n",
       "      <td>56.358207</td>\n",
       "      <td>13.394052</td>\n",
       "      <td>1.364098</td>\n",
       "    </tr>\n",
       "    <tr>\n",
       "      <th>min</th>\n",
       "      <td>2.000000</td>\n",
       "      <td>1.000000</td>\n",
       "      <td>1.000000</td>\n",
       "    </tr>\n",
       "    <tr>\n",
       "      <th>25%</th>\n",
       "      <td>34.000000</td>\n",
       "      <td>8.000000</td>\n",
       "      <td>1.000000</td>\n",
       "    </tr>\n",
       "    <tr>\n",
       "      <th>50%</th>\n",
       "      <td>52.000000</td>\n",
       "      <td>13.000000</td>\n",
       "      <td>1.000000</td>\n",
       "    </tr>\n",
       "    <tr>\n",
       "      <th>75%</th>\n",
       "      <td>90.000000</td>\n",
       "      <td>22.000000</td>\n",
       "      <td>2.000000</td>\n",
       "    </tr>\n",
       "    <tr>\n",
       "      <th>max</th>\n",
       "      <td>910.000000</td>\n",
       "      <td>219.000000</td>\n",
       "      <td>38.000000</td>\n",
       "    </tr>\n",
       "  </tbody>\n",
       "</table>\n",
       "</div>"
      ],
      "text/plain": [
       "       num_characters    num_words  num_sentences\n",
       "count     4516.000000  4516.000000    4516.000000\n",
       "mean        70.459256    16.957484       1.815545\n",
       "std         56.358207    13.394052       1.364098\n",
       "min          2.000000     1.000000       1.000000\n",
       "25%         34.000000     8.000000       1.000000\n",
       "50%         52.000000    13.000000       1.000000\n",
       "75%         90.000000    22.000000       2.000000\n",
       "max        910.000000   219.000000      38.000000"
      ]
     },
     "execution_count": 28,
     "metadata": {},
     "output_type": "execute_result"
    }
   ],
   "source": [
    "# lets check describe() for both ham and spam individually\n",
    "df[df['message_type']==0][['num_characters','num_words','num_sentences']].describe()"
   ]
  },
  {
   "cell_type": "markdown",
   "id": "4920b7c0",
   "metadata": {
    "papermill": {
     "duration": 0.015633,
     "end_time": "2022-07-10T07:04:16.070381",
     "exception": false,
     "start_time": "2022-07-10T07:04:16.054748",
     "status": "completed"
    },
    "tags": []
   },
   "source": [
    "### For 'spam' messages"
   ]
  },
  {
   "cell_type": "code",
   "execution_count": 29,
   "id": "be845465",
   "metadata": {
    "execution": {
     "iopub.execute_input": "2022-07-10T07:04:16.101776Z",
     "iopub.status.busy": "2022-07-10T07:04:16.100667Z",
     "iopub.status.idle": "2022-07-10T07:04:16.122002Z",
     "shell.execute_reply": "2022-07-10T07:04:16.120877Z"
    },
    "papermill": {
     "duration": 0.039536,
     "end_time": "2022-07-10T07:04:16.124262",
     "exception": false,
     "start_time": "2022-07-10T07:04:16.084726",
     "status": "completed"
    },
    "tags": []
   },
   "outputs": [
    {
     "data": {
      "text/html": [
       "<div>\n",
       "<style scoped>\n",
       "    .dataframe tbody tr th:only-of-type {\n",
       "        vertical-align: middle;\n",
       "    }\n",
       "\n",
       "    .dataframe tbody tr th {\n",
       "        vertical-align: top;\n",
       "    }\n",
       "\n",
       "    .dataframe thead th {\n",
       "        text-align: right;\n",
       "    }\n",
       "</style>\n",
       "<table border=\"1\" class=\"dataframe\">\n",
       "  <thead>\n",
       "    <tr style=\"text-align: right;\">\n",
       "      <th></th>\n",
       "      <th>num_characters</th>\n",
       "      <th>num_words</th>\n",
       "      <th>num_sentences</th>\n",
       "    </tr>\n",
       "  </thead>\n",
       "  <tbody>\n",
       "    <tr>\n",
       "      <th>count</th>\n",
       "      <td>653.000000</td>\n",
       "      <td>653.000000</td>\n",
       "      <td>653.000000</td>\n",
       "    </tr>\n",
       "    <tr>\n",
       "      <th>mean</th>\n",
       "      <td>137.891271</td>\n",
       "      <td>27.474732</td>\n",
       "      <td>2.969372</td>\n",
       "    </tr>\n",
       "    <tr>\n",
       "      <th>std</th>\n",
       "      <td>30.137753</td>\n",
       "      <td>6.893007</td>\n",
       "      <td>1.488910</td>\n",
       "    </tr>\n",
       "    <tr>\n",
       "      <th>min</th>\n",
       "      <td>13.000000</td>\n",
       "      <td>2.000000</td>\n",
       "      <td>1.000000</td>\n",
       "    </tr>\n",
       "    <tr>\n",
       "      <th>25%</th>\n",
       "      <td>132.000000</td>\n",
       "      <td>25.000000</td>\n",
       "      <td>2.000000</td>\n",
       "    </tr>\n",
       "    <tr>\n",
       "      <th>50%</th>\n",
       "      <td>149.000000</td>\n",
       "      <td>29.000000</td>\n",
       "      <td>3.000000</td>\n",
       "    </tr>\n",
       "    <tr>\n",
       "      <th>75%</th>\n",
       "      <td>157.000000</td>\n",
       "      <td>32.000000</td>\n",
       "      <td>4.000000</td>\n",
       "    </tr>\n",
       "    <tr>\n",
       "      <th>max</th>\n",
       "      <td>224.000000</td>\n",
       "      <td>44.000000</td>\n",
       "      <td>9.000000</td>\n",
       "    </tr>\n",
       "  </tbody>\n",
       "</table>\n",
       "</div>"
      ],
      "text/plain": [
       "       num_characters   num_words  num_sentences\n",
       "count      653.000000  653.000000     653.000000\n",
       "mean       137.891271   27.474732       2.969372\n",
       "std         30.137753    6.893007       1.488910\n",
       "min         13.000000    2.000000       1.000000\n",
       "25%        132.000000   25.000000       2.000000\n",
       "50%        149.000000   29.000000       3.000000\n",
       "75%        157.000000   32.000000       4.000000\n",
       "max        224.000000   44.000000       9.000000"
      ]
     },
     "execution_count": 29,
     "metadata": {},
     "output_type": "execute_result"
    }
   ],
   "source": [
    "df[df['message_type']==1][['num_characters','num_words','num_sentences']].describe()"
   ]
  },
  {
   "cell_type": "markdown",
   "id": "74f5c436",
   "metadata": {
    "papermill": {
     "duration": 0.013889,
     "end_time": "2022-07-10T07:04:16.152478",
     "exception": false,
     "start_time": "2022-07-10T07:04:16.138589",
     "status": "completed"
    },
    "tags": []
   },
   "source": [
    "\n",
    "#### we can clearly see the spam messages are quite longer than the ham messages"
   ]
  },
  {
   "cell_type": "code",
   "execution_count": 30,
   "id": "b48e2eca",
   "metadata": {
    "execution": {
     "iopub.execute_input": "2022-07-10T07:04:16.183406Z",
     "iopub.status.busy": "2022-07-10T07:04:16.182277Z",
     "iopub.status.idle": "2022-07-10T07:04:16.640265Z",
     "shell.execute_reply": "2022-07-10T07:04:16.639457Z"
    },
    "papermill": {
     "duration": 0.475786,
     "end_time": "2022-07-10T07:04:16.642587",
     "exception": false,
     "start_time": "2022-07-10T07:04:16.166801",
     "status": "completed"
    },
    "tags": []
   },
   "outputs": [
    {
     "data": {
      "text/plain": [
       "<AxesSubplot:xlabel='num_characters', ylabel='Count'>"
      ]
     },
     "execution_count": 30,
     "metadata": {},
     "output_type": "execute_result"
    },
    {
     "data": {
      "image/png": "[encoded data removed]",
      "text/plain": [
       "<Figure size 864x432 with 1 Axes>"
      ]
     },
     "metadata": {
      "needs_background": "light"
     },
     "output_type": "display_data"
    }
   ],
   "source": [
    "#for characters\n",
    "plt.figure(figsize=(12,6))\n",
    "sns.histplot(df[df['message_type']==0]['num_characters'],color='green')\n",
    "sns.histplot(df[df['message_type']==1]['num_characters'],color = 'red')\n"
   ]
  },
  {
   "cell_type": "code",
   "execution_count": 31,
   "id": "e8e08f0a",
   "metadata": {
    "execution": {
     "iopub.execute_input": "2022-07-10T07:04:16.674371Z",
     "iopub.status.busy": "2022-07-10T07:04:16.673184Z",
     "iopub.status.idle": "2022-07-10T07:04:17.106769Z",
     "shell.execute_reply": "2022-07-10T07:04:17.105941Z"
    },
    "papermill": {
     "duration": 0.451756,
     "end_time": "2022-07-10T07:04:17.109015",
     "exception": false,
     "start_time": "2022-07-10T07:04:16.657259",
     "status": "completed"
    },
    "tags": []
   },
   "outputs": [
    {
     "data": {
      "text/plain": [
       "<AxesSubplot:xlabel='num_words', ylabel='Count'>"
      ]
     },
     "execution_count": 31,
     "metadata": {},
     "output_type": "execute_result"
    },
    {
     "data": {
      "image/png": "[encoded data removed]",
      "text/plain": [
       "<Figure size 864x432 with 1 Axes>"
      ]
     },
     "metadata": {
      "needs_background": "light"
     },
     "output_type": "display_data"
    }
   ],
   "source": [
    "#for words\n",
    "plt.figure(figsize=(12,6))\n",
    "sns.histplot(df[df['message_type']==0]['num_words'],color='green')\n",
    "sns.histplot(df[df['message_type']==1]['num_words'],color='red')"
   ]
  },
  {
   "cell_type": "code",
   "execution_count": null,
   "id": "025e8700",
   "metadata": {
    "papermill": {
     "duration": 0.014791,
     "end_time": "2022-07-10T07:04:17.138809",
     "exception": false,
     "start_time": "2022-07-10T07:04:17.124018",
     "status": "completed"
    },
    "tags": []
   },
   "outputs": [],
   "source": []
  }
 ],
 "metadata": {
  "kernelspec": {
   "display_name": "Python 3",
   "language": "python",
   "name": "python3"
  },
  "language_info": {
   "codemirror_mode": {
    "name": "ipython",
    "version": 3
   },
   "file_extension": ".py",
   "mimetype": "text/x-python",
   "name": "python",
   "nbconvert_exporter": "python",
   "pygments_lexer": "ipython3",
   "version": "3.7.12"
  },
  "papermill": {
   "default_parameters": {},
   "duration": 19.642398,
   "end_time": "2022-07-10T07:04:17.975807",
   "environment_variables": {},
   "exception": null,
   "input_path": "__notebook__.ipynb",
   "output_path": "__notebook__.ipynb",
   "parameters": {},
   "start_time": "2022-07-10T07:03:58.333409",
   "version": "2.3.4"
  }
 },
 "nbformat": 4,
 "nbformat_minor": 5
}
