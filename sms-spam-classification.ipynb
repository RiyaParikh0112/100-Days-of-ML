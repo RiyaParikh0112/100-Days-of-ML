{
 "cells": [
  {
   "cell_type": "markdown",
   "id": "6216dd55",
   "metadata": {
    "_cell_guid": "b1076dfc-b9ad-4769-8c92-a6c4dae69d19",
    "_uuid": "8f2839f25d086af736a60e9eeb907d3b93b6e0e5",
    "papermill": {
     "duration": 0.01459,
     "end_time": "2022-07-10T07:32:56.263805",
     "exception": false,
     "start_time": "2022-07-10T07:32:56.249215",
     "status": "completed"
    },
    "tags": []
   },
   "source": [
    "# SMS Spam Classification"
   ]
  },
  {
   "cell_type": "code",
   "execution_count": 1,
   "id": "c706dcf1",
   "metadata": {
    "execution": {
     "iopub.execute_input": "2022-07-10T07:32:56.291767Z",
     "iopub.status.busy": "2022-07-10T07:32:56.291246Z",
     "iopub.status.idle": "2022-07-10T07:32:56.305514Z",
     "shell.execute_reply": "2022-07-10T07:32:56.304101Z"
    },
    "papermill": {
     "duration": 0.031095,
     "end_time": "2022-07-10T07:32:56.307873",
     "exception": false,
     "start_time": "2022-07-10T07:32:56.276778",
     "status": "completed"
    },
    "tags": []
   },
   "outputs": [],
   "source": [
    "import pandas as pd\n",
    "import numpy as np"
   ]
  },
  {
   "cell_type": "code",
   "execution_count": 2,
   "id": "22b4338c",
   "metadata": {
    "execution": {
     "iopub.execute_input": "2022-07-10T07:32:56.336033Z",
     "iopub.status.busy": "2022-07-10T07:32:56.335541Z",
     "iopub.status.idle": "2022-07-10T07:32:56.376327Z",
     "shell.execute_reply": "2022-07-10T07:32:56.375193Z"
    },
    "papermill": {
     "duration": 0.058172,
     "end_time": "2022-07-10T07:32:56.378921",
     "exception": false,
     "start_time": "2022-07-10T07:32:56.320749",
     "status": "completed"
    },
    "tags": []
   },
   "outputs": [],
   "source": [
    "df = pd.read_csv('/kaggle/input/sms-spam-collection-dataset/spam.csv',encoding='latin-1')"
   ]
  },
  {
   "cell_type": "code",
   "execution_count": 3,
   "id": "793b6218",
   "metadata": {
    "execution": {
     "iopub.execute_input": "2022-07-10T07:32:56.409257Z",
     "iopub.status.busy": "2022-07-10T07:32:56.407911Z",
     "iopub.status.idle": "2022-07-10T07:32:56.435374Z",
     "shell.execute_reply": "2022-07-10T07:32:56.434396Z"
    },
    "papermill": {
     "duration": 0.045662,
     "end_time": "2022-07-10T07:32:56.437500",
     "exception": false,
     "start_time": "2022-07-10T07:32:56.391838",
     "status": "completed"
    },
    "tags": []
   },
   "outputs": [
    {
     "data": {
      "text/html": [
       "<div>\n",
       "<style scoped>\n",
       "    .dataframe tbody tr th:only-of-type {\n",
       "        vertical-align: middle;\n",
       "    }\n",
       "\n",
       "    .dataframe tbody tr th {\n",
       "        vertical-align: top;\n",
       "    }\n",
       "\n",
       "    .dataframe thead th {\n",
       "        text-align: right;\n",
       "    }\n",
       "</style>\n",
       "<table border=\"1\" class=\"dataframe\">\n",
       "  <thead>\n",
       "    <tr style=\"text-align: right;\">\n",
       "      <th></th>\n",
       "      <th>v1</th>\n",
       "      <th>v2</th>\n",
       "      <th>Unnamed: 2</th>\n",
       "      <th>Unnamed: 3</th>\n",
       "      <th>Unnamed: 4</th>\n",
       "    </tr>\n",
       "  </thead>\n",
       "  <tbody>\n",
       "    <tr>\n",
       "      <th>3582</th>\n",
       "      <td>ham</td>\n",
       "      <td>I sent your maga that money yesterday oh.</td>\n",
       "      <td>NaN</td>\n",
       "      <td>NaN</td>\n",
       "      <td>NaN</td>\n",
       "    </tr>\n",
       "    <tr>\n",
       "      <th>1675</th>\n",
       "      <td>ham</td>\n",
       "      <td>Painful words- \\I thought being Happy was the ...</td>\n",
       "      <td>the toughest is acting Happy with all unspoke...</td>\n",
       "      <td>NaN</td>\n",
       "      <td>NaN</td>\n",
       "    </tr>\n",
       "    <tr>\n",
       "      <th>4761</th>\n",
       "      <td>ham</td>\n",
       "      <td>Me too! Have a lovely night xxx</td>\n",
       "      <td>NaN</td>\n",
       "      <td>NaN</td>\n",
       "      <td>NaN</td>\n",
       "    </tr>\n",
       "    <tr>\n",
       "      <th>2546</th>\n",
       "      <td>ham</td>\n",
       "      <td>Company is very good.environment is terrific a...</td>\n",
       "      <td>NaN</td>\n",
       "      <td>NaN</td>\n",
       "      <td>NaN</td>\n",
       "    </tr>\n",
       "    <tr>\n",
       "      <th>1366</th>\n",
       "      <td>ham</td>\n",
       "      <td>Bbq this sat at mine from 6ish. Ur welcome 2 come</td>\n",
       "      <td>NaN</td>\n",
       "      <td>NaN</td>\n",
       "      <td>NaN</td>\n",
       "    </tr>\n",
       "  </tbody>\n",
       "</table>\n",
       "</div>"
      ],
      "text/plain": [
       "       v1                                                 v2  \\\n",
       "3582  ham          I sent your maga that money yesterday oh.   \n",
       "1675  ham  Painful words- \\I thought being Happy was the ...   \n",
       "4761  ham                    Me too! Have a lovely night xxx   \n",
       "2546  ham  Company is very good.environment is terrific a...   \n",
       "1366  ham  Bbq this sat at mine from 6ish. Ur welcome 2 come   \n",
       "\n",
       "                                             Unnamed: 2 Unnamed: 3 Unnamed: 4  \n",
       "3582                                                NaN        NaN        NaN  \n",
       "1675   the toughest is acting Happy with all unspoke...        NaN        NaN  \n",
       "4761                                                NaN        NaN        NaN  \n",
       "2546                                                NaN        NaN        NaN  \n",
       "1366                                                NaN        NaN        NaN  "
      ]
     },
     "execution_count": 3,
     "metadata": {},
     "output_type": "execute_result"
    }
   ],
   "source": [
    "df.sample(5)"
   ]
  },
  {
   "cell_type": "code",
   "execution_count": 4,
   "id": "190b8c09",
   "metadata": {
    "execution": {
     "iopub.execute_input": "2022-07-10T07:32:56.467806Z",
     "iopub.status.busy": "2022-07-10T07:32:56.466751Z",
     "iopub.status.idle": "2022-07-10T07:32:56.473522Z",
     "shell.execute_reply": "2022-07-10T07:32:56.472551Z"
    },
    "papermill": {
     "duration": 0.024944,
     "end_time": "2022-07-10T07:32:56.475630",
     "exception": false,
     "start_time": "2022-07-10T07:32:56.450686",
     "status": "completed"
    },
    "tags": []
   },
   "outputs": [
    {
     "data": {
      "text/plain": [
       "(5572, 5)"
      ]
     },
     "execution_count": 4,
     "metadata": {},
     "output_type": "execute_result"
    }
   ],
   "source": [
    "df.shape"
   ]
  },
  {
   "cell_type": "markdown",
   "id": "6b88dac8",
   "metadata": {
    "papermill": {
     "duration": 0.013006,
     "end_time": "2022-07-10T07:32:56.502226",
     "exception": false,
     "start_time": "2022-07-10T07:32:56.489220",
     "status": "completed"
    },
    "tags": []
   },
   "source": [
    "**Now lets start working with the data and make some amazing conclusions**"
   ]
  },
  {
   "cell_type": "markdown",
   "id": "e962afb2",
   "metadata": {
    "execution": {
     "iopub.execute_input": "2022-07-10T04:35:58.217491Z",
     "iopub.status.busy": "2022-07-10T04:35:58.216357Z",
     "iopub.status.idle": "2022-07-10T04:35:58.221486Z",
     "shell.execute_reply": "2022-07-10T04:35:58.220739Z",
     "shell.execute_reply.started": "2022-07-10T04:35:58.217454Z"
    },
    "papermill": {
     "duration": 0.012936,
     "end_time": "2022-07-10T07:32:56.528431",
     "exception": false,
     "start_time": "2022-07-10T07:32:56.515495",
     "status": "completed"
    },
    "tags": []
   },
   "source": [
    "## 1. Data Cleaning\n",
    "## 2. EDA\n",
    "## 3. Data Preprocessing --vectorization,stemming,remove stop words\n",
    "## 4. Model Building\n",
    "## 5. Evaluate the model\n",
    "## 6. Improve the model\n",
    "## 7. Website\n",
    "## 8. Deployment on Heroku\n"
   ]
  },
  {
   "cell_type": "markdown",
   "id": "169bff47",
   "metadata": {
    "papermill": {
     "duration": 0.012815,
     "end_time": "2022-07-10T07:32:56.554677",
     "exception": false,
     "start_time": "2022-07-10T07:32:56.541862",
     "status": "completed"
    },
    "tags": []
   },
   "source": [
    "# *1. Data Cleaning*"
   ]
  },
  {
   "cell_type": "code",
   "execution_count": 5,
   "id": "56293db7",
   "metadata": {
    "execution": {
     "iopub.execute_input": "2022-07-10T07:32:56.583681Z",
     "iopub.status.busy": "2022-07-10T07:32:56.582763Z",
     "iopub.status.idle": "2022-07-10T07:32:56.614203Z",
     "shell.execute_reply": "2022-07-10T07:32:56.612970Z"
    },
    "papermill": {
     "duration": 0.049492,
     "end_time": "2022-07-10T07:32:56.617441",
     "exception": false,
     "start_time": "2022-07-10T07:32:56.567949",
     "status": "completed"
    },
    "tags": []
   },
   "outputs": [
    {
     "name": "stdout",
     "output_type": "stream",
     "text": [
      "<class 'pandas.core.frame.DataFrame'>\n",
      "RangeIndex: 5572 entries, 0 to 5571\n",
      "Data columns (total 5 columns):\n",
      " #   Column      Non-Null Count  Dtype \n",
      "---  ------      --------------  ----- \n",
      " 0   v1          5572 non-null   object\n",
      " 1   v2          5572 non-null   object\n",
      " 2   Unnamed: 2  50 non-null     object\n",
      " 3   Unnamed: 3  12 non-null     object\n",
      " 4   Unnamed: 4  6 non-null      object\n",
      "dtypes: object(5)\n",
      "memory usage: 217.8+ KB\n"
     ]
    }
   ],
   "source": [
    "df.info()"
   ]
  },
  {
   "cell_type": "code",
   "execution_count": 6,
   "id": "e273c909",
   "metadata": {
    "execution": {
     "iopub.execute_input": "2022-07-10T07:32:56.647813Z",
     "iopub.status.busy": "2022-07-10T07:32:56.647346Z",
     "iopub.status.idle": "2022-07-10T07:32:56.663045Z",
     "shell.execute_reply": "2022-07-10T07:32:56.661585Z"
    },
    "papermill": {
     "duration": 0.034372,
     "end_time": "2022-07-10T07:32:56.665477",
     "exception": false,
     "start_time": "2022-07-10T07:32:56.631105",
     "status": "completed"
    },
    "tags": []
   },
   "outputs": [
    {
     "data": {
      "text/html": [
       "<div>\n",
       "<style scoped>\n",
       "    .dataframe tbody tr th:only-of-type {\n",
       "        vertical-align: middle;\n",
       "    }\n",
       "\n",
       "    .dataframe tbody tr th {\n",
       "        vertical-align: top;\n",
       "    }\n",
       "\n",
       "    .dataframe thead th {\n",
       "        text-align: right;\n",
       "    }\n",
       "</style>\n",
       "<table border=\"1\" class=\"dataframe\">\n",
       "  <thead>\n",
       "    <tr style=\"text-align: right;\">\n",
       "      <th></th>\n",
       "      <th>v1</th>\n",
       "      <th>v2</th>\n",
       "    </tr>\n",
       "  </thead>\n",
       "  <tbody>\n",
       "    <tr>\n",
       "      <th>2663</th>\n",
       "      <td>spam</td>\n",
       "      <td>8007 FREE for 1st week! No1 Nokia tone 4 ur mo...</td>\n",
       "    </tr>\n",
       "    <tr>\n",
       "      <th>2128</th>\n",
       "      <td>ham</td>\n",
       "      <td>Well I'm going to be an aunty!</td>\n",
       "    </tr>\n",
       "    <tr>\n",
       "      <th>4978</th>\n",
       "      <td>ham</td>\n",
       "      <td>Spending new years with my brother and his fam...</td>\n",
       "    </tr>\n",
       "    <tr>\n",
       "      <th>202</th>\n",
       "      <td>ham</td>\n",
       "      <td>Your account has been refilled successfully by...</td>\n",
       "    </tr>\n",
       "    <tr>\n",
       "      <th>2211</th>\n",
       "      <td>ham</td>\n",
       "      <td>Just gettin a bit arty with my collages at the...</td>\n",
       "    </tr>\n",
       "  </tbody>\n",
       "</table>\n",
       "</div>"
      ],
      "text/plain": [
       "        v1                                                 v2\n",
       "2663  spam  8007 FREE for 1st week! No1 Nokia tone 4 ur mo...\n",
       "2128   ham                     Well I'm going to be an aunty!\n",
       "4978   ham  Spending new years with my brother and his fam...\n",
       "202    ham  Your account has been refilled successfully by...\n",
       "2211   ham  Just gettin a bit arty with my collages at the..."
      ]
     },
     "execution_count": 6,
     "metadata": {},
     "output_type": "execute_result"
    }
   ],
   "source": [
    "# the above information shows that columns 2 3 4 have too much null values so it is good to drop it\n",
    "df.drop(columns=['Unnamed: 2','Unnamed: 3','Unnamed: 4'],inplace= True)\n",
    "#inplace= True because we permanently want to bring change in the original dataset\n",
    "df.sample(5)"
   ]
  },
  {
   "cell_type": "code",
   "execution_count": 7,
   "id": "499c7006",
   "metadata": {
    "execution": {
     "iopub.execute_input": "2022-07-10T07:32:56.696437Z",
     "iopub.status.busy": "2022-07-10T07:32:56.695055Z",
     "iopub.status.idle": "2022-07-10T07:32:56.703383Z",
     "shell.execute_reply": "2022-07-10T07:32:56.701836Z"
    },
    "papermill": {
     "duration": 0.026648,
     "end_time": "2022-07-10T07:32:56.705980",
     "exception": false,
     "start_time": "2022-07-10T07:32:56.679332",
     "status": "completed"
    },
    "tags": []
   },
   "outputs": [],
   "source": [
    "# as the column names are not to descriptive lets rename the names of the columns\n",
    "df.rename(columns={'v1':'message_type', 'v2':'message'},inplace=True)"
   ]
  },
  {
   "cell_type": "code",
   "execution_count": 8,
   "id": "31784e08",
   "metadata": {
    "execution": {
     "iopub.execute_input": "2022-07-10T07:32:56.736859Z",
     "iopub.status.busy": "2022-07-10T07:32:56.736396Z",
     "iopub.status.idle": "2022-07-10T07:32:56.750270Z",
     "shell.execute_reply": "2022-07-10T07:32:56.748690Z"
    },
    "papermill": {
     "duration": 0.032354,
     "end_time": "2022-07-10T07:32:56.752789",
     "exception": false,
     "start_time": "2022-07-10T07:32:56.720435",
     "status": "completed"
    },
    "tags": []
   },
   "outputs": [
    {
     "data": {
      "text/html": [
       "<div>\n",
       "<style scoped>\n",
       "    .dataframe tbody tr th:only-of-type {\n",
       "        vertical-align: middle;\n",
       "    }\n",
       "\n",
       "    .dataframe tbody tr th {\n",
       "        vertical-align: top;\n",
       "    }\n",
       "\n",
       "    .dataframe thead th {\n",
       "        text-align: right;\n",
       "    }\n",
       "</style>\n",
       "<table border=\"1\" class=\"dataframe\">\n",
       "  <thead>\n",
       "    <tr style=\"text-align: right;\">\n",
       "      <th></th>\n",
       "      <th>message_type</th>\n",
       "      <th>message</th>\n",
       "    </tr>\n",
       "  </thead>\n",
       "  <tbody>\n",
       "    <tr>\n",
       "      <th>1884</th>\n",
       "      <td>ham</td>\n",
       "      <td>I love your ass! Do you enjoy doggy style? :)</td>\n",
       "    </tr>\n",
       "    <tr>\n",
       "      <th>1957</th>\n",
       "      <td>ham</td>\n",
       "      <td>Take something for pain. If it moves however t...</td>\n",
       "    </tr>\n",
       "    <tr>\n",
       "      <th>4044</th>\n",
       "      <td>ham</td>\n",
       "      <td>If You mean the website. Yes.</td>\n",
       "    </tr>\n",
       "    <tr>\n",
       "      <th>482</th>\n",
       "      <td>ham</td>\n",
       "      <td>Watching tv lor...</td>\n",
       "    </tr>\n",
       "    <tr>\n",
       "      <th>3568</th>\n",
       "      <td>ham</td>\n",
       "      <td>She's fine. Sends her greetings</td>\n",
       "    </tr>\n",
       "  </tbody>\n",
       "</table>\n",
       "</div>"
      ],
      "text/plain": [
       "     message_type                                            message\n",
       "1884          ham      I love your ass! Do you enjoy doggy style? :)\n",
       "1957          ham  Take something for pain. If it moves however t...\n",
       "4044          ham                      If You mean the website. Yes.\n",
       "482           ham                                 Watching tv lor...\n",
       "3568          ham                    She's fine. Sends her greetings"
      ]
     },
     "execution_count": 8,
     "metadata": {},
     "output_type": "execute_result"
    }
   ],
   "source": [
    "df.sample(5)"
   ]
  },
  {
   "cell_type": "code",
   "execution_count": 9,
   "id": "9064e4ec",
   "metadata": {
    "execution": {
     "iopub.execute_input": "2022-07-10T07:32:56.783705Z",
     "iopub.status.busy": "2022-07-10T07:32:56.782719Z",
     "iopub.status.idle": "2022-07-10T07:32:56.789065Z",
     "shell.execute_reply": "2022-07-10T07:32:56.787636Z"
    },
    "papermill": {
     "duration": 0.024251,
     "end_time": "2022-07-10T07:32:56.791565",
     "exception": false,
     "start_time": "2022-07-10T07:32:56.767314",
     "status": "completed"
    },
    "tags": []
   },
   "outputs": [],
   "source": [
    "# in the message type, they are classified as 'ham' and 'spam' but we want it as 1 and O so lets import Label Encoder"
   ]
  },
  {
   "cell_type": "code",
   "execution_count": 10,
   "id": "1432c403",
   "metadata": {
    "execution": {
     "iopub.execute_input": "2022-07-10T07:32:56.821000Z",
     "iopub.status.busy": "2022-07-10T07:32:56.820500Z",
     "iopub.status.idle": "2022-07-10T07:32:58.087233Z",
     "shell.execute_reply": "2022-07-10T07:32:58.085569Z"
    },
    "papermill": {
     "duration": 1.285321,
     "end_time": "2022-07-10T07:32:58.090560",
     "exception": false,
     "start_time": "2022-07-10T07:32:56.805239",
     "status": "completed"
    },
    "tags": []
   },
   "outputs": [],
   "source": [
    "from sklearn.preprocessing import LabelEncoder\n",
    "encoder =LabelEncoder()"
   ]
  },
  {
   "cell_type": "code",
   "execution_count": 11,
   "id": "d0d89344",
   "metadata": {
    "execution": {
     "iopub.execute_input": "2022-07-10T07:32:58.121538Z",
     "iopub.status.busy": "2022-07-10T07:32:58.121111Z",
     "iopub.status.idle": "2022-07-10T07:32:58.134329Z",
     "shell.execute_reply": "2022-07-10T07:32:58.132934Z"
    },
    "papermill": {
     "duration": 0.031603,
     "end_time": "2022-07-10T07:32:58.136747",
     "exception": false,
     "start_time": "2022-07-10T07:32:58.105144",
     "status": "completed"
    },
    "tags": []
   },
   "outputs": [
    {
     "data": {
      "text/plain": [
       "812     1\n",
       "4774    0\n",
       "2021    0\n",
       "4564    0\n",
       "3488    0\n",
       "Name: message_type, dtype: int64"
      ]
     },
     "execution_count": 11,
     "metadata": {},
     "output_type": "execute_result"
    }
   ],
   "source": [
    "df['message_type']=encoder.fit_transform(df['message_type'])\n",
    "df['message_type'].sample(5)"
   ]
  },
  {
   "cell_type": "code",
   "execution_count": 12,
   "id": "71b2a208",
   "metadata": {
    "execution": {
     "iopub.execute_input": "2022-07-10T07:32:58.168817Z",
     "iopub.status.busy": "2022-07-10T07:32:58.167234Z",
     "iopub.status.idle": "2022-07-10T07:32:58.184965Z",
     "shell.execute_reply": "2022-07-10T07:32:58.183743Z"
    },
    "papermill": {
     "duration": 0.03634,
     "end_time": "2022-07-10T07:32:58.187601",
     "exception": false,
     "start_time": "2022-07-10T07:32:58.151261",
     "status": "completed"
    },
    "tags": []
   },
   "outputs": [
    {
     "data": {
      "text/html": [
       "<div>\n",
       "<style scoped>\n",
       "    .dataframe tbody tr th:only-of-type {\n",
       "        vertical-align: middle;\n",
       "    }\n",
       "\n",
       "    .dataframe tbody tr th {\n",
       "        vertical-align: top;\n",
       "    }\n",
       "\n",
       "    .dataframe thead th {\n",
       "        text-align: right;\n",
       "    }\n",
       "</style>\n",
       "<table border=\"1\" class=\"dataframe\">\n",
       "  <thead>\n",
       "    <tr style=\"text-align: right;\">\n",
       "      <th></th>\n",
       "      <th>message_type</th>\n",
       "      <th>message</th>\n",
       "    </tr>\n",
       "  </thead>\n",
       "  <tbody>\n",
       "    <tr>\n",
       "      <th>2</th>\n",
       "      <td>1</td>\n",
       "      <td>Free entry in 2 a wkly comp to win FA Cup fina...</td>\n",
       "    </tr>\n",
       "    <tr>\n",
       "      <th>5</th>\n",
       "      <td>1</td>\n",
       "      <td>FreeMsg Hey there darling it's been 3 week's n...</td>\n",
       "    </tr>\n",
       "    <tr>\n",
       "      <th>8</th>\n",
       "      <td>1</td>\n",
       "      <td>WINNER!! As a valued network customer you have...</td>\n",
       "    </tr>\n",
       "    <tr>\n",
       "      <th>9</th>\n",
       "      <td>1</td>\n",
       "      <td>Had your mobile 11 months or more? U R entitle...</td>\n",
       "    </tr>\n",
       "    <tr>\n",
       "      <th>11</th>\n",
       "      <td>1</td>\n",
       "      <td>SIX chances to win CASH! From 100 to 20,000 po...</td>\n",
       "    </tr>\n",
       "    <tr>\n",
       "      <th>...</th>\n",
       "      <td>...</td>\n",
       "      <td>...</td>\n",
       "    </tr>\n",
       "    <tr>\n",
       "      <th>5537</th>\n",
       "      <td>1</td>\n",
       "      <td>Want explicit SEX in 30 secs? Ring 02073162414...</td>\n",
       "    </tr>\n",
       "    <tr>\n",
       "      <th>5540</th>\n",
       "      <td>1</td>\n",
       "      <td>ASKED 3MOBILE IF 0870 CHATLINES INCLU IN FREE ...</td>\n",
       "    </tr>\n",
       "    <tr>\n",
       "      <th>5547</th>\n",
       "      <td>1</td>\n",
       "      <td>Had your contract mobile 11 Mnths? Latest Moto...</td>\n",
       "    </tr>\n",
       "    <tr>\n",
       "      <th>5566</th>\n",
       "      <td>1</td>\n",
       "      <td>REMINDER FROM O2: To get 2.50 pounds free call...</td>\n",
       "    </tr>\n",
       "    <tr>\n",
       "      <th>5567</th>\n",
       "      <td>1</td>\n",
       "      <td>This is the 2nd time we have tried 2 contact u...</td>\n",
       "    </tr>\n",
       "  </tbody>\n",
       "</table>\n",
       "<p>747 rows × 2 columns</p>\n",
       "</div>"
      ],
      "text/plain": [
       "      message_type                                            message\n",
       "2                1  Free entry in 2 a wkly comp to win FA Cup fina...\n",
       "5                1  FreeMsg Hey there darling it's been 3 week's n...\n",
       "8                1  WINNER!! As a valued network customer you have...\n",
       "9                1  Had your mobile 11 months or more? U R entitle...\n",
       "11               1  SIX chances to win CASH! From 100 to 20,000 po...\n",
       "...            ...                                                ...\n",
       "5537             1  Want explicit SEX in 30 secs? Ring 02073162414...\n",
       "5540             1  ASKED 3MOBILE IF 0870 CHATLINES INCLU IN FREE ...\n",
       "5547             1  Had your contract mobile 11 Mnths? Latest Moto...\n",
       "5566             1  REMINDER FROM O2: To get 2.50 pounds free call...\n",
       "5567             1  This is the 2nd time we have tried 2 contact u...\n",
       "\n",
       "[747 rows x 2 columns]"
      ]
     },
     "execution_count": 12,
     "metadata": {},
     "output_type": "execute_result"
    }
   ],
   "source": [
    "df[df['message_type']==1]\n",
    "# there are 747 spam messages in the dataset"
   ]
  },
  {
   "cell_type": "code",
   "execution_count": 13,
   "id": "7eb032d1",
   "metadata": {
    "execution": {
     "iopub.execute_input": "2022-07-10T07:32:58.219900Z",
     "iopub.status.busy": "2022-07-10T07:32:58.218929Z",
     "iopub.status.idle": "2022-07-10T07:32:58.231706Z",
     "shell.execute_reply": "2022-07-10T07:32:58.230088Z"
    },
    "papermill": {
     "duration": 0.032202,
     "end_time": "2022-07-10T07:32:58.234541",
     "exception": false,
     "start_time": "2022-07-10T07:32:58.202339",
     "status": "completed"
    },
    "tags": []
   },
   "outputs": [
    {
     "data": {
      "text/plain": [
       "message_type    0\n",
       "message         0\n",
       "dtype: int64"
      ]
     },
     "execution_count": 13,
     "metadata": {},
     "output_type": "execute_result"
    }
   ],
   "source": [
    "#now lets check the missing values\n",
    "df.isnull().sum()\n",
    "# there are no missing values"
   ]
  },
  {
   "cell_type": "code",
   "execution_count": 14,
   "id": "36567bb0",
   "metadata": {
    "execution": {
     "iopub.execute_input": "2022-07-10T07:32:58.266735Z",
     "iopub.status.busy": "2022-07-10T07:32:58.266285Z",
     "iopub.status.idle": "2022-07-10T07:32:58.280607Z",
     "shell.execute_reply": "2022-07-10T07:32:58.279092Z"
    },
    "papermill": {
     "duration": 0.0335,
     "end_time": "2022-07-10T07:32:58.283173",
     "exception": false,
     "start_time": "2022-07-10T07:32:58.249673",
     "status": "completed"
    },
    "tags": []
   },
   "outputs": [
    {
     "data": {
      "text/plain": [
       "403"
      ]
     },
     "execution_count": 14,
     "metadata": {},
     "output_type": "execute_result"
    }
   ],
   "source": [
    "# now lets check for duplicated values\n",
    "df.duplicated().sum()\n"
   ]
  },
  {
   "cell_type": "markdown",
   "id": "f94edadf",
   "metadata": {
    "papermill": {
     "duration": 0.014392,
     "end_time": "2022-07-10T07:32:58.312492",
     "exception": false,
     "start_time": "2022-07-10T07:32:58.298100",
     "status": "completed"
    },
    "tags": []
   },
   "source": [
    "*There are 403 duplicate values so we simply have to remove those values* "
   ]
  },
  {
   "cell_type": "code",
   "execution_count": 15,
   "id": "aa56647e",
   "metadata": {
    "execution": {
     "iopub.execute_input": "2022-07-10T07:32:58.343754Z",
     "iopub.status.busy": "2022-07-10T07:32:58.343300Z",
     "iopub.status.idle": "2022-07-10T07:32:58.353051Z",
     "shell.execute_reply": "2022-07-10T07:32:58.351948Z"
    },
    "papermill": {
     "duration": 0.028865,
     "end_time": "2022-07-10T07:32:58.356006",
     "exception": false,
     "start_time": "2022-07-10T07:32:58.327141",
     "status": "completed"
    },
    "tags": []
   },
   "outputs": [],
   "source": [
    "#remove the duplicates\n",
    "df= df.drop_duplicates()"
   ]
  },
  {
   "cell_type": "code",
   "execution_count": 16,
   "id": "77e4da4a",
   "metadata": {
    "execution": {
     "iopub.execute_input": "2022-07-10T07:32:58.388290Z",
     "iopub.status.busy": "2022-07-10T07:32:58.387864Z",
     "iopub.status.idle": "2022-07-10T07:32:58.399542Z",
     "shell.execute_reply": "2022-07-10T07:32:58.398243Z"
    },
    "papermill": {
     "duration": 0.031103,
     "end_time": "2022-07-10T07:32:58.402253",
     "exception": false,
     "start_time": "2022-07-10T07:32:58.371150",
     "status": "completed"
    },
    "tags": []
   },
   "outputs": [
    {
     "data": {
      "text/plain": [
       "0"
      ]
     },
     "execution_count": 16,
     "metadata": {},
     "output_type": "execute_result"
    }
   ],
   "source": [
    "df.duplicated().sum()"
   ]
  },
  {
   "cell_type": "markdown",
   "id": "d34550ed",
   "metadata": {
    "papermill": {
     "duration": 0.014535,
     "end_time": "2022-07-10T07:32:58.431803",
     "exception": false,
     "start_time": "2022-07-10T07:32:58.417268",
     "status": "completed"
    },
    "tags": []
   },
   "source": [
    "# 2. Exploratory Data Analysis"
   ]
  },
  {
   "cell_type": "markdown",
   "id": "471d1e26",
   "metadata": {
    "papermill": {
     "duration": 0.014603,
     "end_time": "2022-07-10T07:32:58.461416",
     "exception": false,
     "start_time": "2022-07-10T07:32:58.446813",
     "status": "completed"
    },
    "tags": []
   },
   "source": [
    "### *Lets visualize this classification problem to get a better understanding of the data*"
   ]
  },
  {
   "cell_type": "code",
   "execution_count": 17,
   "id": "1f26fbf0",
   "metadata": {
    "execution": {
     "iopub.execute_input": "2022-07-10T07:32:58.493736Z",
     "iopub.status.busy": "2022-07-10T07:32:58.492956Z",
     "iopub.status.idle": "2022-07-10T07:32:58.695907Z",
     "shell.execute_reply": "2022-07-10T07:32:58.694299Z"
    },
    "papermill": {
     "duration": 0.222641,
     "end_time": "2022-07-10T07:32:58.699290",
     "exception": false,
     "start_time": "2022-07-10T07:32:58.476649",
     "status": "completed"
    },
    "tags": []
   },
   "outputs": [],
   "source": [
    "import seaborn as sns\n",
    "import matplotlib.pyplot as plt\n"
   ]
  },
  {
   "cell_type": "code",
   "execution_count": 18,
   "id": "d24fcb00",
   "metadata": {
    "execution": {
     "iopub.execute_input": "2022-07-10T07:32:58.731076Z",
     "iopub.status.busy": "2022-07-10T07:32:58.730600Z",
     "iopub.status.idle": "2022-07-10T07:32:58.738692Z",
     "shell.execute_reply": "2022-07-10T07:32:58.737836Z"
    },
    "papermill": {
     "duration": 0.026533,
     "end_time": "2022-07-10T07:32:58.740880",
     "exception": false,
     "start_time": "2022-07-10T07:32:58.714347",
     "status": "completed"
    },
    "tags": []
   },
   "outputs": [
    {
     "data": {
      "text/plain": [
       "0    4516\n",
       "1     653\n",
       "Name: message_type, dtype: int64"
      ]
     },
     "execution_count": 18,
     "metadata": {},
     "output_type": "execute_result"
    }
   ],
   "source": [
    "df['message_type'].value_counts()"
   ]
  },
  {
   "cell_type": "code",
   "execution_count": 19,
   "id": "676bbf15",
   "metadata": {
    "execution": {
     "iopub.execute_input": "2022-07-10T07:32:58.772382Z",
     "iopub.status.busy": "2022-07-10T07:32:58.771695Z",
     "iopub.status.idle": "2022-07-10T07:32:58.921249Z",
     "shell.execute_reply": "2022-07-10T07:32:58.919645Z"
    },
    "papermill": {
     "duration": 0.168705,
     "end_time": "2022-07-10T07:32:58.924129",
     "exception": false,
     "start_time": "2022-07-10T07:32:58.755424",
     "status": "completed"
    },
    "tags": []
   },
   "outputs": [
    {
     "data": {
      "image/png": "[encoded data removed]",
      "text/plain": [
       "<Figure size 432x288 with 1 Axes>"
      ]
     },
     "metadata": {},
     "output_type": "display_data"
    }
   ],
   "source": [
    "plt.pie(df['message_type'].value_counts(),labels=[' not spam','spam'],autopct='%0.2f')\n",
    "plt.show()"
   ]
  },
  {
   "cell_type": "markdown",
   "id": "03ca3695",
   "metadata": {
    "papermill": {
     "duration": 0.014779,
     "end_time": "2022-07-10T07:32:58.954274",
     "exception": false,
     "start_time": "2022-07-10T07:32:58.939495",
     "status": "completed"
    },
    "tags": []
   },
   "source": [
    "### there is imbalance in data"
   ]
  },
  {
   "cell_type": "code",
   "execution_count": 20,
   "id": "851bb77b",
   "metadata": {
    "execution": {
     "iopub.execute_input": "2022-07-10T07:32:58.987602Z",
     "iopub.status.busy": "2022-07-10T07:32:58.986864Z",
     "iopub.status.idle": "2022-07-10T07:32:58.992875Z",
     "shell.execute_reply": "2022-07-10T07:32:58.991927Z"
    },
    "papermill": {
     "duration": 0.025658,
     "end_time": "2022-07-10T07:32:58.995410",
     "exception": false,
     "start_time": "2022-07-10T07:32:58.969752",
     "status": "completed"
    },
    "tags": []
   },
   "outputs": [],
   "source": [
    "# no. of alphabets in the data\n",
    "# no. of sentences in the data\n",
    "# no. of words in the data"
   ]
  },
  {
   "cell_type": "markdown",
   "id": "329d4967",
   "metadata": {
    "papermill": {
     "duration": 0.014882,
     "end_time": "2022-07-10T07:32:59.026603",
     "exception": false,
     "start_time": "2022-07-10T07:32:59.011721",
     "status": "completed"
    },
    "tags": []
   },
   "source": [
    "### *Now lets make 3 new columns in the data depicting the no. of characters,words and sentences*"
   ]
  },
  {
   "cell_type": "code",
   "execution_count": 21,
   "id": "178fd637",
   "metadata": {
    "execution": {
     "iopub.execute_input": "2022-07-10T07:32:59.059432Z",
     "iopub.status.busy": "2022-07-10T07:32:59.058556Z",
     "iopub.status.idle": "2022-07-10T07:32:59.719807Z",
     "shell.execute_reply": "2022-07-10T07:32:59.718263Z"
    },
    "papermill": {
     "duration": 0.681285,
     "end_time": "2022-07-10T07:32:59.722966",
     "exception": false,
     "start_time": "2022-07-10T07:32:59.041681",
     "status": "completed"
    },
    "tags": []
   },
   "outputs": [],
   "source": [
    "#natural language tool kit\n",
    "import nltk"
   ]
  },
  {
   "cell_type": "code",
   "execution_count": 22,
   "id": "c6b2b389",
   "metadata": {
    "execution": {
     "iopub.execute_input": "2022-07-10T07:32:59.755131Z",
     "iopub.status.busy": "2022-07-10T07:32:59.754669Z",
     "iopub.status.idle": "2022-07-10T07:32:59.773895Z",
     "shell.execute_reply": "2022-07-10T07:32:59.772431Z"
    },
    "papermill": {
     "duration": 0.038449,
     "end_time": "2022-07-10T07:32:59.776574",
     "exception": false,
     "start_time": "2022-07-10T07:32:59.738125",
     "status": "completed"
    },
    "tags": []
   },
   "outputs": [
    {
     "data": {
      "text/html": [
       "<div>\n",
       "<style scoped>\n",
       "    .dataframe tbody tr th:only-of-type {\n",
       "        vertical-align: middle;\n",
       "    }\n",
       "\n",
       "    .dataframe tbody tr th {\n",
       "        vertical-align: top;\n",
       "    }\n",
       "\n",
       "    .dataframe thead th {\n",
       "        text-align: right;\n",
       "    }\n",
       "</style>\n",
       "<table border=\"1\" class=\"dataframe\">\n",
       "  <thead>\n",
       "    <tr style=\"text-align: right;\">\n",
       "      <th></th>\n",
       "      <th>message_type</th>\n",
       "      <th>message</th>\n",
       "      <th>num_characters</th>\n",
       "    </tr>\n",
       "  </thead>\n",
       "  <tbody>\n",
       "    <tr>\n",
       "      <th>0</th>\n",
       "      <td>0</td>\n",
       "      <td>Go until jurong point, crazy.. Available only ...</td>\n",
       "      <td>111</td>\n",
       "    </tr>\n",
       "    <tr>\n",
       "      <th>1</th>\n",
       "      <td>0</td>\n",
       "      <td>Ok lar... Joking wif u oni...</td>\n",
       "      <td>29</td>\n",
       "    </tr>\n",
       "    <tr>\n",
       "      <th>2</th>\n",
       "      <td>1</td>\n",
       "      <td>Free entry in 2 a wkly comp to win FA Cup fina...</td>\n",
       "      <td>155</td>\n",
       "    </tr>\n",
       "    <tr>\n",
       "      <th>3</th>\n",
       "      <td>0</td>\n",
       "      <td>U dun say so early hor... U c already then say...</td>\n",
       "      <td>49</td>\n",
       "    </tr>\n",
       "    <tr>\n",
       "      <th>4</th>\n",
       "      <td>0</td>\n",
       "      <td>Nah I don't think he goes to usf, he lives aro...</td>\n",
       "      <td>61</td>\n",
       "    </tr>\n",
       "  </tbody>\n",
       "</table>\n",
       "</div>"
      ],
      "text/plain": [
       "   message_type                                            message  \\\n",
       "0             0  Go until jurong point, crazy.. Available only ...   \n",
       "1             0                      Ok lar... Joking wif u oni...   \n",
       "2             1  Free entry in 2 a wkly comp to win FA Cup fina...   \n",
       "3             0  U dun say so early hor... U c already then say...   \n",
       "4             0  Nah I don't think he goes to usf, he lives aro...   \n",
       "\n",
       "   num_characters  \n",
       "0             111  \n",
       "1              29  \n",
       "2             155  \n",
       "3              49  \n",
       "4              61  "
      ]
     },
     "execution_count": 22,
     "metadata": {},
     "output_type": "execute_result"
    }
   ],
   "source": [
    "#find the number of alpha numeric characters in the messages column\n",
    "df['num_characters']=df['message'].apply(len)\n",
    "df.head()"
   ]
  },
  {
   "cell_type": "code",
   "execution_count": 23,
   "id": "2a9a402a",
   "metadata": {
    "execution": {
     "iopub.execute_input": "2022-07-10T07:32:59.813853Z",
     "iopub.status.busy": "2022-07-10T07:32:59.813419Z",
     "iopub.status.idle": "2022-07-10T07:33:01.516749Z",
     "shell.execute_reply": "2022-07-10T07:33:01.515804Z"
    },
    "papermill": {
     "duration": 1.722961,
     "end_time": "2022-07-10T07:33:01.519335",
     "exception": false,
     "start_time": "2022-07-10T07:32:59.796374",
     "status": "completed"
    },
    "tags": []
   },
   "outputs": [
    {
     "data": {
      "text/plain": [
       "0       [Go, until, jurong, point, ,, crazy.., Availab...\n",
       "1                [Ok, lar, ..., Joking, wif, u, oni, ...]\n",
       "2       [Free, entry, in, 2, a, wkly, comp, to, win, F...\n",
       "3       [U, dun, say, so, early, hor, ..., U, c, alrea...\n",
       "4       [Nah, I, do, n't, think, he, goes, to, usf, ,,...\n",
       "                              ...                        \n",
       "5567    [This, is, the, 2nd, time, we, have, tried, 2,...\n",
       "5568     [Will, Ì_, b, going, to, esplanade, fr, home, ?]\n",
       "5569    [Pity, ,, *, was, in, mood, for, that, ., So, ...\n",
       "5570    [The, guy, did, some, bitching, but, I, acted,...\n",
       "5571                  [Rofl, ., Its, true, to, its, name]\n",
       "Name: message, Length: 5169, dtype: object"
      ]
     },
     "execution_count": 23,
     "metadata": {},
     "output_type": "execute_result"
    }
   ],
   "source": [
    "#fetch number of words using NLTK\n",
    "from nltk.tokenize import word_tokenize\n",
    "#word tokenization\n",
    "df['message'].apply(lambda x: nltk.word_tokenize(x))"
   ]
  },
  {
   "cell_type": "code",
   "execution_count": 24,
   "id": "e89e6e8d",
   "metadata": {
    "execution": {
     "iopub.execute_input": "2022-07-10T07:33:01.553204Z",
     "iopub.status.busy": "2022-07-10T07:33:01.552788Z",
     "iopub.status.idle": "2022-07-10T07:33:03.198041Z",
     "shell.execute_reply": "2022-07-10T07:33:03.196323Z"
    },
    "papermill": {
     "duration": 1.665323,
     "end_time": "2022-07-10T07:33:03.201093",
     "exception": false,
     "start_time": "2022-07-10T07:33:01.535770",
     "status": "completed"
    },
    "tags": []
   },
   "outputs": [
    {
     "data": {
      "text/html": [
       "<div>\n",
       "<style scoped>\n",
       "    .dataframe tbody tr th:only-of-type {\n",
       "        vertical-align: middle;\n",
       "    }\n",
       "\n",
       "    .dataframe tbody tr th {\n",
       "        vertical-align: top;\n",
       "    }\n",
       "\n",
       "    .dataframe thead th {\n",
       "        text-align: right;\n",
       "    }\n",
       "</style>\n",
       "<table border=\"1\" class=\"dataframe\">\n",
       "  <thead>\n",
       "    <tr style=\"text-align: right;\">\n",
       "      <th></th>\n",
       "      <th>message_type</th>\n",
       "      <th>message</th>\n",
       "      <th>num_characters</th>\n",
       "      <th>num_words</th>\n",
       "    </tr>\n",
       "  </thead>\n",
       "  <tbody>\n",
       "    <tr>\n",
       "      <th>1943</th>\n",
       "      <td>0</td>\n",
       "      <td>I got lousy sleep. I kept waking up every 2 ho...</td>\n",
       "      <td>120</td>\n",
       "      <td>31</td>\n",
       "    </tr>\n",
       "    <tr>\n",
       "      <th>1610</th>\n",
       "      <td>0</td>\n",
       "      <td>I'll probably be around mu a lot</td>\n",
       "      <td>32</td>\n",
       "      <td>8</td>\n",
       "    </tr>\n",
       "    <tr>\n",
       "      <th>1376</th>\n",
       "      <td>0</td>\n",
       "      <td>Auntie huai juan never pick up her phone</td>\n",
       "      <td>40</td>\n",
       "      <td>8</td>\n",
       "    </tr>\n",
       "    <tr>\n",
       "      <th>4088</th>\n",
       "      <td>0</td>\n",
       "      <td>How are you, my Love ? Are you with your broth...</td>\n",
       "      <td>147</td>\n",
       "      <td>33</td>\n",
       "    </tr>\n",
       "    <tr>\n",
       "      <th>79</th>\n",
       "      <td>0</td>\n",
       "      <td>Its not the same here. Still looking for a job...</td>\n",
       "      <td>76</td>\n",
       "      <td>20</td>\n",
       "    </tr>\n",
       "  </tbody>\n",
       "</table>\n",
       "</div>"
      ],
      "text/plain": [
       "      message_type                                            message  \\\n",
       "1943             0  I got lousy sleep. I kept waking up every 2 ho...   \n",
       "1610             0                   I'll probably be around mu a lot   \n",
       "1376             0           Auntie huai juan never pick up her phone   \n",
       "4088             0  How are you, my Love ? Are you with your broth...   \n",
       "79               0  Its not the same here. Still looking for a job...   \n",
       "\n",
       "      num_characters  num_words  \n",
       "1943             120         31  \n",
       "1610              32          8  \n",
       "1376              40          8  \n",
       "4088             147         33  \n",
       "79                76         20  "
      ]
     },
     "execution_count": 24,
     "metadata": {},
     "output_type": "execute_result"
    }
   ],
   "source": [
    "#now find the length of each of the list to get the total number of words in each list\n",
    "df['num_words']=df['message'].apply(lambda x:len(nltk.word_tokenize(x)))\n",
    "df.sample(5)"
   ]
  },
  {
   "cell_type": "code",
   "execution_count": 25,
   "id": "9ba8974a",
   "metadata": {
    "execution": {
     "iopub.execute_input": "2022-07-10T07:33:03.235608Z",
     "iopub.status.busy": "2022-07-10T07:33:03.234835Z",
     "iopub.status.idle": "2022-07-10T07:33:03.629659Z",
     "shell.execute_reply": "2022-07-10T07:33:03.628537Z"
    },
    "papermill": {
     "duration": 0.415397,
     "end_time": "2022-07-10T07:33:03.632611",
     "exception": false,
     "start_time": "2022-07-10T07:33:03.217214",
     "status": "completed"
    },
    "tags": []
   },
   "outputs": [
    {
     "data": {
      "text/html": [
       "<div>\n",
       "<style scoped>\n",
       "    .dataframe tbody tr th:only-of-type {\n",
       "        vertical-align: middle;\n",
       "    }\n",
       "\n",
       "    .dataframe tbody tr th {\n",
       "        vertical-align: top;\n",
       "    }\n",
       "\n",
       "    .dataframe thead th {\n",
       "        text-align: right;\n",
       "    }\n",
       "</style>\n",
       "<table border=\"1\" class=\"dataframe\">\n",
       "  <thead>\n",
       "    <tr style=\"text-align: right;\">\n",
       "      <th></th>\n",
       "      <th>message_type</th>\n",
       "      <th>message</th>\n",
       "      <th>num_characters</th>\n",
       "      <th>num_words</th>\n",
       "      <th>num_sentences</th>\n",
       "    </tr>\n",
       "  </thead>\n",
       "  <tbody>\n",
       "    <tr>\n",
       "      <th>814</th>\n",
       "      <td>1</td>\n",
       "      <td>U were outbid by simonwatson5120 on the Shinco...</td>\n",
       "      <td>133</td>\n",
       "      <td>27</td>\n",
       "      <td>[U were outbid by simonwatson5120 on the Shinc...</td>\n",
       "    </tr>\n",
       "    <tr>\n",
       "      <th>2422</th>\n",
       "      <td>0</td>\n",
       "      <td>A bloo bloo bloo I'll miss the first bowl</td>\n",
       "      <td>41</td>\n",
       "      <td>10</td>\n",
       "      <td>[A bloo bloo bloo I'll miss the first bowl]</td>\n",
       "    </tr>\n",
       "    <tr>\n",
       "      <th>3937</th>\n",
       "      <td>0</td>\n",
       "      <td>WHEN THE FIRST STRIKE IS A RED ONE. THE BIRD +...</td>\n",
       "      <td>158</td>\n",
       "      <td>29</td>\n",
       "      <td>[WHEN THE FIRST STRIKE IS A RED ONE., THE BIRD...</td>\n",
       "    </tr>\n",
       "    <tr>\n",
       "      <th>1930</th>\n",
       "      <td>0</td>\n",
       "      <td>Carry on not disturbing both of you</td>\n",
       "      <td>35</td>\n",
       "      <td>7</td>\n",
       "      <td>[Carry on not disturbing both of you]</td>\n",
       "    </tr>\n",
       "    <tr>\n",
       "      <th>3018</th>\n",
       "      <td>0</td>\n",
       "      <td>Wat time do u wan 2 meet me later?</td>\n",
       "      <td>34</td>\n",
       "      <td>10</td>\n",
       "      <td>[Wat time do u wan 2 meet me later?]</td>\n",
       "    </tr>\n",
       "  </tbody>\n",
       "</table>\n",
       "</div>"
      ],
      "text/plain": [
       "      message_type                                            message  \\\n",
       "814              1  U were outbid by simonwatson5120 on the Shinco...   \n",
       "2422             0          A bloo bloo bloo I'll miss the first bowl   \n",
       "3937             0  WHEN THE FIRST STRIKE IS A RED ONE. THE BIRD +...   \n",
       "1930             0                Carry on not disturbing both of you   \n",
       "3018             0                 Wat time do u wan 2 meet me later?   \n",
       "\n",
       "      num_characters  num_words  \\\n",
       "814              133         27   \n",
       "2422              41         10   \n",
       "3937             158         29   \n",
       "1930              35          7   \n",
       "3018              34         10   \n",
       "\n",
       "                                          num_sentences  \n",
       "814   [U were outbid by simonwatson5120 on the Shinc...  \n",
       "2422        [A bloo bloo bloo I'll miss the first bowl]  \n",
       "3937  [WHEN THE FIRST STRIKE IS A RED ONE., THE BIRD...  \n",
       "1930              [Carry on not disturbing both of you]  \n",
       "3018               [Wat time do u wan 2 meet me later?]  "
      ]
     },
     "execution_count": 25,
     "metadata": {},
     "output_type": "execute_result"
    }
   ],
   "source": [
    "#finding number of sentences\n",
    "df['num_sentences']=df['message'].apply(lambda x: nltk.sent_tokenize(x))\n",
    "df.sample(5)"
   ]
  },
  {
   "cell_type": "code",
   "execution_count": 26,
   "id": "d1f8b546",
   "metadata": {
    "execution": {
     "iopub.execute_input": "2022-07-10T07:33:03.667535Z",
     "iopub.status.busy": "2022-07-10T07:33:03.666783Z",
     "iopub.status.idle": "2022-07-10T07:33:04.069698Z",
     "shell.execute_reply": "2022-07-10T07:33:04.068278Z"
    },
    "papermill": {
     "duration": 0.423356,
     "end_time": "2022-07-10T07:33:04.072477",
     "exception": false,
     "start_time": "2022-07-10T07:33:03.649121",
     "status": "completed"
    },
    "tags": []
   },
   "outputs": [
    {
     "data": {
      "text/html": [
       "<div>\n",
       "<style scoped>\n",
       "    .dataframe tbody tr th:only-of-type {\n",
       "        vertical-align: middle;\n",
       "    }\n",
       "\n",
       "    .dataframe tbody tr th {\n",
       "        vertical-align: top;\n",
       "    }\n",
       "\n",
       "    .dataframe thead th {\n",
       "        text-align: right;\n",
       "    }\n",
       "</style>\n",
       "<table border=\"1\" class=\"dataframe\">\n",
       "  <thead>\n",
       "    <tr style=\"text-align: right;\">\n",
       "      <th></th>\n",
       "      <th>message_type</th>\n",
       "      <th>message</th>\n",
       "      <th>num_characters</th>\n",
       "      <th>num_words</th>\n",
       "      <th>num_sentences</th>\n",
       "    </tr>\n",
       "  </thead>\n",
       "  <tbody>\n",
       "    <tr>\n",
       "      <th>5404</th>\n",
       "      <td>0</td>\n",
       "      <td>Pls give her prometazine syrup. 5mls then  &amp;lt...</td>\n",
       "      <td>69</td>\n",
       "      <td>19</td>\n",
       "      <td>2</td>\n",
       "    </tr>\n",
       "    <tr>\n",
       "      <th>2892</th>\n",
       "      <td>0</td>\n",
       "      <td>K I'll be sure to get up before noon and see w...</td>\n",
       "      <td>56</td>\n",
       "      <td>15</td>\n",
       "      <td>1</td>\n",
       "    </tr>\n",
       "    <tr>\n",
       "      <th>2280</th>\n",
       "      <td>0</td>\n",
       "      <td>R Ì_ comin back for dinner?</td>\n",
       "      <td>27</td>\n",
       "      <td>7</td>\n",
       "      <td>1</td>\n",
       "    </tr>\n",
       "    <tr>\n",
       "      <th>5568</th>\n",
       "      <td>0</td>\n",
       "      <td>Will Ì_ b going to esplanade fr home?</td>\n",
       "      <td>37</td>\n",
       "      <td>9</td>\n",
       "      <td>1</td>\n",
       "    </tr>\n",
       "    <tr>\n",
       "      <th>3921</th>\n",
       "      <td>0</td>\n",
       "      <td>Oh really? perform, write a paper, go to a mov...</td>\n",
       "      <td>78</td>\n",
       "      <td>21</td>\n",
       "      <td>2</td>\n",
       "    </tr>\n",
       "  </tbody>\n",
       "</table>\n",
       "</div>"
      ],
      "text/plain": [
       "      message_type                                            message  \\\n",
       "5404             0  Pls give her prometazine syrup. 5mls then  &lt...   \n",
       "2892             0  K I'll be sure to get up before noon and see w...   \n",
       "2280             0                        R Ì_ comin back for dinner?   \n",
       "5568             0              Will Ì_ b going to esplanade fr home?   \n",
       "3921             0  Oh really? perform, write a paper, go to a mov...   \n",
       "\n",
       "      num_characters  num_words  num_sentences  \n",
       "5404              69         19              2  \n",
       "2892              56         15              1  \n",
       "2280              27          7              1  \n",
       "5568              37          9              1  \n",
       "3921              78         21              2  "
      ]
     },
     "execution_count": 26,
     "metadata": {},
     "output_type": "execute_result"
    }
   ],
   "source": [
    "#finding no. of sentences\n",
    "df['num_sentences']=df['message'].apply(lambda x: len(nltk.sent_tokenize(x)))\n",
    "df.sample(5)"
   ]
  },
  {
   "cell_type": "code",
   "execution_count": 27,
   "id": "3234db41",
   "metadata": {
    "execution": {
     "iopub.execute_input": "2022-07-10T07:33:04.107303Z",
     "iopub.status.busy": "2022-07-10T07:33:04.105913Z",
     "iopub.status.idle": "2022-07-10T07:33:04.132743Z",
     "shell.execute_reply": "2022-07-10T07:33:04.131461Z"
    },
    "papermill": {
     "duration": 0.04701,
     "end_time": "2022-07-10T07:33:04.135423",
     "exception": false,
     "start_time": "2022-07-10T07:33:04.088413",
     "status": "completed"
    },
    "tags": []
   },
   "outputs": [
    {
     "data": {
      "text/html": [
       "<div>\n",
       "<style scoped>\n",
       "    .dataframe tbody tr th:only-of-type {\n",
       "        vertical-align: middle;\n",
       "    }\n",
       "\n",
       "    .dataframe tbody tr th {\n",
       "        vertical-align: top;\n",
       "    }\n",
       "\n",
       "    .dataframe thead th {\n",
       "        text-align: right;\n",
       "    }\n",
       "</style>\n",
       "<table border=\"1\" class=\"dataframe\">\n",
       "  <thead>\n",
       "    <tr style=\"text-align: right;\">\n",
       "      <th></th>\n",
       "      <th>num_characters</th>\n",
       "      <th>num_words</th>\n",
       "      <th>num_sentences</th>\n",
       "    </tr>\n",
       "  </thead>\n",
       "  <tbody>\n",
       "    <tr>\n",
       "      <th>count</th>\n",
       "      <td>5169.000000</td>\n",
       "      <td>5169.000000</td>\n",
       "      <td>5169.000000</td>\n",
       "    </tr>\n",
       "    <tr>\n",
       "      <th>mean</th>\n",
       "      <td>78.977945</td>\n",
       "      <td>18.286129</td>\n",
       "      <td>1.961308</td>\n",
       "    </tr>\n",
       "    <tr>\n",
       "      <th>std</th>\n",
       "      <td>58.236293</td>\n",
       "      <td>13.226400</td>\n",
       "      <td>1.432583</td>\n",
       "    </tr>\n",
       "    <tr>\n",
       "      <th>min</th>\n",
       "      <td>2.000000</td>\n",
       "      <td>1.000000</td>\n",
       "      <td>1.000000</td>\n",
       "    </tr>\n",
       "    <tr>\n",
       "      <th>25%</th>\n",
       "      <td>36.000000</td>\n",
       "      <td>9.000000</td>\n",
       "      <td>1.000000</td>\n",
       "    </tr>\n",
       "    <tr>\n",
       "      <th>50%</th>\n",
       "      <td>60.000000</td>\n",
       "      <td>15.000000</td>\n",
       "      <td>1.000000</td>\n",
       "    </tr>\n",
       "    <tr>\n",
       "      <th>75%</th>\n",
       "      <td>117.000000</td>\n",
       "      <td>26.000000</td>\n",
       "      <td>2.000000</td>\n",
       "    </tr>\n",
       "    <tr>\n",
       "      <th>max</th>\n",
       "      <td>910.000000</td>\n",
       "      <td>219.000000</td>\n",
       "      <td>38.000000</td>\n",
       "    </tr>\n",
       "  </tbody>\n",
       "</table>\n",
       "</div>"
      ],
      "text/plain": [
       "       num_characters    num_words  num_sentences\n",
       "count     5169.000000  5169.000000    5169.000000\n",
       "mean        78.977945    18.286129       1.961308\n",
       "std         58.236293    13.226400       1.432583\n",
       "min          2.000000     1.000000       1.000000\n",
       "25%         36.000000     9.000000       1.000000\n",
       "50%         60.000000    15.000000       1.000000\n",
       "75%        117.000000    26.000000       2.000000\n",
       "max        910.000000   219.000000      38.000000"
      ]
     },
     "execution_count": 27,
     "metadata": {},
     "output_type": "execute_result"
    }
   ],
   "source": [
    "#lets test the describe function on the new 3 columns\n",
    "df[['num_characters','num_words','num_sentences']].describe()"
   ]
  },
  {
   "cell_type": "markdown",
   "id": "4c052570",
   "metadata": {
    "papermill": {
     "duration": 0.016468,
     "end_time": "2022-07-10T07:33:04.168964",
     "exception": false,
     "start_time": "2022-07-10T07:33:04.152496",
     "status": "completed"
    },
    "tags": []
   },
   "source": [
    "### For 'ham' messages"
   ]
  },
  {
   "cell_type": "code",
   "execution_count": 28,
   "id": "70a93826",
   "metadata": {
    "execution": {
     "iopub.execute_input": "2022-07-10T07:33:04.205176Z",
     "iopub.status.busy": "2022-07-10T07:33:04.204475Z",
     "iopub.status.idle": "2022-07-10T07:33:04.225556Z",
     "shell.execute_reply": "2022-07-10T07:33:04.224685Z"
    },
    "papermill": {
     "duration": 0.042002,
     "end_time": "2022-07-10T07:33:04.227845",
     "exception": false,
     "start_time": "2022-07-10T07:33:04.185843",
     "status": "completed"
    },
    "tags": []
   },
   "outputs": [
    {
     "data": {
      "text/html": [
       "<div>\n",
       "<style scoped>\n",
       "    .dataframe tbody tr th:only-of-type {\n",
       "        vertical-align: middle;\n",
       "    }\n",
       "\n",
       "    .dataframe tbody tr th {\n",
       "        vertical-align: top;\n",
       "    }\n",
       "\n",
       "    .dataframe thead th {\n",
       "        text-align: right;\n",
       "    }\n",
       "</style>\n",
       "<table border=\"1\" class=\"dataframe\">\n",
       "  <thead>\n",
       "    <tr style=\"text-align: right;\">\n",
       "      <th></th>\n",
       "      <th>num_characters</th>\n",
       "      <th>num_words</th>\n",
       "      <th>num_sentences</th>\n",
       "    </tr>\n",
       "  </thead>\n",
       "  <tbody>\n",
       "    <tr>\n",
       "      <th>count</th>\n",
       "      <td>4516.000000</td>\n",
       "      <td>4516.000000</td>\n",
       "      <td>4516.000000</td>\n",
       "    </tr>\n",
       "    <tr>\n",
       "      <th>mean</th>\n",
       "      <td>70.459256</td>\n",
       "      <td>16.957484</td>\n",
       "      <td>1.815545</td>\n",
       "    </tr>\n",
       "    <tr>\n",
       "      <th>std</th>\n",
       "      <td>56.358207</td>\n",
       "      <td>13.394052</td>\n",
       "      <td>1.364098</td>\n",
       "    </tr>\n",
       "    <tr>\n",
       "      <th>min</th>\n",
       "      <td>2.000000</td>\n",
       "      <td>1.000000</td>\n",
       "      <td>1.000000</td>\n",
       "    </tr>\n",
       "    <tr>\n",
       "      <th>25%</th>\n",
       "      <td>34.000000</td>\n",
       "      <td>8.000000</td>\n",
       "      <td>1.000000</td>\n",
       "    </tr>\n",
       "    <tr>\n",
       "      <th>50%</th>\n",
       "      <td>52.000000</td>\n",
       "      <td>13.000000</td>\n",
       "      <td>1.000000</td>\n",
       "    </tr>\n",
       "    <tr>\n",
       "      <th>75%</th>\n",
       "      <td>90.000000</td>\n",
       "      <td>22.000000</td>\n",
       "      <td>2.000000</td>\n",
       "    </tr>\n",
       "    <tr>\n",
       "      <th>max</th>\n",
       "      <td>910.000000</td>\n",
       "      <td>219.000000</td>\n",
       "      <td>38.000000</td>\n",
       "    </tr>\n",
       "  </tbody>\n",
       "</table>\n",
       "</div>"
      ],
      "text/plain": [
       "       num_characters    num_words  num_sentences\n",
       "count     4516.000000  4516.000000    4516.000000\n",
       "mean        70.459256    16.957484       1.815545\n",
       "std         56.358207    13.394052       1.364098\n",
       "min          2.000000     1.000000       1.000000\n",
       "25%         34.000000     8.000000       1.000000\n",
       "50%         52.000000    13.000000       1.000000\n",
       "75%         90.000000    22.000000       2.000000\n",
       "max        910.000000   219.000000      38.000000"
      ]
     },
     "execution_count": 28,
     "metadata": {},
     "output_type": "execute_result"
    }
   ],
   "source": [
    "# lets check describe() for both ham and spam individually\n",
    "df[df['message_type']==0][['num_characters','num_words','num_sentences']].describe()"
   ]
  },
  {
   "cell_type": "markdown",
   "id": "835f5840",
   "metadata": {
    "papermill": {
     "duration": 0.016727,
     "end_time": "2022-07-10T07:33:04.261594",
     "exception": false,
     "start_time": "2022-07-10T07:33:04.244867",
     "status": "completed"
    },
    "tags": []
   },
   "source": [
    "### For 'spam' messages"
   ]
  },
  {
   "cell_type": "code",
   "execution_count": 29,
   "id": "bc95923c",
   "metadata": {
    "execution": {
     "iopub.execute_input": "2022-07-10T07:33:04.298005Z",
     "iopub.status.busy": "2022-07-10T07:33:04.297594Z",
     "iopub.status.idle": "2022-07-10T07:33:04.320007Z",
     "shell.execute_reply": "2022-07-10T07:33:04.318877Z"
    },
    "papermill": {
     "duration": 0.043282,
     "end_time": "2022-07-10T07:33:04.322464",
     "exception": false,
     "start_time": "2022-07-10T07:33:04.279182",
     "status": "completed"
    },
    "tags": []
   },
   "outputs": [
    {
     "data": {
      "text/html": [
       "<div>\n",
       "<style scoped>\n",
       "    .dataframe tbody tr th:only-of-type {\n",
       "        vertical-align: middle;\n",
       "    }\n",
       "\n",
       "    .dataframe tbody tr th {\n",
       "        vertical-align: top;\n",
       "    }\n",
       "\n",
       "    .dataframe thead th {\n",
       "        text-align: right;\n",
       "    }\n",
       "</style>\n",
       "<table border=\"1\" class=\"dataframe\">\n",
       "  <thead>\n",
       "    <tr style=\"text-align: right;\">\n",
       "      <th></th>\n",
       "      <th>num_characters</th>\n",
       "      <th>num_words</th>\n",
       "      <th>num_sentences</th>\n",
       "    </tr>\n",
       "  </thead>\n",
       "  <tbody>\n",
       "    <tr>\n",
       "      <th>count</th>\n",
       "      <td>653.000000</td>\n",
       "      <td>653.000000</td>\n",
       "      <td>653.000000</td>\n",
       "    </tr>\n",
       "    <tr>\n",
       "      <th>mean</th>\n",
       "      <td>137.891271</td>\n",
       "      <td>27.474732</td>\n",
       "      <td>2.969372</td>\n",
       "    </tr>\n",
       "    <tr>\n",
       "      <th>std</th>\n",
       "      <td>30.137753</td>\n",
       "      <td>6.893007</td>\n",
       "      <td>1.488910</td>\n",
       "    </tr>\n",
       "    <tr>\n",
       "      <th>min</th>\n",
       "      <td>13.000000</td>\n",
       "      <td>2.000000</td>\n",
       "      <td>1.000000</td>\n",
       "    </tr>\n",
       "    <tr>\n",
       "      <th>25%</th>\n",
       "      <td>132.000000</td>\n",
       "      <td>25.000000</td>\n",
       "      <td>2.000000</td>\n",
       "    </tr>\n",
       "    <tr>\n",
       "      <th>50%</th>\n",
       "      <td>149.000000</td>\n",
       "      <td>29.000000</td>\n",
       "      <td>3.000000</td>\n",
       "    </tr>\n",
       "    <tr>\n",
       "      <th>75%</th>\n",
       "      <td>157.000000</td>\n",
       "      <td>32.000000</td>\n",
       "      <td>4.000000</td>\n",
       "    </tr>\n",
       "    <tr>\n",
       "      <th>max</th>\n",
       "      <td>224.000000</td>\n",
       "      <td>44.000000</td>\n",
       "      <td>9.000000</td>\n",
       "    </tr>\n",
       "  </tbody>\n",
       "</table>\n",
       "</div>"
      ],
      "text/plain": [
       "       num_characters   num_words  num_sentences\n",
       "count      653.000000  653.000000     653.000000\n",
       "mean       137.891271   27.474732       2.969372\n",
       "std         30.137753    6.893007       1.488910\n",
       "min         13.000000    2.000000       1.000000\n",
       "25%        132.000000   25.000000       2.000000\n",
       "50%        149.000000   29.000000       3.000000\n",
       "75%        157.000000   32.000000       4.000000\n",
       "max        224.000000   44.000000       9.000000"
      ]
     },
     "execution_count": 29,
     "metadata": {},
     "output_type": "execute_result"
    }
   ],
   "source": [
    "df[df['message_type']==1][['num_characters','num_words','num_sentences']].describe()"
   ]
  },
  {
   "cell_type": "markdown",
   "id": "59bd9e42",
   "metadata": {
    "papermill": {
     "duration": 0.016054,
     "end_time": "2022-07-10T07:33:04.355072",
     "exception": false,
     "start_time": "2022-07-10T07:33:04.339018",
     "status": "completed"
    },
    "tags": []
   },
   "source": [
    "\n",
    "#### we can clearly see the spam messages are quite longer than the ham messages"
   ]
  },
  {
   "cell_type": "code",
   "execution_count": 30,
   "id": "c9a52108",
   "metadata": {
    "execution": {
     "iopub.execute_input": "2022-07-10T07:33:04.390309Z",
     "iopub.status.busy": "2022-07-10T07:33:04.389563Z",
     "iopub.status.idle": "2022-07-10T07:33:04.857974Z",
     "shell.execute_reply": "2022-07-10T07:33:04.856545Z"
    },
    "papermill": {
     "duration": 0.489463,
     "end_time": "2022-07-10T07:33:04.861109",
     "exception": false,
     "start_time": "2022-07-10T07:33:04.371646",
     "status": "completed"
    },
    "tags": []
   },
   "outputs": [
    {
     "data": {
      "text/plain": [
       "<AxesSubplot:xlabel='num_characters', ylabel='Count'>"
      ]
     },
     "execution_count": 30,
     "metadata": {},
     "output_type": "execute_result"
    },
    {
     "data": {
      "image/png": "[encoded data removed]",
      "text/plain": [
       "<Figure size 864x432 with 1 Axes>"
      ]
     },
     "metadata": {
      "needs_background": "light"
     },
     "output_type": "display_data"
    }
   ],
   "source": [
    "#for characters\n",
    "plt.figure(figsize=(12,6))\n",
    "sns.histplot(df[df['message_type']==0]['num_characters'],color='green')\n",
    "sns.histplot(df[df['message_type']==1]['num_characters'],color = 'red')\n"
   ]
  },
  {
   "cell_type": "code",
   "execution_count": 31,
   "id": "2479e2bd",
   "metadata": {
    "execution": {
     "iopub.execute_input": "2022-07-10T07:33:04.900053Z",
     "iopub.status.busy": "2022-07-10T07:33:04.899441Z",
     "iopub.status.idle": "2022-07-10T07:33:05.397864Z",
     "shell.execute_reply": "2022-07-10T07:33:05.397012Z"
    },
    "papermill": {
     "duration": 0.52091,
     "end_time": "2022-07-10T07:33:05.400312",
     "exception": false,
     "start_time": "2022-07-10T07:33:04.879402",
     "status": "completed"
    },
    "tags": []
   },
   "outputs": [
    {
     "data": {
      "text/plain": [
       "<AxesSubplot:xlabel='num_words', ylabel='Count'>"
      ]
     },
     "execution_count": 31,
     "metadata": {},
     "output_type": "execute_result"
    },
    {
     "data": {
      "image/png": "[encoded data removed]",
      "text/plain": [
       "<Figure size 864x432 with 1 Axes>"
      ]
     },
     "metadata": {
      "needs_background": "light"
     },
     "output_type": "display_data"
    }
   ],
   "source": [
    "#for words\n",
    "plt.figure(figsize=(12,6))\n",
    "sns.histplot(df[df['message_type']==0]['num_words'],color='green')\n",
    "sns.histplot(df[df['message_type']==1]['num_words'],color='red')"
   ]
  },
  {
   "cell_type": "code",
   "execution_count": 32,
   "id": "00a3ac4a",
   "metadata": {
    "execution": {
     "iopub.execute_input": "2022-07-10T07:33:05.437289Z",
     "iopub.status.busy": "2022-07-10T07:33:05.436689Z",
     "iopub.status.idle": "2022-07-10T07:33:09.581743Z",
     "shell.execute_reply": "2022-07-10T07:33:09.580802Z"
    },
    "papermill": {
     "duration": 4.16671,
     "end_time": "2022-07-10T07:33:09.584529",
     "exception": false,
     "start_time": "2022-07-10T07:33:05.417819",
     "status": "completed"
    },
    "tags": []
   },
   "outputs": [
    {
     "data": {
      "text/plain": [
       "<seaborn.axisgrid.PairGrid at 0x7f6bbb56b710>"
      ]
     },
     "execution_count": 32,
     "metadata": {},
     "output_type": "execute_result"
    },
    {
     "data": {
      "image/png": "[encoded data removed]",
      "text/plain": [
       "<Figure size 620x540 with 12 Axes>"
      ]
     },
     "metadata": {
      "needs_background": "light"
     },
     "output_type": "display_data"
    }
   ],
   "source": [
    "#plot pairplots for ham and spam\n",
    "sns.pairplot(df,hue='message_type')"
   ]
  },
  {
   "cell_type": "code",
   "execution_count": 33,
   "id": "69e69af0",
   "metadata": {
    "execution": {
     "iopub.execute_input": "2022-07-10T07:33:09.626499Z",
     "iopub.status.busy": "2022-07-10T07:33:09.625541Z",
     "iopub.status.idle": "2022-07-10T07:33:09.638229Z",
     "shell.execute_reply": "2022-07-10T07:33:09.636973Z"
    },
    "papermill": {
     "duration": 0.036079,
     "end_time": "2022-07-10T07:33:09.640585",
     "exception": false,
     "start_time": "2022-07-10T07:33:09.604506",
     "status": "completed"
    },
    "tags": []
   },
   "outputs": [
    {
     "data": {
      "text/html": [
       "<div>\n",
       "<style scoped>\n",
       "    .dataframe tbody tr th:only-of-type {\n",
       "        vertical-align: middle;\n",
       "    }\n",
       "\n",
       "    .dataframe tbody tr th {\n",
       "        vertical-align: top;\n",
       "    }\n",
       "\n",
       "    .dataframe thead th {\n",
       "        text-align: right;\n",
       "    }\n",
       "</style>\n",
       "<table border=\"1\" class=\"dataframe\">\n",
       "  <thead>\n",
       "    <tr style=\"text-align: right;\">\n",
       "      <th></th>\n",
       "      <th>message_type</th>\n",
       "      <th>num_characters</th>\n",
       "      <th>num_words</th>\n",
       "      <th>num_sentences</th>\n",
       "    </tr>\n",
       "  </thead>\n",
       "  <tbody>\n",
       "    <tr>\n",
       "      <th>message_type</th>\n",
       "      <td>1.000000</td>\n",
       "      <td>0.384717</td>\n",
       "      <td>0.264198</td>\n",
       "      <td>0.267602</td>\n",
       "    </tr>\n",
       "    <tr>\n",
       "      <th>num_characters</th>\n",
       "      <td>0.384717</td>\n",
       "      <td>1.000000</td>\n",
       "      <td>0.965307</td>\n",
       "      <td>0.626118</td>\n",
       "    </tr>\n",
       "    <tr>\n",
       "      <th>num_words</th>\n",
       "      <td>0.264198</td>\n",
       "      <td>0.965307</td>\n",
       "      <td>1.000000</td>\n",
       "      <td>0.683561</td>\n",
       "    </tr>\n",
       "    <tr>\n",
       "      <th>num_sentences</th>\n",
       "      <td>0.267602</td>\n",
       "      <td>0.626118</td>\n",
       "      <td>0.683561</td>\n",
       "      <td>1.000000</td>\n",
       "    </tr>\n",
       "  </tbody>\n",
       "</table>\n",
       "</div>"
      ],
      "text/plain": [
       "                message_type  num_characters  num_words  num_sentences\n",
       "message_type        1.000000        0.384717   0.264198       0.267602\n",
       "num_characters      0.384717        1.000000   0.965307       0.626118\n",
       "num_words           0.264198        0.965307   1.000000       0.683561\n",
       "num_sentences       0.267602        0.626118   0.683561       1.000000"
      ]
     },
     "execution_count": 33,
     "metadata": {},
     "output_type": "execute_result"
    }
   ],
   "source": [
    "#find correlation\n",
    "df.corr()"
   ]
  },
  {
   "cell_type": "code",
   "execution_count": 34,
   "id": "fd26fa76",
   "metadata": {
    "execution": {
     "iopub.execute_input": "2022-07-10T07:33:09.684205Z",
     "iopub.status.busy": "2022-07-10T07:33:09.683489Z",
     "iopub.status.idle": "2022-07-10T07:33:09.961715Z",
     "shell.execute_reply": "2022-07-10T07:33:09.960581Z"
    },
    "papermill": {
     "duration": 0.30299,
     "end_time": "2022-07-10T07:33:09.963929",
     "exception": false,
     "start_time": "2022-07-10T07:33:09.660939",
     "status": "completed"
    },
    "tags": []
   },
   "outputs": [
    {
     "data": {
      "text/plain": [
       "<AxesSubplot:>"
      ]
     },
     "execution_count": 34,
     "metadata": {},
     "output_type": "execute_result"
    },
    {
     "data": {
      "image/png": "[encoded data removed]",
      "text/plain": [
       "<Figure size 432x288 with 2 Axes>"
      ]
     },
     "metadata": {
      "needs_background": "light"
     },
     "output_type": "display_data"
    }
   ],
   "source": [
    "#plotting a heatmap for the correlation\n",
    "sns.heatmap(df.corr(),annot=True)"
   ]
  },
  {
   "cell_type": "markdown",
   "id": "dc072dc3",
   "metadata": {
    "papermill": {
     "duration": 0.022513,
     "end_time": "2022-07-10T07:33:10.008003",
     "exception": false,
     "start_time": "2022-07-10T07:33:09.985490",
     "status": "completed"
    },
    "tags": []
   },
   "source": [
    "*As we see multicollinearity here, we cannot use all three columns instead we shall use only one and that should be mun_characters has it has highest correlation with message_type*"
   ]
  },
  {
   "cell_type": "markdown",
   "id": "aacb7899",
   "metadata": {
    "papermill": {
     "duration": 0.020371,
     "end_time": "2022-07-10T07:33:10.050333",
     "exception": false,
     "start_time": "2022-07-10T07:33:10.029962",
     "status": "completed"
    },
    "tags": []
   },
   "source": [
    "# 3. Data Preprocessing"
   ]
  },
  {
   "cell_type": "markdown",
   "id": "833b0992",
   "metadata": {
    "papermill": {
     "duration": 0.020143,
     "end_time": "2022-07-10T07:33:10.091340",
     "exception": false,
     "start_time": "2022-07-10T07:33:10.071197",
     "status": "completed"
    },
    "tags": []
   },
   "source": [
    "### 3.1 LowerCase\n",
    "### 3.2 Tokenisation\n",
    "### 3.3 Removing special characters\n",
    "### 3.4 Removing stop words and punctuation\n",
    "### 3.5 Stemming --lemmetization"
   ]
  },
  {
   "cell_type": "code",
   "execution_count": 35,
   "id": "1563f495",
   "metadata": {
    "execution": {
     "iopub.execute_input": "2022-07-10T07:33:10.135728Z",
     "iopub.status.busy": "2022-07-10T07:33:10.135327Z",
     "iopub.status.idle": "2022-07-10T07:33:10.142268Z",
     "shell.execute_reply": "2022-07-10T07:33:10.141040Z"
    },
    "papermill": {
     "duration": 0.032287,
     "end_time": "2022-07-10T07:33:10.144819",
     "exception": false,
     "start_time": "2022-07-10T07:33:10.112532",
     "status": "completed"
    },
    "tags": []
   },
   "outputs": [],
   "source": [
    "def text_transform(message):\n",
    "    message=message.lower() #change to lowercase\n",
    "    message=nltk.word_tokenize(message)#tokenization  and after that text is converted to a list\n",
    "    #so we run a loop in the message text\n",
    "    y=[] #creating empty list to append\n",
    "    for i in message:\n",
    "        if i.isalnum():\n",
    "            y.append(i)\n",
    "    return y"
   ]
  },
  {
   "cell_type": "code",
   "execution_count": 36,
   "id": "48e19c76",
   "metadata": {
    "execution": {
     "iopub.execute_input": "2022-07-10T07:33:10.189346Z",
     "iopub.status.busy": "2022-07-10T07:33:10.188922Z",
     "iopub.status.idle": "2022-07-10T07:33:10.196291Z",
     "shell.execute_reply": "2022-07-10T07:33:10.195130Z"
    },
    "papermill": {
     "duration": 0.033103,
     "end_time": "2022-07-10T07:33:10.198738",
     "exception": false,
     "start_time": "2022-07-10T07:33:10.165635",
     "status": "completed"
    },
    "tags": []
   },
   "outputs": [
    {
     "data": {
      "text/plain": [
       "['this', 'is', 'a', 'sms', 'spam', 'classifier', '3000']"
      ]
     },
     "execution_count": 36,
     "metadata": {},
     "output_type": "execute_result"
    }
   ],
   "source": [
    "text_transform(\"THis is a SMS spam CLassifier $3000\") ##see here the special character $ is ignored"
   ]
  },
  {
   "cell_type": "code",
   "execution_count": 37,
   "id": "ab170d05",
   "metadata": {
    "execution": {
     "iopub.execute_input": "2022-07-10T07:33:10.243056Z",
     "iopub.status.busy": "2022-07-10T07:33:10.242645Z",
     "iopub.status.idle": "2022-07-10T07:33:10.256976Z",
     "shell.execute_reply": "2022-07-10T07:33:10.255742Z"
    },
    "papermill": {
     "duration": 0.040258,
     "end_time": "2022-07-10T07:33:10.259829",
     "exception": false,
     "start_time": "2022-07-10T07:33:10.219571",
     "status": "completed"
    },
    "tags": []
   },
   "outputs": [
    {
     "data": {
      "text/plain": [
       "179"
      ]
     },
     "execution_count": 37,
     "metadata": {},
     "output_type": "execute_result"
    }
   ],
   "source": [
    "## Removing stop words and punctuations\n",
    "from nltk.corpus import stopwords\n",
    "stopwords.words('english')\n",
    "len(stopwords.words('english'))\n"
   ]
  },
  {
   "cell_type": "markdown",
   "id": "378e5083",
   "metadata": {
    "papermill": {
     "duration": 0.020426,
     "end_time": "2022-07-10T07:33:10.301541",
     "exception": false,
     "start_time": "2022-07-10T07:33:10.281115",
     "status": "completed"
    },
    "tags": []
   },
   "source": [
    "*This shows there are 179 stopwords in the english language in this library*"
   ]
  },
  {
   "cell_type": "code",
   "execution_count": null,
   "id": "12ca933e",
   "metadata": {
    "papermill": {
     "duration": 0.020584,
     "end_time": "2022-07-10T07:33:10.343605",
     "exception": false,
     "start_time": "2022-07-10T07:33:10.323021",
     "status": "completed"
    },
    "tags": []
   },
   "outputs": [],
   "source": []
  }
 ],
 "metadata": {
  "kernelspec": {
   "display_name": "Python 3",
   "language": "python",
   "name": "python3"
  },
  "language_info": {
   "codemirror_mode": {
    "name": "ipython",
    "version": 3
   },
   "file_extension": ".py",
   "mimetype": "text/x-python",
   "name": "python",
   "nbconvert_exporter": "python",
   "pygments_lexer": "ipython3",
   "version": "3.7.12"
  },
  "papermill": {
   "default_parameters": {},
   "duration": 26.632147,
   "end_time": "2022-07-10T07:33:11.289899",
   "environment_variables": {},
   "exception": null,
   "input_path": "__notebook__.ipynb",
   "output_path": "__notebook__.ipynb",
   "parameters": {},
   "start_time": "2022-07-10T07:32:44.657752",
   "version": "2.3.4"
  }
 },
 "nbformat": 4,
 "nbformat_minor": 5
}
