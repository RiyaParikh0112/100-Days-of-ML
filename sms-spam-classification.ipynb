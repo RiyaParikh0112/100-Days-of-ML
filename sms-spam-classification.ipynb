{
 "cells": [
  {
   "cell_type": "code",
   "execution_count": null,
   "id": "cc1f6fac",
   "metadata": {
    "_cell_guid": "b1076dfc-b9ad-4769-8c92-a6c4dae69d19",
    "_uuid": "8f2839f25d086af736a60e9eeb907d3b93b6e0e5",
    "papermill": {
     "duration": 0.010525,
     "end_time": "2022-07-10T06:11:38.620483",
     "exception": false,
     "start_time": "2022-07-10T06:11:38.609958",
     "status": "completed"
    },
    "tags": []
   },
   "outputs": [],
   "source": []
  },
  {
   "cell_type": "code",
   "execution_count": 1,
   "id": "f8afd98f",
   "metadata": {
    "execution": {
     "iopub.execute_input": "2022-07-10T06:11:38.641428Z",
     "iopub.status.busy": "2022-07-10T06:11:38.640553Z",
     "iopub.status.idle": "2022-07-10T06:11:38.653722Z",
     "shell.execute_reply": "2022-07-10T06:11:38.652647Z"
    },
    "papermill": {
     "duration": 0.026464,
     "end_time": "2022-07-10T06:11:38.656234",
     "exception": false,
     "start_time": "2022-07-10T06:11:38.629770",
     "status": "completed"
    },
    "tags": []
   },
   "outputs": [],
   "source": [
    "import pandas as pd\n",
    "import numpy as np"
   ]
  },
  {
   "cell_type": "code",
   "execution_count": 2,
   "id": "e3115700",
   "metadata": {
    "execution": {
     "iopub.execute_input": "2022-07-10T06:11:38.678471Z",
     "iopub.status.busy": "2022-07-10T06:11:38.677897Z",
     "iopub.status.idle": "2022-07-10T06:11:38.713856Z",
     "shell.execute_reply": "2022-07-10T06:11:38.712868Z"
    },
    "papermill": {
     "duration": 0.05099,
     "end_time": "2022-07-10T06:11:38.716372",
     "exception": false,
     "start_time": "2022-07-10T06:11:38.665382",
     "status": "completed"
    },
    "tags": []
   },
   "outputs": [],
   "source": [
    "df = pd.read_csv('/kaggle/input/sms-spam-collection-dataset/spam.csv',encoding='latin-1')"
   ]
  },
  {
   "cell_type": "code",
   "execution_count": 3,
   "id": "32b3d722",
   "metadata": {
    "execution": {
     "iopub.execute_input": "2022-07-10T06:11:38.737380Z",
     "iopub.status.busy": "2022-07-10T06:11:38.736889Z",
     "iopub.status.idle": "2022-07-10T06:11:38.763416Z",
     "shell.execute_reply": "2022-07-10T06:11:38.762279Z"
    },
    "papermill": {
     "duration": 0.039842,
     "end_time": "2022-07-10T06:11:38.765681",
     "exception": false,
     "start_time": "2022-07-10T06:11:38.725839",
     "status": "completed"
    },
    "tags": []
   },
   "outputs": [
    {
     "data": {
      "text/html": [
       "<div>\n",
       "<style scoped>\n",
       "    .dataframe tbody tr th:only-of-type {\n",
       "        vertical-align: middle;\n",
       "    }\n",
       "\n",
       "    .dataframe tbody tr th {\n",
       "        vertical-align: top;\n",
       "    }\n",
       "\n",
       "    .dataframe thead th {\n",
       "        text-align: right;\n",
       "    }\n",
       "</style>\n",
       "<table border=\"1\" class=\"dataframe\">\n",
       "  <thead>\n",
       "    <tr style=\"text-align: right;\">\n",
       "      <th></th>\n",
       "      <th>v1</th>\n",
       "      <th>v2</th>\n",
       "      <th>Unnamed: 2</th>\n",
       "      <th>Unnamed: 3</th>\n",
       "      <th>Unnamed: 4</th>\n",
       "    </tr>\n",
       "  </thead>\n",
       "  <tbody>\n",
       "    <tr>\n",
       "      <th>2415</th>\n",
       "      <td>ham</td>\n",
       "      <td>Huh means computational science... Y they like...</td>\n",
       "      <td>NaN</td>\n",
       "      <td>NaN</td>\n",
       "      <td>NaN</td>\n",
       "    </tr>\n",
       "    <tr>\n",
       "      <th>900</th>\n",
       "      <td>ham</td>\n",
       "      <td>Probably money worries. Things are coming due ...</td>\n",
       "      <td>NaN</td>\n",
       "      <td>NaN</td>\n",
       "      <td>NaN</td>\n",
       "    </tr>\n",
       "    <tr>\n",
       "      <th>631</th>\n",
       "      <td>ham</td>\n",
       "      <td>Thank u!</td>\n",
       "      <td>NaN</td>\n",
       "      <td>NaN</td>\n",
       "      <td>NaN</td>\n",
       "    </tr>\n",
       "    <tr>\n",
       "      <th>3064</th>\n",
       "      <td>ham</td>\n",
       "      <td>Sounds good, keep me posted</td>\n",
       "      <td>NaN</td>\n",
       "      <td>NaN</td>\n",
       "      <td>NaN</td>\n",
       "    </tr>\n",
       "    <tr>\n",
       "      <th>1195</th>\n",
       "      <td>spam</td>\n",
       "      <td>You have 1 new voicemail. Please call 08719181503</td>\n",
       "      <td>NaN</td>\n",
       "      <td>NaN</td>\n",
       "      <td>NaN</td>\n",
       "    </tr>\n",
       "  </tbody>\n",
       "</table>\n",
       "</div>"
      ],
      "text/plain": [
       "        v1                                                 v2 Unnamed: 2  \\\n",
       "2415   ham  Huh means computational science... Y they like...        NaN   \n",
       "900    ham  Probably money worries. Things are coming due ...        NaN   \n",
       "631    ham                                           Thank u!        NaN   \n",
       "3064   ham                        Sounds good, keep me posted        NaN   \n",
       "1195  spam  You have 1 new voicemail. Please call 08719181503        NaN   \n",
       "\n",
       "     Unnamed: 3 Unnamed: 4  \n",
       "2415        NaN        NaN  \n",
       "900         NaN        NaN  \n",
       "631         NaN        NaN  \n",
       "3064        NaN        NaN  \n",
       "1195        NaN        NaN  "
      ]
     },
     "execution_count": 3,
     "metadata": {},
     "output_type": "execute_result"
    }
   ],
   "source": [
    "df.sample(5)"
   ]
  },
  {
   "cell_type": "code",
   "execution_count": 4,
   "id": "874b47f9",
   "metadata": {
    "execution": {
     "iopub.execute_input": "2022-07-10T06:11:38.786791Z",
     "iopub.status.busy": "2022-07-10T06:11:38.786323Z",
     "iopub.status.idle": "2022-07-10T06:11:38.794169Z",
     "shell.execute_reply": "2022-07-10T06:11:38.792975Z"
    },
    "papermill": {
     "duration": 0.021367,
     "end_time": "2022-07-10T06:11:38.796595",
     "exception": false,
     "start_time": "2022-07-10T06:11:38.775228",
     "status": "completed"
    },
    "tags": []
   },
   "outputs": [
    {
     "data": {
      "text/plain": [
       "(5572, 5)"
      ]
     },
     "execution_count": 4,
     "metadata": {},
     "output_type": "execute_result"
    }
   ],
   "source": [
    "df.shape"
   ]
  },
  {
   "cell_type": "markdown",
   "id": "6a0c87ca",
   "metadata": {
    "papermill": {
     "duration": 0.009718,
     "end_time": "2022-07-10T06:11:38.816112",
     "exception": false,
     "start_time": "2022-07-10T06:11:38.806394",
     "status": "completed"
    },
    "tags": []
   },
   "source": [
    "**Now lets start working with the data and make some amazing conclusions**"
   ]
  },
  {
   "cell_type": "markdown",
   "id": "3a4fe7c3",
   "metadata": {
    "execution": {
     "iopub.execute_input": "2022-07-10T04:35:58.217491Z",
     "iopub.status.busy": "2022-07-10T04:35:58.216357Z",
     "iopub.status.idle": "2022-07-10T04:35:58.221486Z",
     "shell.execute_reply": "2022-07-10T04:35:58.220739Z",
     "shell.execute_reply.started": "2022-07-10T04:35:58.217454Z"
    },
    "papermill": {
     "duration": 0.009561,
     "end_time": "2022-07-10T06:11:38.835397",
     "exception": false,
     "start_time": "2022-07-10T06:11:38.825836",
     "status": "completed"
    },
    "tags": []
   },
   "source": [
    "## 1. Data Cleaning\n",
    "## 2. EDA\n",
    "## 3. Data Preprocessing --vectorization,stemming,remove stop words\n",
    "## 4. Model Building\n",
    "## 5. Evaluate the model\n",
    "## 6. Improve the model\n",
    "## 7. Website\n",
    "## 8. Deployment on Heroku\n"
   ]
  },
  {
   "cell_type": "markdown",
   "id": "7a80ea83",
   "metadata": {
    "papermill": {
     "duration": 0.009548,
     "end_time": "2022-07-10T06:11:38.855600",
     "exception": false,
     "start_time": "2022-07-10T06:11:38.846052",
     "status": "completed"
    },
    "tags": []
   },
   "source": [
    "# *1. Data Cleaning*"
   ]
  },
  {
   "cell_type": "code",
   "execution_count": 5,
   "id": "1c23e361",
   "metadata": {
    "execution": {
     "iopub.execute_input": "2022-07-10T06:11:38.878075Z",
     "iopub.status.busy": "2022-07-10T06:11:38.877559Z",
     "iopub.status.idle": "2022-07-10T06:11:38.911084Z",
     "shell.execute_reply": "2022-07-10T06:11:38.909752Z"
    },
    "papermill": {
     "duration": 0.047748,
     "end_time": "2022-07-10T06:11:38.913716",
     "exception": false,
     "start_time": "2022-07-10T06:11:38.865968",
     "status": "completed"
    },
    "tags": []
   },
   "outputs": [
    {
     "name": "stdout",
     "output_type": "stream",
     "text": [
      "<class 'pandas.core.frame.DataFrame'>\n",
      "RangeIndex: 5572 entries, 0 to 5571\n",
      "Data columns (total 5 columns):\n",
      " #   Column      Non-Null Count  Dtype \n",
      "---  ------      --------------  ----- \n",
      " 0   v1          5572 non-null   object\n",
      " 1   v2          5572 non-null   object\n",
      " 2   Unnamed: 2  50 non-null     object\n",
      " 3   Unnamed: 3  12 non-null     object\n",
      " 4   Unnamed: 4  6 non-null      object\n",
      "dtypes: object(5)\n",
      "memory usage: 217.8+ KB\n"
     ]
    }
   ],
   "source": [
    "df.info()"
   ]
  },
  {
   "cell_type": "code",
   "execution_count": 6,
   "id": "011d9db4",
   "metadata": {
    "execution": {
     "iopub.execute_input": "2022-07-10T06:11:38.935849Z",
     "iopub.status.busy": "2022-07-10T06:11:38.935458Z",
     "iopub.status.idle": "2022-07-10T06:11:38.947614Z",
     "shell.execute_reply": "2022-07-10T06:11:38.946870Z"
    },
    "papermill": {
     "duration": 0.026172,
     "end_time": "2022-07-10T06:11:38.950106",
     "exception": false,
     "start_time": "2022-07-10T06:11:38.923934",
     "status": "completed"
    },
    "tags": []
   },
   "outputs": [
    {
     "data": {
      "text/html": [
       "<div>\n",
       "<style scoped>\n",
       "    .dataframe tbody tr th:only-of-type {\n",
       "        vertical-align: middle;\n",
       "    }\n",
       "\n",
       "    .dataframe tbody tr th {\n",
       "        vertical-align: top;\n",
       "    }\n",
       "\n",
       "    .dataframe thead th {\n",
       "        text-align: right;\n",
       "    }\n",
       "</style>\n",
       "<table border=\"1\" class=\"dataframe\">\n",
       "  <thead>\n",
       "    <tr style=\"text-align: right;\">\n",
       "      <th></th>\n",
       "      <th>v1</th>\n",
       "      <th>v2</th>\n",
       "    </tr>\n",
       "  </thead>\n",
       "  <tbody>\n",
       "    <tr>\n",
       "      <th>981</th>\n",
       "      <td>ham</td>\n",
       "      <td>Reckon need to be in town by eightish to walk ...</td>\n",
       "    </tr>\n",
       "    <tr>\n",
       "      <th>975</th>\n",
       "      <td>ham</td>\n",
       "      <td>Hey no I ad a crap nite was borin without ya 2...</td>\n",
       "    </tr>\n",
       "    <tr>\n",
       "      <th>1534</th>\n",
       "      <td>ham</td>\n",
       "      <td>Remember on that day..</td>\n",
       "    </tr>\n",
       "    <tr>\n",
       "      <th>64</th>\n",
       "      <td>ham</td>\n",
       "      <td>Ok lar i double check wif da hair dresser alre...</td>\n",
       "    </tr>\n",
       "    <tr>\n",
       "      <th>626</th>\n",
       "      <td>ham</td>\n",
       "      <td>How many licks does it take to get to the cent...</td>\n",
       "    </tr>\n",
       "  </tbody>\n",
       "</table>\n",
       "</div>"
      ],
      "text/plain": [
       "       v1                                                 v2\n",
       "981   ham  Reckon need to be in town by eightish to walk ...\n",
       "975   ham  Hey no I ad a crap nite was borin without ya 2...\n",
       "1534  ham                             Remember on that day..\n",
       "64    ham  Ok lar i double check wif da hair dresser alre...\n",
       "626   ham  How many licks does it take to get to the cent..."
      ]
     },
     "execution_count": 6,
     "metadata": {},
     "output_type": "execute_result"
    }
   ],
   "source": [
    "# the above information shows that columns 2 3 4 have too much null values so it is good to drop it\n",
    "df.drop(columns=['Unnamed: 2','Unnamed: 3','Unnamed: 4'],inplace= True)\n",
    "#inplace= True because we permanently want to bring change in the original dataset\n",
    "df.sample(5)"
   ]
  },
  {
   "cell_type": "code",
   "execution_count": 7,
   "id": "153e8bd4",
   "metadata": {
    "execution": {
     "iopub.execute_input": "2022-07-10T06:11:38.972705Z",
     "iopub.status.busy": "2022-07-10T06:11:38.971631Z",
     "iopub.status.idle": "2022-07-10T06:11:38.976814Z",
     "shell.execute_reply": "2022-07-10T06:11:38.976064Z"
    },
    "papermill": {
     "duration": 0.018603,
     "end_time": "2022-07-10T06:11:38.978889",
     "exception": false,
     "start_time": "2022-07-10T06:11:38.960286",
     "status": "completed"
    },
    "tags": []
   },
   "outputs": [],
   "source": [
    "# as the column names are not to descriptive lets rename the names of the columns\n",
    "df.rename(columns={'v1':'message_type', 'v2':'message'},inplace=True)"
   ]
  },
  {
   "cell_type": "code",
   "execution_count": 8,
   "id": "36e720de",
   "metadata": {
    "execution": {
     "iopub.execute_input": "2022-07-10T06:11:39.001795Z",
     "iopub.status.busy": "2022-07-10T06:11:39.001211Z",
     "iopub.status.idle": "2022-07-10T06:11:39.012046Z",
     "shell.execute_reply": "2022-07-10T06:11:39.011282Z"
    },
    "papermill": {
     "duration": 0.024629,
     "end_time": "2022-07-10T06:11:39.014161",
     "exception": false,
     "start_time": "2022-07-10T06:11:38.989532",
     "status": "completed"
    },
    "tags": []
   },
   "outputs": [
    {
     "data": {
      "text/html": [
       "<div>\n",
       "<style scoped>\n",
       "    .dataframe tbody tr th:only-of-type {\n",
       "        vertical-align: middle;\n",
       "    }\n",
       "\n",
       "    .dataframe tbody tr th {\n",
       "        vertical-align: top;\n",
       "    }\n",
       "\n",
       "    .dataframe thead th {\n",
       "        text-align: right;\n",
       "    }\n",
       "</style>\n",
       "<table border=\"1\" class=\"dataframe\">\n",
       "  <thead>\n",
       "    <tr style=\"text-align: right;\">\n",
       "      <th></th>\n",
       "      <th>message_type</th>\n",
       "      <th>message</th>\n",
       "    </tr>\n",
       "  </thead>\n",
       "  <tbody>\n",
       "    <tr>\n",
       "      <th>3359</th>\n",
       "      <td>ham</td>\n",
       "      <td>Please attend the phone:)</td>\n",
       "    </tr>\n",
       "    <tr>\n",
       "      <th>3309</th>\n",
       "      <td>ham</td>\n",
       "      <td>Oh ho. Is this the first time u use these type...</td>\n",
       "    </tr>\n",
       "    <tr>\n",
       "      <th>532</th>\n",
       "      <td>ham</td>\n",
       "      <td>Gudnite....tc...practice going on</td>\n",
       "    </tr>\n",
       "    <tr>\n",
       "      <th>2005</th>\n",
       "      <td>ham</td>\n",
       "      <td>Can't take any major roles in community outrea...</td>\n",
       "    </tr>\n",
       "    <tr>\n",
       "      <th>5387</th>\n",
       "      <td>ham</td>\n",
       "      <td>I will be gentle baby! Soon you will be taking...</td>\n",
       "    </tr>\n",
       "  </tbody>\n",
       "</table>\n",
       "</div>"
      ],
      "text/plain": [
       "     message_type                                            message\n",
       "3359          ham                          Please attend the phone:)\n",
       "3309          ham  Oh ho. Is this the first time u use these type...\n",
       "532           ham                  Gudnite....tc...practice going on\n",
       "2005          ham  Can't take any major roles in community outrea...\n",
       "5387          ham  I will be gentle baby! Soon you will be taking..."
      ]
     },
     "execution_count": 8,
     "metadata": {},
     "output_type": "execute_result"
    }
   ],
   "source": [
    "df.sample(5)"
   ]
  },
  {
   "cell_type": "code",
   "execution_count": 9,
   "id": "bff47f11",
   "metadata": {
    "execution": {
     "iopub.execute_input": "2022-07-10T06:11:39.037171Z",
     "iopub.status.busy": "2022-07-10T06:11:39.036495Z",
     "iopub.status.idle": "2022-07-10T06:11:39.040592Z",
     "shell.execute_reply": "2022-07-10T06:11:39.039419Z"
    },
    "papermill": {
     "duration": 0.018154,
     "end_time": "2022-07-10T06:11:39.042730",
     "exception": false,
     "start_time": "2022-07-10T06:11:39.024576",
     "status": "completed"
    },
    "tags": []
   },
   "outputs": [],
   "source": [
    "# in the message type, they are classified as 'ham' and 'spam' but we want it as 1 and O so lets import Label Encoder"
   ]
  },
  {
   "cell_type": "code",
   "execution_count": 10,
   "id": "f5e1f8c6",
   "metadata": {
    "execution": {
     "iopub.execute_input": "2022-07-10T06:11:39.065687Z",
     "iopub.status.busy": "2022-07-10T06:11:39.065123Z",
     "iopub.status.idle": "2022-07-10T06:11:40.204552Z",
     "shell.execute_reply": "2022-07-10T06:11:40.203064Z"
    },
    "papermill": {
     "duration": 1.154147,
     "end_time": "2022-07-10T06:11:40.207573",
     "exception": false,
     "start_time": "2022-07-10T06:11:39.053426",
     "status": "completed"
    },
    "tags": []
   },
   "outputs": [],
   "source": [
    "from sklearn.preprocessing import LabelEncoder\n",
    "encoder =LabelEncoder()"
   ]
  },
  {
   "cell_type": "code",
   "execution_count": 11,
   "id": "f81dede8",
   "metadata": {
    "execution": {
     "iopub.execute_input": "2022-07-10T06:11:40.230669Z",
     "iopub.status.busy": "2022-07-10T06:11:40.230255Z",
     "iopub.status.idle": "2022-07-10T06:11:40.242518Z",
     "shell.execute_reply": "2022-07-10T06:11:40.241673Z"
    },
    "papermill": {
     "duration": 0.026441,
     "end_time": "2022-07-10T06:11:40.244501",
     "exception": false,
     "start_time": "2022-07-10T06:11:40.218060",
     "status": "completed"
    },
    "tags": []
   },
   "outputs": [
    {
     "data": {
      "text/plain": [
       "5459    0\n",
       "5349    0\n",
       "5527    0\n",
       "2531    0\n",
       "2360    0\n",
       "Name: message_type, dtype: int64"
      ]
     },
     "execution_count": 11,
     "metadata": {},
     "output_type": "execute_result"
    }
   ],
   "source": [
    "df['message_type']=encoder.fit_transform(df['message_type'])\n",
    "df['message_type'].sample(5)"
   ]
  },
  {
   "cell_type": "code",
   "execution_count": 12,
   "id": "bd400a67",
   "metadata": {
    "execution": {
     "iopub.execute_input": "2022-07-10T06:11:40.268128Z",
     "iopub.status.busy": "2022-07-10T06:11:40.267369Z",
     "iopub.status.idle": "2022-07-10T06:11:40.284284Z",
     "shell.execute_reply": "2022-07-10T06:11:40.282896Z"
    },
    "papermill": {
     "duration": 0.03188,
     "end_time": "2022-07-10T06:11:40.287012",
     "exception": false,
     "start_time": "2022-07-10T06:11:40.255132",
     "status": "completed"
    },
    "tags": []
   },
   "outputs": [
    {
     "data": {
      "text/html": [
       "<div>\n",
       "<style scoped>\n",
       "    .dataframe tbody tr th:only-of-type {\n",
       "        vertical-align: middle;\n",
       "    }\n",
       "\n",
       "    .dataframe tbody tr th {\n",
       "        vertical-align: top;\n",
       "    }\n",
       "\n",
       "    .dataframe thead th {\n",
       "        text-align: right;\n",
       "    }\n",
       "</style>\n",
       "<table border=\"1\" class=\"dataframe\">\n",
       "  <thead>\n",
       "    <tr style=\"text-align: right;\">\n",
       "      <th></th>\n",
       "      <th>message_type</th>\n",
       "      <th>message</th>\n",
       "    </tr>\n",
       "  </thead>\n",
       "  <tbody>\n",
       "    <tr>\n",
       "      <th>2</th>\n",
       "      <td>1</td>\n",
       "      <td>Free entry in 2 a wkly comp to win FA Cup fina...</td>\n",
       "    </tr>\n",
       "    <tr>\n",
       "      <th>5</th>\n",
       "      <td>1</td>\n",
       "      <td>FreeMsg Hey there darling it's been 3 week's n...</td>\n",
       "    </tr>\n",
       "    <tr>\n",
       "      <th>8</th>\n",
       "      <td>1</td>\n",
       "      <td>WINNER!! As a valued network customer you have...</td>\n",
       "    </tr>\n",
       "    <tr>\n",
       "      <th>9</th>\n",
       "      <td>1</td>\n",
       "      <td>Had your mobile 11 months or more? U R entitle...</td>\n",
       "    </tr>\n",
       "    <tr>\n",
       "      <th>11</th>\n",
       "      <td>1</td>\n",
       "      <td>SIX chances to win CASH! From 100 to 20,000 po...</td>\n",
       "    </tr>\n",
       "    <tr>\n",
       "      <th>...</th>\n",
       "      <td>...</td>\n",
       "      <td>...</td>\n",
       "    </tr>\n",
       "    <tr>\n",
       "      <th>5537</th>\n",
       "      <td>1</td>\n",
       "      <td>Want explicit SEX in 30 secs? Ring 02073162414...</td>\n",
       "    </tr>\n",
       "    <tr>\n",
       "      <th>5540</th>\n",
       "      <td>1</td>\n",
       "      <td>ASKED 3MOBILE IF 0870 CHATLINES INCLU IN FREE ...</td>\n",
       "    </tr>\n",
       "    <tr>\n",
       "      <th>5547</th>\n",
       "      <td>1</td>\n",
       "      <td>Had your contract mobile 11 Mnths? Latest Moto...</td>\n",
       "    </tr>\n",
       "    <tr>\n",
       "      <th>5566</th>\n",
       "      <td>1</td>\n",
       "      <td>REMINDER FROM O2: To get 2.50 pounds free call...</td>\n",
       "    </tr>\n",
       "    <tr>\n",
       "      <th>5567</th>\n",
       "      <td>1</td>\n",
       "      <td>This is the 2nd time we have tried 2 contact u...</td>\n",
       "    </tr>\n",
       "  </tbody>\n",
       "</table>\n",
       "<p>747 rows × 2 columns</p>\n",
       "</div>"
      ],
      "text/plain": [
       "      message_type                                            message\n",
       "2                1  Free entry in 2 a wkly comp to win FA Cup fina...\n",
       "5                1  FreeMsg Hey there darling it's been 3 week's n...\n",
       "8                1  WINNER!! As a valued network customer you have...\n",
       "9                1  Had your mobile 11 months or more? U R entitle...\n",
       "11               1  SIX chances to win CASH! From 100 to 20,000 po...\n",
       "...            ...                                                ...\n",
       "5537             1  Want explicit SEX in 30 secs? Ring 02073162414...\n",
       "5540             1  ASKED 3MOBILE IF 0870 CHATLINES INCLU IN FREE ...\n",
       "5547             1  Had your contract mobile 11 Mnths? Latest Moto...\n",
       "5566             1  REMINDER FROM O2: To get 2.50 pounds free call...\n",
       "5567             1  This is the 2nd time we have tried 2 contact u...\n",
       "\n",
       "[747 rows x 2 columns]"
      ]
     },
     "execution_count": 12,
     "metadata": {},
     "output_type": "execute_result"
    }
   ],
   "source": [
    "df[df['message_type']==1]\n",
    "# there are 747 spam messages in the dataset"
   ]
  },
  {
   "cell_type": "code",
   "execution_count": 13,
   "id": "2bc0af10",
   "metadata": {
    "execution": {
     "iopub.execute_input": "2022-07-10T06:11:40.311526Z",
     "iopub.status.busy": "2022-07-10T06:11:40.310850Z",
     "iopub.status.idle": "2022-07-10T06:11:40.319728Z",
     "shell.execute_reply": "2022-07-10T06:11:40.318938Z"
    },
    "papermill": {
     "duration": 0.023986,
     "end_time": "2022-07-10T06:11:40.321825",
     "exception": false,
     "start_time": "2022-07-10T06:11:40.297839",
     "status": "completed"
    },
    "tags": []
   },
   "outputs": [
    {
     "data": {
      "text/plain": [
       "message_type    0\n",
       "message         0\n",
       "dtype: int64"
      ]
     },
     "execution_count": 13,
     "metadata": {},
     "output_type": "execute_result"
    }
   ],
   "source": [
    "#now lets check the missing values\n",
    "df.isnull().sum()\n",
    "# there are no missing values"
   ]
  },
  {
   "cell_type": "code",
   "execution_count": 14,
   "id": "5fe85a3b",
   "metadata": {
    "execution": {
     "iopub.execute_input": "2022-07-10T06:11:40.346027Z",
     "iopub.status.busy": "2022-07-10T06:11:40.345344Z",
     "iopub.status.idle": "2022-07-10T06:11:40.354524Z",
     "shell.execute_reply": "2022-07-10T06:11:40.353833Z"
    },
    "papermill": {
     "duration": 0.02369,
     "end_time": "2022-07-10T06:11:40.356597",
     "exception": false,
     "start_time": "2022-07-10T06:11:40.332907",
     "status": "completed"
    },
    "tags": []
   },
   "outputs": [
    {
     "data": {
      "text/plain": [
       "403"
      ]
     },
     "execution_count": 14,
     "metadata": {},
     "output_type": "execute_result"
    }
   ],
   "source": [
    "# now lets check for duplicated values\n",
    "df.duplicated().sum()\n"
   ]
  },
  {
   "cell_type": "markdown",
   "id": "937a7258",
   "metadata": {
    "papermill": {
     "duration": 0.010649,
     "end_time": "2022-07-10T06:11:40.378332",
     "exception": false,
     "start_time": "2022-07-10T06:11:40.367683",
     "status": "completed"
    },
    "tags": []
   },
   "source": [
    "*There are 403 duplicate values so we simply have to remove those values* "
   ]
  },
  {
   "cell_type": "code",
   "execution_count": 15,
   "id": "0569a8a6",
   "metadata": {
    "execution": {
     "iopub.execute_input": "2022-07-10T06:11:40.402488Z",
     "iopub.status.busy": "2022-07-10T06:11:40.401762Z",
     "iopub.status.idle": "2022-07-10T06:11:40.410230Z",
     "shell.execute_reply": "2022-07-10T06:11:40.409242Z"
    },
    "papermill": {
     "duration": 0.023118,
     "end_time": "2022-07-10T06:11:40.412437",
     "exception": false,
     "start_time": "2022-07-10T06:11:40.389319",
     "status": "completed"
    },
    "tags": []
   },
   "outputs": [],
   "source": [
    "#remove the duplicates\n",
    "df= df.drop_duplicates()"
   ]
  },
  {
   "cell_type": "code",
   "execution_count": 16,
   "id": "939b31d0",
   "metadata": {
    "execution": {
     "iopub.execute_input": "2022-07-10T06:11:40.436823Z",
     "iopub.status.busy": "2022-07-10T06:11:40.436159Z",
     "iopub.status.idle": "2022-07-10T06:11:40.445996Z",
     "shell.execute_reply": "2022-07-10T06:11:40.444967Z"
    },
    "papermill": {
     "duration": 0.024671,
     "end_time": "2022-07-10T06:11:40.448274",
     "exception": false,
     "start_time": "2022-07-10T06:11:40.423603",
     "status": "completed"
    },
    "tags": []
   },
   "outputs": [
    {
     "data": {
      "text/plain": [
       "0"
      ]
     },
     "execution_count": 16,
     "metadata": {},
     "output_type": "execute_result"
    }
   ],
   "source": [
    "df.duplicated().sum()"
   ]
  },
  {
   "cell_type": "markdown",
   "id": "2354ca7d",
   "metadata": {
    "papermill": {
     "duration": 0.011316,
     "end_time": "2022-07-10T06:11:40.470933",
     "exception": false,
     "start_time": "2022-07-10T06:11:40.459617",
     "status": "completed"
    },
    "tags": []
   },
   "source": [
    "# 2. Exploratory Data Analysis"
   ]
  },
  {
   "cell_type": "markdown",
   "id": "2a199b09",
   "metadata": {
    "papermill": {
     "duration": 0.01097,
     "end_time": "2022-07-10T06:11:40.493174",
     "exception": false,
     "start_time": "2022-07-10T06:11:40.482204",
     "status": "completed"
    },
    "tags": []
   },
   "source": [
    "### *Lets visualize this classification problem to get a better understanding of the data*"
   ]
  },
  {
   "cell_type": "code",
   "execution_count": 17,
   "id": "8e81d7ec",
   "metadata": {
    "execution": {
     "iopub.execute_input": "2022-07-10T06:11:40.517937Z",
     "iopub.status.busy": "2022-07-10T06:11:40.517243Z",
     "iopub.status.idle": "2022-07-10T06:11:40.713003Z",
     "shell.execute_reply": "2022-07-10T06:11:40.711381Z"
    },
    "papermill": {
     "duration": 0.211823,
     "end_time": "2022-07-10T06:11:40.716287",
     "exception": false,
     "start_time": "2022-07-10T06:11:40.504464",
     "status": "completed"
    },
    "tags": []
   },
   "outputs": [],
   "source": [
    "import seaborn as sns\n",
    "import matplotlib.pyplot as plt\n"
   ]
  },
  {
   "cell_type": "code",
   "execution_count": 18,
   "id": "3d5f577f",
   "metadata": {
    "execution": {
     "iopub.execute_input": "2022-07-10T06:11:40.740661Z",
     "iopub.status.busy": "2022-07-10T06:11:40.740224Z",
     "iopub.status.idle": "2022-07-10T06:11:40.750387Z",
     "shell.execute_reply": "2022-07-10T06:11:40.749114Z"
    },
    "papermill": {
     "duration": 0.025033,
     "end_time": "2022-07-10T06:11:40.752775",
     "exception": false,
     "start_time": "2022-07-10T06:11:40.727742",
     "status": "completed"
    },
    "tags": []
   },
   "outputs": [
    {
     "data": {
      "text/plain": [
       "0    4516\n",
       "1     653\n",
       "Name: message_type, dtype: int64"
      ]
     },
     "execution_count": 18,
     "metadata": {},
     "output_type": "execute_result"
    }
   ],
   "source": [
    "df['message_type'].value_counts()"
   ]
  },
  {
   "cell_type": "code",
   "execution_count": 19,
   "id": "e0729d14",
   "metadata": {
    "execution": {
     "iopub.execute_input": "2022-07-10T06:11:40.776459Z",
     "iopub.status.busy": "2022-07-10T06:11:40.776037Z",
     "iopub.status.idle": "2022-07-10T06:11:40.922478Z",
     "shell.execute_reply": "2022-07-10T06:11:40.920726Z"
    },
    "papermill": {
     "duration": 0.162924,
     "end_time": "2022-07-10T06:11:40.926557",
     "exception": false,
     "start_time": "2022-07-10T06:11:40.763633",
     "status": "completed"
    },
    "tags": []
   },
   "outputs": [
    {
     "data": {
      "image/png": "[encoded data removed]",
      "text/plain": [
       "<Figure size 432x288 with 1 Axes>"
      ]
     },
     "metadata": {},
     "output_type": "display_data"
    }
   ],
   "source": [
    "plt.pie(df['message_type'].value_counts(),labels=[' not spam','spam'],autopct='%0.2f')\n",
    "plt.show()"
   ]
  },
  {
   "cell_type": "markdown",
   "id": "987d1d35",
   "metadata": {
    "papermill": {
     "duration": 0.020423,
     "end_time": "2022-07-10T06:11:40.968061",
     "exception": false,
     "start_time": "2022-07-10T06:11:40.947638",
     "status": "completed"
    },
    "tags": []
   },
   "source": [
    "### there is imbalance in data"
   ]
  },
  {
   "cell_type": "code",
   "execution_count": 20,
   "id": "53a51834",
   "metadata": {
    "execution": {
     "iopub.execute_input": "2022-07-10T06:11:41.006704Z",
     "iopub.status.busy": "2022-07-10T06:11:41.006007Z",
     "iopub.status.idle": "2022-07-10T06:11:41.011728Z",
     "shell.execute_reply": "2022-07-10T06:11:41.010701Z"
    },
    "papermill": {
     "duration": 0.025247,
     "end_time": "2022-07-10T06:11:41.013973",
     "exception": false,
     "start_time": "2022-07-10T06:11:40.988726",
     "status": "completed"
    },
    "tags": []
   },
   "outputs": [],
   "source": [
    "# no. of alphabets in the data\n",
    "# no. of sentences in the data\n",
    "# no. of words in the data"
   ]
  },
  {
   "cell_type": "markdown",
   "id": "c4c09c4e",
   "metadata": {
    "papermill": {
     "duration": 0.010916,
     "end_time": "2022-07-10T06:11:41.035954",
     "exception": false,
     "start_time": "2022-07-10T06:11:41.025038",
     "status": "completed"
    },
    "tags": []
   },
   "source": [
    "### *Now lets make 3 new columns in the data depicting the no. of characters,words and sentences*"
   ]
  },
  {
   "cell_type": "code",
   "execution_count": 21,
   "id": "b50dcca1",
   "metadata": {
    "execution": {
     "iopub.execute_input": "2022-07-10T06:11:41.060869Z",
     "iopub.status.busy": "2022-07-10T06:11:41.059523Z",
     "iopub.status.idle": "2022-07-10T06:11:41.688218Z",
     "shell.execute_reply": "2022-07-10T06:11:41.686676Z"
    },
    "papermill": {
     "duration": 0.644292,
     "end_time": "2022-07-10T06:11:41.691442",
     "exception": false,
     "start_time": "2022-07-10T06:11:41.047150",
     "status": "completed"
    },
    "tags": []
   },
   "outputs": [],
   "source": [
    "#natural language tool kit\n",
    "import nltk"
   ]
  },
  {
   "cell_type": "code",
   "execution_count": 22,
   "id": "d07d0d1d",
   "metadata": {
    "execution": {
     "iopub.execute_input": "2022-07-10T06:11:41.717338Z",
     "iopub.status.busy": "2022-07-10T06:11:41.716889Z",
     "iopub.status.idle": "2022-07-10T06:11:41.734345Z",
     "shell.execute_reply": "2022-07-10T06:11:41.732758Z"
    },
    "papermill": {
     "duration": 0.033372,
     "end_time": "2022-07-10T06:11:41.736551",
     "exception": false,
     "start_time": "2022-07-10T06:11:41.703179",
     "status": "completed"
    },
    "tags": []
   },
   "outputs": [
    {
     "data": {
      "text/html": [
       "<div>\n",
       "<style scoped>\n",
       "    .dataframe tbody tr th:only-of-type {\n",
       "        vertical-align: middle;\n",
       "    }\n",
       "\n",
       "    .dataframe tbody tr th {\n",
       "        vertical-align: top;\n",
       "    }\n",
       "\n",
       "    .dataframe thead th {\n",
       "        text-align: right;\n",
       "    }\n",
       "</style>\n",
       "<table border=\"1\" class=\"dataframe\">\n",
       "  <thead>\n",
       "    <tr style=\"text-align: right;\">\n",
       "      <th></th>\n",
       "      <th>message_type</th>\n",
       "      <th>message</th>\n",
       "      <th>num_characters</th>\n",
       "    </tr>\n",
       "  </thead>\n",
       "  <tbody>\n",
       "    <tr>\n",
       "      <th>0</th>\n",
       "      <td>0</td>\n",
       "      <td>Go until jurong point, crazy.. Available only ...</td>\n",
       "      <td>111</td>\n",
       "    </tr>\n",
       "    <tr>\n",
       "      <th>1</th>\n",
       "      <td>0</td>\n",
       "      <td>Ok lar... Joking wif u oni...</td>\n",
       "      <td>29</td>\n",
       "    </tr>\n",
       "    <tr>\n",
       "      <th>2</th>\n",
       "      <td>1</td>\n",
       "      <td>Free entry in 2 a wkly comp to win FA Cup fina...</td>\n",
       "      <td>155</td>\n",
       "    </tr>\n",
       "    <tr>\n",
       "      <th>3</th>\n",
       "      <td>0</td>\n",
       "      <td>U dun say so early hor... U c already then say...</td>\n",
       "      <td>49</td>\n",
       "    </tr>\n",
       "    <tr>\n",
       "      <th>4</th>\n",
       "      <td>0</td>\n",
       "      <td>Nah I don't think he goes to usf, he lives aro...</td>\n",
       "      <td>61</td>\n",
       "    </tr>\n",
       "  </tbody>\n",
       "</table>\n",
       "</div>"
      ],
      "text/plain": [
       "   message_type                                            message  \\\n",
       "0             0  Go until jurong point, crazy.. Available only ...   \n",
       "1             0                      Ok lar... Joking wif u oni...   \n",
       "2             1  Free entry in 2 a wkly comp to win FA Cup fina...   \n",
       "3             0  U dun say so early hor... U c already then say...   \n",
       "4             0  Nah I don't think he goes to usf, he lives aro...   \n",
       "\n",
       "   num_characters  \n",
       "0             111  \n",
       "1              29  \n",
       "2             155  \n",
       "3              49  \n",
       "4              61  "
      ]
     },
     "execution_count": 22,
     "metadata": {},
     "output_type": "execute_result"
    }
   ],
   "source": [
    "#find the number of alpha numeric characters in the messages column\n",
    "df['num_characters']=df['message'].apply(len)\n",
    "df.head()"
   ]
  },
  {
   "cell_type": "code",
   "execution_count": 23,
   "id": "b0d5c54a",
   "metadata": {
    "execution": {
     "iopub.execute_input": "2022-07-10T06:11:41.762275Z",
     "iopub.status.busy": "2022-07-10T06:11:41.761868Z",
     "iopub.status.idle": "2022-07-10T06:11:43.425792Z",
     "shell.execute_reply": "2022-07-10T06:11:43.424316Z"
    },
    "papermill": {
     "duration": 1.679823,
     "end_time": "2022-07-10T06:11:43.428368",
     "exception": false,
     "start_time": "2022-07-10T06:11:41.748545",
     "status": "completed"
    },
    "tags": []
   },
   "outputs": [
    {
     "data": {
      "text/plain": [
       "0       [Go, until, jurong, point, ,, crazy.., Availab...\n",
       "1                [Ok, lar, ..., Joking, wif, u, oni, ...]\n",
       "2       [Free, entry, in, 2, a, wkly, comp, to, win, F...\n",
       "3       [U, dun, say, so, early, hor, ..., U, c, alrea...\n",
       "4       [Nah, I, do, n't, think, he, goes, to, usf, ,,...\n",
       "                              ...                        \n",
       "5567    [This, is, the, 2nd, time, we, have, tried, 2,...\n",
       "5568     [Will, Ì_, b, going, to, esplanade, fr, home, ?]\n",
       "5569    [Pity, ,, *, was, in, mood, for, that, ., So, ...\n",
       "5570    [The, guy, did, some, bitching, but, I, acted,...\n",
       "5571                  [Rofl, ., Its, true, to, its, name]\n",
       "Name: message, Length: 5169, dtype: object"
      ]
     },
     "execution_count": 23,
     "metadata": {},
     "output_type": "execute_result"
    }
   ],
   "source": [
    "#fetch number of words using NLTK\n",
    "from nltk.tokenize import word_tokenize\n",
    "#word tokenization\n",
    "df['message'].apply(lambda x: nltk.word_tokenize(x))"
   ]
  },
  {
   "cell_type": "code",
   "execution_count": 24,
   "id": "2511c18f",
   "metadata": {
    "execution": {
     "iopub.execute_input": "2022-07-10T06:11:43.454788Z",
     "iopub.status.busy": "2022-07-10T06:11:43.454370Z",
     "iopub.status.idle": "2022-07-10T06:11:45.093689Z",
     "shell.execute_reply": "2022-07-10T06:11:45.092261Z"
    },
    "papermill": {
     "duration": 1.656157,
     "end_time": "2022-07-10T06:11:45.096587",
     "exception": false,
     "start_time": "2022-07-10T06:11:43.440430",
     "status": "completed"
    },
    "tags": []
   },
   "outputs": [
    {
     "data": {
      "text/html": [
       "<div>\n",
       "<style scoped>\n",
       "    .dataframe tbody tr th:only-of-type {\n",
       "        vertical-align: middle;\n",
       "    }\n",
       "\n",
       "    .dataframe tbody tr th {\n",
       "        vertical-align: top;\n",
       "    }\n",
       "\n",
       "    .dataframe thead th {\n",
       "        text-align: right;\n",
       "    }\n",
       "</style>\n",
       "<table border=\"1\" class=\"dataframe\">\n",
       "  <thead>\n",
       "    <tr style=\"text-align: right;\">\n",
       "      <th></th>\n",
       "      <th>message_type</th>\n",
       "      <th>message</th>\n",
       "      <th>num_characters</th>\n",
       "      <th>num_words</th>\n",
       "    </tr>\n",
       "  </thead>\n",
       "  <tbody>\n",
       "    <tr>\n",
       "      <th>4426</th>\n",
       "      <td>0</td>\n",
       "      <td>So what did the bank say about the money?</td>\n",
       "      <td>41</td>\n",
       "      <td>10</td>\n",
       "    </tr>\n",
       "    <tr>\n",
       "      <th>5515</th>\n",
       "      <td>0</td>\n",
       "      <td>You are a great role model. You are giving so ...</td>\n",
       "      <td>245</td>\n",
       "      <td>61</td>\n",
       "    </tr>\n",
       "    <tr>\n",
       "      <th>4311</th>\n",
       "      <td>0</td>\n",
       "      <td>I keep ten rs in my shelf:) buy two egg.</td>\n",
       "      <td>40</td>\n",
       "      <td>13</td>\n",
       "    </tr>\n",
       "    <tr>\n",
       "      <th>2652</th>\n",
       "      <td>0</td>\n",
       "      <td>No need for the drug anymore.</td>\n",
       "      <td>29</td>\n",
       "      <td>7</td>\n",
       "    </tr>\n",
       "    <tr>\n",
       "      <th>3249</th>\n",
       "      <td>0</td>\n",
       "      <td>Babe, I need your advice</td>\n",
       "      <td>24</td>\n",
       "      <td>6</td>\n",
       "    </tr>\n",
       "  </tbody>\n",
       "</table>\n",
       "</div>"
      ],
      "text/plain": [
       "      message_type                                            message  \\\n",
       "4426             0          So what did the bank say about the money?   \n",
       "5515             0  You are a great role model. You are giving so ...   \n",
       "4311             0           I keep ten rs in my shelf:) buy two egg.   \n",
       "2652             0                      No need for the drug anymore.   \n",
       "3249             0                           Babe, I need your advice   \n",
       "\n",
       "      num_characters  num_words  \n",
       "4426              41         10  \n",
       "5515             245         61  \n",
       "4311              40         13  \n",
       "2652              29          7  \n",
       "3249              24          6  "
      ]
     },
     "execution_count": 24,
     "metadata": {},
     "output_type": "execute_result"
    }
   ],
   "source": [
    "#now find the length of each of the list to get the total number of words in each list\n",
    "df['num_words']=df['message'].apply(lambda x:len(nltk.word_tokenize(x)))\n",
    "df.sample(5)"
   ]
  },
  {
   "cell_type": "code",
   "execution_count": 25,
   "id": "1d87288c",
   "metadata": {
    "execution": {
     "iopub.execute_input": "2022-07-10T06:11:45.123957Z",
     "iopub.status.busy": "2022-07-10T06:11:45.122707Z",
     "iopub.status.idle": "2022-07-10T06:11:45.524817Z",
     "shell.execute_reply": "2022-07-10T06:11:45.523506Z"
    },
    "papermill": {
     "duration": 0.418383,
     "end_time": "2022-07-10T06:11:45.527537",
     "exception": false,
     "start_time": "2022-07-10T06:11:45.109154",
     "status": "completed"
    },
    "tags": []
   },
   "outputs": [
    {
     "data": {
      "text/html": [
       "<div>\n",
       "<style scoped>\n",
       "    .dataframe tbody tr th:only-of-type {\n",
       "        vertical-align: middle;\n",
       "    }\n",
       "\n",
       "    .dataframe tbody tr th {\n",
       "        vertical-align: top;\n",
       "    }\n",
       "\n",
       "    .dataframe thead th {\n",
       "        text-align: right;\n",
       "    }\n",
       "</style>\n",
       "<table border=\"1\" class=\"dataframe\">\n",
       "  <thead>\n",
       "    <tr style=\"text-align: right;\">\n",
       "      <th></th>\n",
       "      <th>message_type</th>\n",
       "      <th>message</th>\n",
       "      <th>num_characters</th>\n",
       "      <th>num_words</th>\n",
       "      <th>num_sentences</th>\n",
       "    </tr>\n",
       "  </thead>\n",
       "  <tbody>\n",
       "    <tr>\n",
       "      <th>5250</th>\n",
       "      <td>1</td>\n",
       "      <td>Urgent! Please call 09061213237 from a landlin...</td>\n",
       "      <td>127</td>\n",
       "      <td>28</td>\n",
       "      <td>[Urgent!, Please call 09061213237 from a landl...</td>\n",
       "    </tr>\n",
       "    <tr>\n",
       "      <th>3293</th>\n",
       "      <td>0</td>\n",
       "      <td>Beautiful tomorrow never comes.. When it comes...</td>\n",
       "      <td>151</td>\n",
       "      <td>27</td>\n",
       "      <td>[Beautiful tomorrow never comes.., When it com...</td>\n",
       "    </tr>\n",
       "    <tr>\n",
       "      <th>2445</th>\n",
       "      <td>0</td>\n",
       "      <td>The guy (kadeem) hasn't been selling since the...</td>\n",
       "      <td>183</td>\n",
       "      <td>42</td>\n",
       "      <td>[The guy (kadeem) hasn't been selling since th...</td>\n",
       "    </tr>\n",
       "    <tr>\n",
       "      <th>2788</th>\n",
       "      <td>0</td>\n",
       "      <td>ÌÏ got wat to buy tell us then Ì_ no need to c...</td>\n",
       "      <td>59</td>\n",
       "      <td>16</td>\n",
       "      <td>[ÌÏ got wat to buy tell us then Ì_ no need to ...</td>\n",
       "    </tr>\n",
       "    <tr>\n",
       "      <th>868</th>\n",
       "      <td>1</td>\n",
       "      <td>Hello. We need some posh birds and chaps to us...</td>\n",
       "      <td>134</td>\n",
       "      <td>32</td>\n",
       "      <td>[Hello., We need some posh birds and chaps to ...</td>\n",
       "    </tr>\n",
       "  </tbody>\n",
       "</table>\n",
       "</div>"
      ],
      "text/plain": [
       "      message_type                                            message  \\\n",
       "5250             1  Urgent! Please call 09061213237 from a landlin...   \n",
       "3293             0  Beautiful tomorrow never comes.. When it comes...   \n",
       "2445             0  The guy (kadeem) hasn't been selling since the...   \n",
       "2788             0  ÌÏ got wat to buy tell us then Ì_ no need to c...   \n",
       "868              1  Hello. We need some posh birds and chaps to us...   \n",
       "\n",
       "      num_characters  num_words  \\\n",
       "5250             127         28   \n",
       "3293             151         27   \n",
       "2445             183         42   \n",
       "2788              59         16   \n",
       "868              134         32   \n",
       "\n",
       "                                          num_sentences  \n",
       "5250  [Urgent!, Please call 09061213237 from a landl...  \n",
       "3293  [Beautiful tomorrow never comes.., When it com...  \n",
       "2445  [The guy (kadeem) hasn't been selling since th...  \n",
       "2788  [ÌÏ got wat to buy tell us then Ì_ no need to ...  \n",
       "868   [Hello., We need some posh birds and chaps to ...  "
      ]
     },
     "execution_count": 25,
     "metadata": {},
     "output_type": "execute_result"
    }
   ],
   "source": [
    "#finding number of sentences\n",
    "df['num_sentences']=df['message'].apply(lambda x: nltk.sent_tokenize(x))\n",
    "df.sample(5)"
   ]
  },
  {
   "cell_type": "code",
   "execution_count": 26,
   "id": "1779465c",
   "metadata": {
    "execution": {
     "iopub.execute_input": "2022-07-10T06:11:45.553469Z",
     "iopub.status.busy": "2022-07-10T06:11:45.553022Z",
     "iopub.status.idle": "2022-07-10T06:11:45.954123Z",
     "shell.execute_reply": "2022-07-10T06:11:45.952881Z"
    },
    "papermill": {
     "duration": 0.416785,
     "end_time": "2022-07-10T06:11:45.956463",
     "exception": false,
     "start_time": "2022-07-10T06:11:45.539678",
     "status": "completed"
    },
    "tags": []
   },
   "outputs": [
    {
     "data": {
      "text/html": [
       "<div>\n",
       "<style scoped>\n",
       "    .dataframe tbody tr th:only-of-type {\n",
       "        vertical-align: middle;\n",
       "    }\n",
       "\n",
       "    .dataframe tbody tr th {\n",
       "        vertical-align: top;\n",
       "    }\n",
       "\n",
       "    .dataframe thead th {\n",
       "        text-align: right;\n",
       "    }\n",
       "</style>\n",
       "<table border=\"1\" class=\"dataframe\">\n",
       "  <thead>\n",
       "    <tr style=\"text-align: right;\">\n",
       "      <th></th>\n",
       "      <th>message_type</th>\n",
       "      <th>message</th>\n",
       "      <th>num_characters</th>\n",
       "      <th>num_words</th>\n",
       "      <th>num_sentences</th>\n",
       "    </tr>\n",
       "  </thead>\n",
       "  <tbody>\n",
       "    <tr>\n",
       "      <th>5274</th>\n",
       "      <td>0</td>\n",
       "      <td>Hi. Hope ur day * good! Back from walk, table ...</td>\n",
       "      <td>101</td>\n",
       "      <td>26</td>\n",
       "      <td>4</td>\n",
       "    </tr>\n",
       "    <tr>\n",
       "      <th>394</th>\n",
       "      <td>0</td>\n",
       "      <td>Pick you up bout 7.30ish? What time are  and t...</td>\n",
       "      <td>56</td>\n",
       "      <td>13</td>\n",
       "      <td>2</td>\n",
       "    </tr>\n",
       "    <tr>\n",
       "      <th>3822</th>\n",
       "      <td>0</td>\n",
       "      <td>Please protect yourself from e-threats. SIB ne...</td>\n",
       "      <td>159</td>\n",
       "      <td>27</td>\n",
       "      <td>3</td>\n",
       "    </tr>\n",
       "    <tr>\n",
       "      <th>2931</th>\n",
       "      <td>0</td>\n",
       "      <td>Only 2% students solved this CAT question in '...</td>\n",
       "      <td>183</td>\n",
       "      <td>56</td>\n",
       "      <td>2</td>\n",
       "    </tr>\n",
       "    <tr>\n",
       "      <th>1377</th>\n",
       "      <td>1</td>\n",
       "      <td>Double Mins &amp; Double Txt &amp; 1/2 price Linerenta...</td>\n",
       "      <td>159</td>\n",
       "      <td>26</td>\n",
       "      <td>3</td>\n",
       "    </tr>\n",
       "  </tbody>\n",
       "</table>\n",
       "</div>"
      ],
      "text/plain": [
       "      message_type                                            message  \\\n",
       "5274             0  Hi. Hope ur day * good! Back from walk, table ...   \n",
       "394              0  Pick you up bout 7.30ish? What time are  and t...   \n",
       "3822             0  Please protect yourself from e-threats. SIB ne...   \n",
       "2931             0  Only 2% students solved this CAT question in '...   \n",
       "1377             1  Double Mins & Double Txt & 1/2 price Linerenta...   \n",
       "\n",
       "      num_characters  num_words  num_sentences  \n",
       "5274             101         26              4  \n",
       "394               56         13              2  \n",
       "3822             159         27              3  \n",
       "2931             183         56              2  \n",
       "1377             159         26              3  "
      ]
     },
     "execution_count": 26,
     "metadata": {},
     "output_type": "execute_result"
    }
   ],
   "source": [
    "#finding no. of sentences\n",
    "df['num_sentences']=df['message'].apply(lambda x: len(nltk.sent_tokenize(x)))\n",
    "df.sample(5)"
   ]
  },
  {
   "cell_type": "code",
   "execution_count": 27,
   "id": "1c3c7cf0",
   "metadata": {
    "execution": {
     "iopub.execute_input": "2022-07-10T06:11:45.982892Z",
     "iopub.status.busy": "2022-07-10T06:11:45.982389Z",
     "iopub.status.idle": "2022-07-10T06:11:46.008557Z",
     "shell.execute_reply": "2022-07-10T06:11:46.007029Z"
    },
    "papermill": {
     "duration": 0.042733,
     "end_time": "2022-07-10T06:11:46.011395",
     "exception": false,
     "start_time": "2022-07-10T06:11:45.968662",
     "status": "completed"
    },
    "tags": []
   },
   "outputs": [
    {
     "data": {
      "text/html": [
       "<div>\n",
       "<style scoped>\n",
       "    .dataframe tbody tr th:only-of-type {\n",
       "        vertical-align: middle;\n",
       "    }\n",
       "\n",
       "    .dataframe tbody tr th {\n",
       "        vertical-align: top;\n",
       "    }\n",
       "\n",
       "    .dataframe thead th {\n",
       "        text-align: right;\n",
       "    }\n",
       "</style>\n",
       "<table border=\"1\" class=\"dataframe\">\n",
       "  <thead>\n",
       "    <tr style=\"text-align: right;\">\n",
       "      <th></th>\n",
       "      <th>num_characters</th>\n",
       "      <th>num_words</th>\n",
       "      <th>num_sentences</th>\n",
       "    </tr>\n",
       "  </thead>\n",
       "  <tbody>\n",
       "    <tr>\n",
       "      <th>count</th>\n",
       "      <td>5169.000000</td>\n",
       "      <td>5169.000000</td>\n",
       "      <td>5169.000000</td>\n",
       "    </tr>\n",
       "    <tr>\n",
       "      <th>mean</th>\n",
       "      <td>78.977945</td>\n",
       "      <td>18.286129</td>\n",
       "      <td>1.961308</td>\n",
       "    </tr>\n",
       "    <tr>\n",
       "      <th>std</th>\n",
       "      <td>58.236293</td>\n",
       "      <td>13.226400</td>\n",
       "      <td>1.432583</td>\n",
       "    </tr>\n",
       "    <tr>\n",
       "      <th>min</th>\n",
       "      <td>2.000000</td>\n",
       "      <td>1.000000</td>\n",
       "      <td>1.000000</td>\n",
       "    </tr>\n",
       "    <tr>\n",
       "      <th>25%</th>\n",
       "      <td>36.000000</td>\n",
       "      <td>9.000000</td>\n",
       "      <td>1.000000</td>\n",
       "    </tr>\n",
       "    <tr>\n",
       "      <th>50%</th>\n",
       "      <td>60.000000</td>\n",
       "      <td>15.000000</td>\n",
       "      <td>1.000000</td>\n",
       "    </tr>\n",
       "    <tr>\n",
       "      <th>75%</th>\n",
       "      <td>117.000000</td>\n",
       "      <td>26.000000</td>\n",
       "      <td>2.000000</td>\n",
       "    </tr>\n",
       "    <tr>\n",
       "      <th>max</th>\n",
       "      <td>910.000000</td>\n",
       "      <td>219.000000</td>\n",
       "      <td>38.000000</td>\n",
       "    </tr>\n",
       "  </tbody>\n",
       "</table>\n",
       "</div>"
      ],
      "text/plain": [
       "       num_characters    num_words  num_sentences\n",
       "count     5169.000000  5169.000000    5169.000000\n",
       "mean        78.977945    18.286129       1.961308\n",
       "std         58.236293    13.226400       1.432583\n",
       "min          2.000000     1.000000       1.000000\n",
       "25%         36.000000     9.000000       1.000000\n",
       "50%         60.000000    15.000000       1.000000\n",
       "75%        117.000000    26.000000       2.000000\n",
       "max        910.000000   219.000000      38.000000"
      ]
     },
     "execution_count": 27,
     "metadata": {},
     "output_type": "execute_result"
    }
   ],
   "source": [
    "#lets test the describe function on the new 3 columns\n",
    "df[['num_characters','num_words','num_sentences']].describe()"
   ]
  },
  {
   "cell_type": "code",
   "execution_count": null,
   "id": "0be67f06",
   "metadata": {
    "papermill": {
     "duration": 0.01202,
     "end_time": "2022-07-10T06:11:46.036049",
     "exception": false,
     "start_time": "2022-07-10T06:11:46.024029",
     "status": "completed"
    },
    "tags": []
   },
   "outputs": [],
   "source": []
  }
 ],
 "metadata": {
  "kernelspec": {
   "display_name": "Python 3",
   "language": "python",
   "name": "python3"
  },
  "language_info": {
   "codemirror_mode": {
    "name": "ipython",
    "version": 3
   },
   "file_extension": ".py",
   "mimetype": "text/x-python",
   "name": "python",
   "nbconvert_exporter": "python",
   "pygments_lexer": "ipython3",
   "version": "3.7.12"
  },
  "papermill": {
   "default_parameters": {},
   "duration": 18.820992,
   "end_time": "2022-07-10T06:11:46.871981",
   "environment_variables": {},
   "exception": null,
   "input_path": "__notebook__.ipynb",
   "output_path": "__notebook__.ipynb",
   "parameters": {},
   "start_time": "2022-07-10T06:11:28.050989",
   "version": "2.3.4"
  }
 },
 "nbformat": 4,
 "nbformat_minor": 5
}
