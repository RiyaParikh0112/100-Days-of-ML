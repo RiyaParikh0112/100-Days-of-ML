{
 "cells": [
  {
   "cell_type": "code",
   "execution_count": 1,
   "id": "b63de255",
   "metadata": {
    "_cell_guid": "b1076dfc-b9ad-4769-8c92-a6c4dae69d19",
    "_uuid": "8f2839f25d086af736a60e9eeb907d3b93b6e0e5",
    "execution": {
     "iopub.execute_input": "2022-07-12T04:19:29.897405Z",
     "iopub.status.busy": "2022-07-12T04:19:29.896585Z",
     "iopub.status.idle": "2022-07-12T04:19:31.010639Z",
     "shell.execute_reply": "2022-07-12T04:19:31.009406Z"
    },
    "papermill": {
     "duration": 1.123386,
     "end_time": "2022-07-12T04:19:31.013337",
     "exception": false,
     "start_time": "2022-07-12T04:19:29.889951",
     "status": "completed"
    },
    "tags": []
   },
   "outputs": [],
   "source": [
    "import pandas as pd\n",
    "import numpy as np\n",
    "import matplotlib.pyplot as plt\n",
    "import seaborn as sns"
   ]
  },
  {
   "cell_type": "code",
   "execution_count": 2,
   "id": "a4a6547e",
   "metadata": {
    "execution": {
     "iopub.execute_input": "2022-07-12T04:19:31.022352Z",
     "iopub.status.busy": "2022-07-12T04:19:31.021972Z",
     "iopub.status.idle": "2022-07-12T04:19:31.038594Z",
     "shell.execute_reply": "2022-07-12T04:19:31.037478Z"
    },
    "papermill": {
     "duration": 0.02379,
     "end_time": "2022-07-12T04:19:31.041141",
     "exception": false,
     "start_time": "2022-07-12T04:19:31.017351",
     "status": "completed"
    },
    "tags": []
   },
   "outputs": [],
   "source": [
    "df = pd.read_csv('../input/wine-data/wine_data.csv',usecols=[0,1,2],header=None)\n",
    "df.columns=['Class Label', 'Alcohol','Malic Acid']\n"
   ]
  },
  {
   "cell_type": "code",
   "execution_count": 3,
   "id": "fb399a25",
   "metadata": {
    "execution": {
     "iopub.execute_input": "2022-07-12T04:19:31.050147Z",
     "iopub.status.busy": "2022-07-12T04:19:31.048952Z",
     "iopub.status.idle": "2022-07-12T04:19:31.073723Z",
     "shell.execute_reply": "2022-07-12T04:19:31.072565Z"
    },
    "papermill": {
     "duration": 0.03226,
     "end_time": "2022-07-12T04:19:31.076833",
     "exception": false,
     "start_time": "2022-07-12T04:19:31.044573",
     "status": "completed"
    },
    "tags": []
   },
   "outputs": [
    {
     "data": {
      "text/html": [
       "<div>\n",
       "<style scoped>\n",
       "    .dataframe tbody tr th:only-of-type {\n",
       "        vertical-align: middle;\n",
       "    }\n",
       "\n",
       "    .dataframe tbody tr th {\n",
       "        vertical-align: top;\n",
       "    }\n",
       "\n",
       "    .dataframe thead th {\n",
       "        text-align: right;\n",
       "    }\n",
       "</style>\n",
       "<table border=\"1\" class=\"dataframe\">\n",
       "  <thead>\n",
       "    <tr style=\"text-align: right;\">\n",
       "      <th></th>\n",
       "      <th>Class Label</th>\n",
       "      <th>Alcohol</th>\n",
       "      <th>Malic Acid</th>\n",
       "    </tr>\n",
       "  </thead>\n",
       "  <tbody>\n",
       "    <tr>\n",
       "      <th>2</th>\n",
       "      <td>1</td>\n",
       "      <td>13.16</td>\n",
       "      <td>2.36</td>\n",
       "    </tr>\n",
       "    <tr>\n",
       "      <th>155</th>\n",
       "      <td>3</td>\n",
       "      <td>13.17</td>\n",
       "      <td>5.19</td>\n",
       "    </tr>\n",
       "    <tr>\n",
       "      <th>45</th>\n",
       "      <td>1</td>\n",
       "      <td>14.21</td>\n",
       "      <td>4.04</td>\n",
       "    </tr>\n",
       "    <tr>\n",
       "      <th>60</th>\n",
       "      <td>2</td>\n",
       "      <td>12.33</td>\n",
       "      <td>1.10</td>\n",
       "    </tr>\n",
       "    <tr>\n",
       "      <th>127</th>\n",
       "      <td>2</td>\n",
       "      <td>11.79</td>\n",
       "      <td>2.13</td>\n",
       "    </tr>\n",
       "  </tbody>\n",
       "</table>\n",
       "</div>"
      ],
      "text/plain": [
       "     Class Label  Alcohol  Malic Acid\n",
       "2              1    13.16        2.36\n",
       "155            3    13.17        5.19\n",
       "45             1    14.21        4.04\n",
       "60             2    12.33        1.10\n",
       "127            2    11.79        2.13"
      ]
     },
     "execution_count": 3,
     "metadata": {},
     "output_type": "execute_result"
    }
   ],
   "source": [
    "df.sample(5)"
   ]
  },
  {
   "cell_type": "code",
   "execution_count": 4,
   "id": "84ffaa9c",
   "metadata": {
    "execution": {
     "iopub.execute_input": "2022-07-12T04:19:31.086551Z",
     "iopub.status.busy": "2022-07-12T04:19:31.086152Z",
     "iopub.status.idle": "2022-07-12T04:19:31.300792Z",
     "shell.execute_reply": "2022-07-12T04:19:31.299766Z"
    },
    "papermill": {
     "duration": 0.222614,
     "end_time": "2022-07-12T04:19:31.303398",
     "exception": false,
     "start_time": "2022-07-12T04:19:31.080784",
     "status": "completed"
    },
    "tags": []
   },
   "outputs": [
    {
     "data": {
      "text/plain": [
       "<AxesSubplot:xlabel='Alcohol', ylabel='Density'>"
      ]
     },
     "execution_count": 4,
     "metadata": {},
     "output_type": "execute_result"
    },
    {
     "data": {
      "image/png": "[encoded data removed]",
      "text/plain": [
       "<Figure size 432x288 with 1 Axes>"
      ]
     },
     "metadata": {
      "needs_background": "light"
     },
     "output_type": "display_data"
    }
   ],
   "source": [
    "sns.kdeplot(df['Alcohol'])"
   ]
  },
  {
   "cell_type": "code",
   "execution_count": 5,
   "id": "79811a73",
   "metadata": {
    "execution": {
     "iopub.execute_input": "2022-07-12T04:19:31.314100Z",
     "iopub.status.busy": "2022-07-12T04:19:31.313234Z",
     "iopub.status.idle": "2022-07-12T04:19:31.451851Z",
     "shell.execute_reply": "2022-07-12T04:19:31.450577Z"
    },
    "papermill": {
     "duration": 0.147451,
     "end_time": "2022-07-12T04:19:31.455194",
     "exception": false,
     "start_time": "2022-07-12T04:19:31.307743",
     "status": "completed"
    },
    "tags": []
   },
   "outputs": [
    {
     "data": {
      "text/plain": [
       "<AxesSubplot:xlabel='Malic Acid', ylabel='Density'>"
      ]
     },
     "execution_count": 5,
     "metadata": {},
     "output_type": "execute_result"
    },
    {
     "data": {
      "image/png": "[encoded data removed]",
      "text/plain": [
       "<Figure size 432x288 with 1 Axes>"
      ]
     },
     "metadata": {
      "needs_background": "light"
     },
     "output_type": "display_data"
    }
   ],
   "source": [
    "sns.kdeplot(df['Malic Acid'])"
   ]
  },
  {
   "cell_type": "code",
   "execution_count": 6,
   "id": "73edab76",
   "metadata": {
    "execution": {
     "iopub.execute_input": "2022-07-12T04:19:31.466354Z",
     "iopub.status.busy": "2022-07-12T04:19:31.465706Z",
     "iopub.status.idle": "2022-07-12T04:19:31.715115Z",
     "shell.execute_reply": "2022-07-12T04:19:31.714326Z"
    },
    "papermill": {
     "duration": 0.257606,
     "end_time": "2022-07-12T04:19:31.717301",
     "exception": false,
     "start_time": "2022-07-12T04:19:31.459695",
     "status": "completed"
    },
    "tags": []
   },
   "outputs": [
    {
     "name": "stderr",
     "output_type": "stream",
     "text": [
      "/opt/conda/lib/python3.7/site-packages/seaborn/_decorators.py:43: FutureWarning: Pass the following variables as keyword args: x, y. From version 0.12, the only valid positional argument will be `data`, and passing other arguments without an explicit keyword will result in an error or misinterpretation.\n",
      "  FutureWarning\n"
     ]
    },
    {
     "data": {
      "text/plain": [
       "<AxesSubplot:xlabel='Alcohol', ylabel='Malic Acid'>"
      ]
     },
     "execution_count": 6,
     "metadata": {},
     "output_type": "execute_result"
    },
    {
     "data": {
      "image/png": "[encoded data removed]",
      "text/plain": [
       "<Figure size 432x288 with 1 Axes>"
      ]
     },
     "metadata": {
      "needs_background": "light"
     },
     "output_type": "display_data"
    }
   ],
   "source": [
    "color_dictionary={1:'red',2:'orange',3:'purple'}\n",
    "sns.scatterplot(df['Alcohol'],df['Malic Acid'],hue=df['Class Label'],palette=color_dictionary)"
   ]
  },
  {
   "cell_type": "code",
   "execution_count": 7,
   "id": "47d4a5a5",
   "metadata": {
    "execution": {
     "iopub.execute_input": "2022-07-12T04:19:31.729648Z",
     "iopub.status.busy": "2022-07-12T04:19:31.729260Z",
     "iopub.status.idle": "2022-07-12T04:19:31.941458Z",
     "shell.execute_reply": "2022-07-12T04:19:31.940456Z"
    },
    "papermill": {
     "duration": 0.221581,
     "end_time": "2022-07-12T04:19:31.944050",
     "exception": false,
     "start_time": "2022-07-12T04:19:31.722469",
     "status": "completed"
    },
    "tags": []
   },
   "outputs": [],
   "source": [
    "from sklearn.model_selection import train_test_split\n",
    "X_train,X_test,y_train,y_test =train_test_split(df.drop('Class Label',axis=1),df['Class Label'],random_state=0,test_size=0.3)"
   ]
  },
  {
   "cell_type": "code",
   "execution_count": 8,
   "id": "2c170074",
   "metadata": {
    "execution": {
     "iopub.execute_input": "2022-07-12T04:19:31.957155Z",
     "iopub.status.busy": "2022-07-12T04:19:31.956049Z",
     "iopub.status.idle": "2022-07-12T04:19:31.963639Z",
     "shell.execute_reply": "2022-07-12T04:19:31.962325Z"
    },
    "papermill": {
     "duration": 0.016544,
     "end_time": "2022-07-12T04:19:31.965762",
     "exception": false,
     "start_time": "2022-07-12T04:19:31.949218",
     "status": "completed"
    },
    "tags": []
   },
   "outputs": [
    {
     "data": {
      "text/plain": [
       "((124, 2), (124,))"
      ]
     },
     "execution_count": 8,
     "metadata": {},
     "output_type": "execute_result"
    }
   ],
   "source": [
    "X_train.shape, y_train.shape"
   ]
  },
  {
   "cell_type": "code",
   "execution_count": 9,
   "id": "fbe172dd",
   "metadata": {
    "execution": {
     "iopub.execute_input": "2022-07-12T04:19:31.979519Z",
     "iopub.status.busy": "2022-07-12T04:19:31.977536Z",
     "iopub.status.idle": "2022-07-12T04:19:31.989143Z",
     "shell.execute_reply": "2022-07-12T04:19:31.988110Z"
    },
    "papermill": {
     "duration": 0.020897,
     "end_time": "2022-07-12T04:19:31.991733",
     "exception": false,
     "start_time": "2022-07-12T04:19:31.970836",
     "status": "completed"
    },
    "tags": []
   },
   "outputs": [
    {
     "data": {
      "text/plain": [
       "MinMaxScaler()"
      ]
     },
     "execution_count": 9,
     "metadata": {},
     "output_type": "execute_result"
    }
   ],
   "source": [
    "from sklearn.preprocessing import MinMaxScaler\n",
    "scaler =MinMaxScaler()\n",
    "#fit the scaler to the train set, it will learn the parameters\n",
    "scaler.fit(X_train)"
   ]
  },
  {
   "cell_type": "code",
   "execution_count": 10,
   "id": "5b4593ff",
   "metadata": {
    "execution": {
     "iopub.execute_input": "2022-07-12T04:19:32.004304Z",
     "iopub.status.busy": "2022-07-12T04:19:32.003337Z",
     "iopub.status.idle": "2022-07-12T04:19:32.010763Z",
     "shell.execute_reply": "2022-07-12T04:19:32.010001Z"
    },
    "papermill": {
     "duration": 0.015833,
     "end_time": "2022-07-12T04:19:32.012833",
     "exception": false,
     "start_time": "2022-07-12T04:19:31.997000",
     "status": "completed"
    },
    "tags": []
   },
   "outputs": [],
   "source": [
    "X_train_scaled =scaler.transform(X_train)\n",
    "X_test_scaled = scaler.transform(X_test)"
   ]
  },
  {
   "cell_type": "code",
   "execution_count": 11,
   "id": "2ec76918",
   "metadata": {
    "execution": {
     "iopub.execute_input": "2022-07-12T04:19:32.025518Z",
     "iopub.status.busy": "2022-07-12T04:19:32.024808Z",
     "iopub.status.idle": "2022-07-12T04:19:32.035694Z",
     "shell.execute_reply": "2022-07-12T04:19:32.034631Z"
    },
    "papermill": {
     "duration": 0.019924,
     "end_time": "2022-07-12T04:19:32.038146",
     "exception": false,
     "start_time": "2022-07-12T04:19:32.018222",
     "status": "completed"
    },
    "tags": []
   },
   "outputs": [
    {
     "data": {
      "text/html": [
       "<div>\n",
       "<style scoped>\n",
       "    .dataframe tbody tr th:only-of-type {\n",
       "        vertical-align: middle;\n",
       "    }\n",
       "\n",
       "    .dataframe tbody tr th {\n",
       "        vertical-align: top;\n",
       "    }\n",
       "\n",
       "    .dataframe thead th {\n",
       "        text-align: right;\n",
       "    }\n",
       "</style>\n",
       "<table border=\"1\" class=\"dataframe\">\n",
       "  <thead>\n",
       "    <tr style=\"text-align: right;\">\n",
       "      <th></th>\n",
       "      <th>Alcohol</th>\n",
       "      <th>Malic Acid</th>\n",
       "    </tr>\n",
       "  </thead>\n",
       "  <tbody>\n",
       "    <tr>\n",
       "      <th>0</th>\n",
       "      <td>0.720430</td>\n",
       "      <td>0.203782</td>\n",
       "    </tr>\n",
       "    <tr>\n",
       "      <th>1</th>\n",
       "      <td>0.319892</td>\n",
       "      <td>0.084034</td>\n",
       "    </tr>\n",
       "    <tr>\n",
       "      <th>2</th>\n",
       "      <td>0.602151</td>\n",
       "      <td>0.712185</td>\n",
       "    </tr>\n",
       "    <tr>\n",
       "      <th>3</th>\n",
       "      <td>0.572581</td>\n",
       "      <td>0.563025</td>\n",
       "    </tr>\n",
       "    <tr>\n",
       "      <th>4</th>\n",
       "      <td>0.760753</td>\n",
       "      <td>0.130252</td>\n",
       "    </tr>\n",
       "  </tbody>\n",
       "</table>\n",
       "</div>"
      ],
      "text/plain": [
       "    Alcohol  Malic Acid\n",
       "0  0.720430    0.203782\n",
       "1  0.319892    0.084034\n",
       "2  0.602151    0.712185\n",
       "3  0.572581    0.563025\n",
       "4  0.760753    0.130252"
      ]
     },
     "execution_count": 11,
     "metadata": {},
     "output_type": "execute_result"
    }
   ],
   "source": [
    "X_train_scaled =pd.DataFrame(X_train_scaled,columns=X_train.columns)\n",
    "X_train_scaled.head()"
   ]
  },
  {
   "cell_type": "code",
   "execution_count": 12,
   "id": "045c9d35",
   "metadata": {
    "execution": {
     "iopub.execute_input": "2022-07-12T04:19:32.050483Z",
     "iopub.status.busy": "2022-07-12T04:19:32.050102Z",
     "iopub.status.idle": "2022-07-12T04:19:32.069332Z",
     "shell.execute_reply": "2022-07-12T04:19:32.068224Z"
    },
    "papermill": {
     "duration": 0.028219,
     "end_time": "2022-07-12T04:19:32.071835",
     "exception": false,
     "start_time": "2022-07-12T04:19:32.043616",
     "status": "completed"
    },
    "tags": []
   },
   "outputs": [
    {
     "data": {
      "text/html": [
       "<div>\n",
       "<style scoped>\n",
       "    .dataframe tbody tr th:only-of-type {\n",
       "        vertical-align: middle;\n",
       "    }\n",
       "\n",
       "    .dataframe tbody tr th {\n",
       "        vertical-align: top;\n",
       "    }\n",
       "\n",
       "    .dataframe thead th {\n",
       "        text-align: right;\n",
       "    }\n",
       "</style>\n",
       "<table border=\"1\" class=\"dataframe\">\n",
       "  <thead>\n",
       "    <tr style=\"text-align: right;\">\n",
       "      <th></th>\n",
       "      <th>Alcohol</th>\n",
       "      <th>Malic Acid</th>\n",
       "    </tr>\n",
       "  </thead>\n",
       "  <tbody>\n",
       "    <tr>\n",
       "      <th>count</th>\n",
       "      <td>124.000000</td>\n",
       "      <td>124.000000</td>\n",
       "    </tr>\n",
       "    <tr>\n",
       "      <th>mean</th>\n",
       "      <td>0.525017</td>\n",
       "      <td>0.313805</td>\n",
       "    </tr>\n",
       "    <tr>\n",
       "      <th>std</th>\n",
       "      <td>0.215414</td>\n",
       "      <td>0.238802</td>\n",
       "    </tr>\n",
       "    <tr>\n",
       "      <th>min</th>\n",
       "      <td>0.000000</td>\n",
       "      <td>0.000000</td>\n",
       "    </tr>\n",
       "    <tr>\n",
       "      <th>25%</th>\n",
       "      <td>0.358199</td>\n",
       "      <td>0.150735</td>\n",
       "    </tr>\n",
       "    <tr>\n",
       "      <th>50%</th>\n",
       "      <td>0.540323</td>\n",
       "      <td>0.209034</td>\n",
       "    </tr>\n",
       "    <tr>\n",
       "      <th>75%</th>\n",
       "      <td>0.701613</td>\n",
       "      <td>0.495273</td>\n",
       "    </tr>\n",
       "    <tr>\n",
       "      <th>max</th>\n",
       "      <td>1.000000</td>\n",
       "      <td>1.000000</td>\n",
       "    </tr>\n",
       "  </tbody>\n",
       "</table>\n",
       "</div>"
      ],
      "text/plain": [
       "          Alcohol  Malic Acid\n",
       "count  124.000000  124.000000\n",
       "mean     0.525017    0.313805\n",
       "std      0.215414    0.238802\n",
       "min      0.000000    0.000000\n",
       "25%      0.358199    0.150735\n",
       "50%      0.540323    0.209034\n",
       "75%      0.701613    0.495273\n",
       "max      1.000000    1.000000"
      ]
     },
     "execution_count": 12,
     "metadata": {},
     "output_type": "execute_result"
    }
   ],
   "source": [
    "X_train_scaled.describe()"
   ]
  },
  {
   "cell_type": "code",
   "execution_count": 13,
   "id": "6bde6ef5",
   "metadata": {
    "execution": {
     "iopub.execute_input": "2022-07-12T04:19:32.084950Z",
     "iopub.status.busy": "2022-07-12T04:19:32.084282Z",
     "iopub.status.idle": "2022-07-12T04:19:32.395986Z",
     "shell.execute_reply": "2022-07-12T04:19:32.394790Z"
    },
    "papermill": {
     "duration": 0.322029,
     "end_time": "2022-07-12T04:19:32.399438",
     "exception": false,
     "start_time": "2022-07-12T04:19:32.077409",
     "status": "completed"
    },
    "tags": []
   },
   "outputs": [
    {
     "data": {
      "image/png": "[encoded data removed]",
      "text/plain": [
       "<Figure size 864x432 with 2 Axes>"
      ]
     },
     "metadata": {
      "needs_background": "light"
     },
     "output_type": "display_data"
    }
   ],
   "source": [
    "fig,(ax1,ax2)=plt.subplots(ncols=2, figsize=(12,6))\n",
    "ax1.scatter(X_train['Alcohol'],X_train['Malic Acid'],c=y_train)\n",
    "ax1.set_title=('Before Scaling')\n",
    "ax2.scatter(X_train_scaled['Alcohol'],X_train_scaled['Malic Acid'],c=y_train)\n",
    "ax2.set_title ='After Scaling'"
   ]
  },
  {
   "cell_type": "code",
   "execution_count": null,
   "id": "e3b7df56",
   "metadata": {
    "papermill": {
     "duration": 0.006274,
     "end_time": "2022-07-12T04:19:32.413589",
     "exception": false,
     "start_time": "2022-07-12T04:19:32.407315",
     "status": "completed"
    },
    "tags": []
   },
   "outputs": [],
   "source": []
  }
 ],
 "metadata": {
  "kernelspec": {
   "display_name": "Python 3",
   "language": "python",
   "name": "python3"
  },
  "language_info": {
   "codemirror_mode": {
    "name": "ipython",
    "version": 3
   },
   "file_extension": ".py",
   "mimetype": "text/x-python",
   "name": "python",
   "nbconvert_exporter": "python",
   "pygments_lexer": "ipython3",
   "version": "3.7.12"
  },
  "papermill": {
   "default_parameters": {},
   "duration": 12.563497,
   "end_time": "2022-07-12T04:19:33.242750",
   "environment_variables": {},
   "exception": null,
   "input_path": "__notebook__.ipynb",
   "output_path": "__notebook__.ipynb",
   "parameters": {},
   "start_time": "2022-07-12T04:19:20.679253",
   "version": "2.3.4"
  }
 },
 "nbformat": 4,
 "nbformat_minor": 5
}
