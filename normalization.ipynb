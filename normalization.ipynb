{
 "cells": [
  {
   "cell_type": "code",
   "execution_count": 1,
   "id": "4cf62e66",
   "metadata": {
    "_cell_guid": "b1076dfc-b9ad-4769-8c92-a6c4dae69d19",
    "_uuid": "8f2839f25d086af736a60e9eeb907d3b93b6e0e5",
    "execution": {
     "iopub.execute_input": "2022-07-12T04:10:11.057754Z",
     "iopub.status.busy": "2022-07-12T04:10:11.057324Z",
     "iopub.status.idle": "2022-07-12T04:10:12.033355Z",
     "shell.execute_reply": "2022-07-12T04:10:12.032289Z"
    },
    "papermill": {
     "duration": 0.983523,
     "end_time": "2022-07-12T04:10:12.035957",
     "exception": false,
     "start_time": "2022-07-12T04:10:11.052434",
     "status": "completed"
    },
    "tags": []
   },
   "outputs": [],
   "source": [
    "import pandas as pd\n",
    "import numpy as np\n",
    "import matplotlib.pyplot as plt\n",
    "import seaborn as sns"
   ]
  },
  {
   "cell_type": "code",
   "execution_count": 2,
   "id": "c8cbb609",
   "metadata": {
    "execution": {
     "iopub.execute_input": "2022-07-12T04:10:12.042491Z",
     "iopub.status.busy": "2022-07-12T04:10:12.041735Z",
     "iopub.status.idle": "2022-07-12T04:10:12.057737Z",
     "shell.execute_reply": "2022-07-12T04:10:12.057055Z"
    },
    "papermill": {
     "duration": 0.020949,
     "end_time": "2022-07-12T04:10:12.059499",
     "exception": false,
     "start_time": "2022-07-12T04:10:12.038550",
     "status": "completed"
    },
    "tags": []
   },
   "outputs": [],
   "source": [
    "df = pd.read_csv('../input/wine-data/wine_data.csv',usecols=[0,1,2],header=None)\n",
    "df.columns=['Class Label', 'Alcohol','Malic Acid']\n"
   ]
  },
  {
   "cell_type": "code",
   "execution_count": 3,
   "id": "53165eea",
   "metadata": {
    "execution": {
     "iopub.execute_input": "2022-07-12T04:10:12.065594Z",
     "iopub.status.busy": "2022-07-12T04:10:12.064880Z",
     "iopub.status.idle": "2022-07-12T04:10:12.084765Z",
     "shell.execute_reply": "2022-07-12T04:10:12.084134Z"
    },
    "papermill": {
     "duration": 0.024746,
     "end_time": "2022-07-12T04:10:12.086574",
     "exception": false,
     "start_time": "2022-07-12T04:10:12.061828",
     "status": "completed"
    },
    "tags": []
   },
   "outputs": [
    {
     "data": {
      "text/html": [
       "<div>\n",
       "<style scoped>\n",
       "    .dataframe tbody tr th:only-of-type {\n",
       "        vertical-align: middle;\n",
       "    }\n",
       "\n",
       "    .dataframe tbody tr th {\n",
       "        vertical-align: top;\n",
       "    }\n",
       "\n",
       "    .dataframe thead th {\n",
       "        text-align: right;\n",
       "    }\n",
       "</style>\n",
       "<table border=\"1\" class=\"dataframe\">\n",
       "  <thead>\n",
       "    <tr style=\"text-align: right;\">\n",
       "      <th></th>\n",
       "      <th>Class Label</th>\n",
       "      <th>Alcohol</th>\n",
       "      <th>Malic Acid</th>\n",
       "    </tr>\n",
       "  </thead>\n",
       "  <tbody>\n",
       "    <tr>\n",
       "      <th>86</th>\n",
       "      <td>2</td>\n",
       "      <td>12.16</td>\n",
       "      <td>1.61</td>\n",
       "    </tr>\n",
       "    <tr>\n",
       "      <th>4</th>\n",
       "      <td>1</td>\n",
       "      <td>13.24</td>\n",
       "      <td>2.59</td>\n",
       "    </tr>\n",
       "    <tr>\n",
       "      <th>103</th>\n",
       "      <td>2</td>\n",
       "      <td>11.82</td>\n",
       "      <td>1.72</td>\n",
       "    </tr>\n",
       "    <tr>\n",
       "      <th>76</th>\n",
       "      <td>2</td>\n",
       "      <td>13.03</td>\n",
       "      <td>0.90</td>\n",
       "    </tr>\n",
       "    <tr>\n",
       "      <th>62</th>\n",
       "      <td>2</td>\n",
       "      <td>13.67</td>\n",
       "      <td>1.25</td>\n",
       "    </tr>\n",
       "  </tbody>\n",
       "</table>\n",
       "</div>"
      ],
      "text/plain": [
       "     Class Label  Alcohol  Malic Acid\n",
       "86             2    12.16        1.61\n",
       "4              1    13.24        2.59\n",
       "103            2    11.82        1.72\n",
       "76             2    13.03        0.90\n",
       "62             2    13.67        1.25"
      ]
     },
     "execution_count": 3,
     "metadata": {},
     "output_type": "execute_result"
    }
   ],
   "source": [
    "df.sample(5)"
   ]
  },
  {
   "cell_type": "code",
   "execution_count": 4,
   "id": "fd42ccab",
   "metadata": {
    "execution": {
     "iopub.execute_input": "2022-07-12T04:10:12.092828Z",
     "iopub.status.busy": "2022-07-12T04:10:12.092384Z",
     "iopub.status.idle": "2022-07-12T04:10:12.296756Z",
     "shell.execute_reply": "2022-07-12T04:10:12.295705Z"
    },
    "papermill": {
     "duration": 0.209573,
     "end_time": "2022-07-12T04:10:12.298776",
     "exception": false,
     "start_time": "2022-07-12T04:10:12.089203",
     "status": "completed"
    },
    "tags": []
   },
   "outputs": [
    {
     "data": {
      "text/plain": [
       "<AxesSubplot:xlabel='Alcohol', ylabel='Density'>"
      ]
     },
     "execution_count": 4,
     "metadata": {},
     "output_type": "execute_result"
    },
    {
     "data": {
      "image/png": "[encoded data removed]",
      "text/plain": [
       "<Figure size 432x288 with 1 Axes>"
      ]
     },
     "metadata": {
      "needs_background": "light"
     },
     "output_type": "display_data"
    }
   ],
   "source": [
    "sns.kdeplot(df['Alcohol'])"
   ]
  },
  {
   "cell_type": "code",
   "execution_count": 5,
   "id": "a8fc18b8",
   "metadata": {
    "execution": {
     "iopub.execute_input": "2022-07-12T04:10:12.306349Z",
     "iopub.status.busy": "2022-07-12T04:10:12.305598Z",
     "iopub.status.idle": "2022-07-12T04:10:12.485795Z",
     "shell.execute_reply": "2022-07-12T04:10:12.485071Z"
    },
    "papermill": {
     "duration": 0.186147,
     "end_time": "2022-07-12T04:10:12.487878",
     "exception": false,
     "start_time": "2022-07-12T04:10:12.301731",
     "status": "completed"
    },
    "tags": []
   },
   "outputs": [
    {
     "data": {
      "text/plain": [
       "<AxesSubplot:xlabel='Malic Acid', ylabel='Density'>"
      ]
     },
     "execution_count": 5,
     "metadata": {},
     "output_type": "execute_result"
    },
    {
     "data": {
      "image/png": "[encoded data removed]",
      "text/plain": [
       "<Figure size 432x288 with 1 Axes>"
      ]
     },
     "metadata": {
      "needs_background": "light"
     },
     "output_type": "display_data"
    }
   ],
   "source": [
    "sns.kdeplot(df['Malic Acid'])"
   ]
  },
  {
   "cell_type": "code",
   "execution_count": 6,
   "id": "361e9e67",
   "metadata": {
    "execution": {
     "iopub.execute_input": "2022-07-12T04:10:12.496379Z",
     "iopub.status.busy": "2022-07-12T04:10:12.495925Z",
     "iopub.status.idle": "2022-07-12T04:10:12.760610Z",
     "shell.execute_reply": "2022-07-12T04:10:12.759701Z"
    },
    "papermill": {
     "duration": 0.271425,
     "end_time": "2022-07-12T04:10:12.762814",
     "exception": false,
     "start_time": "2022-07-12T04:10:12.491389",
     "status": "completed"
    },
    "tags": []
   },
   "outputs": [
    {
     "name": "stderr",
     "output_type": "stream",
     "text": [
      "/opt/conda/lib/python3.7/site-packages/seaborn/_decorators.py:43: FutureWarning: Pass the following variables as keyword args: x, y. From version 0.12, the only valid positional argument will be `data`, and passing other arguments without an explicit keyword will result in an error or misinterpretation.\n",
      "  FutureWarning\n"
     ]
    },
    {
     "data": {
      "text/plain": [
       "<AxesSubplot:xlabel='Alcohol', ylabel='Malic Acid'>"
      ]
     },
     "execution_count": 6,
     "metadata": {},
     "output_type": "execute_result"
    },
    {
     "data": {
      "image/png": "[encoded data removed]",
      "text/plain": [
       "<Figure size 432x288 with 1 Axes>"
      ]
     },
     "metadata": {
      "needs_background": "light"
     },
     "output_type": "display_data"
    }
   ],
   "source": [
    "color_dictionary={1:'red',2:'orange',3:'purple'}\n",
    "sns.scatterplot(df['Alcohol'],df['Malic Acid'],hue=df['Class Label'],palette=color_dictionary)"
   ]
  },
  {
   "cell_type": "code",
   "execution_count": 7,
   "id": "8783aa5d",
   "metadata": {
    "execution": {
     "iopub.execute_input": "2022-07-12T04:10:12.772677Z",
     "iopub.status.busy": "2022-07-12T04:10:12.771924Z",
     "iopub.status.idle": "2022-07-12T04:10:12.941893Z",
     "shell.execute_reply": "2022-07-12T04:10:12.941089Z"
    },
    "papermill": {
     "duration": 0.177079,
     "end_time": "2022-07-12T04:10:12.944166",
     "exception": false,
     "start_time": "2022-07-12T04:10:12.767087",
     "status": "completed"
    },
    "tags": []
   },
   "outputs": [],
   "source": [
    "from sklearn.model_selection import train_test_split\n",
    "X_train,X_test,y_train,y_test =train_test_split(df.drop('Class Label',axis=1),df['Class Label'],random_state=2,test_size=0.2)"
   ]
  },
  {
   "cell_type": "code",
   "execution_count": 8,
   "id": "6fbb530e",
   "metadata": {
    "execution": {
     "iopub.execute_input": "2022-07-12T04:10:12.954061Z",
     "iopub.status.busy": "2022-07-12T04:10:12.953554Z",
     "iopub.status.idle": "2022-07-12T04:10:12.959409Z",
     "shell.execute_reply": "2022-07-12T04:10:12.958290Z"
    },
    "papermill": {
     "duration": 0.012996,
     "end_time": "2022-07-12T04:10:12.961373",
     "exception": false,
     "start_time": "2022-07-12T04:10:12.948377",
     "status": "completed"
    },
    "tags": []
   },
   "outputs": [
    {
     "data": {
      "text/plain": [
       "((142, 2), (142,))"
      ]
     },
     "execution_count": 8,
     "metadata": {},
     "output_type": "execute_result"
    }
   ],
   "source": [
    "X_train.shape, y_train.shape"
   ]
  },
  {
   "cell_type": "code",
   "execution_count": null,
   "id": "3889b469",
   "metadata": {
    "papermill": {
     "duration": 0.003751,
     "end_time": "2022-07-12T04:10:12.969072",
     "exception": false,
     "start_time": "2022-07-12T04:10:12.965321",
     "status": "completed"
    },
    "tags": []
   },
   "outputs": [],
   "source": []
  }
 ],
 "metadata": {
  "kernelspec": {
   "display_name": "Python 3",
   "language": "python",
   "name": "python3"
  },
  "language_info": {
   "codemirror_mode": {
    "name": "ipython",
    "version": 3
   },
   "file_extension": ".py",
   "mimetype": "text/x-python",
   "name": "python",
   "nbconvert_exporter": "python",
   "pygments_lexer": "ipython3",
   "version": "3.7.12"
  },
  "papermill": {
   "default_parameters": {},
   "duration": 10.567702,
   "end_time": "2022-07-12T04:10:13.593093",
   "environment_variables": {},
   "exception": null,
   "input_path": "__notebook__.ipynb",
   "output_path": "__notebook__.ipynb",
   "parameters": {},
   "start_time": "2022-07-12T04:10:03.025391",
   "version": "2.3.4"
  }
 },
 "nbformat": 4,
 "nbformat_minor": 5
}
