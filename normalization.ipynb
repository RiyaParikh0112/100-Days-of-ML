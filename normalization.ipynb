{
 "cells": [
  {
   "cell_type": "code",
   "execution_count": 1,
   "id": "9f4b499a",
   "metadata": {
    "_cell_guid": "b1076dfc-b9ad-4769-8c92-a6c4dae69d19",
    "_uuid": "8f2839f25d086af736a60e9eeb907d3b93b6e0e5",
    "execution": {
     "iopub.execute_input": "2022-07-12T03:24:04.759755Z",
     "iopub.status.busy": "2022-07-12T03:24:04.758788Z",
     "iopub.status.idle": "2022-07-12T03:24:05.963095Z",
     "shell.execute_reply": "2022-07-12T03:24:05.961923Z"
    },
    "papermill": {
     "duration": 1.212309,
     "end_time": "2022-07-12T03:24:05.966104",
     "exception": false,
     "start_time": "2022-07-12T03:24:04.753795",
     "status": "completed"
    },
    "tags": []
   },
   "outputs": [],
   "source": [
    "import pandas as pd\n",
    "import numpy as np\n",
    "import matplotlib.pyplot as plt\n",
    "import seaborn as sns"
   ]
  },
  {
   "cell_type": "code",
   "execution_count": 2,
   "id": "059ac7c1",
   "metadata": {
    "execution": {
     "iopub.execute_input": "2022-07-12T03:24:05.972777Z",
     "iopub.status.busy": "2022-07-12T03:24:05.972375Z",
     "iopub.status.idle": "2022-07-12T03:24:05.988596Z",
     "shell.execute_reply": "2022-07-12T03:24:05.987488Z"
    },
    "papermill": {
     "duration": 0.022691,
     "end_time": "2022-07-12T03:24:05.991474",
     "exception": false,
     "start_time": "2022-07-12T03:24:05.968783",
     "status": "completed"
    },
    "tags": []
   },
   "outputs": [],
   "source": [
    "df = pd.read_csv('../input/wine-data/wine_data.csv',usecols=[0,1,2],header=None)\n",
    "df.columns=['Class Label', 'Alcohol','Malic Acid']\n"
   ]
  },
  {
   "cell_type": "code",
   "execution_count": 3,
   "id": "a8ee3626",
   "metadata": {
    "execution": {
     "iopub.execute_input": "2022-07-12T03:24:05.997680Z",
     "iopub.status.busy": "2022-07-12T03:24:05.996898Z",
     "iopub.status.idle": "2022-07-12T03:24:06.023175Z",
     "shell.execute_reply": "2022-07-12T03:24:06.022018Z"
    },
    "papermill": {
     "duration": 0.032458,
     "end_time": "2022-07-12T03:24:06.026158",
     "exception": false,
     "start_time": "2022-07-12T03:24:05.993700",
     "status": "completed"
    },
    "tags": []
   },
   "outputs": [
    {
     "data": {
      "text/html": [
       "<div>\n",
       "<style scoped>\n",
       "    .dataframe tbody tr th:only-of-type {\n",
       "        vertical-align: middle;\n",
       "    }\n",
       "\n",
       "    .dataframe tbody tr th {\n",
       "        vertical-align: top;\n",
       "    }\n",
       "\n",
       "    .dataframe thead th {\n",
       "        text-align: right;\n",
       "    }\n",
       "</style>\n",
       "<table border=\"1\" class=\"dataframe\">\n",
       "  <thead>\n",
       "    <tr style=\"text-align: right;\">\n",
       "      <th></th>\n",
       "      <th>Class Label</th>\n",
       "      <th>Alcohol</th>\n",
       "      <th>Malic Acid</th>\n",
       "    </tr>\n",
       "  </thead>\n",
       "  <tbody>\n",
       "    <tr>\n",
       "      <th>80</th>\n",
       "      <td>2</td>\n",
       "      <td>12.00</td>\n",
       "      <td>0.92</td>\n",
       "    </tr>\n",
       "    <tr>\n",
       "      <th>105</th>\n",
       "      <td>2</td>\n",
       "      <td>12.42</td>\n",
       "      <td>2.55</td>\n",
       "    </tr>\n",
       "    <tr>\n",
       "      <th>98</th>\n",
       "      <td>2</td>\n",
       "      <td>12.37</td>\n",
       "      <td>1.07</td>\n",
       "    </tr>\n",
       "    <tr>\n",
       "      <th>139</th>\n",
       "      <td>3</td>\n",
       "      <td>12.84</td>\n",
       "      <td>2.96</td>\n",
       "    </tr>\n",
       "    <tr>\n",
       "      <th>148</th>\n",
       "      <td>3</td>\n",
       "      <td>13.32</td>\n",
       "      <td>3.24</td>\n",
       "    </tr>\n",
       "  </tbody>\n",
       "</table>\n",
       "</div>"
      ],
      "text/plain": [
       "     Class Label  Alcohol  Malic Acid\n",
       "80             2    12.00        0.92\n",
       "105            2    12.42        2.55\n",
       "98             2    12.37        1.07\n",
       "139            3    12.84        2.96\n",
       "148            3    13.32        3.24"
      ]
     },
     "execution_count": 3,
     "metadata": {},
     "output_type": "execute_result"
    }
   ],
   "source": [
    "df.sample(5)"
   ]
  },
  {
   "cell_type": "code",
   "execution_count": null,
   "id": "89cbdf5c",
   "metadata": {
    "papermill": {
     "duration": 0.002123,
     "end_time": "2022-07-12T03:24:06.030693",
     "exception": false,
     "start_time": "2022-07-12T03:24:06.028570",
     "status": "completed"
    },
    "tags": []
   },
   "outputs": [],
   "source": []
  }
 ],
 "metadata": {
  "kernelspec": {
   "display_name": "Python 3",
   "language": "python",
   "name": "python3"
  },
  "language_info": {
   "codemirror_mode": {
    "name": "ipython",
    "version": 3
   },
   "file_extension": ".py",
   "mimetype": "text/x-python",
   "name": "python",
   "nbconvert_exporter": "python",
   "pygments_lexer": "ipython3",
   "version": "3.7.12"
  },
  "papermill": {
   "default_parameters": {},
   "duration": 12.578928,
   "end_time": "2022-07-12T03:24:06.757994",
   "environment_variables": {},
   "exception": null,
   "input_path": "__notebook__.ipynb",
   "output_path": "__notebook__.ipynb",
   "parameters": {},
   "start_time": "2022-07-12T03:23:54.179066",
   "version": "2.3.4"
  }
 },
 "nbformat": 4,
 "nbformat_minor": 5
}
