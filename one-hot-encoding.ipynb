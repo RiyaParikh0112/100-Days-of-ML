{
 "cells": [
  {
   "cell_type": "code",
   "execution_count": 1,
   "id": "f512505b",
   "metadata": {
    "_cell_guid": "b1076dfc-b9ad-4769-8c92-a6c4dae69d19",
    "_uuid": "8f2839f25d086af736a60e9eeb907d3b93b6e0e5",
    "execution": {
     "iopub.execute_input": "2022-07-12T05:03:38.775945Z",
     "iopub.status.busy": "2022-07-12T05:03:38.775061Z",
     "iopub.status.idle": "2022-07-12T05:03:38.783509Z",
     "shell.execute_reply": "2022-07-12T05:03:38.782166Z"
    },
    "papermill": {
     "duration": 0.018984,
     "end_time": "2022-07-12T05:03:38.785906",
     "exception": false,
     "start_time": "2022-07-12T05:03:38.766922",
     "status": "completed"
    },
    "tags": []
   },
   "outputs": [],
   "source": [
    "#in OHE if there are n categories there will be n columns formed after one hot encoding, so we remove one column usually the first one and it has n-1 columns left and it is called the Dummy Variable Trap"
   ]
  },
  {
   "cell_type": "code",
   "execution_count": 2,
   "id": "3772b515",
   "metadata": {
    "execution": {
     "iopub.execute_input": "2022-07-12T05:03:38.794913Z",
     "iopub.status.busy": "2022-07-12T05:03:38.794566Z",
     "iopub.status.idle": "2022-07-12T05:03:38.800692Z",
     "shell.execute_reply": "2022-07-12T05:03:38.799446Z"
    },
    "papermill": {
     "duration": 0.013921,
     "end_time": "2022-07-12T05:03:38.803035",
     "exception": false,
     "start_time": "2022-07-12T05:03:38.789114",
     "status": "completed"
    },
    "tags": []
   },
   "outputs": [],
   "source": [
    "# we remove the column to avoid multicollinearity--i.e mathematical relationship between the columns\n"
   ]
  },
  {
   "cell_type": "code",
   "execution_count": 3,
   "id": "adeb7e71",
   "metadata": {
    "execution": {
     "iopub.execute_input": "2022-07-12T05:03:38.811178Z",
     "iopub.status.busy": "2022-07-12T05:03:38.810388Z",
     "iopub.status.idle": "2022-07-12T05:03:38.821583Z",
     "shell.execute_reply": "2022-07-12T05:03:38.820840Z"
    },
    "papermill": {
     "duration": 0.017925,
     "end_time": "2022-07-12T05:03:38.824014",
     "exception": false,
     "start_time": "2022-07-12T05:03:38.806089",
     "status": "completed"
    },
    "tags": []
   },
   "outputs": [],
   "source": [
    "import pandas as pd\n",
    "import numpy as np\n"
   ]
  },
  {
   "cell_type": "code",
   "execution_count": 4,
   "id": "51de9755",
   "metadata": {
    "execution": {
     "iopub.execute_input": "2022-07-12T05:03:38.832160Z",
     "iopub.status.busy": "2022-07-12T05:03:38.831419Z",
     "iopub.status.idle": "2022-07-12T05:03:38.861460Z",
     "shell.execute_reply": "2022-07-12T05:03:38.860401Z"
    },
    "papermill": {
     "duration": 0.037272,
     "end_time": "2022-07-12T05:03:38.864282",
     "exception": false,
     "start_time": "2022-07-12T05:03:38.827010",
     "status": "completed"
    },
    "tags": []
   },
   "outputs": [],
   "source": [
    "df=pd.read_csv('../input/carsdata/cars.csv')"
   ]
  },
  {
   "cell_type": "code",
   "execution_count": 5,
   "id": "107ba526",
   "metadata": {
    "execution": {
     "iopub.execute_input": "2022-07-12T05:03:38.872600Z",
     "iopub.status.busy": "2022-07-12T05:03:38.871570Z",
     "iopub.status.idle": "2022-07-12T05:03:38.895113Z",
     "shell.execute_reply": "2022-07-12T05:03:38.893958Z"
    },
    "papermill": {
     "duration": 0.030669,
     "end_time": "2022-07-12T05:03:38.898355",
     "exception": false,
     "start_time": "2022-07-12T05:03:38.867686",
     "status": "completed"
    },
    "tags": []
   },
   "outputs": [
    {
     "data": {
      "text/html": [
       "<div>\n",
       "<style scoped>\n",
       "    .dataframe tbody tr th:only-of-type {\n",
       "        vertical-align: middle;\n",
       "    }\n",
       "\n",
       "    .dataframe tbody tr th {\n",
       "        vertical-align: top;\n",
       "    }\n",
       "\n",
       "    .dataframe thead th {\n",
       "        text-align: right;\n",
       "    }\n",
       "</style>\n",
       "<table border=\"1\" class=\"dataframe\">\n",
       "  <thead>\n",
       "    <tr style=\"text-align: right;\">\n",
       "      <th></th>\n",
       "      <th>brand</th>\n",
       "      <th>km_driven</th>\n",
       "      <th>fuel</th>\n",
       "      <th>owner</th>\n",
       "      <th>selling_price</th>\n",
       "    </tr>\n",
       "  </thead>\n",
       "  <tbody>\n",
       "    <tr>\n",
       "      <th>4557</th>\n",
       "      <td>Hyundai</td>\n",
       "      <td>40800</td>\n",
       "      <td>Petrol</td>\n",
       "      <td>First Owner</td>\n",
       "      <td>300000</td>\n",
       "    </tr>\n",
       "    <tr>\n",
       "      <th>1744</th>\n",
       "      <td>Volkswagen</td>\n",
       "      <td>52000</td>\n",
       "      <td>Diesel</td>\n",
       "      <td>First Owner</td>\n",
       "      <td>555000</td>\n",
       "    </tr>\n",
       "    <tr>\n",
       "      <th>4197</th>\n",
       "      <td>Tata</td>\n",
       "      <td>35000</td>\n",
       "      <td>Diesel</td>\n",
       "      <td>First Owner</td>\n",
       "      <td>830000</td>\n",
       "    </tr>\n",
       "    <tr>\n",
       "      <th>5339</th>\n",
       "      <td>Mahindra</td>\n",
       "      <td>50000</td>\n",
       "      <td>Diesel</td>\n",
       "      <td>First Owner</td>\n",
       "      <td>500000</td>\n",
       "    </tr>\n",
       "    <tr>\n",
       "      <th>2683</th>\n",
       "      <td>Honda</td>\n",
       "      <td>120000</td>\n",
       "      <td>Diesel</td>\n",
       "      <td>Second Owner</td>\n",
       "      <td>550000</td>\n",
       "    </tr>\n",
       "  </tbody>\n",
       "</table>\n",
       "</div>"
      ],
      "text/plain": [
       "           brand  km_driven    fuel         owner  selling_price\n",
       "4557     Hyundai      40800  Petrol   First Owner         300000\n",
       "1744  Volkswagen      52000  Diesel   First Owner         555000\n",
       "4197        Tata      35000  Diesel   First Owner         830000\n",
       "5339    Mahindra      50000  Diesel   First Owner         500000\n",
       "2683       Honda     120000  Diesel  Second Owner         550000"
      ]
     },
     "execution_count": 5,
     "metadata": {},
     "output_type": "execute_result"
    }
   ],
   "source": [
    "df.sample(5)"
   ]
  },
  {
   "cell_type": "code",
   "execution_count": 6,
   "id": "ef699694",
   "metadata": {
    "execution": {
     "iopub.execute_input": "2022-07-12T05:03:38.907076Z",
     "iopub.status.busy": "2022-07-12T05:03:38.906691Z",
     "iopub.status.idle": "2022-07-12T05:03:38.921071Z",
     "shell.execute_reply": "2022-07-12T05:03:38.919805Z"
    },
    "papermill": {
     "duration": 0.021934,
     "end_time": "2022-07-12T05:03:38.923598",
     "exception": false,
     "start_time": "2022-07-12T05:03:38.901664",
     "status": "completed"
    },
    "tags": []
   },
   "outputs": [
    {
     "data": {
      "text/plain": [
       "First Owner             5289\n",
       "Second Owner            2105\n",
       "Third Owner              555\n",
       "Fourth & Above Owner     174\n",
       "Test Drive Car             5\n",
       "Name: owner, dtype: int64"
      ]
     },
     "execution_count": 6,
     "metadata": {},
     "output_type": "execute_result"
    }
   ],
   "source": [
    "df['owner'].value_counts()"
   ]
  },
  {
   "cell_type": "markdown",
   "id": "e69c1775",
   "metadata": {
    "papermill": {
     "duration": 0.003127,
     "end_time": "2022-07-12T05:03:38.930095",
     "exception": false,
     "start_time": "2022-07-12T05:03:38.926968",
     "status": "completed"
    },
    "tags": []
   },
   "source": [
    "# One Hot Encoding Using Pandas"
   ]
  },
  {
   "cell_type": "code",
   "execution_count": null,
   "id": "7d721e44",
   "metadata": {
    "papermill": {
     "duration": 0.003123,
     "end_time": "2022-07-12T05:03:38.936733",
     "exception": false,
     "start_time": "2022-07-12T05:03:38.933610",
     "status": "completed"
    },
    "tags": []
   },
   "outputs": [],
   "source": []
  }
 ],
 "metadata": {
  "kernelspec": {
   "display_name": "Python 3",
   "language": "python",
   "name": "python3"
  },
  "language_info": {
   "codemirror_mode": {
    "name": "ipython",
    "version": 3
   },
   "file_extension": ".py",
   "mimetype": "text/x-python",
   "name": "python",
   "nbconvert_exporter": "python",
   "pygments_lexer": "ipython3",
   "version": "3.7.12"
  },
  "papermill": {
   "default_parameters": {},
   "duration": 10.271387,
   "end_time": "2022-07-12T05:03:39.561643",
   "environment_variables": {},
   "exception": null,
   "input_path": "__notebook__.ipynb",
   "output_path": "__notebook__.ipynb",
   "parameters": {},
   "start_time": "2022-07-12T05:03:29.290256",
   "version": "2.3.4"
  }
 },
 "nbformat": 4,
 "nbformat_minor": 5
}
