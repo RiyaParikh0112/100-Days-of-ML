{
 "cells": [
  {
   "cell_type": "code",
   "execution_count": 1,
   "id": "6d421c48",
   "metadata": {
    "_cell_guid": "b1076dfc-b9ad-4769-8c92-a6c4dae69d19",
    "_uuid": "8f2839f25d086af736a60e9eeb907d3b93b6e0e5",
    "execution": {
     "iopub.execute_input": "2022-07-12T05:08:01.814325Z",
     "iopub.status.busy": "2022-07-12T05:08:01.813844Z",
     "iopub.status.idle": "2022-07-12T05:08:01.819943Z",
     "shell.execute_reply": "2022-07-12T05:08:01.819022Z"
    },
    "papermill": {
     "duration": 0.015388,
     "end_time": "2022-07-12T05:08:01.822316",
     "exception": false,
     "start_time": "2022-07-12T05:08:01.806928",
     "status": "completed"
    },
    "tags": []
   },
   "outputs": [],
   "source": [
    "#in OHE if there are n categories there will be n columns formed after one hot encoding, so we remove one column usually the first one and it has n-1 columns left and it is called the Dummy Variable Trap"
   ]
  },
  {
   "cell_type": "code",
   "execution_count": 2,
   "id": "e6484901",
   "metadata": {
    "execution": {
     "iopub.execute_input": "2022-07-12T05:08:01.831828Z",
     "iopub.status.busy": "2022-07-12T05:08:01.831095Z",
     "iopub.status.idle": "2022-07-12T05:08:01.835648Z",
     "shell.execute_reply": "2022-07-12T05:08:01.834307Z"
    },
    "papermill": {
     "duration": 0.012283,
     "end_time": "2022-07-12T05:08:01.838350",
     "exception": false,
     "start_time": "2022-07-12T05:08:01.826067",
     "status": "completed"
    },
    "tags": []
   },
   "outputs": [],
   "source": [
    "# we remove the column to avoid multicollinearity--i.e mathematical relationship between the columns\n"
   ]
  },
  {
   "cell_type": "code",
   "execution_count": 3,
   "id": "9d6f5f9d",
   "metadata": {
    "execution": {
     "iopub.execute_input": "2022-07-12T05:08:01.847421Z",
     "iopub.status.busy": "2022-07-12T05:08:01.846998Z",
     "iopub.status.idle": "2022-07-12T05:08:01.858812Z",
     "shell.execute_reply": "2022-07-12T05:08:01.857829Z"
    },
    "papermill": {
     "duration": 0.019023,
     "end_time": "2022-07-12T05:08:01.861140",
     "exception": false,
     "start_time": "2022-07-12T05:08:01.842117",
     "status": "completed"
    },
    "tags": []
   },
   "outputs": [],
   "source": [
    "import pandas as pd\n",
    "import numpy as np\n"
   ]
  },
  {
   "cell_type": "code",
   "execution_count": 4,
   "id": "2d4e5dbd",
   "metadata": {
    "execution": {
     "iopub.execute_input": "2022-07-12T05:08:01.870314Z",
     "iopub.status.busy": "2022-07-12T05:08:01.869672Z",
     "iopub.status.idle": "2022-07-12T05:08:01.902116Z",
     "shell.execute_reply": "2022-07-12T05:08:01.900741Z"
    },
    "papermill": {
     "duration": 0.040332,
     "end_time": "2022-07-12T05:08:01.905119",
     "exception": false,
     "start_time": "2022-07-12T05:08:01.864787",
     "status": "completed"
    },
    "tags": []
   },
   "outputs": [],
   "source": [
    "df=pd.read_csv('../input/carsdata/cars.csv')"
   ]
  },
  {
   "cell_type": "code",
   "execution_count": 5,
   "id": "00fc85b2",
   "metadata": {
    "execution": {
     "iopub.execute_input": "2022-07-12T05:08:01.915050Z",
     "iopub.status.busy": "2022-07-12T05:08:01.914335Z",
     "iopub.status.idle": "2022-07-12T05:08:01.939540Z",
     "shell.execute_reply": "2022-07-12T05:08:01.938365Z"
    },
    "papermill": {
     "duration": 0.033326,
     "end_time": "2022-07-12T05:08:01.942379",
     "exception": false,
     "start_time": "2022-07-12T05:08:01.909053",
     "status": "completed"
    },
    "tags": []
   },
   "outputs": [
    {
     "data": {
      "text/html": [
       "<div>\n",
       "<style scoped>\n",
       "    .dataframe tbody tr th:only-of-type {\n",
       "        vertical-align: middle;\n",
       "    }\n",
       "\n",
       "    .dataframe tbody tr th {\n",
       "        vertical-align: top;\n",
       "    }\n",
       "\n",
       "    .dataframe thead th {\n",
       "        text-align: right;\n",
       "    }\n",
       "</style>\n",
       "<table border=\"1\" class=\"dataframe\">\n",
       "  <thead>\n",
       "    <tr style=\"text-align: right;\">\n",
       "      <th></th>\n",
       "      <th>brand</th>\n",
       "      <th>km_driven</th>\n",
       "      <th>fuel</th>\n",
       "      <th>owner</th>\n",
       "      <th>selling_price</th>\n",
       "    </tr>\n",
       "  </thead>\n",
       "  <tbody>\n",
       "    <tr>\n",
       "      <th>3796</th>\n",
       "      <td>Maruti</td>\n",
       "      <td>120000</td>\n",
       "      <td>LPG</td>\n",
       "      <td>Third Owner</td>\n",
       "      <td>110000</td>\n",
       "    </tr>\n",
       "    <tr>\n",
       "      <th>4167</th>\n",
       "      <td>Hyundai</td>\n",
       "      <td>30000</td>\n",
       "      <td>Petrol</td>\n",
       "      <td>First Owner</td>\n",
       "      <td>458000</td>\n",
       "    </tr>\n",
       "    <tr>\n",
       "      <th>4343</th>\n",
       "      <td>Mahindra</td>\n",
       "      <td>100000</td>\n",
       "      <td>Diesel</td>\n",
       "      <td>First Owner</td>\n",
       "      <td>484999</td>\n",
       "    </tr>\n",
       "    <tr>\n",
       "      <th>3040</th>\n",
       "      <td>Mahindra</td>\n",
       "      <td>70000</td>\n",
       "      <td>Diesel</td>\n",
       "      <td>First Owner</td>\n",
       "      <td>700000</td>\n",
       "    </tr>\n",
       "    <tr>\n",
       "      <th>6937</th>\n",
       "      <td>Maruti</td>\n",
       "      <td>40000</td>\n",
       "      <td>Petrol</td>\n",
       "      <td>First Owner</td>\n",
       "      <td>500000</td>\n",
       "    </tr>\n",
       "  </tbody>\n",
       "</table>\n",
       "</div>"
      ],
      "text/plain": [
       "         brand  km_driven    fuel        owner  selling_price\n",
       "3796    Maruti     120000     LPG  Third Owner         110000\n",
       "4167   Hyundai      30000  Petrol  First Owner         458000\n",
       "4343  Mahindra     100000  Diesel  First Owner         484999\n",
       "3040  Mahindra      70000  Diesel  First Owner         700000\n",
       "6937    Maruti      40000  Petrol  First Owner         500000"
      ]
     },
     "execution_count": 5,
     "metadata": {},
     "output_type": "execute_result"
    }
   ],
   "source": [
    "df.sample(5)"
   ]
  },
  {
   "cell_type": "code",
   "execution_count": 6,
   "id": "418db925",
   "metadata": {
    "execution": {
     "iopub.execute_input": "2022-07-12T05:08:01.952487Z",
     "iopub.status.busy": "2022-07-12T05:08:01.951333Z",
     "iopub.status.idle": "2022-07-12T05:08:01.969275Z",
     "shell.execute_reply": "2022-07-12T05:08:01.968093Z"
    },
    "papermill": {
     "duration": 0.025997,
     "end_time": "2022-07-12T05:08:01.972266",
     "exception": false,
     "start_time": "2022-07-12T05:08:01.946269",
     "status": "completed"
    },
    "tags": []
   },
   "outputs": [
    {
     "data": {
      "text/plain": [
       "First Owner             5289\n",
       "Second Owner            2105\n",
       "Third Owner              555\n",
       "Fourth & Above Owner     174\n",
       "Test Drive Car             5\n",
       "Name: owner, dtype: int64"
      ]
     },
     "execution_count": 6,
     "metadata": {},
     "output_type": "execute_result"
    }
   ],
   "source": [
    "df['owner'].value_counts()"
   ]
  },
  {
   "cell_type": "markdown",
   "id": "1a858cb2",
   "metadata": {
    "papermill": {
     "duration": 0.003703,
     "end_time": "2022-07-12T05:08:01.979911",
     "exception": false,
     "start_time": "2022-07-12T05:08:01.976208",
     "status": "completed"
    },
    "tags": []
   },
   "source": [
    "# One Hot Encoding Using Pandas"
   ]
  },
  {
   "cell_type": "code",
   "execution_count": 7,
   "id": "8907c317",
   "metadata": {
    "execution": {
     "iopub.execute_input": "2022-07-12T05:08:01.989617Z",
     "iopub.status.busy": "2022-07-12T05:08:01.989006Z",
     "iopub.status.idle": "2022-07-12T05:08:02.015415Z",
     "shell.execute_reply": "2022-07-12T05:08:02.014529Z"
    },
    "papermill": {
     "duration": 0.033846,
     "end_time": "2022-07-12T05:08:02.017577",
     "exception": false,
     "start_time": "2022-07-12T05:08:01.983731",
     "status": "completed"
    },
    "tags": []
   },
   "outputs": [
    {
     "data": {
      "text/html": [
       "<div>\n",
       "<style scoped>\n",
       "    .dataframe tbody tr th:only-of-type {\n",
       "        vertical-align: middle;\n",
       "    }\n",
       "\n",
       "    .dataframe tbody tr th {\n",
       "        vertical-align: top;\n",
       "    }\n",
       "\n",
       "    .dataframe thead th {\n",
       "        text-align: right;\n",
       "    }\n",
       "</style>\n",
       "<table border=\"1\" class=\"dataframe\">\n",
       "  <thead>\n",
       "    <tr style=\"text-align: right;\">\n",
       "      <th></th>\n",
       "      <th>brand</th>\n",
       "      <th>km_driven</th>\n",
       "      <th>selling_price</th>\n",
       "      <th>fuel_CNG</th>\n",
       "      <th>fuel_Diesel</th>\n",
       "      <th>fuel_LPG</th>\n",
       "      <th>fuel_Petrol</th>\n",
       "      <th>owner_First Owner</th>\n",
       "      <th>owner_Fourth &amp; Above Owner</th>\n",
       "      <th>owner_Second Owner</th>\n",
       "      <th>owner_Test Drive Car</th>\n",
       "      <th>owner_Third Owner</th>\n",
       "    </tr>\n",
       "  </thead>\n",
       "  <tbody>\n",
       "    <tr>\n",
       "      <th>0</th>\n",
       "      <td>Maruti</td>\n",
       "      <td>145500</td>\n",
       "      <td>450000</td>\n",
       "      <td>0</td>\n",
       "      <td>1</td>\n",
       "      <td>0</td>\n",
       "      <td>0</td>\n",
       "      <td>1</td>\n",
       "      <td>0</td>\n",
       "      <td>0</td>\n",
       "      <td>0</td>\n",
       "      <td>0</td>\n",
       "    </tr>\n",
       "    <tr>\n",
       "      <th>1</th>\n",
       "      <td>Skoda</td>\n",
       "      <td>120000</td>\n",
       "      <td>370000</td>\n",
       "      <td>0</td>\n",
       "      <td>1</td>\n",
       "      <td>0</td>\n",
       "      <td>0</td>\n",
       "      <td>0</td>\n",
       "      <td>0</td>\n",
       "      <td>1</td>\n",
       "      <td>0</td>\n",
       "      <td>0</td>\n",
       "    </tr>\n",
       "    <tr>\n",
       "      <th>2</th>\n",
       "      <td>Honda</td>\n",
       "      <td>140000</td>\n",
       "      <td>158000</td>\n",
       "      <td>0</td>\n",
       "      <td>0</td>\n",
       "      <td>0</td>\n",
       "      <td>1</td>\n",
       "      <td>0</td>\n",
       "      <td>0</td>\n",
       "      <td>0</td>\n",
       "      <td>0</td>\n",
       "      <td>1</td>\n",
       "    </tr>\n",
       "    <tr>\n",
       "      <th>3</th>\n",
       "      <td>Hyundai</td>\n",
       "      <td>127000</td>\n",
       "      <td>225000</td>\n",
       "      <td>0</td>\n",
       "      <td>1</td>\n",
       "      <td>0</td>\n",
       "      <td>0</td>\n",
       "      <td>1</td>\n",
       "      <td>0</td>\n",
       "      <td>0</td>\n",
       "      <td>0</td>\n",
       "      <td>0</td>\n",
       "    </tr>\n",
       "    <tr>\n",
       "      <th>4</th>\n",
       "      <td>Maruti</td>\n",
       "      <td>120000</td>\n",
       "      <td>130000</td>\n",
       "      <td>0</td>\n",
       "      <td>0</td>\n",
       "      <td>0</td>\n",
       "      <td>1</td>\n",
       "      <td>1</td>\n",
       "      <td>0</td>\n",
       "      <td>0</td>\n",
       "      <td>0</td>\n",
       "      <td>0</td>\n",
       "    </tr>\n",
       "    <tr>\n",
       "      <th>...</th>\n",
       "      <td>...</td>\n",
       "      <td>...</td>\n",
       "      <td>...</td>\n",
       "      <td>...</td>\n",
       "      <td>...</td>\n",
       "      <td>...</td>\n",
       "      <td>...</td>\n",
       "      <td>...</td>\n",
       "      <td>...</td>\n",
       "      <td>...</td>\n",
       "      <td>...</td>\n",
       "      <td>...</td>\n",
       "    </tr>\n",
       "    <tr>\n",
       "      <th>8123</th>\n",
       "      <td>Hyundai</td>\n",
       "      <td>110000</td>\n",
       "      <td>320000</td>\n",
       "      <td>0</td>\n",
       "      <td>0</td>\n",
       "      <td>0</td>\n",
       "      <td>1</td>\n",
       "      <td>1</td>\n",
       "      <td>0</td>\n",
       "      <td>0</td>\n",
       "      <td>0</td>\n",
       "      <td>0</td>\n",
       "    </tr>\n",
       "    <tr>\n",
       "      <th>8124</th>\n",
       "      <td>Hyundai</td>\n",
       "      <td>119000</td>\n",
       "      <td>135000</td>\n",
       "      <td>0</td>\n",
       "      <td>1</td>\n",
       "      <td>0</td>\n",
       "      <td>0</td>\n",
       "      <td>0</td>\n",
       "      <td>1</td>\n",
       "      <td>0</td>\n",
       "      <td>0</td>\n",
       "      <td>0</td>\n",
       "    </tr>\n",
       "    <tr>\n",
       "      <th>8125</th>\n",
       "      <td>Maruti</td>\n",
       "      <td>120000</td>\n",
       "      <td>382000</td>\n",
       "      <td>0</td>\n",
       "      <td>1</td>\n",
       "      <td>0</td>\n",
       "      <td>0</td>\n",
       "      <td>1</td>\n",
       "      <td>0</td>\n",
       "      <td>0</td>\n",
       "      <td>0</td>\n",
       "      <td>0</td>\n",
       "    </tr>\n",
       "    <tr>\n",
       "      <th>8126</th>\n",
       "      <td>Tata</td>\n",
       "      <td>25000</td>\n",
       "      <td>290000</td>\n",
       "      <td>0</td>\n",
       "      <td>1</td>\n",
       "      <td>0</td>\n",
       "      <td>0</td>\n",
       "      <td>1</td>\n",
       "      <td>0</td>\n",
       "      <td>0</td>\n",
       "      <td>0</td>\n",
       "      <td>0</td>\n",
       "    </tr>\n",
       "    <tr>\n",
       "      <th>8127</th>\n",
       "      <td>Tata</td>\n",
       "      <td>25000</td>\n",
       "      <td>290000</td>\n",
       "      <td>0</td>\n",
       "      <td>1</td>\n",
       "      <td>0</td>\n",
       "      <td>0</td>\n",
       "      <td>1</td>\n",
       "      <td>0</td>\n",
       "      <td>0</td>\n",
       "      <td>0</td>\n",
       "      <td>0</td>\n",
       "    </tr>\n",
       "  </tbody>\n",
       "</table>\n",
       "<p>8128 rows × 12 columns</p>\n",
       "</div>"
      ],
      "text/plain": [
       "        brand  km_driven  selling_price  fuel_CNG  fuel_Diesel  fuel_LPG  \\\n",
       "0      Maruti     145500         450000         0            1         0   \n",
       "1       Skoda     120000         370000         0            1         0   \n",
       "2       Honda     140000         158000         0            0         0   \n",
       "3     Hyundai     127000         225000         0            1         0   \n",
       "4      Maruti     120000         130000         0            0         0   \n",
       "...       ...        ...            ...       ...          ...       ...   \n",
       "8123  Hyundai     110000         320000         0            0         0   \n",
       "8124  Hyundai     119000         135000         0            1         0   \n",
       "8125   Maruti     120000         382000         0            1         0   \n",
       "8126     Tata      25000         290000         0            1         0   \n",
       "8127     Tata      25000         290000         0            1         0   \n",
       "\n",
       "      fuel_Petrol  owner_First Owner  owner_Fourth & Above Owner  \\\n",
       "0               0                  1                           0   \n",
       "1               0                  0                           0   \n",
       "2               1                  0                           0   \n",
       "3               0                  1                           0   \n",
       "4               1                  1                           0   \n",
       "...           ...                ...                         ...   \n",
       "8123            1                  1                           0   \n",
       "8124            0                  0                           1   \n",
       "8125            0                  1                           0   \n",
       "8126            0                  1                           0   \n",
       "8127            0                  1                           0   \n",
       "\n",
       "      owner_Second Owner  owner_Test Drive Car  owner_Third Owner  \n",
       "0                      0                     0                  0  \n",
       "1                      1                     0                  0  \n",
       "2                      0                     0                  1  \n",
       "3                      0                     0                  0  \n",
       "4                      0                     0                  0  \n",
       "...                  ...                   ...                ...  \n",
       "8123                   0                     0                  0  \n",
       "8124                   0                     0                  0  \n",
       "8125                   0                     0                  0  \n",
       "8126                   0                     0                  0  \n",
       "8127                   0                     0                  0  \n",
       "\n",
       "[8128 rows x 12 columns]"
      ]
     },
     "execution_count": 7,
     "metadata": {},
     "output_type": "execute_result"
    }
   ],
   "source": [
    "pd.get_dummies(df,columns=['fuel','owner'])"
   ]
  },
  {
   "cell_type": "markdown",
   "id": "311d3f92",
   "metadata": {
    "papermill": {
     "duration": 0.003917,
     "end_time": "2022-07-12T05:08:02.025906",
     "exception": false,
     "start_time": "2022-07-12T05:08:02.021989",
     "status": "completed"
    },
    "tags": []
   },
   "source": [
    "# One Hot Encoding using Pandas and K-1 Columns"
   ]
  },
  {
   "cell_type": "code",
   "execution_count": null,
   "id": "f89d6e77",
   "metadata": {
    "papermill": {
     "duration": 0.003856,
     "end_time": "2022-07-12T05:08:02.033862",
     "exception": false,
     "start_time": "2022-07-12T05:08:02.030006",
     "status": "completed"
    },
    "tags": []
   },
   "outputs": [],
   "source": []
  }
 ],
 "metadata": {
  "kernelspec": {
   "display_name": "Python 3",
   "language": "python",
   "name": "python3"
  },
  "language_info": {
   "codemirror_mode": {
    "name": "ipython",
    "version": 3
   },
   "file_extension": ".py",
   "mimetype": "text/x-python",
   "name": "python",
   "nbconvert_exporter": "python",
   "pygments_lexer": "ipython3",
   "version": "3.7.12"
  },
  "papermill": {
   "default_parameters": {},
   "duration": 11.358111,
   "end_time": "2022-07-12T05:08:02.759950",
   "environment_variables": {},
   "exception": null,
   "input_path": "__notebook__.ipynb",
   "output_path": "__notebook__.ipynb",
   "parameters": {},
   "start_time": "2022-07-12T05:07:51.401839",
   "version": "2.3.4"
  }
 },
 "nbformat": 4,
 "nbformat_minor": 5
}
