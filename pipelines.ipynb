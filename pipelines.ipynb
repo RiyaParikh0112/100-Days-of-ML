{
 "cells": [
  {
   "cell_type": "code",
   "execution_count": 1,
   "id": "7f30bfdf",
   "metadata": {
    "_cell_guid": "b1076dfc-b9ad-4769-8c92-a6c4dae69d19",
    "_uuid": "8f2839f25d086af736a60e9eeb907d3b93b6e0e5",
    "execution": {
     "iopub.execute_input": "2022-07-18T05:03:06.945566Z",
     "iopub.status.busy": "2022-07-18T05:03:06.944711Z",
     "iopub.status.idle": "2022-07-18T05:03:06.963518Z",
     "shell.execute_reply": "2022-07-18T05:03:06.962787Z"
    },
    "papermill": {
     "duration": 0.030122,
     "end_time": "2022-07-18T05:03:06.967467",
     "exception": false,
     "start_time": "2022-07-18T05:03:06.937345",
     "status": "completed"
    },
    "tags": []
   },
   "outputs": [
    {
     "name": "stdout",
     "output_type": "stream",
     "text": [
      "/kaggle/input/d/rahulsah06/titanic/train.csv\n",
      "/kaggle/input/d/rahulsah06/titanic/test.csv\n",
      "/kaggle/input/d/rahulsah06/titanic/gender_submission.csv\n"
     ]
    }
   ],
   "source": [
    "# This Python 3 environment comes with many helpful analytics libraries installed\n",
    "# It is defined by the kaggle/python Docker image: https://github.com/kaggle/docker-python\n",
    "# For example, here's several helpful packages to load\n",
    "\n",
    "import numpy as np # linear algebra\n",
    "import pandas as pd # data processing, CSV file I/O (e.g. pd.read_csv)\n",
    "\n",
    "# Input data files are available in the read-only \"../input/\" directory\n",
    "# For example, running this (by clicking run or pressing Shift+Enter) will list all files under the input directory\n",
    "\n",
    "import os\n",
    "for dirname, _, filenames in os.walk('/kaggle/input'):\n",
    "    for filename in filenames:\n",
    "        print(os.path.join(dirname, filename))\n",
    "\n",
    "# You can write up to 20GB to the current directory (/kaggle/working/) that gets preserved as output when you create a version using \"Save & Run All\" \n",
    "# You can also write temporary files to /kaggle/temp/, but they won't be saved outside of the current session"
   ]
  },
  {
   "cell_type": "code",
   "execution_count": 2,
   "id": "32b2d062",
   "metadata": {
    "execution": {
     "iopub.execute_input": "2022-07-18T05:03:06.977280Z",
     "iopub.status.busy": "2022-07-18T05:03:06.976647Z",
     "iopub.status.idle": "2022-07-18T05:03:06.981512Z",
     "shell.execute_reply": "2022-07-18T05:03:06.980560Z"
    },
    "papermill": {
     "duration": 0.011241,
     "end_time": "2022-07-18T05:03:06.983611",
     "exception": false,
     "start_time": "2022-07-18T05:03:06.972370",
     "status": "completed"
    },
    "tags": []
   },
   "outputs": [],
   "source": [
    "import pandas as pd\n",
    "import numpy as np"
   ]
  },
  {
   "cell_type": "code",
   "execution_count": 3,
   "id": "45aa4376",
   "metadata": {
    "execution": {
     "iopub.execute_input": "2022-07-18T05:03:06.991917Z",
     "iopub.status.busy": "2022-07-18T05:03:06.991583Z",
     "iopub.status.idle": "2022-07-18T05:03:07.009734Z",
     "shell.execute_reply": "2022-07-18T05:03:07.008909Z"
    },
    "papermill": {
     "duration": 0.025761,
     "end_time": "2022-07-18T05:03:07.012727",
     "exception": false,
     "start_time": "2022-07-18T05:03:06.986966",
     "status": "completed"
    },
    "tags": []
   },
   "outputs": [],
   "source": [
    "df= pd.read_csv('../input/d/rahulsah06/titanic/train.csv')"
   ]
  },
  {
   "cell_type": "code",
   "execution_count": 4,
   "id": "6f0cd64b",
   "metadata": {
    "execution": {
     "iopub.execute_input": "2022-07-18T05:03:07.027131Z",
     "iopub.status.busy": "2022-07-18T05:03:07.025621Z",
     "iopub.status.idle": "2022-07-18T05:03:07.050638Z",
     "shell.execute_reply": "2022-07-18T05:03:07.049692Z"
    },
    "papermill": {
     "duration": 0.034879,
     "end_time": "2022-07-18T05:03:07.053413",
     "exception": false,
     "start_time": "2022-07-18T05:03:07.018534",
     "status": "completed"
    },
    "tags": []
   },
   "outputs": [
    {
     "data": {
      "text/html": [
       "<div>\n",
       "<style scoped>\n",
       "    .dataframe tbody tr th:only-of-type {\n",
       "        vertical-align: middle;\n",
       "    }\n",
       "\n",
       "    .dataframe tbody tr th {\n",
       "        vertical-align: top;\n",
       "    }\n",
       "\n",
       "    .dataframe thead th {\n",
       "        text-align: right;\n",
       "    }\n",
       "</style>\n",
       "<table border=\"1\" class=\"dataframe\">\n",
       "  <thead>\n",
       "    <tr style=\"text-align: right;\">\n",
       "      <th></th>\n",
       "      <th>PassengerId</th>\n",
       "      <th>Survived</th>\n",
       "      <th>Pclass</th>\n",
       "      <th>Name</th>\n",
       "      <th>Sex</th>\n",
       "      <th>Age</th>\n",
       "      <th>SibSp</th>\n",
       "      <th>Parch</th>\n",
       "      <th>Ticket</th>\n",
       "      <th>Fare</th>\n",
       "      <th>Cabin</th>\n",
       "      <th>Embarked</th>\n",
       "    </tr>\n",
       "  </thead>\n",
       "  <tbody>\n",
       "    <tr>\n",
       "      <th>0</th>\n",
       "      <td>1</td>\n",
       "      <td>0</td>\n",
       "      <td>3</td>\n",
       "      <td>Braund, Mr. Owen Harris</td>\n",
       "      <td>male</td>\n",
       "      <td>22.0</td>\n",
       "      <td>1</td>\n",
       "      <td>0</td>\n",
       "      <td>A/5 21171</td>\n",
       "      <td>7.2500</td>\n",
       "      <td>NaN</td>\n",
       "      <td>S</td>\n",
       "    </tr>\n",
       "    <tr>\n",
       "      <th>1</th>\n",
       "      <td>2</td>\n",
       "      <td>1</td>\n",
       "      <td>1</td>\n",
       "      <td>Cumings, Mrs. John Bradley (Florence Briggs Th...</td>\n",
       "      <td>female</td>\n",
       "      <td>38.0</td>\n",
       "      <td>1</td>\n",
       "      <td>0</td>\n",
       "      <td>PC 17599</td>\n",
       "      <td>71.2833</td>\n",
       "      <td>C85</td>\n",
       "      <td>C</td>\n",
       "    </tr>\n",
       "    <tr>\n",
       "      <th>2</th>\n",
       "      <td>3</td>\n",
       "      <td>1</td>\n",
       "      <td>3</td>\n",
       "      <td>Heikkinen, Miss. Laina</td>\n",
       "      <td>female</td>\n",
       "      <td>26.0</td>\n",
       "      <td>0</td>\n",
       "      <td>0</td>\n",
       "      <td>STON/O2. 3101282</td>\n",
       "      <td>7.9250</td>\n",
       "      <td>NaN</td>\n",
       "      <td>S</td>\n",
       "    </tr>\n",
       "    <tr>\n",
       "      <th>3</th>\n",
       "      <td>4</td>\n",
       "      <td>1</td>\n",
       "      <td>1</td>\n",
       "      <td>Futrelle, Mrs. Jacques Heath (Lily May Peel)</td>\n",
       "      <td>female</td>\n",
       "      <td>35.0</td>\n",
       "      <td>1</td>\n",
       "      <td>0</td>\n",
       "      <td>113803</td>\n",
       "      <td>53.1000</td>\n",
       "      <td>C123</td>\n",
       "      <td>S</td>\n",
       "    </tr>\n",
       "    <tr>\n",
       "      <th>4</th>\n",
       "      <td>5</td>\n",
       "      <td>0</td>\n",
       "      <td>3</td>\n",
       "      <td>Allen, Mr. William Henry</td>\n",
       "      <td>male</td>\n",
       "      <td>35.0</td>\n",
       "      <td>0</td>\n",
       "      <td>0</td>\n",
       "      <td>373450</td>\n",
       "      <td>8.0500</td>\n",
       "      <td>NaN</td>\n",
       "      <td>S</td>\n",
       "    </tr>\n",
       "  </tbody>\n",
       "</table>\n",
       "</div>"
      ],
      "text/plain": [
       "   PassengerId  Survived  Pclass  \\\n",
       "0            1         0       3   \n",
       "1            2         1       1   \n",
       "2            3         1       3   \n",
       "3            4         1       1   \n",
       "4            5         0       3   \n",
       "\n",
       "                                                Name     Sex   Age  SibSp  \\\n",
       "0                            Braund, Mr. Owen Harris    male  22.0      1   \n",
       "1  Cumings, Mrs. John Bradley (Florence Briggs Th...  female  38.0      1   \n",
       "2                             Heikkinen, Miss. Laina  female  26.0      0   \n",
       "3       Futrelle, Mrs. Jacques Heath (Lily May Peel)  female  35.0      1   \n",
       "4                           Allen, Mr. William Henry    male  35.0      0   \n",
       "\n",
       "   Parch            Ticket     Fare Cabin Embarked  \n",
       "0      0         A/5 21171   7.2500   NaN        S  \n",
       "1      0          PC 17599  71.2833   C85        C  \n",
       "2      0  STON/O2. 3101282   7.9250   NaN        S  \n",
       "3      0            113803  53.1000  C123        S  \n",
       "4      0            373450   8.0500   NaN        S  "
      ]
     },
     "execution_count": 4,
     "metadata": {},
     "output_type": "execute_result"
    }
   ],
   "source": [
    "df.head()"
   ]
  },
  {
   "cell_type": "code",
   "execution_count": 5,
   "id": "ab17ca14",
   "metadata": {
    "execution": {
     "iopub.execute_input": "2022-07-18T05:03:07.062231Z",
     "iopub.status.busy": "2022-07-18T05:03:07.061709Z",
     "iopub.status.idle": "2022-07-18T05:03:07.071788Z",
     "shell.execute_reply": "2022-07-18T05:03:07.070726Z"
    },
    "papermill": {
     "duration": 0.016776,
     "end_time": "2022-07-18T05:03:07.073829",
     "exception": false,
     "start_time": "2022-07-18T05:03:07.057053",
     "status": "completed"
    },
    "tags": []
   },
   "outputs": [],
   "source": [
    "#now drop the columns passenger id name ticket cabin\n",
    "df.drop(columns=['PassengerId','Name','Ticket','Cabin'],inplace=True)"
   ]
  },
  {
   "cell_type": "code",
   "execution_count": 6,
   "id": "3a3130c1",
   "metadata": {
    "execution": {
     "iopub.execute_input": "2022-07-18T05:03:07.082395Z",
     "iopub.status.busy": "2022-07-18T05:03:07.082071Z",
     "iopub.status.idle": "2022-07-18T05:03:07.094229Z",
     "shell.execute_reply": "2022-07-18T05:03:07.093046Z"
    },
    "papermill": {
     "duration": 0.018948,
     "end_time": "2022-07-18T05:03:07.096395",
     "exception": false,
     "start_time": "2022-07-18T05:03:07.077447",
     "status": "completed"
    },
    "tags": []
   },
   "outputs": [
    {
     "data": {
      "text/html": [
       "<div>\n",
       "<style scoped>\n",
       "    .dataframe tbody tr th:only-of-type {\n",
       "        vertical-align: middle;\n",
       "    }\n",
       "\n",
       "    .dataframe tbody tr th {\n",
       "        vertical-align: top;\n",
       "    }\n",
       "\n",
       "    .dataframe thead th {\n",
       "        text-align: right;\n",
       "    }\n",
       "</style>\n",
       "<table border=\"1\" class=\"dataframe\">\n",
       "  <thead>\n",
       "    <tr style=\"text-align: right;\">\n",
       "      <th></th>\n",
       "      <th>Survived</th>\n",
       "      <th>Pclass</th>\n",
       "      <th>Sex</th>\n",
       "      <th>Age</th>\n",
       "      <th>SibSp</th>\n",
       "      <th>Parch</th>\n",
       "      <th>Fare</th>\n",
       "      <th>Embarked</th>\n",
       "    </tr>\n",
       "  </thead>\n",
       "  <tbody>\n",
       "    <tr>\n",
       "      <th>0</th>\n",
       "      <td>0</td>\n",
       "      <td>3</td>\n",
       "      <td>male</td>\n",
       "      <td>22.0</td>\n",
       "      <td>1</td>\n",
       "      <td>0</td>\n",
       "      <td>7.2500</td>\n",
       "      <td>S</td>\n",
       "    </tr>\n",
       "    <tr>\n",
       "      <th>1</th>\n",
       "      <td>1</td>\n",
       "      <td>1</td>\n",
       "      <td>female</td>\n",
       "      <td>38.0</td>\n",
       "      <td>1</td>\n",
       "      <td>0</td>\n",
       "      <td>71.2833</td>\n",
       "      <td>C</td>\n",
       "    </tr>\n",
       "    <tr>\n",
       "      <th>2</th>\n",
       "      <td>1</td>\n",
       "      <td>3</td>\n",
       "      <td>female</td>\n",
       "      <td>26.0</td>\n",
       "      <td>0</td>\n",
       "      <td>0</td>\n",
       "      <td>7.9250</td>\n",
       "      <td>S</td>\n",
       "    </tr>\n",
       "    <tr>\n",
       "      <th>3</th>\n",
       "      <td>1</td>\n",
       "      <td>1</td>\n",
       "      <td>female</td>\n",
       "      <td>35.0</td>\n",
       "      <td>1</td>\n",
       "      <td>0</td>\n",
       "      <td>53.1000</td>\n",
       "      <td>S</td>\n",
       "    </tr>\n",
       "    <tr>\n",
       "      <th>4</th>\n",
       "      <td>0</td>\n",
       "      <td>3</td>\n",
       "      <td>male</td>\n",
       "      <td>35.0</td>\n",
       "      <td>0</td>\n",
       "      <td>0</td>\n",
       "      <td>8.0500</td>\n",
       "      <td>S</td>\n",
       "    </tr>\n",
       "  </tbody>\n",
       "</table>\n",
       "</div>"
      ],
      "text/plain": [
       "   Survived  Pclass     Sex   Age  SibSp  Parch     Fare Embarked\n",
       "0         0       3    male  22.0      1      0   7.2500        S\n",
       "1         1       1  female  38.0      1      0  71.2833        C\n",
       "2         1       3  female  26.0      0      0   7.9250        S\n",
       "3         1       1  female  35.0      1      0  53.1000        S\n",
       "4         0       3    male  35.0      0      0   8.0500        S"
      ]
     },
     "execution_count": 6,
     "metadata": {},
     "output_type": "execute_result"
    }
   ],
   "source": [
    "df.head()\n"
   ]
  },
  {
   "cell_type": "code",
   "execution_count": 7,
   "id": "9426f6bb",
   "metadata": {
    "execution": {
     "iopub.execute_input": "2022-07-18T05:03:07.105417Z",
     "iopub.status.busy": "2022-07-18T05:03:07.105073Z",
     "iopub.status.idle": "2022-07-18T05:03:08.165126Z",
     "shell.execute_reply": "2022-07-18T05:03:08.163953Z"
    },
    "papermill": {
     "duration": 1.067579,
     "end_time": "2022-07-18T05:03:08.167715",
     "exception": false,
     "start_time": "2022-07-18T05:03:07.100136",
     "status": "completed"
    },
    "tags": []
   },
   "outputs": [],
   "source": [
    "#Step1 Train test split\n",
    "from sklearn.model_selection import train_test_split\n"
   ]
  },
  {
   "cell_type": "code",
   "execution_count": 8,
   "id": "51d52394",
   "metadata": {
    "execution": {
     "iopub.execute_input": "2022-07-18T05:03:08.176985Z",
     "iopub.status.busy": "2022-07-18T05:03:08.176280Z",
     "iopub.status.idle": "2022-07-18T05:03:08.186156Z",
     "shell.execute_reply": "2022-07-18T05:03:08.185068Z"
    },
    "papermill": {
     "duration": 0.016849,
     "end_time": "2022-07-18T05:03:08.188345",
     "exception": false,
     "start_time": "2022-07-18T05:03:08.171496",
     "status": "completed"
    },
    "tags": []
   },
   "outputs": [],
   "source": [
    "X_train,X_test,y_train,y_test= train_test_split(df.drop(columns=['Survived']),df['Survived'],random_state=0,test_size=0.2)"
   ]
  },
  {
   "cell_type": "code",
   "execution_count": 9,
   "id": "532f0768",
   "metadata": {
    "execution": {
     "iopub.execute_input": "2022-07-18T05:03:08.197765Z",
     "iopub.status.busy": "2022-07-18T05:03:08.196927Z",
     "iopub.status.idle": "2022-07-18T05:03:08.207969Z",
     "shell.execute_reply": "2022-07-18T05:03:08.207242Z"
    },
    "papermill": {
     "duration": 0.017552,
     "end_time": "2022-07-18T05:03:08.209747",
     "exception": false,
     "start_time": "2022-07-18T05:03:08.192195",
     "status": "completed"
    },
    "tags": []
   },
   "outputs": [
    {
     "data": {
      "text/html": [
       "<div>\n",
       "<style scoped>\n",
       "    .dataframe tbody tr th:only-of-type {\n",
       "        vertical-align: middle;\n",
       "    }\n",
       "\n",
       "    .dataframe tbody tr th {\n",
       "        vertical-align: top;\n",
       "    }\n",
       "\n",
       "    .dataframe thead th {\n",
       "        text-align: right;\n",
       "    }\n",
       "</style>\n",
       "<table border=\"1\" class=\"dataframe\">\n",
       "  <thead>\n",
       "    <tr style=\"text-align: right;\">\n",
       "      <th></th>\n",
       "      <th>Pclass</th>\n",
       "      <th>Sex</th>\n",
       "      <th>Age</th>\n",
       "      <th>SibSp</th>\n",
       "      <th>Parch</th>\n",
       "      <th>Fare</th>\n",
       "      <th>Embarked</th>\n",
       "    </tr>\n",
       "  </thead>\n",
       "  <tbody>\n",
       "    <tr>\n",
       "      <th>140</th>\n",
       "      <td>3</td>\n",
       "      <td>female</td>\n",
       "      <td>NaN</td>\n",
       "      <td>0</td>\n",
       "      <td>2</td>\n",
       "      <td>15.2458</td>\n",
       "      <td>C</td>\n",
       "    </tr>\n",
       "    <tr>\n",
       "      <th>439</th>\n",
       "      <td>2</td>\n",
       "      <td>male</td>\n",
       "      <td>31.0</td>\n",
       "      <td>0</td>\n",
       "      <td>0</td>\n",
       "      <td>10.5000</td>\n",
       "      <td>S</td>\n",
       "    </tr>\n",
       "    <tr>\n",
       "      <th>817</th>\n",
       "      <td>2</td>\n",
       "      <td>male</td>\n",
       "      <td>31.0</td>\n",
       "      <td>1</td>\n",
       "      <td>1</td>\n",
       "      <td>37.0042</td>\n",
       "      <td>C</td>\n",
       "    </tr>\n",
       "    <tr>\n",
       "      <th>378</th>\n",
       "      <td>3</td>\n",
       "      <td>male</td>\n",
       "      <td>20.0</td>\n",
       "      <td>0</td>\n",
       "      <td>0</td>\n",
       "      <td>4.0125</td>\n",
       "      <td>C</td>\n",
       "    </tr>\n",
       "  </tbody>\n",
       "</table>\n",
       "</div>"
      ],
      "text/plain": [
       "     Pclass     Sex   Age  SibSp  Parch     Fare Embarked\n",
       "140       3  female   NaN      0      2  15.2458        C\n",
       "439       2    male  31.0      0      0  10.5000        S\n",
       "817       2    male  31.0      1      1  37.0042        C\n",
       "378       3    male  20.0      0      0   4.0125        C"
      ]
     },
     "execution_count": 9,
     "metadata": {},
     "output_type": "execute_result"
    }
   ],
   "source": [
    "X_train.head(4)"
   ]
  },
  {
   "cell_type": "code",
   "execution_count": 10,
   "id": "532b98eb",
   "metadata": {
    "execution": {
     "iopub.execute_input": "2022-07-18T05:03:08.218938Z",
     "iopub.status.busy": "2022-07-18T05:03:08.218251Z",
     "iopub.status.idle": "2022-07-18T05:03:08.223921Z",
     "shell.execute_reply": "2022-07-18T05:03:08.223236Z"
    },
    "papermill": {
     "duration": 0.012028,
     "end_time": "2022-07-18T05:03:08.225645",
     "exception": false,
     "start_time": "2022-07-18T05:03:08.213617",
     "status": "completed"
    },
    "tags": []
   },
   "outputs": [
    {
     "data": {
      "text/plain": [
       "140    0\n",
       "439    0\n",
       "817    0\n",
       "378    0\n",
       "491    0\n",
       "Name: Survived, dtype: int64"
      ]
     },
     "execution_count": 10,
     "metadata": {},
     "output_type": "execute_result"
    }
   ],
   "source": [
    "y_train.head()"
   ]
  },
  {
   "cell_type": "code",
   "execution_count": 11,
   "id": "274dddf6",
   "metadata": {
    "execution": {
     "iopub.execute_input": "2022-07-18T05:03:08.235220Z",
     "iopub.status.busy": "2022-07-18T05:03:08.234647Z",
     "iopub.status.idle": "2022-07-18T05:03:08.241936Z",
     "shell.execute_reply": "2022-07-18T05:03:08.241243Z"
    },
    "papermill": {
     "duration": 0.014092,
     "end_time": "2022-07-18T05:03:08.243635",
     "exception": false,
     "start_time": "2022-07-18T05:03:08.229543",
     "status": "completed"
    },
    "tags": []
   },
   "outputs": [
    {
     "data": {
      "text/plain": [
       "Survived      0\n",
       "Pclass        0\n",
       "Sex           0\n",
       "Age         177\n",
       "SibSp         0\n",
       "Parch         0\n",
       "Fare          0\n",
       "Embarked      2\n",
       "dtype: int64"
      ]
     },
     "execution_count": 11,
     "metadata": {},
     "output_type": "execute_result"
    }
   ],
   "source": [
    "df.isnull().sum()"
   ]
  },
  {
   "cell_type": "code",
   "execution_count": 12,
   "id": "774cf5e8",
   "metadata": {
    "execution": {
     "iopub.execute_input": "2022-07-18T05:03:08.253372Z",
     "iopub.status.busy": "2022-07-18T05:03:08.252765Z",
     "iopub.status.idle": "2022-07-18T05:03:08.408752Z",
     "shell.execute_reply": "2022-07-18T05:03:08.407842Z"
    },
    "papermill": {
     "duration": 0.16362,
     "end_time": "2022-07-18T05:03:08.411234",
     "exception": false,
     "start_time": "2022-07-18T05:03:08.247614",
     "status": "completed"
    },
    "tags": []
   },
   "outputs": [],
   "source": [
    "#As the Age dataset has missing values we have to impute the missing values\n",
    "from sklearn.impute import SimpleImputer\n",
    "si_age=SimpleImputer()\n",
    "si_embarked = SimpleImputer(strategy='most_frequent')\n",
    "X_train_age=si_age.fit_transform(X_train[['Age']])\n",
    "X_train_embarked=si_embarked.fit_transform(X_train[['Embarked']])\n",
    "X_test_age = si_age.transform(X_test[['Age']])\n",
    "X_test_embarked=si_embarked.transform(X_test[['Embarked']])"
   ]
  },
  {
   "cell_type": "code",
   "execution_count": 13,
   "id": "7b4235ac",
   "metadata": {
    "execution": {
     "iopub.execute_input": "2022-07-18T05:03:08.421609Z",
     "iopub.status.busy": "2022-07-18T05:03:08.420711Z",
     "iopub.status.idle": "2022-07-18T05:03:08.426674Z",
     "shell.execute_reply": "2022-07-18T05:03:08.425726Z"
    },
    "papermill": {
     "duration": 0.013468,
     "end_time": "2022-07-18T05:03:08.428972",
     "exception": false,
     "start_time": "2022-07-18T05:03:08.415504",
     "status": "completed"
    },
    "tags": []
   },
   "outputs": [
    {
     "data": {
      "text/plain": [
       "712"
      ]
     },
     "execution_count": 13,
     "metadata": {},
     "output_type": "execute_result"
    }
   ],
   "source": [
    "len(X_train_embarked)"
   ]
  },
  {
   "cell_type": "code",
   "execution_count": null,
   "id": "13effbca",
   "metadata": {
    "papermill": {
     "duration": 0.003761,
     "end_time": "2022-07-18T05:03:08.436831",
     "exception": false,
     "start_time": "2022-07-18T05:03:08.433070",
     "status": "completed"
    },
    "tags": []
   },
   "outputs": [],
   "source": []
  }
 ],
 "metadata": {
  "kernelspec": {
   "display_name": "Python 3",
   "language": "python",
   "name": "python3"
  },
  "language_info": {
   "codemirror_mode": {
    "name": "ipython",
    "version": 3
   },
   "file_extension": ".py",
   "mimetype": "text/x-python",
   "name": "python",
   "nbconvert_exporter": "python",
   "pygments_lexer": "ipython3",
   "version": "3.7.12"
  },
  "papermill": {
   "default_parameters": {},
   "duration": 10.677997,
   "end_time": "2022-07-18T05:03:09.162310",
   "environment_variables": {},
   "exception": null,
   "input_path": "__notebook__.ipynb",
   "output_path": "__notebook__.ipynb",
   "parameters": {},
   "start_time": "2022-07-18T05:02:58.484313",
   "version": "2.3.4"
  }
 },
 "nbformat": 4,
 "nbformat_minor": 5
}
