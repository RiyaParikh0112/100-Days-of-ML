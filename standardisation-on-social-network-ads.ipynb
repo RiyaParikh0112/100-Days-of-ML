{
 "cells": [
  {
   "cell_type": "code",
   "execution_count": 1,
   "id": "895126f8",
   "metadata": {
    "_cell_guid": "b1076dfc-b9ad-4769-8c92-a6c4dae69d19",
    "_uuid": "8f2839f25d086af736a60e9eeb907d3b93b6e0e5",
    "execution": {
     "iopub.execute_input": "2022-07-07T03:29:03.369396Z",
     "iopub.status.busy": "2022-07-07T03:29:03.368869Z",
     "iopub.status.idle": "2022-07-07T03:29:03.387330Z",
     "shell.execute_reply": "2022-07-07T03:29:03.386354Z"
    },
    "papermill": {
     "duration": 0.029869,
     "end_time": "2022-07-07T03:29:03.391435",
     "exception": false,
     "start_time": "2022-07-07T03:29:03.361566",
     "status": "completed"
    },
    "tags": []
   },
   "outputs": [
    {
     "name": "stdout",
     "output_type": "stream",
     "text": [
      "/kaggle/input/social-network-ads/Social_Network_Ads.csv\n"
     ]
    }
   ],
   "source": [
    "# This Python 3 environment comes with many helpful analytics libraries installed\n",
    "# It is defined by the kaggle/python Docker image: https://github.com/kaggle/docker-python\n",
    "# For example, here's several helpful packages to load\n",
    "\n",
    "import numpy as np # linear algebra\n",
    "import pandas as pd # data processing, CSV file I/O (e.g. pd.read_csv)\n",
    "\n",
    "# Input data files are available in the read-only \"../input/\" directory\n",
    "# For example, running this (by clicking run or pressing Shift+Enter) will list all files under the input directory\n",
    "\n",
    "import os\n",
    "for dirname, _, filenames in os.walk('/kaggle/input'):\n",
    "    for filename in filenames:\n",
    "        print(os.path.join(dirname, filename))\n",
    "\n",
    "# You can write up to 20GB to the current directory (/kaggle/working/) that gets preserved as output when you create a version using \"Save & Run All\" \n",
    "# You can also write temporary files to /kaggle/temp/, but they won't be saved outside of the current session"
   ]
  },
  {
   "cell_type": "code",
   "execution_count": 2,
   "id": "187242bc",
   "metadata": {
    "execution": {
     "iopub.execute_input": "2022-07-07T03:29:03.401797Z",
     "iopub.status.busy": "2022-07-07T03:29:03.401398Z",
     "iopub.status.idle": "2022-07-07T03:29:04.737762Z",
     "shell.execute_reply": "2022-07-07T03:29:04.736226Z"
    },
    "papermill": {
     "duration": 1.344704,
     "end_time": "2022-07-07T03:29:04.740563",
     "exception": false,
     "start_time": "2022-07-07T03:29:03.395859",
     "status": "completed"
    },
    "tags": []
   },
   "outputs": [],
   "source": [
    "import pandas as pd #data preprocessing\n",
    "import numpy as np #linear algebra\n",
    "import matplotlib.pyplot as plt\n",
    "import seaborn as sns"
   ]
  },
  {
   "cell_type": "code",
   "execution_count": 3,
   "id": "e9135dbe",
   "metadata": {
    "execution": {
     "iopub.execute_input": "2022-07-07T03:29:04.750679Z",
     "iopub.status.busy": "2022-07-07T03:29:04.750298Z",
     "iopub.status.idle": "2022-07-07T03:29:04.767019Z",
     "shell.execute_reply": "2022-07-07T03:29:04.765671Z"
    },
    "papermill": {
     "duration": 0.024726,
     "end_time": "2022-07-07T03:29:04.769489",
     "exception": false,
     "start_time": "2022-07-07T03:29:04.744763",
     "status": "completed"
    },
    "tags": []
   },
   "outputs": [],
   "source": [
    "df = pd.read_csv('../input/social-network-ads/Social_Network_Ads.csv')"
   ]
  },
  {
   "cell_type": "code",
   "execution_count": 4,
   "id": "942f4fb1",
   "metadata": {
    "execution": {
     "iopub.execute_input": "2022-07-07T03:29:04.780012Z",
     "iopub.status.busy": "2022-07-07T03:29:04.778776Z",
     "iopub.status.idle": "2022-07-07T03:29:04.804747Z",
     "shell.execute_reply": "2022-07-07T03:29:04.803535Z"
    },
    "papermill": {
     "duration": 0.033743,
     "end_time": "2022-07-07T03:29:04.807210",
     "exception": false,
     "start_time": "2022-07-07T03:29:04.773467",
     "status": "completed"
    },
    "tags": []
   },
   "outputs": [
    {
     "data": {
      "text/html": [
       "<div>\n",
       "<style scoped>\n",
       "    .dataframe tbody tr th:only-of-type {\n",
       "        vertical-align: middle;\n",
       "    }\n",
       "\n",
       "    .dataframe tbody tr th {\n",
       "        vertical-align: top;\n",
       "    }\n",
       "\n",
       "    .dataframe thead th {\n",
       "        text-align: right;\n",
       "    }\n",
       "</style>\n",
       "<table border=\"1\" class=\"dataframe\">\n",
       "  <thead>\n",
       "    <tr style=\"text-align: right;\">\n",
       "      <th></th>\n",
       "      <th>Age</th>\n",
       "      <th>EstimatedSalary</th>\n",
       "      <th>Purchased</th>\n",
       "    </tr>\n",
       "  </thead>\n",
       "  <tbody>\n",
       "    <tr>\n",
       "      <th>174</th>\n",
       "      <td>34</td>\n",
       "      <td>72000</td>\n",
       "      <td>0</td>\n",
       "    </tr>\n",
       "    <tr>\n",
       "      <th>175</th>\n",
       "      <td>23</td>\n",
       "      <td>28000</td>\n",
       "      <td>0</td>\n",
       "    </tr>\n",
       "    <tr>\n",
       "      <th>398</th>\n",
       "      <td>36</td>\n",
       "      <td>33000</td>\n",
       "      <td>0</td>\n",
       "    </tr>\n",
       "    <tr>\n",
       "      <th>333</th>\n",
       "      <td>40</td>\n",
       "      <td>65000</td>\n",
       "      <td>0</td>\n",
       "    </tr>\n",
       "    <tr>\n",
       "      <th>335</th>\n",
       "      <td>36</td>\n",
       "      <td>54000</td>\n",
       "      <td>0</td>\n",
       "    </tr>\n",
       "  </tbody>\n",
       "</table>\n",
       "</div>"
      ],
      "text/plain": [
       "     Age  EstimatedSalary  Purchased\n",
       "174   34            72000          0\n",
       "175   23            28000          0\n",
       "398   36            33000          0\n",
       "333   40            65000          0\n",
       "335   36            54000          0"
      ]
     },
     "execution_count": 4,
     "metadata": {},
     "output_type": "execute_result"
    }
   ],
   "source": [
    "df.sample(5)"
   ]
  },
  {
   "cell_type": "markdown",
   "id": "2a7fc2e2",
   "metadata": {
    "papermill": {
     "duration": 0.004207,
     "end_time": "2022-07-07T03:29:04.815625",
     "exception": false,
     "start_time": "2022-07-07T03:29:04.811418",
     "status": "completed"
    },
    "tags": []
   },
   "source": [
    "*Here we can see the Age and EstimatedSalary feature are not standardized*"
   ]
  },
  {
   "cell_type": "markdown",
   "id": "87be6ac4",
   "metadata": {
    "papermill": {
     "duration": 0.003819,
     "end_time": "2022-07-07T03:29:04.823642",
     "exception": false,
     "start_time": "2022-07-07T03:29:04.819823",
     "status": "completed"
    },
    "tags": []
   },
   "source": [
    "**0.1. Train Test Split** \n"
   ]
  },
  {
   "cell_type": "code",
   "execution_count": 5,
   "id": "225834e9",
   "metadata": {
    "execution": {
     "iopub.execute_input": "2022-07-07T03:29:04.834057Z",
     "iopub.status.busy": "2022-07-07T03:29:04.833640Z",
     "iopub.status.idle": "2022-07-07T03:29:05.070147Z",
     "shell.execute_reply": "2022-07-07T03:29:05.068572Z"
    },
    "papermill": {
     "duration": 0.245526,
     "end_time": "2022-07-07T03:29:05.073570",
     "exception": false,
     "start_time": "2022-07-07T03:29:04.828044",
     "status": "completed"
    },
    "tags": []
   },
   "outputs": [
    {
     "data": {
      "text/plain": [
       "((280, 2), (120,))"
      ]
     },
     "execution_count": 5,
     "metadata": {},
     "output_type": "execute_result"
    }
   ],
   "source": [
    "from sklearn.model_selection import train_test_split\n",
    "X_train,  X_test, y_train, y_test =train_test_split(df.drop(['Purchased'],axis=1),df['Purchased'],test_size =0.3,random_state=0)\n",
    "X_train.shape, y_test.shape"
   ]
  },
  {
   "cell_type": "markdown",
   "id": "9c062462",
   "metadata": {
    "papermill": {
     "duration": 0.004353,
     "end_time": "2022-07-07T03:29:05.082194",
     "exception": false,
     "start_time": "2022-07-07T03:29:05.077841",
     "status": "completed"
    },
    "tags": []
   },
   "source": [
    "**1. StandardScaler**"
   ]
  },
  {
   "cell_type": "code",
   "execution_count": 6,
   "id": "e5296c7c",
   "metadata": {
    "execution": {
     "iopub.execute_input": "2022-07-07T03:29:05.092724Z",
     "iopub.status.busy": "2022-07-07T03:29:05.092308Z",
     "iopub.status.idle": "2022-07-07T03:29:05.105486Z",
     "shell.execute_reply": "2022-07-07T03:29:05.104497Z"
    },
    "papermill": {
     "duration": 0.021326,
     "end_time": "2022-07-07T03:29:05.107898",
     "exception": false,
     "start_time": "2022-07-07T03:29:05.086572",
     "status": "completed"
    },
    "tags": []
   },
   "outputs": [],
   "source": [
    "from sklearn.preprocessing import StandardScaler\n",
    "scaler = StandardScaler()\n",
    "#fit the scaler to the train set , it will learn the parameters\n",
    "scaler.fit(X_train)\n",
    "\n",
    "# transoforming the train and test sets\n",
    "\n",
    "X_train_scaled = scaler.transform(X_train)\n",
    "X_test_scaled = scaler.transform(X_test)\n"
   ]
  },
  {
   "cell_type": "code",
   "execution_count": 7,
   "id": "4c29c2dd",
   "metadata": {
    "execution": {
     "iopub.execute_input": "2022-07-07T03:29:05.119593Z",
     "iopub.status.busy": "2022-07-07T03:29:05.118566Z",
     "iopub.status.idle": "2022-07-07T03:29:05.126315Z",
     "shell.execute_reply": "2022-07-07T03:29:05.125122Z"
    },
    "papermill": {
     "duration": 0.016799,
     "end_time": "2022-07-07T03:29:05.129219",
     "exception": false,
     "start_time": "2022-07-07T03:29:05.112420",
     "status": "completed"
    },
    "tags": []
   },
   "outputs": [
    {
     "data": {
      "text/plain": [
       "array([3.78642857e+01, 6.98071429e+04])"
      ]
     },
     "execution_count": 7,
     "metadata": {},
     "output_type": "execute_result"
    }
   ],
   "source": [
    "scaler.mean_\n",
    "#numpy array"
   ]
  },
  {
   "cell_type": "code",
   "execution_count": 8,
   "id": "136701a9",
   "metadata": {
    "execution": {
     "iopub.execute_input": "2022-07-07T03:29:05.141181Z",
     "iopub.status.busy": "2022-07-07T03:29:05.140523Z",
     "iopub.status.idle": "2022-07-07T03:29:05.146971Z",
     "shell.execute_reply": "2022-07-07T03:29:05.145773Z"
    },
    "papermill": {
     "duration": 0.014143,
     "end_time": "2022-07-07T03:29:05.149050",
     "exception": false,
     "start_time": "2022-07-07T03:29:05.134907",
     "status": "completed"
    },
    "tags": []
   },
   "outputs": [],
   "source": [
    "# converting a numpy array to a dataframe\n",
    "X_train_scaled = pd.DataFrame(X_train_scaled , columns = X_train.columns)\n",
    "X_test_scaled= pd.DataFrame(X_test_scaled,columns= X_test.columns)\n"
   ]
  },
  {
   "cell_type": "markdown",
   "id": "0736beec",
   "metadata": {
    "papermill": {
     "duration": 0.00423,
     "end_time": "2022-07-07T03:29:05.157404",
     "exception": false,
     "start_time": "2022-07-07T03:29:05.153174",
     "status": "completed"
    },
    "tags": []
   },
   "source": [
    "*The property could hence be checked here mean =0, and the standard deviation =1*"
   ]
  },
  {
   "cell_type": "code",
   "execution_count": 9,
   "id": "1ca86f75",
   "metadata": {
    "execution": {
     "iopub.execute_input": "2022-07-07T03:29:05.168071Z",
     "iopub.status.busy": "2022-07-07T03:29:05.167647Z",
     "iopub.status.idle": "2022-07-07T03:29:05.193783Z",
     "shell.execute_reply": "2022-07-07T03:29:05.192533Z"
    },
    "papermill": {
     "duration": 0.034287,
     "end_time": "2022-07-07T03:29:05.196173",
     "exception": false,
     "start_time": "2022-07-07T03:29:05.161886",
     "status": "completed"
    },
    "tags": []
   },
   "outputs": [
    {
     "data": {
      "text/html": [
       "<div>\n",
       "<style scoped>\n",
       "    .dataframe tbody tr th:only-of-type {\n",
       "        vertical-align: middle;\n",
       "    }\n",
       "\n",
       "    .dataframe tbody tr th {\n",
       "        vertical-align: top;\n",
       "    }\n",
       "\n",
       "    .dataframe thead th {\n",
       "        text-align: right;\n",
       "    }\n",
       "</style>\n",
       "<table border=\"1\" class=\"dataframe\">\n",
       "  <thead>\n",
       "    <tr style=\"text-align: right;\">\n",
       "      <th></th>\n",
       "      <th>Age</th>\n",
       "      <th>EstimatedSalary</th>\n",
       "    </tr>\n",
       "  </thead>\n",
       "  <tbody>\n",
       "    <tr>\n",
       "      <th>count</th>\n",
       "      <td>280.0</td>\n",
       "      <td>280.0</td>\n",
       "    </tr>\n",
       "    <tr>\n",
       "      <th>mean</th>\n",
       "      <td>0.0</td>\n",
       "      <td>0.0</td>\n",
       "    </tr>\n",
       "    <tr>\n",
       "      <th>std</th>\n",
       "      <td>1.0</td>\n",
       "      <td>1.0</td>\n",
       "    </tr>\n",
       "    <tr>\n",
       "      <th>min</th>\n",
       "      <td>-1.9</td>\n",
       "      <td>-1.6</td>\n",
       "    </tr>\n",
       "    <tr>\n",
       "      <th>25%</th>\n",
       "      <td>-0.8</td>\n",
       "      <td>-0.8</td>\n",
       "    </tr>\n",
       "    <tr>\n",
       "      <th>50%</th>\n",
       "      <td>-0.1</td>\n",
       "      <td>0.0</td>\n",
       "    </tr>\n",
       "    <tr>\n",
       "      <th>75%</th>\n",
       "      <td>0.8</td>\n",
       "      <td>0.5</td>\n",
       "    </tr>\n",
       "    <tr>\n",
       "      <th>max</th>\n",
       "      <td>2.2</td>\n",
       "      <td>2.3</td>\n",
       "    </tr>\n",
       "  </tbody>\n",
       "</table>\n",
       "</div>"
      ],
      "text/plain": [
       "         Age  EstimatedSalary\n",
       "count  280.0            280.0\n",
       "mean     0.0              0.0\n",
       "std      1.0              1.0\n",
       "min     -1.9             -1.6\n",
       "25%     -0.8             -0.8\n",
       "50%     -0.1              0.0\n",
       "75%      0.8              0.5\n",
       "max      2.2              2.3"
      ]
     },
     "execution_count": 9,
     "metadata": {},
     "output_type": "execute_result"
    }
   ],
   "source": [
    "np.round(X_train_scaled.describe(),1)"
   ]
  },
  {
   "cell_type": "code",
   "execution_count": 10,
   "id": "f9e30cd5",
   "metadata": {
    "execution": {
     "iopub.execute_input": "2022-07-07T03:29:05.207048Z",
     "iopub.status.busy": "2022-07-07T03:29:05.206622Z",
     "iopub.status.idle": "2022-07-07T03:29:05.229013Z",
     "shell.execute_reply": "2022-07-07T03:29:05.227178Z"
    },
    "papermill": {
     "duration": 0.031957,
     "end_time": "2022-07-07T03:29:05.232582",
     "exception": false,
     "start_time": "2022-07-07T03:29:05.200625",
     "status": "completed"
    },
    "tags": []
   },
   "outputs": [
    {
     "data": {
      "text/html": [
       "<div>\n",
       "<style scoped>\n",
       "    .dataframe tbody tr th:only-of-type {\n",
       "        vertical-align: middle;\n",
       "    }\n",
       "\n",
       "    .dataframe tbody tr th {\n",
       "        vertical-align: top;\n",
       "    }\n",
       "\n",
       "    .dataframe thead th {\n",
       "        text-align: right;\n",
       "    }\n",
       "</style>\n",
       "<table border=\"1\" class=\"dataframe\">\n",
       "  <thead>\n",
       "    <tr style=\"text-align: right;\">\n",
       "      <th></th>\n",
       "      <th>Age</th>\n",
       "      <th>EstimatedSalary</th>\n",
       "    </tr>\n",
       "  </thead>\n",
       "  <tbody>\n",
       "    <tr>\n",
       "      <th>count</th>\n",
       "      <td>280.0</td>\n",
       "      <td>280.0</td>\n",
       "    </tr>\n",
       "    <tr>\n",
       "      <th>mean</th>\n",
       "      <td>37.9</td>\n",
       "      <td>69807.1</td>\n",
       "    </tr>\n",
       "    <tr>\n",
       "      <th>std</th>\n",
       "      <td>10.2</td>\n",
       "      <td>34641.2</td>\n",
       "    </tr>\n",
       "    <tr>\n",
       "      <th>min</th>\n",
       "      <td>18.0</td>\n",
       "      <td>15000.0</td>\n",
       "    </tr>\n",
       "    <tr>\n",
       "      <th>25%</th>\n",
       "      <td>30.0</td>\n",
       "      <td>43000.0</td>\n",
       "    </tr>\n",
       "    <tr>\n",
       "      <th>50%</th>\n",
       "      <td>37.0</td>\n",
       "      <td>70500.0</td>\n",
       "    </tr>\n",
       "    <tr>\n",
       "      <th>75%</th>\n",
       "      <td>46.0</td>\n",
       "      <td>88000.0</td>\n",
       "    </tr>\n",
       "    <tr>\n",
       "      <th>max</th>\n",
       "      <td>60.0</td>\n",
       "      <td>150000.0</td>\n",
       "    </tr>\n",
       "  </tbody>\n",
       "</table>\n",
       "</div>"
      ],
      "text/plain": [
       "         Age  EstimatedSalary\n",
       "count  280.0            280.0\n",
       "mean    37.9          69807.1\n",
       "std     10.2          34641.2\n",
       "min     18.0          15000.0\n",
       "25%     30.0          43000.0\n",
       "50%     37.0          70500.0\n",
       "75%     46.0          88000.0\n",
       "max     60.0         150000.0"
      ]
     },
     "execution_count": 10,
     "metadata": {},
     "output_type": "execute_result"
    }
   ],
   "source": [
    "np.round(X_train.describe(),1)"
   ]
  },
  {
   "cell_type": "markdown",
   "id": "afee6215",
   "metadata": {
    "papermill": {
     "duration": 0.004753,
     "end_time": "2022-07-07T03:29:05.242789",
     "exception": false,
     "start_time": "2022-07-07T03:29:05.238036",
     "status": "completed"
    },
    "tags": []
   },
   "source": [
    "**2. Effect of Scaling**"
   ]
  },
  {
   "cell_type": "code",
   "execution_count": 11,
   "id": "e1e846fb",
   "metadata": {
    "execution": {
     "iopub.execute_input": "2022-07-07T03:29:05.255407Z",
     "iopub.status.busy": "2022-07-07T03:29:05.255026Z",
     "iopub.status.idle": "2022-07-07T03:29:05.646087Z",
     "shell.execute_reply": "2022-07-07T03:29:05.644091Z"
    },
    "papermill": {
     "duration": 0.400532,
     "end_time": "2022-07-07T03:29:05.648909",
     "exception": false,
     "start_time": "2022-07-07T03:29:05.248377",
     "status": "completed"
    },
    "tags": []
   },
   "outputs": [
    {
     "data": {
      "image/png": "[encoded data removed]",
      "text/plain": [
       "<Figure size 864x360 with 2 Axes>"
      ]
     },
     "metadata": {
      "needs_background": "light"
     },
     "output_type": "display_data"
    }
   ],
   "source": [
    "fig, (ax1,ax2) = plt.subplots(ncols=2,figsize =(12,5))\n",
    "#before scaling\n",
    "ax1.set_title('Salary distribution without scaling')\n",
    "sns.kdeplot(X_train['EstimatedSalary'],ax=ax1)\n",
    "\n",
    "#after scaling\n",
    "ax2.set_title('Salary distribution after scaling')\n",
    "sns.kdeplot(X_train_scaled['EstimatedSalary'],ax=ax2)\n",
    "plt.show()"
   ]
  },
  {
   "cell_type": "markdown",
   "id": "9ef7ae36",
   "metadata": {
    "papermill": {
     "duration": 0.005034,
     "end_time": "2022-07-07T03:29:05.660645",
     "exception": false,
     "start_time": "2022-07-07T03:29:05.655611",
     "status": "completed"
    },
    "tags": []
   },
   "source": [
    "**4. Why is scaling important?**"
   ]
  },
  {
   "cell_type": "code",
   "execution_count": null,
   "id": "9e557385",
   "metadata": {
    "papermill": {
     "duration": 0.005173,
     "end_time": "2022-07-07T03:29:05.671724",
     "exception": false,
     "start_time": "2022-07-07T03:29:05.666551",
     "status": "completed"
    },
    "tags": []
   },
   "outputs": [],
   "source": []
  }
 ],
 "metadata": {
  "kernelspec": {
   "display_name": "Python 3",
   "language": "python",
   "name": "python3"
  },
  "language_info": {
   "codemirror_mode": {
    "name": "ipython",
    "version": 3
   },
   "file_extension": ".py",
   "mimetype": "text/x-python",
   "name": "python",
   "nbconvert_exporter": "python",
   "pygments_lexer": "ipython3",
   "version": "3.7.12"
  },
  "papermill": {
   "default_parameters": {},
   "duration": 14.674563,
   "end_time": "2022-07-07T03:29:06.500075",
   "environment_variables": {},
   "exception": null,
   "input_path": "__notebook__.ipynb",
   "output_path": "__notebook__.ipynb",
   "parameters": {},
   "start_time": "2022-07-07T03:28:51.825512",
   "version": "2.3.4"
  }
 },
 "nbformat": 4,
 "nbformat_minor": 5
}
