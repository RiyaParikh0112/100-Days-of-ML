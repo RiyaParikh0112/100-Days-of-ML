{
 "cells": [
  {
   "cell_type": "code",
   "execution_count": 1,
   "id": "b2f228e3",
   "metadata": {
    "_cell_guid": "b1076dfc-b9ad-4769-8c92-a6c4dae69d19",
    "_uuid": "8f2839f25d086af736a60e9eeb907d3b93b6e0e5",
    "execution": {
     "iopub.execute_input": "2022-07-07T03:03:28.697096Z",
     "iopub.status.busy": "2022-07-07T03:03:28.696441Z",
     "iopub.status.idle": "2022-07-07T03:03:28.718853Z",
     "shell.execute_reply": "2022-07-07T03:03:28.717695Z"
    },
    "papermill": {
     "duration": 0.031616,
     "end_time": "2022-07-07T03:03:28.721698",
     "exception": false,
     "start_time": "2022-07-07T03:03:28.690082",
     "status": "completed"
    },
    "tags": []
   },
   "outputs": [
    {
     "name": "stdout",
     "output_type": "stream",
     "text": [
      "/kaggle/input/social-network-ads/Social_Network_Ads.csv\n"
     ]
    }
   ],
   "source": [
    "# This Python 3 environment comes with many helpful analytics libraries installed\n",
    "# It is defined by the kaggle/python Docker image: https://github.com/kaggle/docker-python\n",
    "# For example, here's several helpful packages to load\n",
    "\n",
    "import numpy as np # linear algebra\n",
    "import pandas as pd # data processing, CSV file I/O (e.g. pd.read_csv)\n",
    "\n",
    "# Input data files are available in the read-only \"../input/\" directory\n",
    "# For example, running this (by clicking run or pressing Shift+Enter) will list all files under the input directory\n",
    "\n",
    "import os\n",
    "for dirname, _, filenames in os.walk('/kaggle/input'):\n",
    "    for filename in filenames:\n",
    "        print(os.path.join(dirname, filename))\n",
    "\n",
    "# You can write up to 20GB to the current directory (/kaggle/working/) that gets preserved as output when you create a version using \"Save & Run All\" \n",
    "# You can also write temporary files to /kaggle/temp/, but they won't be saved outside of the current session"
   ]
  },
  {
   "cell_type": "code",
   "execution_count": 2,
   "id": "b4bd7c74",
   "metadata": {
    "execution": {
     "iopub.execute_input": "2022-07-07T03:03:28.730803Z",
     "iopub.status.busy": "2022-07-07T03:03:28.730439Z",
     "iopub.status.idle": "2022-07-07T03:03:29.900844Z",
     "shell.execute_reply": "2022-07-07T03:03:29.899600Z"
    },
    "papermill": {
     "duration": 1.178079,
     "end_time": "2022-07-07T03:03:29.903700",
     "exception": false,
     "start_time": "2022-07-07T03:03:28.725621",
     "status": "completed"
    },
    "tags": []
   },
   "outputs": [],
   "source": [
    "import pandas as pd #data preprocessing\n",
    "import numpy as np #linear algebra\n",
    "import matplotlib.pyplot as plt\n",
    "import seaborn as sns"
   ]
  },
  {
   "cell_type": "code",
   "execution_count": 3,
   "id": "350899c8",
   "metadata": {
    "execution": {
     "iopub.execute_input": "2022-07-07T03:03:29.913523Z",
     "iopub.status.busy": "2022-07-07T03:03:29.912738Z",
     "iopub.status.idle": "2022-07-07T03:03:29.925089Z",
     "shell.execute_reply": "2022-07-07T03:03:29.924047Z"
    },
    "papermill": {
     "duration": 0.019942,
     "end_time": "2022-07-07T03:03:29.927676",
     "exception": false,
     "start_time": "2022-07-07T03:03:29.907734",
     "status": "completed"
    },
    "tags": []
   },
   "outputs": [],
   "source": [
    "df = pd.read_csv('../input/social-network-ads/Social_Network_Ads.csv')"
   ]
  },
  {
   "cell_type": "code",
   "execution_count": 4,
   "id": "c50956d9",
   "metadata": {
    "execution": {
     "iopub.execute_input": "2022-07-07T03:03:29.936996Z",
     "iopub.status.busy": "2022-07-07T03:03:29.936324Z",
     "iopub.status.idle": "2022-07-07T03:03:29.958333Z",
     "shell.execute_reply": "2022-07-07T03:03:29.957272Z"
    },
    "papermill": {
     "duration": 0.03004,
     "end_time": "2022-07-07T03:03:29.961467",
     "exception": false,
     "start_time": "2022-07-07T03:03:29.931427",
     "status": "completed"
    },
    "tags": []
   },
   "outputs": [
    {
     "data": {
      "text/html": [
       "<div>\n",
       "<style scoped>\n",
       "    .dataframe tbody tr th:only-of-type {\n",
       "        vertical-align: middle;\n",
       "    }\n",
       "\n",
       "    .dataframe tbody tr th {\n",
       "        vertical-align: top;\n",
       "    }\n",
       "\n",
       "    .dataframe thead th {\n",
       "        text-align: right;\n",
       "    }\n",
       "</style>\n",
       "<table border=\"1\" class=\"dataframe\">\n",
       "  <thead>\n",
       "    <tr style=\"text-align: right;\">\n",
       "      <th></th>\n",
       "      <th>Age</th>\n",
       "      <th>EstimatedSalary</th>\n",
       "      <th>Purchased</th>\n",
       "    </tr>\n",
       "  </thead>\n",
       "  <tbody>\n",
       "    <tr>\n",
       "      <th>272</th>\n",
       "      <td>60</td>\n",
       "      <td>42000</td>\n",
       "      <td>1</td>\n",
       "    </tr>\n",
       "    <tr>\n",
       "      <th>55</th>\n",
       "      <td>24</td>\n",
       "      <td>55000</td>\n",
       "      <td>0</td>\n",
       "    </tr>\n",
       "    <tr>\n",
       "      <th>321</th>\n",
       "      <td>53</td>\n",
       "      <td>82000</td>\n",
       "      <td>1</td>\n",
       "    </tr>\n",
       "    <tr>\n",
       "      <th>137</th>\n",
       "      <td>30</td>\n",
       "      <td>107000</td>\n",
       "      <td>1</td>\n",
       "    </tr>\n",
       "    <tr>\n",
       "      <th>6</th>\n",
       "      <td>27</td>\n",
       "      <td>84000</td>\n",
       "      <td>0</td>\n",
       "    </tr>\n",
       "  </tbody>\n",
       "</table>\n",
       "</div>"
      ],
      "text/plain": [
       "     Age  EstimatedSalary  Purchased\n",
       "272   60            42000          1\n",
       "55    24            55000          0\n",
       "321   53            82000          1\n",
       "137   30           107000          1\n",
       "6     27            84000          0"
      ]
     },
     "execution_count": 4,
     "metadata": {},
     "output_type": "execute_result"
    }
   ],
   "source": [
    "df.sample(5)"
   ]
  },
  {
   "cell_type": "markdown",
   "id": "72e7a2b8",
   "metadata": {
    "papermill": {
     "duration": 0.003725,
     "end_time": "2022-07-07T03:03:29.969336",
     "exception": false,
     "start_time": "2022-07-07T03:03:29.965611",
     "status": "completed"
    },
    "tags": []
   },
   "source": [
    "*Here we can see the Age and EstimatedSalary feature are not standardized*"
   ]
  },
  {
   "cell_type": "markdown",
   "id": "88f01d82",
   "metadata": {
    "papermill": {
     "duration": 0.003637,
     "end_time": "2022-07-07T03:03:29.976875",
     "exception": false,
     "start_time": "2022-07-07T03:03:29.973238",
     "status": "completed"
    },
    "tags": []
   },
   "source": [
    "**0.1. Train Test Split** \n"
   ]
  },
  {
   "cell_type": "code",
   "execution_count": 5,
   "id": "2289cc9e",
   "metadata": {
    "execution": {
     "iopub.execute_input": "2022-07-07T03:03:29.986728Z",
     "iopub.status.busy": "2022-07-07T03:03:29.986028Z",
     "iopub.status.idle": "2022-07-07T03:03:30.219883Z",
     "shell.execute_reply": "2022-07-07T03:03:30.218770Z"
    },
    "papermill": {
     "duration": 0.241796,
     "end_time": "2022-07-07T03:03:30.222490",
     "exception": false,
     "start_time": "2022-07-07T03:03:29.980694",
     "status": "completed"
    },
    "tags": []
   },
   "outputs": [
    {
     "data": {
      "text/plain": [
       "((280, 2), (120,))"
      ]
     },
     "execution_count": 5,
     "metadata": {},
     "output_type": "execute_result"
    }
   ],
   "source": [
    "from sklearn.model_selection import train_test_split\n",
    "X_train,  X_test, y_train, y_test =train_test_split(df.drop(['Purchased'],axis=1),df['Purchased'],test_size =0.3,random_state=0)\n",
    "X_train.shape, y_test.shape"
   ]
  },
  {
   "cell_type": "markdown",
   "id": "522cc712",
   "metadata": {
    "papermill": {
     "duration": 0.003775,
     "end_time": "2022-07-07T03:03:30.230337",
     "exception": false,
     "start_time": "2022-07-07T03:03:30.226562",
     "status": "completed"
    },
    "tags": []
   },
   "source": [
    "**1. StandardScaler**"
   ]
  },
  {
   "cell_type": "code",
   "execution_count": 6,
   "id": "eebf2e26",
   "metadata": {
    "execution": {
     "iopub.execute_input": "2022-07-07T03:03:30.240178Z",
     "iopub.status.busy": "2022-07-07T03:03:30.239710Z",
     "iopub.status.idle": "2022-07-07T03:03:30.251003Z",
     "shell.execute_reply": "2022-07-07T03:03:30.250037Z"
    },
    "papermill": {
     "duration": 0.019059,
     "end_time": "2022-07-07T03:03:30.253375",
     "exception": false,
     "start_time": "2022-07-07T03:03:30.234316",
     "status": "completed"
    },
    "tags": []
   },
   "outputs": [],
   "source": [
    "from sklearn.preprocessing import StandardScaler\n",
    "scaler = StandardScaler()\n",
    "#fit the scaler to the trainset , it will learn the parameters\n",
    "scaler.fit(X_train)\n",
    "\n",
    "# transoforming the train and test sets\n",
    "\n",
    "X_train_scaled = scaler.transform(X_train)\n",
    "X_test_scaled = scaler.transform(X_test)\n"
   ]
  },
  {
   "cell_type": "code",
   "execution_count": 7,
   "id": "b43a2bc3",
   "metadata": {
    "execution": {
     "iopub.execute_input": "2022-07-07T03:03:30.263547Z",
     "iopub.status.busy": "2022-07-07T03:03:30.262783Z",
     "iopub.status.idle": "2022-07-07T03:03:30.269880Z",
     "shell.execute_reply": "2022-07-07T03:03:30.269020Z"
    },
    "papermill": {
     "duration": 0.014617,
     "end_time": "2022-07-07T03:03:30.272046",
     "exception": false,
     "start_time": "2022-07-07T03:03:30.257429",
     "status": "completed"
    },
    "tags": []
   },
   "outputs": [
    {
     "data": {
      "text/plain": [
       "array([3.78642857e+01, 6.98071429e+04])"
      ]
     },
     "execution_count": 7,
     "metadata": {},
     "output_type": "execute_result"
    }
   ],
   "source": [
    "scaler.mean_"
   ]
  },
  {
   "cell_type": "code",
   "execution_count": null,
   "id": "9ae0e083",
   "metadata": {
    "papermill": {
     "duration": 0.003704,
     "end_time": "2022-07-07T03:03:30.279906",
     "exception": false,
     "start_time": "2022-07-07T03:03:30.276202",
     "status": "completed"
    },
    "tags": []
   },
   "outputs": [],
   "source": []
  }
 ],
 "metadata": {
  "kernelspec": {
   "display_name": "Python 3",
   "language": "python",
   "name": "python3"
  },
  "language_info": {
   "codemirror_mode": {
    "name": "ipython",
    "version": 3
   },
   "file_extension": ".py",
   "mimetype": "text/x-python",
   "name": "python",
   "nbconvert_exporter": "python",
   "pygments_lexer": "ipython3",
   "version": "3.7.12"
  },
  "papermill": {
   "default_parameters": {},
   "duration": 12.537574,
   "end_time": "2022-07-07T03:03:31.006451",
   "environment_variables": {},
   "exception": null,
   "input_path": "__notebook__.ipynb",
   "output_path": "__notebook__.ipynb",
   "parameters": {},
   "start_time": "2022-07-07T03:03:18.468877",
   "version": "2.3.4"
  }
 },
 "nbformat": 4,
 "nbformat_minor": 5
}
