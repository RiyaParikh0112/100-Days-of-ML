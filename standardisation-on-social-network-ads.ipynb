{
 "cells": [
  {
   "cell_type": "code",
   "execution_count": 1,
   "id": "ffbf8566",
   "metadata": {
    "_cell_guid": "b1076dfc-b9ad-4769-8c92-a6c4dae69d19",
    "_uuid": "8f2839f25d086af736a60e9eeb907d3b93b6e0e5",
    "execution": {
     "iopub.execute_input": "2022-07-07T04:28:28.773553Z",
     "iopub.status.busy": "2022-07-07T04:28:28.772968Z",
     "iopub.status.idle": "2022-07-07T04:28:28.797367Z",
     "shell.execute_reply": "2022-07-07T04:28:28.796219Z"
    },
    "papermill": {
     "duration": 0.037698,
     "end_time": "2022-07-07T04:28:28.799988",
     "exception": false,
     "start_time": "2022-07-07T04:28:28.762290",
     "status": "completed"
    },
    "tags": []
   },
   "outputs": [
    {
     "name": "stdout",
     "output_type": "stream",
     "text": [
      "/kaggle/input/social-network-ads/Social_Network_Ads.csv\n"
     ]
    }
   ],
   "source": [
    "# This Python 3 environment comes with many helpful analytics libraries installed\n",
    "# It is defined by the kaggle/python Docker image: https://github.com/kaggle/docker-python\n",
    "# For example, here's several helpful packages to load\n",
    "\n",
    "import numpy as np # linear algebra\n",
    "import pandas as pd # data processing, CSV file I/O (e.g. pd.read_csv)\n",
    "\n",
    "# Input data files are available in the read-only \"../input/\" directory\n",
    "# For example, running this (by clicking run or pressing Shift+Enter) will list all files under the input directory\n",
    "\n",
    "import os\n",
    "for dirname, _, filenames in os.walk('/kaggle/input'):\n",
    "    for filename in filenames:\n",
    "        print(os.path.join(dirname, filename))\n",
    "\n",
    "# You can write up to 20GB to the current directory (/kaggle/working/) that gets preserved as output when you create a version using \"Save & Run All\" \n",
    "# You can also write temporary files to /kaggle/temp/, but they won't be saved outside of the current session"
   ]
  },
  {
   "cell_type": "code",
   "execution_count": 2,
   "id": "ed191fe9",
   "metadata": {
    "execution": {
     "iopub.execute_input": "2022-07-07T04:28:28.816648Z",
     "iopub.status.busy": "2022-07-07T04:28:28.816173Z",
     "iopub.status.idle": "2022-07-07T04:28:30.052087Z",
     "shell.execute_reply": "2022-07-07T04:28:30.050783Z"
    },
    "papermill": {
     "duration": 1.247593,
     "end_time": "2022-07-07T04:28:30.055157",
     "exception": false,
     "start_time": "2022-07-07T04:28:28.807564",
     "status": "completed"
    },
    "tags": []
   },
   "outputs": [],
   "source": [
    "import pandas as pd #data preprocessing\n",
    "import numpy as np #linear algebra\n",
    "import matplotlib.pyplot as plt\n",
    "import seaborn as sns"
   ]
  },
  {
   "cell_type": "code",
   "execution_count": 3,
   "id": "ae2625bb",
   "metadata": {
    "execution": {
     "iopub.execute_input": "2022-07-07T04:28:30.072380Z",
     "iopub.status.busy": "2022-07-07T04:28:30.071851Z",
     "iopub.status.idle": "2022-07-07T04:28:30.088918Z",
     "shell.execute_reply": "2022-07-07T04:28:30.087506Z"
    },
    "papermill": {
     "duration": 0.029362,
     "end_time": "2022-07-07T04:28:30.092072",
     "exception": false,
     "start_time": "2022-07-07T04:28:30.062710",
     "status": "completed"
    },
    "tags": []
   },
   "outputs": [],
   "source": [
    "df = pd.read_csv('../input/social-network-ads/Social_Network_Ads.csv')"
   ]
  },
  {
   "cell_type": "code",
   "execution_count": 4,
   "id": "e376b2f4",
   "metadata": {
    "execution": {
     "iopub.execute_input": "2022-07-07T04:28:30.108315Z",
     "iopub.status.busy": "2022-07-07T04:28:30.107825Z",
     "iopub.status.idle": "2022-07-07T04:28:30.130013Z",
     "shell.execute_reply": "2022-07-07T04:28:30.128851Z"
    },
    "papermill": {
     "duration": 0.033351,
     "end_time": "2022-07-07T04:28:30.132714",
     "exception": false,
     "start_time": "2022-07-07T04:28:30.099363",
     "status": "completed"
    },
    "tags": []
   },
   "outputs": [
    {
     "data": {
      "text/html": [
       "<div>\n",
       "<style scoped>\n",
       "    .dataframe tbody tr th:only-of-type {\n",
       "        vertical-align: middle;\n",
       "    }\n",
       "\n",
       "    .dataframe tbody tr th {\n",
       "        vertical-align: top;\n",
       "    }\n",
       "\n",
       "    .dataframe thead th {\n",
       "        text-align: right;\n",
       "    }\n",
       "</style>\n",
       "<table border=\"1\" class=\"dataframe\">\n",
       "  <thead>\n",
       "    <tr style=\"text-align: right;\">\n",
       "      <th></th>\n",
       "      <th>Age</th>\n",
       "      <th>EstimatedSalary</th>\n",
       "      <th>Purchased</th>\n",
       "    </tr>\n",
       "  </thead>\n",
       "  <tbody>\n",
       "    <tr>\n",
       "      <th>35</th>\n",
       "      <td>35</td>\n",
       "      <td>27000</td>\n",
       "      <td>0</td>\n",
       "    </tr>\n",
       "    <tr>\n",
       "      <th>310</th>\n",
       "      <td>42</td>\n",
       "      <td>70000</td>\n",
       "      <td>0</td>\n",
       "    </tr>\n",
       "    <tr>\n",
       "      <th>285</th>\n",
       "      <td>37</td>\n",
       "      <td>93000</td>\n",
       "      <td>1</td>\n",
       "    </tr>\n",
       "    <tr>\n",
       "      <th>187</th>\n",
       "      <td>33</td>\n",
       "      <td>41000</td>\n",
       "      <td>0</td>\n",
       "    </tr>\n",
       "    <tr>\n",
       "      <th>50</th>\n",
       "      <td>24</td>\n",
       "      <td>32000</td>\n",
       "      <td>0</td>\n",
       "    </tr>\n",
       "  </tbody>\n",
       "</table>\n",
       "</div>"
      ],
      "text/plain": [
       "     Age  EstimatedSalary  Purchased\n",
       "35    35            27000          0\n",
       "310   42            70000          0\n",
       "285   37            93000          1\n",
       "187   33            41000          0\n",
       "50    24            32000          0"
      ]
     },
     "execution_count": 4,
     "metadata": {},
     "output_type": "execute_result"
    }
   ],
   "source": [
    "df.sample(5)"
   ]
  },
  {
   "cell_type": "markdown",
   "id": "dea616f2",
   "metadata": {
    "papermill": {
     "duration": 0.006781,
     "end_time": "2022-07-07T04:28:30.147381",
     "exception": false,
     "start_time": "2022-07-07T04:28:30.140600",
     "status": "completed"
    },
    "tags": []
   },
   "source": [
    "*Here we can see the Age and EstimatedSalary feature are not standardized*"
   ]
  },
  {
   "cell_type": "markdown",
   "id": "eb5f8195",
   "metadata": {
    "papermill": {
     "duration": 0.006851,
     "end_time": "2022-07-07T04:28:30.161482",
     "exception": false,
     "start_time": "2022-07-07T04:28:30.154631",
     "status": "completed"
    },
    "tags": []
   },
   "source": [
    "**0.1. Train Test Split** \n"
   ]
  },
  {
   "cell_type": "code",
   "execution_count": 5,
   "id": "aa06417e",
   "metadata": {
    "execution": {
     "iopub.execute_input": "2022-07-07T04:28:30.179319Z",
     "iopub.status.busy": "2022-07-07T04:28:30.178044Z",
     "iopub.status.idle": "2022-07-07T04:28:30.412120Z",
     "shell.execute_reply": "2022-07-07T04:28:30.410959Z"
    },
    "papermill": {
     "duration": 0.245426,
     "end_time": "2022-07-07T04:28:30.414592",
     "exception": false,
     "start_time": "2022-07-07T04:28:30.169166",
     "status": "completed"
    },
    "tags": []
   },
   "outputs": [
    {
     "data": {
      "text/plain": [
       "((280, 2), (120,))"
      ]
     },
     "execution_count": 5,
     "metadata": {},
     "output_type": "execute_result"
    }
   ],
   "source": [
    "from sklearn.model_selection import train_test_split\n",
    "X_train,  X_test, y_train, y_test =train_test_split(df.drop(['Purchased'],axis=1),df['Purchased'],test_size =0.3,random_state=0)\n",
    "X_train.shape, y_test.shape"
   ]
  },
  {
   "cell_type": "markdown",
   "id": "8a487031",
   "metadata": {
    "papermill": {
     "duration": 0.007095,
     "end_time": "2022-07-07T04:28:30.429008",
     "exception": false,
     "start_time": "2022-07-07T04:28:30.421913",
     "status": "completed"
    },
    "tags": []
   },
   "source": [
    "**1. StandardScaler**"
   ]
  },
  {
   "cell_type": "code",
   "execution_count": 6,
   "id": "f39f9163",
   "metadata": {
    "execution": {
     "iopub.execute_input": "2022-07-07T04:28:30.446489Z",
     "iopub.status.busy": "2022-07-07T04:28:30.445789Z",
     "iopub.status.idle": "2022-07-07T04:28:30.456252Z",
     "shell.execute_reply": "2022-07-07T04:28:30.455176Z"
    },
    "papermill": {
     "duration": 0.022263,
     "end_time": "2022-07-07T04:28:30.458552",
     "exception": false,
     "start_time": "2022-07-07T04:28:30.436289",
     "status": "completed"
    },
    "tags": []
   },
   "outputs": [],
   "source": [
    "from sklearn.preprocessing import StandardScaler\n",
    "scaler = StandardScaler()\n",
    "#fit the scaler to the train set , it will learn the parameters\n",
    "scaler.fit(X_train)\n",
    "\n",
    "# transoforming the train and test sets\n",
    "\n",
    "X_train_scaled = scaler.transform(X_train)\n",
    "X_test_scaled = scaler.transform(X_test)\n"
   ]
  },
  {
   "cell_type": "code",
   "execution_count": 7,
   "id": "35c591a3",
   "metadata": {
    "execution": {
     "iopub.execute_input": "2022-07-07T04:28:30.475439Z",
     "iopub.status.busy": "2022-07-07T04:28:30.474985Z",
     "iopub.status.idle": "2022-07-07T04:28:30.481966Z",
     "shell.execute_reply": "2022-07-07T04:28:30.481055Z"
    },
    "papermill": {
     "duration": 0.017631,
     "end_time": "2022-07-07T04:28:30.483925",
     "exception": false,
     "start_time": "2022-07-07T04:28:30.466294",
     "status": "completed"
    },
    "tags": []
   },
   "outputs": [
    {
     "data": {
      "text/plain": [
       "array([3.78642857e+01, 6.98071429e+04])"
      ]
     },
     "execution_count": 7,
     "metadata": {},
     "output_type": "execute_result"
    }
   ],
   "source": [
    "scaler.mean_\n",
    "#numpy array"
   ]
  },
  {
   "cell_type": "code",
   "execution_count": 8,
   "id": "aa37ff07",
   "metadata": {
    "execution": {
     "iopub.execute_input": "2022-07-07T04:28:30.500460Z",
     "iopub.status.busy": "2022-07-07T04:28:30.500019Z",
     "iopub.status.idle": "2022-07-07T04:28:30.505483Z",
     "shell.execute_reply": "2022-07-07T04:28:30.504378Z"
    },
    "papermill": {
     "duration": 0.01598,
     "end_time": "2022-07-07T04:28:30.507332",
     "exception": false,
     "start_time": "2022-07-07T04:28:30.491352",
     "status": "completed"
    },
    "tags": []
   },
   "outputs": [],
   "source": [
    "# converting a numpy array to a dataframe\n",
    "X_train_scaled = pd.DataFrame(X_train_scaled , columns = X_train.columns)\n",
    "X_test_scaled= pd.DataFrame(X_test_scaled,columns= X_test.columns)\n"
   ]
  },
  {
   "cell_type": "markdown",
   "id": "1270e5cc",
   "metadata": {
    "papermill": {
     "duration": 0.007442,
     "end_time": "2022-07-07T04:28:30.522274",
     "exception": false,
     "start_time": "2022-07-07T04:28:30.514832",
     "status": "completed"
    },
    "tags": []
   },
   "source": [
    "*The property could hence be checked here mean =0, and the standard deviation =1*"
   ]
  },
  {
   "cell_type": "code",
   "execution_count": 9,
   "id": "4da529da",
   "metadata": {
    "execution": {
     "iopub.execute_input": "2022-07-07T04:28:30.539730Z",
     "iopub.status.busy": "2022-07-07T04:28:30.538498Z",
     "iopub.status.idle": "2022-07-07T04:28:30.566490Z",
     "shell.execute_reply": "2022-07-07T04:28:30.565222Z"
    },
    "papermill": {
     "duration": 0.039227,
     "end_time": "2022-07-07T04:28:30.568812",
     "exception": false,
     "start_time": "2022-07-07T04:28:30.529585",
     "status": "completed"
    },
    "tags": []
   },
   "outputs": [
    {
     "data": {
      "text/html": [
       "<div>\n",
       "<style scoped>\n",
       "    .dataframe tbody tr th:only-of-type {\n",
       "        vertical-align: middle;\n",
       "    }\n",
       "\n",
       "    .dataframe tbody tr th {\n",
       "        vertical-align: top;\n",
       "    }\n",
       "\n",
       "    .dataframe thead th {\n",
       "        text-align: right;\n",
       "    }\n",
       "</style>\n",
       "<table border=\"1\" class=\"dataframe\">\n",
       "  <thead>\n",
       "    <tr style=\"text-align: right;\">\n",
       "      <th></th>\n",
       "      <th>Age</th>\n",
       "      <th>EstimatedSalary</th>\n",
       "    </tr>\n",
       "  </thead>\n",
       "  <tbody>\n",
       "    <tr>\n",
       "      <th>count</th>\n",
       "      <td>280.0</td>\n",
       "      <td>280.0</td>\n",
       "    </tr>\n",
       "    <tr>\n",
       "      <th>mean</th>\n",
       "      <td>0.0</td>\n",
       "      <td>0.0</td>\n",
       "    </tr>\n",
       "    <tr>\n",
       "      <th>std</th>\n",
       "      <td>1.0</td>\n",
       "      <td>1.0</td>\n",
       "    </tr>\n",
       "    <tr>\n",
       "      <th>min</th>\n",
       "      <td>-1.9</td>\n",
       "      <td>-1.6</td>\n",
       "    </tr>\n",
       "    <tr>\n",
       "      <th>25%</th>\n",
       "      <td>-0.8</td>\n",
       "      <td>-0.8</td>\n",
       "    </tr>\n",
       "    <tr>\n",
       "      <th>50%</th>\n",
       "      <td>-0.1</td>\n",
       "      <td>0.0</td>\n",
       "    </tr>\n",
       "    <tr>\n",
       "      <th>75%</th>\n",
       "      <td>0.8</td>\n",
       "      <td>0.5</td>\n",
       "    </tr>\n",
       "    <tr>\n",
       "      <th>max</th>\n",
       "      <td>2.2</td>\n",
       "      <td>2.3</td>\n",
       "    </tr>\n",
       "  </tbody>\n",
       "</table>\n",
       "</div>"
      ],
      "text/plain": [
       "         Age  EstimatedSalary\n",
       "count  280.0            280.0\n",
       "mean     0.0              0.0\n",
       "std      1.0              1.0\n",
       "min     -1.9             -1.6\n",
       "25%     -0.8             -0.8\n",
       "50%     -0.1              0.0\n",
       "75%      0.8              0.5\n",
       "max      2.2              2.3"
      ]
     },
     "execution_count": 9,
     "metadata": {},
     "output_type": "execute_result"
    }
   ],
   "source": [
    "np.round(X_train_scaled.describe(),1)"
   ]
  },
  {
   "cell_type": "code",
   "execution_count": 10,
   "id": "c8f065e0",
   "metadata": {
    "execution": {
     "iopub.execute_input": "2022-07-07T04:28:30.586441Z",
     "iopub.status.busy": "2022-07-07T04:28:30.585556Z",
     "iopub.status.idle": "2022-07-07T04:28:30.605056Z",
     "shell.execute_reply": "2022-07-07T04:28:30.603861Z"
    },
    "papermill": {
     "duration": 0.031045,
     "end_time": "2022-07-07T04:28:30.607506",
     "exception": false,
     "start_time": "2022-07-07T04:28:30.576461",
     "status": "completed"
    },
    "tags": []
   },
   "outputs": [
    {
     "data": {
      "text/html": [
       "<div>\n",
       "<style scoped>\n",
       "    .dataframe tbody tr th:only-of-type {\n",
       "        vertical-align: middle;\n",
       "    }\n",
       "\n",
       "    .dataframe tbody tr th {\n",
       "        vertical-align: top;\n",
       "    }\n",
       "\n",
       "    .dataframe thead th {\n",
       "        text-align: right;\n",
       "    }\n",
       "</style>\n",
       "<table border=\"1\" class=\"dataframe\">\n",
       "  <thead>\n",
       "    <tr style=\"text-align: right;\">\n",
       "      <th></th>\n",
       "      <th>Age</th>\n",
       "      <th>EstimatedSalary</th>\n",
       "    </tr>\n",
       "  </thead>\n",
       "  <tbody>\n",
       "    <tr>\n",
       "      <th>count</th>\n",
       "      <td>280.0</td>\n",
       "      <td>280.0</td>\n",
       "    </tr>\n",
       "    <tr>\n",
       "      <th>mean</th>\n",
       "      <td>37.9</td>\n",
       "      <td>69807.1</td>\n",
       "    </tr>\n",
       "    <tr>\n",
       "      <th>std</th>\n",
       "      <td>10.2</td>\n",
       "      <td>34641.2</td>\n",
       "    </tr>\n",
       "    <tr>\n",
       "      <th>min</th>\n",
       "      <td>18.0</td>\n",
       "      <td>15000.0</td>\n",
       "    </tr>\n",
       "    <tr>\n",
       "      <th>25%</th>\n",
       "      <td>30.0</td>\n",
       "      <td>43000.0</td>\n",
       "    </tr>\n",
       "    <tr>\n",
       "      <th>50%</th>\n",
       "      <td>37.0</td>\n",
       "      <td>70500.0</td>\n",
       "    </tr>\n",
       "    <tr>\n",
       "      <th>75%</th>\n",
       "      <td>46.0</td>\n",
       "      <td>88000.0</td>\n",
       "    </tr>\n",
       "    <tr>\n",
       "      <th>max</th>\n",
       "      <td>60.0</td>\n",
       "      <td>150000.0</td>\n",
       "    </tr>\n",
       "  </tbody>\n",
       "</table>\n",
       "</div>"
      ],
      "text/plain": [
       "         Age  EstimatedSalary\n",
       "count  280.0            280.0\n",
       "mean    37.9          69807.1\n",
       "std     10.2          34641.2\n",
       "min     18.0          15000.0\n",
       "25%     30.0          43000.0\n",
       "50%     37.0          70500.0\n",
       "75%     46.0          88000.0\n",
       "max     60.0         150000.0"
      ]
     },
     "execution_count": 10,
     "metadata": {},
     "output_type": "execute_result"
    }
   ],
   "source": [
    "np.round(X_train.describe(),1)"
   ]
  },
  {
   "cell_type": "markdown",
   "id": "d4d7e0ed",
   "metadata": {
    "papermill": {
     "duration": 0.007619,
     "end_time": "2022-07-07T04:28:30.623104",
     "exception": false,
     "start_time": "2022-07-07T04:28:30.615485",
     "status": "completed"
    },
    "tags": []
   },
   "source": [
    "**2. Effect of Scaling**"
   ]
  },
  {
   "cell_type": "code",
   "execution_count": 11,
   "id": "90c5d880",
   "metadata": {
    "execution": {
     "iopub.execute_input": "2022-07-07T04:28:30.641354Z",
     "iopub.status.busy": "2022-07-07T04:28:30.640864Z",
     "iopub.status.idle": "2022-07-07T04:28:31.012609Z",
     "shell.execute_reply": "2022-07-07T04:28:31.011056Z"
    },
    "papermill": {
     "duration": 0.384754,
     "end_time": "2022-07-07T04:28:31.016041",
     "exception": false,
     "start_time": "2022-07-07T04:28:30.631287",
     "status": "completed"
    },
    "tags": []
   },
   "outputs": [
    {
     "data": {
      "image/png": "[encoded data removed]",
      "text/plain": [
       "<Figure size 864x360 with 2 Axes>"
      ]
     },
     "metadata": {
      "needs_background": "light"
     },
     "output_type": "display_data"
    }
   ],
   "source": [
    "fig, (ax1,ax2) = plt.subplots(ncols=2,figsize =(12,5))\n",
    "#before scaling\n",
    "ax1.set_title('Salary distribution without scaling')\n",
    "sns.kdeplot(X_train['EstimatedSalary'],ax=ax1)\n",
    "\n",
    "#after scaling\n",
    "ax2.set_title('Salary distribution after scaling')\n",
    "sns.kdeplot(X_train_scaled['EstimatedSalary'],ax=ax2)\n",
    "plt.show()"
   ]
  },
  {
   "cell_type": "markdown",
   "id": "65676603",
   "metadata": {
    "papermill": {
     "duration": 0.007893,
     "end_time": "2022-07-07T04:28:31.032419",
     "exception": false,
     "start_time": "2022-07-07T04:28:31.024526",
     "status": "completed"
    },
    "tags": []
   },
   "source": [
    "**4. Why is scaling important?**"
   ]
  },
  {
   "cell_type": "code",
   "execution_count": 12,
   "id": "68b76410",
   "metadata": {
    "execution": {
     "iopub.execute_input": "2022-07-07T04:28:31.051642Z",
     "iopub.status.busy": "2022-07-07T04:28:31.050668Z",
     "iopub.status.idle": "2022-07-07T04:28:31.140821Z",
     "shell.execute_reply": "2022-07-07T04:28:31.139538Z"
    },
    "papermill": {
     "duration": 0.10325,
     "end_time": "2022-07-07T04:28:31.143929",
     "exception": false,
     "start_time": "2022-07-07T04:28:31.040679",
     "status": "completed"
    },
    "tags": []
   },
   "outputs": [],
   "source": [
    "#The effect on accuracy after scaling in Logistic regression\n",
    "from sklearn.linear_model import LogisticRegression"
   ]
  },
  {
   "cell_type": "code",
   "execution_count": 13,
   "id": "6f398356",
   "metadata": {
    "execution": {
     "iopub.execute_input": "2022-07-07T04:28:31.163344Z",
     "iopub.status.busy": "2022-07-07T04:28:31.162455Z",
     "iopub.status.idle": "2022-07-07T04:28:31.184481Z",
     "shell.execute_reply": "2022-07-07T04:28:31.183139Z"
    },
    "papermill": {
     "duration": 0.034723,
     "end_time": "2022-07-07T04:28:31.187234",
     "exception": false,
     "start_time": "2022-07-07T04:28:31.152511",
     "status": "completed"
    },
    "tags": []
   },
   "outputs": [
    {
     "data": {
      "text/plain": [
       "LogisticRegression()"
      ]
     },
     "execution_count": 13,
     "metadata": {},
     "output_type": "execute_result"
    }
   ],
   "source": [
    "lr = LogisticRegression()\n",
    "lr_scaled = LogisticRegression()\n",
    "#train the data\n",
    "lr.fit(X_train,y_train)\n",
    "lr_scaled.fit(X_train_scaled,y_train)"
   ]
  },
  {
   "cell_type": "code",
   "execution_count": 14,
   "id": "4099de7c",
   "metadata": {
    "execution": {
     "iopub.execute_input": "2022-07-07T04:28:31.206686Z",
     "iopub.status.busy": "2022-07-07T04:28:31.206240Z",
     "iopub.status.idle": "2022-07-07T04:28:31.214481Z",
     "shell.execute_reply": "2022-07-07T04:28:31.213412Z"
    },
    "papermill": {
     "duration": 0.020547,
     "end_time": "2022-07-07T04:28:31.216439",
     "exception": false,
     "start_time": "2022-07-07T04:28:31.195892",
     "status": "completed"
    },
    "tags": []
   },
   "outputs": [],
   "source": [
    "#predicting the output\n",
    "y_pred = lr.predict(X_test)\n",
    "y_pred_scaled =lr_scaled.predict(X_test_scaled)\n"
   ]
  },
  {
   "cell_type": "code",
   "execution_count": 15,
   "id": "5f96a21b",
   "metadata": {
    "execution": {
     "iopub.execute_input": "2022-07-07T04:28:31.236352Z",
     "iopub.status.busy": "2022-07-07T04:28:31.235234Z",
     "iopub.status.idle": "2022-07-07T04:28:31.240171Z",
     "shell.execute_reply": "2022-07-07T04:28:31.239279Z"
    },
    "papermill": {
     "duration": 0.017009,
     "end_time": "2022-07-07T04:28:31.242196",
     "exception": false,
     "start_time": "2022-07-07T04:28:31.225187",
     "status": "completed"
    },
    "tags": []
   },
   "outputs": [],
   "source": [
    "#Calculating the accuracy score\n",
    "from sklearn.metrics import accuracy_score\n",
    "\n"
   ]
  },
  {
   "cell_type": "code",
   "execution_count": 16,
   "id": "b7e4fbef",
   "metadata": {
    "execution": {
     "iopub.execute_input": "2022-07-07T04:28:31.261356Z",
     "iopub.status.busy": "2022-07-07T04:28:31.260877Z",
     "iopub.status.idle": "2022-07-07T04:28:31.268533Z",
     "shell.execute_reply": "2022-07-07T04:28:31.267411Z"
    },
    "papermill": {
     "duration": 0.020276,
     "end_time": "2022-07-07T04:28:31.271212",
     "exception": false,
     "start_time": "2022-07-07T04:28:31.250936",
     "status": "completed"
    },
    "tags": []
   },
   "outputs": [
    {
     "name": "stdout",
     "output_type": "stream",
     "text": [
      "Actual Accuracy: 0.6583333333333333\n"
     ]
    }
   ],
   "source": [
    "print(\"Actual Accuracy:\",accuracy_score(y_test,y_pred))\n"
   ]
  },
  {
   "cell_type": "code",
   "execution_count": 17,
   "id": "226e4673",
   "metadata": {
    "execution": {
     "iopub.execute_input": "2022-07-07T04:28:31.291445Z",
     "iopub.status.busy": "2022-07-07T04:28:31.290643Z",
     "iopub.status.idle": "2022-07-07T04:28:31.298383Z",
     "shell.execute_reply": "2022-07-07T04:28:31.297035Z"
    },
    "papermill": {
     "duration": 0.020426,
     "end_time": "2022-07-07T04:28:31.301017",
     "exception": false,
     "start_time": "2022-07-07T04:28:31.280591",
     "status": "completed"
    },
    "tags": []
   },
   "outputs": [
    {
     "name": "stdout",
     "output_type": "stream",
     "text": [
      "After Scaling Accuracy: 0.8666666666666667\n"
     ]
    }
   ],
   "source": [
    "print(\"After Scaling Accuracy:\",accuracy_score(y_test,y_pred_scaled))"
   ]
  },
  {
   "cell_type": "code",
   "execution_count": 18,
   "id": "30c19cec",
   "metadata": {
    "execution": {
     "iopub.execute_input": "2022-07-07T04:28:31.320513Z",
     "iopub.status.busy": "2022-07-07T04:28:31.319428Z",
     "iopub.status.idle": "2022-07-07T04:28:31.412487Z",
     "shell.execute_reply": "2022-07-07T04:28:31.411101Z"
    },
    "papermill": {
     "duration": 0.105615,
     "end_time": "2022-07-07T04:28:31.415202",
     "exception": false,
     "start_time": "2022-07-07T04:28:31.309587",
     "status": "completed"
    },
    "tags": []
   },
   "outputs": [
    {
     "data": {
      "text/plain": [
       "DecisionTreeClassifier()"
      ]
     },
     "execution_count": 18,
     "metadata": {},
     "output_type": "execute_result"
    }
   ],
   "source": [
    "# Effect on decision Trees\n",
    "from sklearn.tree import DecisionTreeClassifier\n",
    "\n",
    "dt =DecisionTreeClassifier()\n",
    "dt_scaled =DecisionTreeClassifier()\n",
    "\n",
    "#fit the data to training set\n",
    "dt.fit(X_train,y_train)\n",
    "dt_scaled.fit(X_train_scaled,y_train)"
   ]
  },
  {
   "cell_type": "code",
   "execution_count": 19,
   "id": "d064c472",
   "metadata": {
    "execution": {
     "iopub.execute_input": "2022-07-07T04:28:31.435289Z",
     "iopub.status.busy": "2022-07-07T04:28:31.434051Z",
     "iopub.status.idle": "2022-07-07T04:28:31.442995Z",
     "shell.execute_reply": "2022-07-07T04:28:31.442191Z"
    },
    "papermill": {
     "duration": 0.021109,
     "end_time": "2022-07-07T04:28:31.445092",
     "exception": false,
     "start_time": "2022-07-07T04:28:31.423983",
     "status": "completed"
    },
    "tags": []
   },
   "outputs": [],
   "source": [
    "#predict the output after fitting\n",
    "y_pred = dt.predict(X_test)\n",
    "y_pred_scaled =dt_scaled.predict(X_test_scaled)"
   ]
  },
  {
   "cell_type": "code",
   "execution_count": 20,
   "id": "b8772f55",
   "metadata": {
    "execution": {
     "iopub.execute_input": "2022-07-07T04:28:31.465020Z",
     "iopub.status.busy": "2022-07-07T04:28:31.464053Z",
     "iopub.status.idle": "2022-07-07T04:28:31.472170Z",
     "shell.execute_reply": "2022-07-07T04:28:31.470863Z"
    },
    "papermill": {
     "duration": 0.020193,
     "end_time": "2022-07-07T04:28:31.474189",
     "exception": false,
     "start_time": "2022-07-07T04:28:31.453996",
     "status": "completed"
    },
    "tags": []
   },
   "outputs": [
    {
     "name": "stdout",
     "output_type": "stream",
     "text": [
      "Actual Accuracy 0.875\n",
      "After Scaling Accuracy 0.875\n"
     ]
    }
   ],
   "source": [
    "#determining the accuracy score\n",
    "print('Actual Accuracy',accuracy_score(y_pred,y_test))\n",
    "print('After Scaling Accuracy',accuracy_score(y_pred_scaled,y_test))"
   ]
  },
  {
   "cell_type": "markdown",
   "id": "344718b9",
   "metadata": {
    "papermill": {
     "duration": 0.008366,
     "end_time": "2022-07-07T04:28:31.491645",
     "exception": false,
     "start_time": "2022-07-07T04:28:31.483279",
     "status": "completed"
    },
    "tags": []
   },
   "source": [
    "*As you can see there is no change in accuracy in the decision trees*"
   ]
  },
  {
   "cell_type": "markdown",
   "id": "53a731eb",
   "metadata": {
    "papermill": {
     "duration": 0.008694,
     "end_time": "2022-07-07T04:28:31.509098",
     "exception": false,
     "start_time": "2022-07-07T04:28:31.500404",
     "status": "completed"
    },
    "tags": []
   },
   "source": [
    "**2. Effect of outliers**"
   ]
  },
  {
   "cell_type": "code",
   "execution_count": 21,
   "id": "1c09337d",
   "metadata": {
    "execution": {
     "iopub.execute_input": "2022-07-07T04:28:31.528456Z",
     "iopub.status.busy": "2022-07-07T04:28:31.527731Z",
     "iopub.status.idle": "2022-07-07T04:28:31.534024Z",
     "shell.execute_reply": "2022-07-07T04:28:31.533189Z"
    },
    "papermill": {
     "duration": 0.018482,
     "end_time": "2022-07-07T04:28:31.536048",
     "exception": false,
     "start_time": "2022-07-07T04:28:31.517566",
     "status": "completed"
    },
    "tags": []
   },
   "outputs": [],
   "source": [
    "#creating an outlier\n",
    "df_outlier = df.append(pd.DataFrame({'Age':[5,90,99],\"EstimatedSalary\":[5,100000,800000],'Purchased':[1,1,1]}),ignore_index=True)"
   ]
  },
  {
   "cell_type": "code",
   "execution_count": 22,
   "id": "fb386413",
   "metadata": {
    "execution": {
     "iopub.execute_input": "2022-07-07T04:28:31.556160Z",
     "iopub.status.busy": "2022-07-07T04:28:31.555507Z",
     "iopub.status.idle": "2022-07-07T04:28:31.566226Z",
     "shell.execute_reply": "2022-07-07T04:28:31.565202Z"
    },
    "papermill": {
     "duration": 0.023364,
     "end_time": "2022-07-07T04:28:31.568207",
     "exception": false,
     "start_time": "2022-07-07T04:28:31.544843",
     "status": "completed"
    },
    "tags": []
   },
   "outputs": [
    {
     "data": {
      "text/html": [
       "<div>\n",
       "<style scoped>\n",
       "    .dataframe tbody tr th:only-of-type {\n",
       "        vertical-align: middle;\n",
       "    }\n",
       "\n",
       "    .dataframe tbody tr th {\n",
       "        vertical-align: top;\n",
       "    }\n",
       "\n",
       "    .dataframe thead th {\n",
       "        text-align: right;\n",
       "    }\n",
       "</style>\n",
       "<table border=\"1\" class=\"dataframe\">\n",
       "  <thead>\n",
       "    <tr style=\"text-align: right;\">\n",
       "      <th></th>\n",
       "      <th>Age</th>\n",
       "      <th>EstimatedSalary</th>\n",
       "      <th>Purchased</th>\n",
       "    </tr>\n",
       "  </thead>\n",
       "  <tbody>\n",
       "    <tr>\n",
       "      <th>0</th>\n",
       "      <td>19</td>\n",
       "      <td>19000</td>\n",
       "      <td>0</td>\n",
       "    </tr>\n",
       "    <tr>\n",
       "      <th>1</th>\n",
       "      <td>35</td>\n",
       "      <td>20000</td>\n",
       "      <td>0</td>\n",
       "    </tr>\n",
       "    <tr>\n",
       "      <th>2</th>\n",
       "      <td>26</td>\n",
       "      <td>43000</td>\n",
       "      <td>0</td>\n",
       "    </tr>\n",
       "    <tr>\n",
       "      <th>3</th>\n",
       "      <td>27</td>\n",
       "      <td>57000</td>\n",
       "      <td>0</td>\n",
       "    </tr>\n",
       "    <tr>\n",
       "      <th>4</th>\n",
       "      <td>19</td>\n",
       "      <td>76000</td>\n",
       "      <td>0</td>\n",
       "    </tr>\n",
       "    <tr>\n",
       "      <th>...</th>\n",
       "      <td>...</td>\n",
       "      <td>...</td>\n",
       "      <td>...</td>\n",
       "    </tr>\n",
       "    <tr>\n",
       "      <th>398</th>\n",
       "      <td>36</td>\n",
       "      <td>33000</td>\n",
       "      <td>0</td>\n",
       "    </tr>\n",
       "    <tr>\n",
       "      <th>399</th>\n",
       "      <td>49</td>\n",
       "      <td>36000</td>\n",
       "      <td>1</td>\n",
       "    </tr>\n",
       "    <tr>\n",
       "      <th>400</th>\n",
       "      <td>5</td>\n",
       "      <td>5</td>\n",
       "      <td>1</td>\n",
       "    </tr>\n",
       "    <tr>\n",
       "      <th>401</th>\n",
       "      <td>90</td>\n",
       "      <td>100000</td>\n",
       "      <td>1</td>\n",
       "    </tr>\n",
       "    <tr>\n",
       "      <th>402</th>\n",
       "      <td>99</td>\n",
       "      <td>800000</td>\n",
       "      <td>1</td>\n",
       "    </tr>\n",
       "  </tbody>\n",
       "</table>\n",
       "<p>403 rows × 3 columns</p>\n",
       "</div>"
      ],
      "text/plain": [
       "     Age  EstimatedSalary  Purchased\n",
       "0     19            19000          0\n",
       "1     35            20000          0\n",
       "2     26            43000          0\n",
       "3     27            57000          0\n",
       "4     19            76000          0\n",
       "..   ...              ...        ...\n",
       "398   36            33000          0\n",
       "399   49            36000          1\n",
       "400    5                5          1\n",
       "401   90           100000          1\n",
       "402   99           800000          1\n",
       "\n",
       "[403 rows x 3 columns]"
      ]
     },
     "execution_count": 22,
     "metadata": {},
     "output_type": "execute_result"
    }
   ],
   "source": [
    "df_outlier"
   ]
  },
  {
   "cell_type": "code",
   "execution_count": 23,
   "id": "5efec112",
   "metadata": {
    "execution": {
     "iopub.execute_input": "2022-07-07T04:28:31.588122Z",
     "iopub.status.busy": "2022-07-07T04:28:31.587437Z",
     "iopub.status.idle": "2022-07-07T04:28:31.781314Z",
     "shell.execute_reply": "2022-07-07T04:28:31.780169Z"
    },
    "papermill": {
     "duration": 0.206732,
     "end_time": "2022-07-07T04:28:31.783798",
     "exception": false,
     "start_time": "2022-07-07T04:28:31.577066",
     "status": "completed"
    },
    "tags": []
   },
   "outputs": [
    {
     "data": {
      "text/plain": [
       "<matplotlib.collections.PathCollection at 0x7f9a0723d1d0>"
      ]
     },
     "execution_count": 23,
     "metadata": {},
     "output_type": "execute_result"
    },
    {
     "data": {
      "image/png": "[encoded data removed]",
      "text/plain": [
       "<Figure size 432x288 with 1 Axes>"
      ]
     },
     "metadata": {
      "needs_background": "light"
     },
     "output_type": "display_data"
    }
   ],
   "source": [
    "plt.scatter(df_outlier['Age'],df_outlier['EstimatedSalary'])"
   ]
  },
  {
   "cell_type": "code",
   "execution_count": 24,
   "id": "b7056bd2",
   "metadata": {
    "execution": {
     "iopub.execute_input": "2022-07-07T04:28:31.805274Z",
     "iopub.status.busy": "2022-07-07T04:28:31.804004Z",
     "iopub.status.idle": "2022-07-07T04:28:31.818107Z",
     "shell.execute_reply": "2022-07-07T04:28:31.817150Z"
    },
    "papermill": {
     "duration": 0.027232,
     "end_time": "2022-07-07T04:28:31.820504",
     "exception": false,
     "start_time": "2022-07-07T04:28:31.793272",
     "status": "completed"
    },
    "tags": []
   },
   "outputs": [
    {
     "data": {
      "text/plain": [
       "((282, 2), (121, 2))"
      ]
     },
     "execution_count": 24,
     "metadata": {},
     "output_type": "execute_result"
    }
   ],
   "source": [
    "X_train,X_test,y_train,y_test = train_test_split(df_outlier.drop('Purchased',axis=1),df_outlier['Purchased'],test_size=0.3,random_state=0)\n",
    "X_train.shape, X_test.shape"
   ]
  },
  {
   "cell_type": "code",
   "execution_count": 25,
   "id": "b482a1f7",
   "metadata": {
    "execution": {
     "iopub.execute_input": "2022-07-07T04:28:31.841909Z",
     "iopub.status.busy": "2022-07-07T04:28:31.841153Z",
     "iopub.status.idle": "2022-07-07T04:28:31.851935Z",
     "shell.execute_reply": "2022-07-07T04:28:31.851095Z"
    },
    "papermill": {
     "duration": 0.024307,
     "end_time": "2022-07-07T04:28:31.854391",
     "exception": false,
     "start_time": "2022-07-07T04:28:31.830084",
     "status": "completed"
    },
    "tags": []
   },
   "outputs": [],
   "source": [
    "#scaling the data\n",
    "scaler = StandardScaler()\n",
    "scaler.fit(X_train)\n",
    "\n",
    "#transform the data: scaling on both training and test sets\n",
    "X_train_scaled = scaler.transform(X_train)\n",
    "X_test_scaled =scaler.transform(X_test)\n"
   ]
  },
  {
   "cell_type": "code",
   "execution_count": 26,
   "id": "e70e06aa",
   "metadata": {
    "execution": {
     "iopub.execute_input": "2022-07-07T04:28:31.875641Z",
     "iopub.status.busy": "2022-07-07T04:28:31.874834Z",
     "iopub.status.idle": "2022-07-07T04:28:31.879886Z",
     "shell.execute_reply": "2022-07-07T04:28:31.879154Z"
    },
    "papermill": {
     "duration": 0.018117,
     "end_time": "2022-07-07T04:28:31.881847",
     "exception": false,
     "start_time": "2022-07-07T04:28:31.863730",
     "status": "completed"
    },
    "tags": []
   },
   "outputs": [],
   "source": [
    "#convert numpy array to dataframe\n",
    "X_train_scaled =pd.DataFrame(X_train_scaled,columns=X_train.columns)\n",
    "X_test_scaled =pd.DataFrame(X_test_scaled,columns=X_test.columns)"
   ]
  },
  {
   "cell_type": "code",
   "execution_count": 27,
   "id": "cbca2d98",
   "metadata": {
    "execution": {
     "iopub.execute_input": "2022-07-07T04:28:31.903268Z",
     "iopub.status.busy": "2022-07-07T04:28:31.902459Z",
     "iopub.status.idle": "2022-07-07T04:28:32.203704Z",
     "shell.execute_reply": "2022-07-07T04:28:32.202655Z"
    },
    "papermill": {
     "duration": 0.314955,
     "end_time": "2022-07-07T04:28:32.206398",
     "exception": false,
     "start_time": "2022-07-07T04:28:31.891443",
     "status": "completed"
    },
    "tags": []
   },
   "outputs": [
    {
     "data": {
      "image/png": "[encoded data removed]",
      "text/plain": [
       "<Figure size 864x360 with 2 Axes>"
      ]
     },
     "metadata": {
      "needs_background": "light"
     },
     "output_type": "display_data"
    }
   ],
   "source": [
    "fig,(ax1,ax2)=plt.subplots(ncols=2,figsize=(12,5))\n",
    "ax1.scatter(X_train['Age'],X_train['EstimatedSalary'],color='red')\n",
    "ax1.set_title('Before Scaling')\n",
    "ax2.scatter(X_train_scaled['Age'],X_train_scaled['EstimatedSalary'],color='blue')\n",
    "ax2.set_title('After Scaling')\n",
    "plt.show()"
   ]
  },
  {
   "cell_type": "markdown",
   "id": "76137faa",
   "metadata": {
    "papermill": {
     "duration": 0.009709,
     "end_time": "2022-07-07T04:28:32.226406",
     "exception": false,
     "start_time": "2022-07-07T04:28:32.216697",
     "status": "completed"
    },
    "tags": []
   },
   "source": [
    "*As you can clearly observe there is not effect on outliers by standardization, outliers have to be handled seperatly*"
   ]
  },
  {
   "cell_type": "code",
   "execution_count": null,
   "id": "2a076c42",
   "metadata": {
    "papermill": {
     "duration": 0.009397,
     "end_time": "2022-07-07T04:28:32.245851",
     "exception": false,
     "start_time": "2022-07-07T04:28:32.236454",
     "status": "completed"
    },
    "tags": []
   },
   "outputs": [],
   "source": []
  },
  {
   "cell_type": "code",
   "execution_count": null,
   "id": "b77ab408",
   "metadata": {
    "papermill": {
     "duration": 0.009333,
     "end_time": "2022-07-07T04:28:32.264850",
     "exception": false,
     "start_time": "2022-07-07T04:28:32.255517",
     "status": "completed"
    },
    "tags": []
   },
   "outputs": [],
   "source": []
  }
 ],
 "metadata": {
  "kernelspec": {
   "display_name": "Python 3",
   "language": "python",
   "name": "python3"
  },
  "language_info": {
   "codemirror_mode": {
    "name": "ipython",
    "version": 3
   },
   "file_extension": ".py",
   "mimetype": "text/x-python",
   "name": "python",
   "nbconvert_exporter": "python",
   "pygments_lexer": "ipython3",
   "version": "3.7.12"
  },
  "papermill": {
   "default_parameters": {},
   "duration": 14.198326,
   "end_time": "2022-07-07T04:28:33.299692",
   "environment_variables": {},
   "exception": null,
   "input_path": "__notebook__.ipynb",
   "output_path": "__notebook__.ipynb",
   "parameters": {},
   "start_time": "2022-07-07T04:28:19.101366",
   "version": "2.3.4"
  }
 },
 "nbformat": 4,
 "nbformat_minor": 5
}
