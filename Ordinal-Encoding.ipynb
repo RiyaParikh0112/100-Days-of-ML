{
 "cells": [
  {
   "cell_type": "code",
   "execution_count": 1,
   "id": "f5a3e270",
   "metadata": {
    "_cell_guid": "b1076dfc-b9ad-4769-8c92-a6c4dae69d19",
    "_uuid": "8f2839f25d086af736a60e9eeb907d3b93b6e0e5",
    "execution": {
     "iopub.execute_input": "2022-07-12T04:52:15.440047Z",
     "iopub.status.busy": "2022-07-12T04:52:15.439335Z",
     "iopub.status.idle": "2022-07-12T04:52:15.450353Z",
     "shell.execute_reply": "2022-07-12T04:52:15.449544Z"
    },
    "papermill": {
     "duration": 0.022478,
     "end_time": "2022-07-12T04:52:15.452732",
     "exception": false,
     "start_time": "2022-07-12T04:52:15.430254",
     "status": "completed"
    },
    "tags": []
   },
   "outputs": [],
   "source": [
    "import pandas as pd\n",
    "import numpy as np\n"
   ]
  },
  {
   "cell_type": "code",
   "execution_count": 2,
   "id": "c6448e36",
   "metadata": {
    "execution": {
     "iopub.execute_input": "2022-07-12T04:52:15.467303Z",
     "iopub.status.busy": "2022-07-12T04:52:15.466611Z",
     "iopub.status.idle": "2022-07-12T04:52:15.483205Z",
     "shell.execute_reply": "2022-07-12T04:52:15.482350Z"
    },
    "papermill": {
     "duration": 0.026713,
     "end_time": "2022-07-12T04:52:15.485738",
     "exception": false,
     "start_time": "2022-07-12T04:52:15.459025",
     "status": "completed"
    },
    "tags": []
   },
   "outputs": [],
   "source": [
    "df=pd.read_csv('../input/customer/customer.csv')"
   ]
  },
  {
   "cell_type": "code",
   "execution_count": 3,
   "id": "af48fa57",
   "metadata": {
    "execution": {
     "iopub.execute_input": "2022-07-12T04:52:15.501006Z",
     "iopub.status.busy": "2022-07-12T04:52:15.500306Z",
     "iopub.status.idle": "2022-07-12T04:52:15.523053Z",
     "shell.execute_reply": "2022-07-12T04:52:15.522227Z"
    },
    "papermill": {
     "duration": 0.032872,
     "end_time": "2022-07-12T04:52:15.525306",
     "exception": false,
     "start_time": "2022-07-12T04:52:15.492434",
     "status": "completed"
    },
    "tags": []
   },
   "outputs": [
    {
     "data": {
      "text/html": [
       "<div>\n",
       "<style scoped>\n",
       "    .dataframe tbody tr th:only-of-type {\n",
       "        vertical-align: middle;\n",
       "    }\n",
       "\n",
       "    .dataframe tbody tr th {\n",
       "        vertical-align: top;\n",
       "    }\n",
       "\n",
       "    .dataframe thead th {\n",
       "        text-align: right;\n",
       "    }\n",
       "</style>\n",
       "<table border=\"1\" class=\"dataframe\">\n",
       "  <thead>\n",
       "    <tr style=\"text-align: right;\">\n",
       "      <th></th>\n",
       "      <th>age</th>\n",
       "      <th>gender</th>\n",
       "      <th>review</th>\n",
       "      <th>education</th>\n",
       "      <th>purchased</th>\n",
       "    </tr>\n",
       "  </thead>\n",
       "  <tbody>\n",
       "    <tr>\n",
       "      <th>7</th>\n",
       "      <td>60</td>\n",
       "      <td>Female</td>\n",
       "      <td>Poor</td>\n",
       "      <td>School</td>\n",
       "      <td>Yes</td>\n",
       "    </tr>\n",
       "    <tr>\n",
       "      <th>27</th>\n",
       "      <td>69</td>\n",
       "      <td>Female</td>\n",
       "      <td>Poor</td>\n",
       "      <td>PG</td>\n",
       "      <td>No</td>\n",
       "    </tr>\n",
       "    <tr>\n",
       "      <th>25</th>\n",
       "      <td>57</td>\n",
       "      <td>Female</td>\n",
       "      <td>Good</td>\n",
       "      <td>School</td>\n",
       "      <td>No</td>\n",
       "    </tr>\n",
       "    <tr>\n",
       "      <th>0</th>\n",
       "      <td>30</td>\n",
       "      <td>Female</td>\n",
       "      <td>Average</td>\n",
       "      <td>School</td>\n",
       "      <td>No</td>\n",
       "    </tr>\n",
       "    <tr>\n",
       "      <th>4</th>\n",
       "      <td>16</td>\n",
       "      <td>Female</td>\n",
       "      <td>Average</td>\n",
       "      <td>UG</td>\n",
       "      <td>No</td>\n",
       "    </tr>\n",
       "  </tbody>\n",
       "</table>\n",
       "</div>"
      ],
      "text/plain": [
       "    age  gender   review education purchased\n",
       "7    60  Female     Poor    School       Yes\n",
       "27   69  Female     Poor        PG        No\n",
       "25   57  Female     Good    School        No\n",
       "0    30  Female  Average    School        No\n",
       "4    16  Female  Average        UG        No"
      ]
     },
     "execution_count": 3,
     "metadata": {},
     "output_type": "execute_result"
    }
   ],
   "source": [
    "df.sample(5)"
   ]
  },
  {
   "cell_type": "code",
   "execution_count": 4,
   "id": "ce6fd038",
   "metadata": {
    "execution": {
     "iopub.execute_input": "2022-07-12T04:52:15.541185Z",
     "iopub.status.busy": "2022-07-12T04:52:15.540720Z",
     "iopub.status.idle": "2022-07-12T04:52:15.547554Z",
     "shell.execute_reply": "2022-07-12T04:52:15.545986Z"
    },
    "papermill": {
     "duration": 0.019044,
     "end_time": "2022-07-12T04:52:15.550985",
     "exception": false,
     "start_time": "2022-07-12T04:52:15.531941",
     "status": "completed"
    },
    "tags": []
   },
   "outputs": [],
   "source": [
    "df = df.iloc[:,2:]"
   ]
  },
  {
   "cell_type": "code",
   "execution_count": 5,
   "id": "3f4be262",
   "metadata": {
    "execution": {
     "iopub.execute_input": "2022-07-12T04:52:15.569060Z",
     "iopub.status.busy": "2022-07-12T04:52:15.567988Z",
     "iopub.status.idle": "2022-07-12T04:52:15.581815Z",
     "shell.execute_reply": "2022-07-12T04:52:15.580457Z"
    },
    "papermill": {
     "duration": 0.026069,
     "end_time": "2022-07-12T04:52:15.584688",
     "exception": false,
     "start_time": "2022-07-12T04:52:15.558619",
     "status": "completed"
    },
    "tags": []
   },
   "outputs": [
    {
     "data": {
      "text/html": [
       "<div>\n",
       "<style scoped>\n",
       "    .dataframe tbody tr th:only-of-type {\n",
       "        vertical-align: middle;\n",
       "    }\n",
       "\n",
       "    .dataframe tbody tr th {\n",
       "        vertical-align: top;\n",
       "    }\n",
       "\n",
       "    .dataframe thead th {\n",
       "        text-align: right;\n",
       "    }\n",
       "</style>\n",
       "<table border=\"1\" class=\"dataframe\">\n",
       "  <thead>\n",
       "    <tr style=\"text-align: right;\">\n",
       "      <th></th>\n",
       "      <th>review</th>\n",
       "      <th>education</th>\n",
       "      <th>purchased</th>\n",
       "    </tr>\n",
       "  </thead>\n",
       "  <tbody>\n",
       "    <tr>\n",
       "      <th>4</th>\n",
       "      <td>Average</td>\n",
       "      <td>UG</td>\n",
       "      <td>No</td>\n",
       "    </tr>\n",
       "    <tr>\n",
       "      <th>34</th>\n",
       "      <td>Average</td>\n",
       "      <td>School</td>\n",
       "      <td>No</td>\n",
       "    </tr>\n",
       "    <tr>\n",
       "      <th>24</th>\n",
       "      <td>Average</td>\n",
       "      <td>PG</td>\n",
       "      <td>Yes</td>\n",
       "    </tr>\n",
       "    <tr>\n",
       "      <th>19</th>\n",
       "      <td>Poor</td>\n",
       "      <td>PG</td>\n",
       "      <td>Yes</td>\n",
       "    </tr>\n",
       "    <tr>\n",
       "      <th>23</th>\n",
       "      <td>Good</td>\n",
       "      <td>School</td>\n",
       "      <td>No</td>\n",
       "    </tr>\n",
       "  </tbody>\n",
       "</table>\n",
       "</div>"
      ],
      "text/plain": [
       "     review education purchased\n",
       "4   Average        UG        No\n",
       "34  Average    School        No\n",
       "24  Average        PG       Yes\n",
       "19     Poor        PG       Yes\n",
       "23     Good    School        No"
      ]
     },
     "execution_count": 5,
     "metadata": {},
     "output_type": "execute_result"
    }
   ],
   "source": [
    "df.sample(5)"
   ]
  },
  {
   "cell_type": "code",
   "execution_count": 6,
   "id": "778e92c3",
   "metadata": {
    "execution": {
     "iopub.execute_input": "2022-07-12T04:52:15.606346Z",
     "iopub.status.busy": "2022-07-12T04:52:15.605289Z",
     "iopub.status.idle": "2022-07-12T04:52:16.702840Z",
     "shell.execute_reply": "2022-07-12T04:52:16.701594Z"
    },
    "papermill": {
     "duration": 1.112415,
     "end_time": "2022-07-12T04:52:16.706530",
     "exception": false,
     "start_time": "2022-07-12T04:52:15.594115",
     "status": "completed"
    },
    "tags": []
   },
   "outputs": [],
   "source": [
    "#let us import the Ordinal Encoder\n",
    "from sklearn.preprocessing import OrdinalEncoder"
   ]
  },
  {
   "cell_type": "code",
   "execution_count": 7,
   "id": "8d72702a",
   "metadata": {
    "execution": {
     "iopub.execute_input": "2022-07-12T04:52:16.729546Z",
     "iopub.status.busy": "2022-07-12T04:52:16.729155Z",
     "iopub.status.idle": "2022-07-12T04:52:16.739664Z",
     "shell.execute_reply": "2022-07-12T04:52:16.738578Z"
    },
    "papermill": {
     "duration": 0.024254,
     "end_time": "2022-07-12T04:52:16.741684",
     "exception": false,
     "start_time": "2022-07-12T04:52:16.717430",
     "status": "completed"
    },
    "tags": []
   },
   "outputs": [],
   "source": [
    "X_train = df.drop('purchased',axis=1)"
   ]
  },
  {
   "cell_type": "code",
   "execution_count": 8,
   "id": "c0304e3d",
   "metadata": {
    "execution": {
     "iopub.execute_input": "2022-07-12T04:52:16.756950Z",
     "iopub.status.busy": "2022-07-12T04:52:16.756596Z",
     "iopub.status.idle": "2022-07-12T04:52:16.767359Z",
     "shell.execute_reply": "2022-07-12T04:52:16.766352Z"
    },
    "papermill": {
     "duration": 0.020882,
     "end_time": "2022-07-12T04:52:16.769433",
     "exception": false,
     "start_time": "2022-07-12T04:52:16.748551",
     "status": "completed"
    },
    "tags": []
   },
   "outputs": [
    {
     "data": {
      "text/html": [
       "<div>\n",
       "<style scoped>\n",
       "    .dataframe tbody tr th:only-of-type {\n",
       "        vertical-align: middle;\n",
       "    }\n",
       "\n",
       "    .dataframe tbody tr th {\n",
       "        vertical-align: top;\n",
       "    }\n",
       "\n",
       "    .dataframe thead th {\n",
       "        text-align: right;\n",
       "    }\n",
       "</style>\n",
       "<table border=\"1\" class=\"dataframe\">\n",
       "  <thead>\n",
       "    <tr style=\"text-align: right;\">\n",
       "      <th></th>\n",
       "      <th>review</th>\n",
       "      <th>education</th>\n",
       "    </tr>\n",
       "  </thead>\n",
       "  <tbody>\n",
       "    <tr>\n",
       "      <th>17</th>\n",
       "      <td>Poor</td>\n",
       "      <td>UG</td>\n",
       "    </tr>\n",
       "    <tr>\n",
       "      <th>45</th>\n",
       "      <td>Poor</td>\n",
       "      <td>PG</td>\n",
       "    </tr>\n",
       "    <tr>\n",
       "      <th>49</th>\n",
       "      <td>Good</td>\n",
       "      <td>UG</td>\n",
       "    </tr>\n",
       "    <tr>\n",
       "      <th>0</th>\n",
       "      <td>Average</td>\n",
       "      <td>School</td>\n",
       "    </tr>\n",
       "    <tr>\n",
       "      <th>7</th>\n",
       "      <td>Poor</td>\n",
       "      <td>School</td>\n",
       "    </tr>\n",
       "  </tbody>\n",
       "</table>\n",
       "</div>"
      ],
      "text/plain": [
       "     review education\n",
       "17     Poor        UG\n",
       "45     Poor        PG\n",
       "49     Good        UG\n",
       "0   Average    School\n",
       "7      Poor    School"
      ]
     },
     "execution_count": 8,
     "metadata": {},
     "output_type": "execute_result"
    }
   ],
   "source": [
    "X_train.sample(5)"
   ]
  },
  {
   "cell_type": "code",
   "execution_count": 9,
   "id": "be2f8076",
   "metadata": {
    "execution": {
     "iopub.execute_input": "2022-07-12T04:52:16.785074Z",
     "iopub.status.busy": "2022-07-12T04:52:16.784232Z",
     "iopub.status.idle": "2022-07-12T04:52:16.789848Z",
     "shell.execute_reply": "2022-07-12T04:52:16.788871Z"
    },
    "papermill": {
     "duration": 0.015664,
     "end_time": "2022-07-12T04:52:16.791766",
     "exception": false,
     "start_time": "2022-07-12T04:52:16.776102",
     "status": "completed"
    },
    "tags": []
   },
   "outputs": [],
   "source": [
    "# As in ordinal data there is a relationship between the terms lets us define them\n",
    "oe = OrdinalEncoder(categories=[['Poor','Average','Good'], ['School','UG','PG']])"
   ]
  },
  {
   "cell_type": "code",
   "execution_count": 10,
   "id": "9f09387e",
   "metadata": {
    "execution": {
     "iopub.execute_input": "2022-07-12T04:52:16.807754Z",
     "iopub.status.busy": "2022-07-12T04:52:16.806938Z",
     "iopub.status.idle": "2022-07-12T04:52:16.816622Z",
     "shell.execute_reply": "2022-07-12T04:52:16.815688Z"
    },
    "papermill": {
     "duration": 0.020087,
     "end_time": "2022-07-12T04:52:16.818657",
     "exception": false,
     "start_time": "2022-07-12T04:52:16.798570",
     "status": "completed"
    },
    "tags": []
   },
   "outputs": [
    {
     "data": {
      "text/plain": [
       "OrdinalEncoder(categories=[['Poor', 'Average', 'Good'], ['School', 'UG', 'PG']])"
      ]
     },
     "execution_count": 10,
     "metadata": {},
     "output_type": "execute_result"
    }
   ],
   "source": [
    "oe.fit(X_train)"
   ]
  },
  {
   "cell_type": "code",
   "execution_count": 11,
   "id": "a804ba63",
   "metadata": {
    "execution": {
     "iopub.execute_input": "2022-07-12T04:52:16.835719Z",
     "iopub.status.busy": "2022-07-12T04:52:16.833926Z",
     "iopub.status.idle": "2022-07-12T04:52:16.841198Z",
     "shell.execute_reply": "2022-07-12T04:52:16.840422Z"
    },
    "papermill": {
     "duration": 0.017732,
     "end_time": "2022-07-12T04:52:16.843197",
     "exception": false,
     "start_time": "2022-07-12T04:52:16.825465",
     "status": "completed"
    },
    "tags": []
   },
   "outputs": [],
   "source": [
    "X_train_transformed= oe.transform(X_train)"
   ]
  },
  {
   "cell_type": "code",
   "execution_count": 12,
   "id": "f332a077",
   "metadata": {
    "execution": {
     "iopub.execute_input": "2022-07-12T04:52:16.859316Z",
     "iopub.status.busy": "2022-07-12T04:52:16.858678Z",
     "iopub.status.idle": "2022-07-12T04:52:16.866147Z",
     "shell.execute_reply": "2022-07-12T04:52:16.865388Z"
    },
    "papermill": {
     "duration": 0.017867,
     "end_time": "2022-07-12T04:52:16.868133",
     "exception": false,
     "start_time": "2022-07-12T04:52:16.850266",
     "status": "completed"
    },
    "tags": []
   },
   "outputs": [
    {
     "data": {
      "text/plain": [
       "array([[1., 0.],\n",
       "       [0., 1.],\n",
       "       [2., 2.],\n",
       "       [2., 2.],\n",
       "       [1., 1.],\n",
       "       [1., 0.],\n",
       "       [2., 0.],\n",
       "       [0., 0.],\n",
       "       [1., 1.],\n",
       "       [2., 1.],\n",
       "       [2., 1.],\n",
       "       [2., 1.],\n",
       "       [0., 0.],\n",
       "       [1., 0.],\n",
       "       [0., 2.],\n",
       "       [0., 1.],\n",
       "       [0., 1.],\n",
       "       [0., 1.],\n",
       "       [2., 0.],\n",
       "       [0., 2.],\n",
       "       [1., 0.],\n",
       "       [1., 2.],\n",
       "       [0., 2.],\n",
       "       [2., 0.],\n",
       "       [1., 2.],\n",
       "       [2., 0.],\n",
       "       [0., 2.],\n",
       "       [0., 2.],\n",
       "       [0., 0.],\n",
       "       [1., 1.],\n",
       "       [1., 1.],\n",
       "       [0., 0.],\n",
       "       [1., 1.],\n",
       "       [2., 2.],\n",
       "       [1., 0.],\n",
       "       [0., 0.],\n",
       "       [2., 1.],\n",
       "       [1., 2.],\n",
       "       [2., 0.],\n",
       "       [0., 2.],\n",
       "       [2., 0.],\n",
       "       [2., 2.],\n",
       "       [2., 2.],\n",
       "       [0., 2.],\n",
       "       [1., 1.],\n",
       "       [0., 2.],\n",
       "       [0., 2.],\n",
       "       [2., 2.],\n",
       "       [2., 1.],\n",
       "       [2., 1.]])"
      ]
     },
     "execution_count": 12,
     "metadata": {},
     "output_type": "execute_result"
    }
   ],
   "source": [
    "X_train_transformed"
   ]
  },
  {
   "cell_type": "code",
   "execution_count": 13,
   "id": "64ae1996",
   "metadata": {
    "execution": {
     "iopub.execute_input": "2022-07-12T04:52:16.884702Z",
     "iopub.status.busy": "2022-07-12T04:52:16.883850Z",
     "iopub.status.idle": "2022-07-12T04:52:16.904479Z",
     "shell.execute_reply": "2022-07-12T04:52:16.903682Z"
    },
    "papermill": {
     "duration": 0.031315,
     "end_time": "2022-07-12T04:52:16.906457",
     "exception": false,
     "start_time": "2022-07-12T04:52:16.875142",
     "status": "completed"
    },
    "tags": []
   },
   "outputs": [
    {
     "data": {
      "text/html": [
       "<div>\n",
       "<style scoped>\n",
       "    .dataframe tbody tr th:only-of-type {\n",
       "        vertical-align: middle;\n",
       "    }\n",
       "\n",
       "    .dataframe tbody tr th {\n",
       "        vertical-align: top;\n",
       "    }\n",
       "\n",
       "    .dataframe thead th {\n",
       "        text-align: right;\n",
       "    }\n",
       "</style>\n",
       "<table border=\"1\" class=\"dataframe\">\n",
       "  <thead>\n",
       "    <tr style=\"text-align: right;\">\n",
       "      <th></th>\n",
       "      <th>review</th>\n",
       "      <th>education</th>\n",
       "    </tr>\n",
       "  </thead>\n",
       "  <tbody>\n",
       "    <tr>\n",
       "      <th>0</th>\n",
       "      <td>1.0</td>\n",
       "      <td>0.0</td>\n",
       "    </tr>\n",
       "    <tr>\n",
       "      <th>1</th>\n",
       "      <td>0.0</td>\n",
       "      <td>1.0</td>\n",
       "    </tr>\n",
       "    <tr>\n",
       "      <th>2</th>\n",
       "      <td>2.0</td>\n",
       "      <td>2.0</td>\n",
       "    </tr>\n",
       "    <tr>\n",
       "      <th>3</th>\n",
       "      <td>2.0</td>\n",
       "      <td>2.0</td>\n",
       "    </tr>\n",
       "    <tr>\n",
       "      <th>4</th>\n",
       "      <td>1.0</td>\n",
       "      <td>1.0</td>\n",
       "    </tr>\n",
       "    <tr>\n",
       "      <th>5</th>\n",
       "      <td>1.0</td>\n",
       "      <td>0.0</td>\n",
       "    </tr>\n",
       "    <tr>\n",
       "      <th>6</th>\n",
       "      <td>2.0</td>\n",
       "      <td>0.0</td>\n",
       "    </tr>\n",
       "    <tr>\n",
       "      <th>7</th>\n",
       "      <td>0.0</td>\n",
       "      <td>0.0</td>\n",
       "    </tr>\n",
       "    <tr>\n",
       "      <th>8</th>\n",
       "      <td>1.0</td>\n",
       "      <td>1.0</td>\n",
       "    </tr>\n",
       "    <tr>\n",
       "      <th>9</th>\n",
       "      <td>2.0</td>\n",
       "      <td>1.0</td>\n",
       "    </tr>\n",
       "    <tr>\n",
       "      <th>10</th>\n",
       "      <td>2.0</td>\n",
       "      <td>1.0</td>\n",
       "    </tr>\n",
       "    <tr>\n",
       "      <th>11</th>\n",
       "      <td>2.0</td>\n",
       "      <td>1.0</td>\n",
       "    </tr>\n",
       "    <tr>\n",
       "      <th>12</th>\n",
       "      <td>0.0</td>\n",
       "      <td>0.0</td>\n",
       "    </tr>\n",
       "    <tr>\n",
       "      <th>13</th>\n",
       "      <td>1.0</td>\n",
       "      <td>0.0</td>\n",
       "    </tr>\n",
       "    <tr>\n",
       "      <th>14</th>\n",
       "      <td>0.0</td>\n",
       "      <td>2.0</td>\n",
       "    </tr>\n",
       "    <tr>\n",
       "      <th>15</th>\n",
       "      <td>0.0</td>\n",
       "      <td>1.0</td>\n",
       "    </tr>\n",
       "    <tr>\n",
       "      <th>16</th>\n",
       "      <td>0.0</td>\n",
       "      <td>1.0</td>\n",
       "    </tr>\n",
       "    <tr>\n",
       "      <th>17</th>\n",
       "      <td>0.0</td>\n",
       "      <td>1.0</td>\n",
       "    </tr>\n",
       "    <tr>\n",
       "      <th>18</th>\n",
       "      <td>2.0</td>\n",
       "      <td>0.0</td>\n",
       "    </tr>\n",
       "    <tr>\n",
       "      <th>19</th>\n",
       "      <td>0.0</td>\n",
       "      <td>2.0</td>\n",
       "    </tr>\n",
       "    <tr>\n",
       "      <th>20</th>\n",
       "      <td>1.0</td>\n",
       "      <td>0.0</td>\n",
       "    </tr>\n",
       "    <tr>\n",
       "      <th>21</th>\n",
       "      <td>1.0</td>\n",
       "      <td>2.0</td>\n",
       "    </tr>\n",
       "    <tr>\n",
       "      <th>22</th>\n",
       "      <td>0.0</td>\n",
       "      <td>2.0</td>\n",
       "    </tr>\n",
       "    <tr>\n",
       "      <th>23</th>\n",
       "      <td>2.0</td>\n",
       "      <td>0.0</td>\n",
       "    </tr>\n",
       "    <tr>\n",
       "      <th>24</th>\n",
       "      <td>1.0</td>\n",
       "      <td>2.0</td>\n",
       "    </tr>\n",
       "    <tr>\n",
       "      <th>25</th>\n",
       "      <td>2.0</td>\n",
       "      <td>0.0</td>\n",
       "    </tr>\n",
       "    <tr>\n",
       "      <th>26</th>\n",
       "      <td>0.0</td>\n",
       "      <td>2.0</td>\n",
       "    </tr>\n",
       "    <tr>\n",
       "      <th>27</th>\n",
       "      <td>0.0</td>\n",
       "      <td>2.0</td>\n",
       "    </tr>\n",
       "    <tr>\n",
       "      <th>28</th>\n",
       "      <td>0.0</td>\n",
       "      <td>0.0</td>\n",
       "    </tr>\n",
       "    <tr>\n",
       "      <th>29</th>\n",
       "      <td>1.0</td>\n",
       "      <td>1.0</td>\n",
       "    </tr>\n",
       "    <tr>\n",
       "      <th>30</th>\n",
       "      <td>1.0</td>\n",
       "      <td>1.0</td>\n",
       "    </tr>\n",
       "    <tr>\n",
       "      <th>31</th>\n",
       "      <td>0.0</td>\n",
       "      <td>0.0</td>\n",
       "    </tr>\n",
       "    <tr>\n",
       "      <th>32</th>\n",
       "      <td>1.0</td>\n",
       "      <td>1.0</td>\n",
       "    </tr>\n",
       "    <tr>\n",
       "      <th>33</th>\n",
       "      <td>2.0</td>\n",
       "      <td>2.0</td>\n",
       "    </tr>\n",
       "    <tr>\n",
       "      <th>34</th>\n",
       "      <td>1.0</td>\n",
       "      <td>0.0</td>\n",
       "    </tr>\n",
       "    <tr>\n",
       "      <th>35</th>\n",
       "      <td>0.0</td>\n",
       "      <td>0.0</td>\n",
       "    </tr>\n",
       "    <tr>\n",
       "      <th>36</th>\n",
       "      <td>2.0</td>\n",
       "      <td>1.0</td>\n",
       "    </tr>\n",
       "    <tr>\n",
       "      <th>37</th>\n",
       "      <td>1.0</td>\n",
       "      <td>2.0</td>\n",
       "    </tr>\n",
       "    <tr>\n",
       "      <th>38</th>\n",
       "      <td>2.0</td>\n",
       "      <td>0.0</td>\n",
       "    </tr>\n",
       "    <tr>\n",
       "      <th>39</th>\n",
       "      <td>0.0</td>\n",
       "      <td>2.0</td>\n",
       "    </tr>\n",
       "    <tr>\n",
       "      <th>40</th>\n",
       "      <td>2.0</td>\n",
       "      <td>0.0</td>\n",
       "    </tr>\n",
       "    <tr>\n",
       "      <th>41</th>\n",
       "      <td>2.0</td>\n",
       "      <td>2.0</td>\n",
       "    </tr>\n",
       "    <tr>\n",
       "      <th>42</th>\n",
       "      <td>2.0</td>\n",
       "      <td>2.0</td>\n",
       "    </tr>\n",
       "    <tr>\n",
       "      <th>43</th>\n",
       "      <td>0.0</td>\n",
       "      <td>2.0</td>\n",
       "    </tr>\n",
       "    <tr>\n",
       "      <th>44</th>\n",
       "      <td>1.0</td>\n",
       "      <td>1.0</td>\n",
       "    </tr>\n",
       "    <tr>\n",
       "      <th>45</th>\n",
       "      <td>0.0</td>\n",
       "      <td>2.0</td>\n",
       "    </tr>\n",
       "    <tr>\n",
       "      <th>46</th>\n",
       "      <td>0.0</td>\n",
       "      <td>2.0</td>\n",
       "    </tr>\n",
       "    <tr>\n",
       "      <th>47</th>\n",
       "      <td>2.0</td>\n",
       "      <td>2.0</td>\n",
       "    </tr>\n",
       "    <tr>\n",
       "      <th>48</th>\n",
       "      <td>2.0</td>\n",
       "      <td>1.0</td>\n",
       "    </tr>\n",
       "    <tr>\n",
       "      <th>49</th>\n",
       "      <td>2.0</td>\n",
       "      <td>1.0</td>\n",
       "    </tr>\n",
       "  </tbody>\n",
       "</table>\n",
       "</div>"
      ],
      "text/plain": [
       "    review  education\n",
       "0      1.0        0.0\n",
       "1      0.0        1.0\n",
       "2      2.0        2.0\n",
       "3      2.0        2.0\n",
       "4      1.0        1.0\n",
       "5      1.0        0.0\n",
       "6      2.0        0.0\n",
       "7      0.0        0.0\n",
       "8      1.0        1.0\n",
       "9      2.0        1.0\n",
       "10     2.0        1.0\n",
       "11     2.0        1.0\n",
       "12     0.0        0.0\n",
       "13     1.0        0.0\n",
       "14     0.0        2.0\n",
       "15     0.0        1.0\n",
       "16     0.0        1.0\n",
       "17     0.0        1.0\n",
       "18     2.0        0.0\n",
       "19     0.0        2.0\n",
       "20     1.0        0.0\n",
       "21     1.0        2.0\n",
       "22     0.0        2.0\n",
       "23     2.0        0.0\n",
       "24     1.0        2.0\n",
       "25     2.0        0.0\n",
       "26     0.0        2.0\n",
       "27     0.0        2.0\n",
       "28     0.0        0.0\n",
       "29     1.0        1.0\n",
       "30     1.0        1.0\n",
       "31     0.0        0.0\n",
       "32     1.0        1.0\n",
       "33     2.0        2.0\n",
       "34     1.0        0.0\n",
       "35     0.0        0.0\n",
       "36     2.0        1.0\n",
       "37     1.0        2.0\n",
       "38     2.0        0.0\n",
       "39     0.0        2.0\n",
       "40     2.0        0.0\n",
       "41     2.0        2.0\n",
       "42     2.0        2.0\n",
       "43     0.0        2.0\n",
       "44     1.0        1.0\n",
       "45     0.0        2.0\n",
       "46     0.0        2.0\n",
       "47     2.0        2.0\n",
       "48     2.0        1.0\n",
       "49     2.0        1.0"
      ]
     },
     "execution_count": 13,
     "metadata": {},
     "output_type": "execute_result"
    }
   ],
   "source": [
    "pd.DataFrame(X_train_transformed,columns = X_train.columns)"
   ]
  },
  {
   "cell_type": "markdown",
   "id": "8195ac54",
   "metadata": {
    "papermill": {
     "duration": 0.007618,
     "end_time": "2022-07-12T04:52:16.921783",
     "exception": false,
     "start_time": "2022-07-12T04:52:16.914165",
     "status": "completed"
    },
    "tags": []
   },
   "source": [
    "# Label Encoding\n"
   ]
  },
  {
   "cell_type": "code",
   "execution_count": 14,
   "id": "0e6228a7",
   "metadata": {
    "execution": {
     "iopub.execute_input": "2022-07-12T04:52:16.939519Z",
     "iopub.status.busy": "2022-07-12T04:52:16.938845Z",
     "iopub.status.idle": "2022-07-12T04:52:16.942967Z",
     "shell.execute_reply": "2022-07-12T04:52:16.942204Z"
    },
    "papermill": {
     "duration": 0.015438,
     "end_time": "2022-07-12T04:52:16.945040",
     "exception": false,
     "start_time": "2022-07-12T04:52:16.929602",
     "status": "completed"
    },
    "tags": []
   },
   "outputs": [],
   "source": [
    "from sklearn.preprocessing import LabelEncoder"
   ]
  },
  {
   "cell_type": "code",
   "execution_count": 15,
   "id": "0c157920",
   "metadata": {
    "execution": {
     "iopub.execute_input": "2022-07-12T04:52:16.963250Z",
     "iopub.status.busy": "2022-07-12T04:52:16.962576Z",
     "iopub.status.idle": "2022-07-12T04:52:16.966825Z",
     "shell.execute_reply": "2022-07-12T04:52:16.965839Z"
    },
    "papermill": {
     "duration": 0.016278,
     "end_time": "2022-07-12T04:52:16.969061",
     "exception": false,
     "start_time": "2022-07-12T04:52:16.952783",
     "status": "completed"
    },
    "tags": []
   },
   "outputs": [],
   "source": [
    "le =LabelEncoder()"
   ]
  },
  {
   "cell_type": "code",
   "execution_count": 16,
   "id": "6f46879e",
   "metadata": {
    "execution": {
     "iopub.execute_input": "2022-07-12T04:52:16.985993Z",
     "iopub.status.busy": "2022-07-12T04:52:16.985616Z",
     "iopub.status.idle": "2022-07-12T04:52:16.991455Z",
     "shell.execute_reply": "2022-07-12T04:52:16.990624Z"
    },
    "papermill": {
     "duration": 0.016877,
     "end_time": "2022-07-12T04:52:16.993471",
     "exception": false,
     "start_time": "2022-07-12T04:52:16.976594",
     "status": "completed"
    },
    "tags": []
   },
   "outputs": [],
   "source": [
    "y_train =df['purchased']"
   ]
  },
  {
   "cell_type": "code",
   "execution_count": 17,
   "id": "46fa3a89",
   "metadata": {
    "execution": {
     "iopub.execute_input": "2022-07-12T04:52:17.010426Z",
     "iopub.status.busy": "2022-07-12T04:52:17.010011Z",
     "iopub.status.idle": "2022-07-12T04:52:17.017584Z",
     "shell.execute_reply": "2022-07-12T04:52:17.016530Z"
    },
    "papermill": {
     "duration": 0.018823,
     "end_time": "2022-07-12T04:52:17.019876",
     "exception": false,
     "start_time": "2022-07-12T04:52:17.001053",
     "status": "completed"
    },
    "tags": []
   },
   "outputs": [
    {
     "data": {
      "text/plain": [
       "LabelEncoder()"
      ]
     },
     "execution_count": 17,
     "metadata": {},
     "output_type": "execute_result"
    }
   ],
   "source": [
    "le.fit(y_train)"
   ]
  },
  {
   "cell_type": "code",
   "execution_count": 18,
   "id": "98ba4bf5",
   "metadata": {
    "execution": {
     "iopub.execute_input": "2022-07-12T04:52:17.037968Z",
     "iopub.status.busy": "2022-07-12T04:52:17.037321Z",
     "iopub.status.idle": "2022-07-12T04:52:17.043810Z",
     "shell.execute_reply": "2022-07-12T04:52:17.042882Z"
    },
    "papermill": {
     "duration": 0.017823,
     "end_time": "2022-07-12T04:52:17.045957",
     "exception": false,
     "start_time": "2022-07-12T04:52:17.028134",
     "status": "completed"
    },
    "tags": []
   },
   "outputs": [
    {
     "data": {
      "text/plain": [
       "array(['No', 'Yes'], dtype=object)"
      ]
     },
     "execution_count": 18,
     "metadata": {},
     "output_type": "execute_result"
    }
   ],
   "source": [
    "le.classes_"
   ]
  },
  {
   "cell_type": "code",
   "execution_count": 19,
   "id": "08275ae6",
   "metadata": {
    "execution": {
     "iopub.execute_input": "2022-07-12T04:52:17.063192Z",
     "iopub.status.busy": "2022-07-12T04:52:17.062841Z",
     "iopub.status.idle": "2022-07-12T04:52:17.067605Z",
     "shell.execute_reply": "2022-07-12T04:52:17.066416Z"
    },
    "papermill": {
     "duration": 0.015881,
     "end_time": "2022-07-12T04:52:17.069735",
     "exception": false,
     "start_time": "2022-07-12T04:52:17.053854",
     "status": "completed"
    },
    "tags": []
   },
   "outputs": [],
   "source": [
    "\n",
    "y_train = le.transform(y_train)"
   ]
  },
  {
   "cell_type": "code",
   "execution_count": 20,
   "id": "f26470e8",
   "metadata": {
    "execution": {
     "iopub.execute_input": "2022-07-12T04:52:17.086884Z",
     "iopub.status.busy": "2022-07-12T04:52:17.086509Z",
     "iopub.status.idle": "2022-07-12T04:52:17.093436Z",
     "shell.execute_reply": "2022-07-12T04:52:17.092359Z"
    },
    "papermill": {
     "duration": 0.017928,
     "end_time": "2022-07-12T04:52:17.095525",
     "exception": false,
     "start_time": "2022-07-12T04:52:17.077597",
     "status": "completed"
    },
    "tags": []
   },
   "outputs": [
    {
     "data": {
      "text/plain": [
       "array([0, 0, 0, 0, 0, 1, 0, 1, 0, 1, 1, 1, 0, 0, 1, 0, 1, 1, 0, 1, 1, 0,\n",
       "       1, 0, 1, 0, 0, 0, 0, 1, 0, 1, 1, 1, 0, 1, 1, 1, 0, 0, 0, 1, 1, 0,\n",
       "       0, 1, 0, 1, 1, 0])"
      ]
     },
     "execution_count": 20,
     "metadata": {},
     "output_type": "execute_result"
    }
   ],
   "source": [
    "y_train"
   ]
  },
  {
   "cell_type": "code",
   "execution_count": null,
   "id": "56ec0103",
   "metadata": {
    "papermill": {
     "duration": 0.007594,
     "end_time": "2022-07-12T04:52:17.110788",
     "exception": false,
     "start_time": "2022-07-12T04:52:17.103194",
     "status": "completed"
    },
    "tags": []
   },
   "outputs": [],
   "source": []
  }
 ],
 "metadata": {
  "kernelspec": {
   "display_name": "Python 3",
   "language": "python",
   "name": "python3"
  },
  "language_info": {
   "codemirror_mode": {
    "name": "ipython",
    "version": 3
   },
   "file_extension": ".py",
   "mimetype": "text/x-python",
   "name": "python",
   "nbconvert_exporter": "python",
   "pygments_lexer": "ipython3",
   "version": "3.7.12"
  },
  "papermill": {
   "default_parameters": {},
   "duration": 11.814434,
   "end_time": "2022-07-12T04:52:17.739210",
   "environment_variables": {},
   "exception": null,
   "input_path": "__notebook__.ipynb",
   "output_path": "__notebook__.ipynb",
   "parameters": {},
   "start_time": "2022-07-12T04:52:05.924776",
   "version": "2.3.4"
  }
 },
 "nbformat": 4,
 "nbformat_minor": 5
}
