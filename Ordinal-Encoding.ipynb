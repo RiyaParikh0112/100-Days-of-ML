{
 "cells": [
  {
   "cell_type": "code",
   "execution_count": 1,
   "id": "519475aa",
   "metadata": {
    "_cell_guid": "b1076dfc-b9ad-4769-8c92-a6c4dae69d19",
    "_uuid": "8f2839f25d086af736a60e9eeb907d3b93b6e0e5",
    "execution": {
     "iopub.execute_input": "2022-07-12T04:38:03.739789Z",
     "iopub.status.busy": "2022-07-12T04:38:03.739193Z",
     "iopub.status.idle": "2022-07-12T04:38:03.755761Z",
     "shell.execute_reply": "2022-07-12T04:38:03.754983Z"
    },
    "papermill": {
     "duration": 0.025885,
     "end_time": "2022-07-12T04:38:03.758198",
     "exception": false,
     "start_time": "2022-07-12T04:38:03.732313",
     "status": "completed"
    },
    "tags": []
   },
   "outputs": [],
   "source": [
    "import pandas as pd\n",
    "import numpy as np\n"
   ]
  },
  {
   "cell_type": "code",
   "execution_count": 2,
   "id": "d07e0f71",
   "metadata": {
    "execution": {
     "iopub.execute_input": "2022-07-12T04:38:03.765601Z",
     "iopub.status.busy": "2022-07-12T04:38:03.765221Z",
     "iopub.status.idle": "2022-07-12T04:38:03.784530Z",
     "shell.execute_reply": "2022-07-12T04:38:03.783542Z"
    },
    "papermill": {
     "duration": 0.027425,
     "end_time": "2022-07-12T04:38:03.788403",
     "exception": false,
     "start_time": "2022-07-12T04:38:03.760978",
     "status": "completed"
    },
    "tags": []
   },
   "outputs": [],
   "source": [
    "df=pd.read_csv('../input/customer/customer.csv')"
   ]
  },
  {
   "cell_type": "code",
   "execution_count": 3,
   "id": "bfe41acc",
   "metadata": {
    "execution": {
     "iopub.execute_input": "2022-07-12T04:38:03.797328Z",
     "iopub.status.busy": "2022-07-12T04:38:03.796204Z",
     "iopub.status.idle": "2022-07-12T04:38:03.821573Z",
     "shell.execute_reply": "2022-07-12T04:38:03.820514Z"
    },
    "papermill": {
     "duration": 0.032185,
     "end_time": "2022-07-12T04:38:03.824538",
     "exception": false,
     "start_time": "2022-07-12T04:38:03.792353",
     "status": "completed"
    },
    "tags": []
   },
   "outputs": [
    {
     "data": {
      "text/html": [
       "<div>\n",
       "<style scoped>\n",
       "    .dataframe tbody tr th:only-of-type {\n",
       "        vertical-align: middle;\n",
       "    }\n",
       "\n",
       "    .dataframe tbody tr th {\n",
       "        vertical-align: top;\n",
       "    }\n",
       "\n",
       "    .dataframe thead th {\n",
       "        text-align: right;\n",
       "    }\n",
       "</style>\n",
       "<table border=\"1\" class=\"dataframe\">\n",
       "  <thead>\n",
       "    <tr style=\"text-align: right;\">\n",
       "      <th></th>\n",
       "      <th>age</th>\n",
       "      <th>gender</th>\n",
       "      <th>review</th>\n",
       "      <th>education</th>\n",
       "      <th>purchased</th>\n",
       "    </tr>\n",
       "  </thead>\n",
       "  <tbody>\n",
       "    <tr>\n",
       "      <th>45</th>\n",
       "      <td>61</td>\n",
       "      <td>Male</td>\n",
       "      <td>Poor</td>\n",
       "      <td>PG</td>\n",
       "      <td>Yes</td>\n",
       "    </tr>\n",
       "    <tr>\n",
       "      <th>23</th>\n",
       "      <td>96</td>\n",
       "      <td>Female</td>\n",
       "      <td>Good</td>\n",
       "      <td>School</td>\n",
       "      <td>No</td>\n",
       "    </tr>\n",
       "    <tr>\n",
       "      <th>16</th>\n",
       "      <td>59</td>\n",
       "      <td>Male</td>\n",
       "      <td>Poor</td>\n",
       "      <td>UG</td>\n",
       "      <td>Yes</td>\n",
       "    </tr>\n",
       "    <tr>\n",
       "      <th>7</th>\n",
       "      <td>60</td>\n",
       "      <td>Female</td>\n",
       "      <td>Poor</td>\n",
       "      <td>School</td>\n",
       "      <td>Yes</td>\n",
       "    </tr>\n",
       "    <tr>\n",
       "      <th>42</th>\n",
       "      <td>30</td>\n",
       "      <td>Female</td>\n",
       "      <td>Good</td>\n",
       "      <td>PG</td>\n",
       "      <td>Yes</td>\n",
       "    </tr>\n",
       "  </tbody>\n",
       "</table>\n",
       "</div>"
      ],
      "text/plain": [
       "    age  gender review education purchased\n",
       "45   61    Male   Poor        PG       Yes\n",
       "23   96  Female   Good    School        No\n",
       "16   59    Male   Poor        UG       Yes\n",
       "7    60  Female   Poor    School       Yes\n",
       "42   30  Female   Good        PG       Yes"
      ]
     },
     "execution_count": 3,
     "metadata": {},
     "output_type": "execute_result"
    }
   ],
   "source": [
    "df.sample(5)"
   ]
  },
  {
   "cell_type": "code",
   "execution_count": 4,
   "id": "a9f4a774",
   "metadata": {
    "execution": {
     "iopub.execute_input": "2022-07-12T04:38:03.831692Z",
     "iopub.status.busy": "2022-07-12T04:38:03.831011Z",
     "iopub.status.idle": "2022-07-12T04:38:03.836475Z",
     "shell.execute_reply": "2022-07-12T04:38:03.835726Z"
    },
    "papermill": {
     "duration": 0.011218,
     "end_time": "2022-07-12T04:38:03.838551",
     "exception": false,
     "start_time": "2022-07-12T04:38:03.827333",
     "status": "completed"
    },
    "tags": []
   },
   "outputs": [],
   "source": [
    "df = df.iloc[:,2:]"
   ]
  },
  {
   "cell_type": "code",
   "execution_count": 5,
   "id": "39d700ce",
   "metadata": {
    "execution": {
     "iopub.execute_input": "2022-07-12T04:38:03.845673Z",
     "iopub.status.busy": "2022-07-12T04:38:03.844719Z",
     "iopub.status.idle": "2022-07-12T04:38:03.856259Z",
     "shell.execute_reply": "2022-07-12T04:38:03.855209Z"
    },
    "papermill": {
     "duration": 0.017228,
     "end_time": "2022-07-12T04:38:03.858392",
     "exception": false,
     "start_time": "2022-07-12T04:38:03.841164",
     "status": "completed"
    },
    "tags": []
   },
   "outputs": [
    {
     "data": {
      "text/html": [
       "<div>\n",
       "<style scoped>\n",
       "    .dataframe tbody tr th:only-of-type {\n",
       "        vertical-align: middle;\n",
       "    }\n",
       "\n",
       "    .dataframe tbody tr th {\n",
       "        vertical-align: top;\n",
       "    }\n",
       "\n",
       "    .dataframe thead th {\n",
       "        text-align: right;\n",
       "    }\n",
       "</style>\n",
       "<table border=\"1\" class=\"dataframe\">\n",
       "  <thead>\n",
       "    <tr style=\"text-align: right;\">\n",
       "      <th></th>\n",
       "      <th>review</th>\n",
       "      <th>education</th>\n",
       "      <th>purchased</th>\n",
       "    </tr>\n",
       "  </thead>\n",
       "  <tbody>\n",
       "    <tr>\n",
       "      <th>3</th>\n",
       "      <td>Good</td>\n",
       "      <td>PG</td>\n",
       "      <td>No</td>\n",
       "    </tr>\n",
       "    <tr>\n",
       "      <th>16</th>\n",
       "      <td>Poor</td>\n",
       "      <td>UG</td>\n",
       "      <td>Yes</td>\n",
       "    </tr>\n",
       "    <tr>\n",
       "      <th>21</th>\n",
       "      <td>Average</td>\n",
       "      <td>PG</td>\n",
       "      <td>No</td>\n",
       "    </tr>\n",
       "    <tr>\n",
       "      <th>18</th>\n",
       "      <td>Good</td>\n",
       "      <td>School</td>\n",
       "      <td>No</td>\n",
       "    </tr>\n",
       "    <tr>\n",
       "      <th>42</th>\n",
       "      <td>Good</td>\n",
       "      <td>PG</td>\n",
       "      <td>Yes</td>\n",
       "    </tr>\n",
       "  </tbody>\n",
       "</table>\n",
       "</div>"
      ],
      "text/plain": [
       "     review education purchased\n",
       "3      Good        PG        No\n",
       "16     Poor        UG       Yes\n",
       "21  Average        PG        No\n",
       "18     Good    School        No\n",
       "42     Good        PG       Yes"
      ]
     },
     "execution_count": 5,
     "metadata": {},
     "output_type": "execute_result"
    }
   ],
   "source": [
    "df.sample(5)"
   ]
  },
  {
   "cell_type": "code",
   "execution_count": null,
   "id": "92121082",
   "metadata": {
    "papermill": {
     "duration": 0.002731,
     "end_time": "2022-07-12T04:38:03.863995",
     "exception": false,
     "start_time": "2022-07-12T04:38:03.861264",
     "status": "completed"
    },
    "tags": []
   },
   "outputs": [],
   "source": []
  }
 ],
 "metadata": {
  "kernelspec": {
   "display_name": "Python 3",
   "language": "python",
   "name": "python3"
  },
  "language_info": {
   "codemirror_mode": {
    "name": "ipython",
    "version": 3
   },
   "file_extension": ".py",
   "mimetype": "text/x-python",
   "name": "python",
   "nbconvert_exporter": "python",
   "pygments_lexer": "ipython3",
   "version": "3.7.12"
  },
  "papermill": {
   "default_parameters": {},
   "duration": 10.537869,
   "end_time": "2022-07-12T04:38:04.487063",
   "environment_variables": {},
   "exception": null,
   "input_path": "__notebook__.ipynb",
   "output_path": "__notebook__.ipynb",
   "parameters": {},
   "start_time": "2022-07-12T04:37:53.949194",
   "version": "2.3.4"
  }
 },
 "nbformat": 4,
 "nbformat_minor": 5
}
