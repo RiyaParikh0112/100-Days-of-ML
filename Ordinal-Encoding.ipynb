{
 "cells": [
  {
   "cell_type": "markdown",
   "id": "2b17ae19",
   "metadata": {
    "papermill": {
     "duration": 0.006385,
     "end_time": "2022-07-12T04:52:41.467978",
     "exception": false,
     "start_time": "2022-07-12T04:52:41.461593",
     "status": "completed"
    },
    "tags": []
   },
   "source": [
    "# Ordinal Encoder"
   ]
  },
  {
   "cell_type": "code",
   "execution_count": 1,
   "id": "d92e6b75",
   "metadata": {
    "_cell_guid": "b1076dfc-b9ad-4769-8c92-a6c4dae69d19",
    "_uuid": "8f2839f25d086af736a60e9eeb907d3b93b6e0e5",
    "execution": {
     "iopub.execute_input": "2022-07-12T04:52:41.481079Z",
     "iopub.status.busy": "2022-07-12T04:52:41.480650Z",
     "iopub.status.idle": "2022-07-12T04:52:41.491451Z",
     "shell.execute_reply": "2022-07-12T04:52:41.490259Z"
    },
    "papermill": {
     "duration": 0.020244,
     "end_time": "2022-07-12T04:52:41.494270",
     "exception": false,
     "start_time": "2022-07-12T04:52:41.474026",
     "status": "completed"
    },
    "tags": []
   },
   "outputs": [],
   "source": [
    "import pandas as pd\n",
    "import numpy as np\n"
   ]
  },
  {
   "cell_type": "code",
   "execution_count": 2,
   "id": "5aaa8c83",
   "metadata": {
    "execution": {
     "iopub.execute_input": "2022-07-12T04:52:41.505885Z",
     "iopub.status.busy": "2022-07-12T04:52:41.505387Z",
     "iopub.status.idle": "2022-07-12T04:52:41.530530Z",
     "shell.execute_reply": "2022-07-12T04:52:41.528750Z"
    },
    "papermill": {
     "duration": 0.033872,
     "end_time": "2022-07-12T04:52:41.533204",
     "exception": false,
     "start_time": "2022-07-12T04:52:41.499332",
     "status": "completed"
    },
    "tags": []
   },
   "outputs": [],
   "source": [
    "df=pd.read_csv('../input/customer/customer.csv')"
   ]
  },
  {
   "cell_type": "code",
   "execution_count": 3,
   "id": "803b259c",
   "metadata": {
    "execution": {
     "iopub.execute_input": "2022-07-12T04:52:41.545036Z",
     "iopub.status.busy": "2022-07-12T04:52:41.544520Z",
     "iopub.status.idle": "2022-07-12T04:52:41.569016Z",
     "shell.execute_reply": "2022-07-12T04:52:41.568196Z"
    },
    "papermill": {
     "duration": 0.033048,
     "end_time": "2022-07-12T04:52:41.571147",
     "exception": false,
     "start_time": "2022-07-12T04:52:41.538099",
     "status": "completed"
    },
    "tags": []
   },
   "outputs": [
    {
     "data": {
      "text/html": [
       "<div>\n",
       "<style scoped>\n",
       "    .dataframe tbody tr th:only-of-type {\n",
       "        vertical-align: middle;\n",
       "    }\n",
       "\n",
       "    .dataframe tbody tr th {\n",
       "        vertical-align: top;\n",
       "    }\n",
       "\n",
       "    .dataframe thead th {\n",
       "        text-align: right;\n",
       "    }\n",
       "</style>\n",
       "<table border=\"1\" class=\"dataframe\">\n",
       "  <thead>\n",
       "    <tr style=\"text-align: right;\">\n",
       "      <th></th>\n",
       "      <th>age</th>\n",
       "      <th>gender</th>\n",
       "      <th>review</th>\n",
       "      <th>education</th>\n",
       "      <th>purchased</th>\n",
       "    </tr>\n",
       "  </thead>\n",
       "  <tbody>\n",
       "    <tr>\n",
       "      <th>36</th>\n",
       "      <td>34</td>\n",
       "      <td>Female</td>\n",
       "      <td>Good</td>\n",
       "      <td>UG</td>\n",
       "      <td>Yes</td>\n",
       "    </tr>\n",
       "    <tr>\n",
       "      <th>2</th>\n",
       "      <td>70</td>\n",
       "      <td>Female</td>\n",
       "      <td>Good</td>\n",
       "      <td>PG</td>\n",
       "      <td>No</td>\n",
       "    </tr>\n",
       "    <tr>\n",
       "      <th>43</th>\n",
       "      <td>27</td>\n",
       "      <td>Male</td>\n",
       "      <td>Poor</td>\n",
       "      <td>PG</td>\n",
       "      <td>No</td>\n",
       "    </tr>\n",
       "    <tr>\n",
       "      <th>39</th>\n",
       "      <td>76</td>\n",
       "      <td>Male</td>\n",
       "      <td>Poor</td>\n",
       "      <td>PG</td>\n",
       "      <td>No</td>\n",
       "    </tr>\n",
       "    <tr>\n",
       "      <th>6</th>\n",
       "      <td>18</td>\n",
       "      <td>Male</td>\n",
       "      <td>Good</td>\n",
       "      <td>School</td>\n",
       "      <td>No</td>\n",
       "    </tr>\n",
       "  </tbody>\n",
       "</table>\n",
       "</div>"
      ],
      "text/plain": [
       "    age  gender review education purchased\n",
       "36   34  Female   Good        UG       Yes\n",
       "2    70  Female   Good        PG        No\n",
       "43   27    Male   Poor        PG        No\n",
       "39   76    Male   Poor        PG        No\n",
       "6    18    Male   Good    School        No"
      ]
     },
     "execution_count": 3,
     "metadata": {},
     "output_type": "execute_result"
    }
   ],
   "source": [
    "df.sample(5)"
   ]
  },
  {
   "cell_type": "code",
   "execution_count": 4,
   "id": "4146e5ad",
   "metadata": {
    "execution": {
     "iopub.execute_input": "2022-07-12T04:52:41.583186Z",
     "iopub.status.busy": "2022-07-12T04:52:41.582442Z",
     "iopub.status.idle": "2022-07-12T04:52:41.587734Z",
     "shell.execute_reply": "2022-07-12T04:52:41.586803Z"
    },
    "papermill": {
     "duration": 0.013864,
     "end_time": "2022-07-12T04:52:41.589999",
     "exception": false,
     "start_time": "2022-07-12T04:52:41.576135",
     "status": "completed"
    },
    "tags": []
   },
   "outputs": [],
   "source": [
    "df = df.iloc[:,2:]"
   ]
  },
  {
   "cell_type": "code",
   "execution_count": 5,
   "id": "c6f745da",
   "metadata": {
    "execution": {
     "iopub.execute_input": "2022-07-12T04:52:41.601975Z",
     "iopub.status.busy": "2022-07-12T04:52:41.601603Z",
     "iopub.status.idle": "2022-07-12T04:52:41.612878Z",
     "shell.execute_reply": "2022-07-12T04:52:41.611658Z"
    },
    "papermill": {
     "duration": 0.019817,
     "end_time": "2022-07-12T04:52:41.615015",
     "exception": false,
     "start_time": "2022-07-12T04:52:41.595198",
     "status": "completed"
    },
    "tags": []
   },
   "outputs": [
    {
     "data": {
      "text/html": [
       "<div>\n",
       "<style scoped>\n",
       "    .dataframe tbody tr th:only-of-type {\n",
       "        vertical-align: middle;\n",
       "    }\n",
       "\n",
       "    .dataframe tbody tr th {\n",
       "        vertical-align: top;\n",
       "    }\n",
       "\n",
       "    .dataframe thead th {\n",
       "        text-align: right;\n",
       "    }\n",
       "</style>\n",
       "<table border=\"1\" class=\"dataframe\">\n",
       "  <thead>\n",
       "    <tr style=\"text-align: right;\">\n",
       "      <th></th>\n",
       "      <th>review</th>\n",
       "      <th>education</th>\n",
       "      <th>purchased</th>\n",
       "    </tr>\n",
       "  </thead>\n",
       "  <tbody>\n",
       "    <tr>\n",
       "      <th>28</th>\n",
       "      <td>Poor</td>\n",
       "      <td>School</td>\n",
       "      <td>No</td>\n",
       "    </tr>\n",
       "    <tr>\n",
       "      <th>30</th>\n",
       "      <td>Average</td>\n",
       "      <td>UG</td>\n",
       "      <td>No</td>\n",
       "    </tr>\n",
       "    <tr>\n",
       "      <th>35</th>\n",
       "      <td>Poor</td>\n",
       "      <td>School</td>\n",
       "      <td>Yes</td>\n",
       "    </tr>\n",
       "    <tr>\n",
       "      <th>22</th>\n",
       "      <td>Poor</td>\n",
       "      <td>PG</td>\n",
       "      <td>Yes</td>\n",
       "    </tr>\n",
       "    <tr>\n",
       "      <th>11</th>\n",
       "      <td>Good</td>\n",
       "      <td>UG</td>\n",
       "      <td>Yes</td>\n",
       "    </tr>\n",
       "  </tbody>\n",
       "</table>\n",
       "</div>"
      ],
      "text/plain": [
       "     review education purchased\n",
       "28     Poor    School        No\n",
       "30  Average        UG        No\n",
       "35     Poor    School       Yes\n",
       "22     Poor        PG       Yes\n",
       "11     Good        UG       Yes"
      ]
     },
     "execution_count": 5,
     "metadata": {},
     "output_type": "execute_result"
    }
   ],
   "source": [
    "df.sample(5)"
   ]
  },
  {
   "cell_type": "code",
   "execution_count": 6,
   "id": "3225fa2d",
   "metadata": {
    "execution": {
     "iopub.execute_input": "2022-07-12T04:52:41.628013Z",
     "iopub.status.busy": "2022-07-12T04:52:41.627260Z",
     "iopub.status.idle": "2022-07-12T04:52:42.664848Z",
     "shell.execute_reply": "2022-07-12T04:52:42.663669Z"
    },
    "papermill": {
     "duration": 1.047085,
     "end_time": "2022-07-12T04:52:42.667617",
     "exception": false,
     "start_time": "2022-07-12T04:52:41.620532",
     "status": "completed"
    },
    "tags": []
   },
   "outputs": [],
   "source": [
    "#let us import the Ordinal Encoder\n",
    "from sklearn.preprocessing import OrdinalEncoder"
   ]
  },
  {
   "cell_type": "code",
   "execution_count": 7,
   "id": "bc2a4460",
   "metadata": {
    "execution": {
     "iopub.execute_input": "2022-07-12T04:52:42.679652Z",
     "iopub.status.busy": "2022-07-12T04:52:42.679279Z",
     "iopub.status.idle": "2022-07-12T04:52:42.688648Z",
     "shell.execute_reply": "2022-07-12T04:52:42.687404Z"
    },
    "papermill": {
     "duration": 0.018077,
     "end_time": "2022-07-12T04:52:42.690901",
     "exception": false,
     "start_time": "2022-07-12T04:52:42.672824",
     "status": "completed"
    },
    "tags": []
   },
   "outputs": [],
   "source": [
    "X_train = df.drop('purchased',axis=1)"
   ]
  },
  {
   "cell_type": "code",
   "execution_count": 8,
   "id": "07b16d35",
   "metadata": {
    "execution": {
     "iopub.execute_input": "2022-07-12T04:52:42.702701Z",
     "iopub.status.busy": "2022-07-12T04:52:42.702344Z",
     "iopub.status.idle": "2022-07-12T04:52:42.712386Z",
     "shell.execute_reply": "2022-07-12T04:52:42.711220Z"
    },
    "papermill": {
     "duration": 0.018666,
     "end_time": "2022-07-12T04:52:42.714734",
     "exception": false,
     "start_time": "2022-07-12T04:52:42.696068",
     "status": "completed"
    },
    "tags": []
   },
   "outputs": [
    {
     "data": {
      "text/html": [
       "<div>\n",
       "<style scoped>\n",
       "    .dataframe tbody tr th:only-of-type {\n",
       "        vertical-align: middle;\n",
       "    }\n",
       "\n",
       "    .dataframe tbody tr th {\n",
       "        vertical-align: top;\n",
       "    }\n",
       "\n",
       "    .dataframe thead th {\n",
       "        text-align: right;\n",
       "    }\n",
       "</style>\n",
       "<table border=\"1\" class=\"dataframe\">\n",
       "  <thead>\n",
       "    <tr style=\"text-align: right;\">\n",
       "      <th></th>\n",
       "      <th>review</th>\n",
       "      <th>education</th>\n",
       "    </tr>\n",
       "  </thead>\n",
       "  <tbody>\n",
       "    <tr>\n",
       "      <th>28</th>\n",
       "      <td>Poor</td>\n",
       "      <td>School</td>\n",
       "    </tr>\n",
       "    <tr>\n",
       "      <th>34</th>\n",
       "      <td>Average</td>\n",
       "      <td>School</td>\n",
       "    </tr>\n",
       "    <tr>\n",
       "      <th>0</th>\n",
       "      <td>Average</td>\n",
       "      <td>School</td>\n",
       "    </tr>\n",
       "    <tr>\n",
       "      <th>5</th>\n",
       "      <td>Average</td>\n",
       "      <td>School</td>\n",
       "    </tr>\n",
       "    <tr>\n",
       "      <th>42</th>\n",
       "      <td>Good</td>\n",
       "      <td>PG</td>\n",
       "    </tr>\n",
       "  </tbody>\n",
       "</table>\n",
       "</div>"
      ],
      "text/plain": [
       "     review education\n",
       "28     Poor    School\n",
       "34  Average    School\n",
       "0   Average    School\n",
       "5   Average    School\n",
       "42     Good        PG"
      ]
     },
     "execution_count": 8,
     "metadata": {},
     "output_type": "execute_result"
    }
   ],
   "source": [
    "X_train.sample(5)"
   ]
  },
  {
   "cell_type": "code",
   "execution_count": 9,
   "id": "7da3753d",
   "metadata": {
    "execution": {
     "iopub.execute_input": "2022-07-12T04:52:42.727540Z",
     "iopub.status.busy": "2022-07-12T04:52:42.727187Z",
     "iopub.status.idle": "2022-07-12T04:52:42.732052Z",
     "shell.execute_reply": "2022-07-12T04:52:42.730459Z"
    },
    "papermill": {
     "duration": 0.014048,
     "end_time": "2022-07-12T04:52:42.734392",
     "exception": false,
     "start_time": "2022-07-12T04:52:42.720344",
     "status": "completed"
    },
    "tags": []
   },
   "outputs": [],
   "source": [
    "# As in ordinal data there is a relationship between the terms lets us define them\n",
    "oe = OrdinalEncoder(categories=[['Poor','Average','Good'], ['School','UG','PG']])"
   ]
  },
  {
   "cell_type": "code",
   "execution_count": 10,
   "id": "636c7577",
   "metadata": {
    "execution": {
     "iopub.execute_input": "2022-07-12T04:52:42.746751Z",
     "iopub.status.busy": "2022-07-12T04:52:42.745857Z",
     "iopub.status.idle": "2022-07-12T04:52:42.755487Z",
     "shell.execute_reply": "2022-07-12T04:52:42.754357Z"
    },
    "papermill": {
     "duration": 0.018143,
     "end_time": "2022-07-12T04:52:42.757808",
     "exception": false,
     "start_time": "2022-07-12T04:52:42.739665",
     "status": "completed"
    },
    "tags": []
   },
   "outputs": [
    {
     "data": {
      "text/plain": [
       "OrdinalEncoder(categories=[['Poor', 'Average', 'Good'], ['School', 'UG', 'PG']])"
      ]
     },
     "execution_count": 10,
     "metadata": {},
     "output_type": "execute_result"
    }
   ],
   "source": [
    "oe.fit(X_train)"
   ]
  },
  {
   "cell_type": "code",
   "execution_count": 11,
   "id": "9615c711",
   "metadata": {
    "execution": {
     "iopub.execute_input": "2022-07-12T04:52:42.770585Z",
     "iopub.status.busy": "2022-07-12T04:52:42.770227Z",
     "iopub.status.idle": "2022-07-12T04:52:42.776058Z",
     "shell.execute_reply": "2022-07-12T04:52:42.774875Z"
    },
    "papermill": {
     "duration": 0.015064,
     "end_time": "2022-07-12T04:52:42.778275",
     "exception": false,
     "start_time": "2022-07-12T04:52:42.763211",
     "status": "completed"
    },
    "tags": []
   },
   "outputs": [],
   "source": [
    "X_train_transformed= oe.transform(X_train)"
   ]
  },
  {
   "cell_type": "code",
   "execution_count": 12,
   "id": "1a1fd5db",
   "metadata": {
    "execution": {
     "iopub.execute_input": "2022-07-12T04:52:42.791343Z",
     "iopub.status.busy": "2022-07-12T04:52:42.790961Z",
     "iopub.status.idle": "2022-07-12T04:52:42.799037Z",
     "shell.execute_reply": "2022-07-12T04:52:42.797760Z"
    },
    "papermill": {
     "duration": 0.017829,
     "end_time": "2022-07-12T04:52:42.801514",
     "exception": false,
     "start_time": "2022-07-12T04:52:42.783685",
     "status": "completed"
    },
    "tags": []
   },
   "outputs": [
    {
     "data": {
      "text/plain": [
       "array([[1., 0.],\n",
       "       [0., 1.],\n",
       "       [2., 2.],\n",
       "       [2., 2.],\n",
       "       [1., 1.],\n",
       "       [1., 0.],\n",
       "       [2., 0.],\n",
       "       [0., 0.],\n",
       "       [1., 1.],\n",
       "       [2., 1.],\n",
       "       [2., 1.],\n",
       "       [2., 1.],\n",
       "       [0., 0.],\n",
       "       [1., 0.],\n",
       "       [0., 2.],\n",
       "       [0., 1.],\n",
       "       [0., 1.],\n",
       "       [0., 1.],\n",
       "       [2., 0.],\n",
       "       [0., 2.],\n",
       "       [1., 0.],\n",
       "       [1., 2.],\n",
       "       [0., 2.],\n",
       "       [2., 0.],\n",
       "       [1., 2.],\n",
       "       [2., 0.],\n",
       "       [0., 2.],\n",
       "       [0., 2.],\n",
       "       [0., 0.],\n",
       "       [1., 1.],\n",
       "       [1., 1.],\n",
       "       [0., 0.],\n",
       "       [1., 1.],\n",
       "       [2., 2.],\n",
       "       [1., 0.],\n",
       "       [0., 0.],\n",
       "       [2., 1.],\n",
       "       [1., 2.],\n",
       "       [2., 0.],\n",
       "       [0., 2.],\n",
       "       [2., 0.],\n",
       "       [2., 2.],\n",
       "       [2., 2.],\n",
       "       [0., 2.],\n",
       "       [1., 1.],\n",
       "       [0., 2.],\n",
       "       [0., 2.],\n",
       "       [2., 2.],\n",
       "       [2., 1.],\n",
       "       [2., 1.]])"
      ]
     },
     "execution_count": 12,
     "metadata": {},
     "output_type": "execute_result"
    }
   ],
   "source": [
    "X_train_transformed"
   ]
  },
  {
   "cell_type": "code",
   "execution_count": 13,
   "id": "26aad1f6",
   "metadata": {
    "execution": {
     "iopub.execute_input": "2022-07-12T04:52:42.814326Z",
     "iopub.status.busy": "2022-07-12T04:52:42.813927Z",
     "iopub.status.idle": "2022-07-12T04:52:42.832399Z",
     "shell.execute_reply": "2022-07-12T04:52:42.831386Z"
    },
    "papermill": {
     "duration": 0.027442,
     "end_time": "2022-07-12T04:52:42.834514",
     "exception": false,
     "start_time": "2022-07-12T04:52:42.807072",
     "status": "completed"
    },
    "tags": []
   },
   "outputs": [
    {
     "data": {
      "text/html": [
       "<div>\n",
       "<style scoped>\n",
       "    .dataframe tbody tr th:only-of-type {\n",
       "        vertical-align: middle;\n",
       "    }\n",
       "\n",
       "    .dataframe tbody tr th {\n",
       "        vertical-align: top;\n",
       "    }\n",
       "\n",
       "    .dataframe thead th {\n",
       "        text-align: right;\n",
       "    }\n",
       "</style>\n",
       "<table border=\"1\" class=\"dataframe\">\n",
       "  <thead>\n",
       "    <tr style=\"text-align: right;\">\n",
       "      <th></th>\n",
       "      <th>review</th>\n",
       "      <th>education</th>\n",
       "    </tr>\n",
       "  </thead>\n",
       "  <tbody>\n",
       "    <tr>\n",
       "      <th>0</th>\n",
       "      <td>1.0</td>\n",
       "      <td>0.0</td>\n",
       "    </tr>\n",
       "    <tr>\n",
       "      <th>1</th>\n",
       "      <td>0.0</td>\n",
       "      <td>1.0</td>\n",
       "    </tr>\n",
       "    <tr>\n",
       "      <th>2</th>\n",
       "      <td>2.0</td>\n",
       "      <td>2.0</td>\n",
       "    </tr>\n",
       "    <tr>\n",
       "      <th>3</th>\n",
       "      <td>2.0</td>\n",
       "      <td>2.0</td>\n",
       "    </tr>\n",
       "    <tr>\n",
       "      <th>4</th>\n",
       "      <td>1.0</td>\n",
       "      <td>1.0</td>\n",
       "    </tr>\n",
       "    <tr>\n",
       "      <th>5</th>\n",
       "      <td>1.0</td>\n",
       "      <td>0.0</td>\n",
       "    </tr>\n",
       "    <tr>\n",
       "      <th>6</th>\n",
       "      <td>2.0</td>\n",
       "      <td>0.0</td>\n",
       "    </tr>\n",
       "    <tr>\n",
       "      <th>7</th>\n",
       "      <td>0.0</td>\n",
       "      <td>0.0</td>\n",
       "    </tr>\n",
       "    <tr>\n",
       "      <th>8</th>\n",
       "      <td>1.0</td>\n",
       "      <td>1.0</td>\n",
       "    </tr>\n",
       "    <tr>\n",
       "      <th>9</th>\n",
       "      <td>2.0</td>\n",
       "      <td>1.0</td>\n",
       "    </tr>\n",
       "    <tr>\n",
       "      <th>10</th>\n",
       "      <td>2.0</td>\n",
       "      <td>1.0</td>\n",
       "    </tr>\n",
       "    <tr>\n",
       "      <th>11</th>\n",
       "      <td>2.0</td>\n",
       "      <td>1.0</td>\n",
       "    </tr>\n",
       "    <tr>\n",
       "      <th>12</th>\n",
       "      <td>0.0</td>\n",
       "      <td>0.0</td>\n",
       "    </tr>\n",
       "    <tr>\n",
       "      <th>13</th>\n",
       "      <td>1.0</td>\n",
       "      <td>0.0</td>\n",
       "    </tr>\n",
       "    <tr>\n",
       "      <th>14</th>\n",
       "      <td>0.0</td>\n",
       "      <td>2.0</td>\n",
       "    </tr>\n",
       "    <tr>\n",
       "      <th>15</th>\n",
       "      <td>0.0</td>\n",
       "      <td>1.0</td>\n",
       "    </tr>\n",
       "    <tr>\n",
       "      <th>16</th>\n",
       "      <td>0.0</td>\n",
       "      <td>1.0</td>\n",
       "    </tr>\n",
       "    <tr>\n",
       "      <th>17</th>\n",
       "      <td>0.0</td>\n",
       "      <td>1.0</td>\n",
       "    </tr>\n",
       "    <tr>\n",
       "      <th>18</th>\n",
       "      <td>2.0</td>\n",
       "      <td>0.0</td>\n",
       "    </tr>\n",
       "    <tr>\n",
       "      <th>19</th>\n",
       "      <td>0.0</td>\n",
       "      <td>2.0</td>\n",
       "    </tr>\n",
       "    <tr>\n",
       "      <th>20</th>\n",
       "      <td>1.0</td>\n",
       "      <td>0.0</td>\n",
       "    </tr>\n",
       "    <tr>\n",
       "      <th>21</th>\n",
       "      <td>1.0</td>\n",
       "      <td>2.0</td>\n",
       "    </tr>\n",
       "    <tr>\n",
       "      <th>22</th>\n",
       "      <td>0.0</td>\n",
       "      <td>2.0</td>\n",
       "    </tr>\n",
       "    <tr>\n",
       "      <th>23</th>\n",
       "      <td>2.0</td>\n",
       "      <td>0.0</td>\n",
       "    </tr>\n",
       "    <tr>\n",
       "      <th>24</th>\n",
       "      <td>1.0</td>\n",
       "      <td>2.0</td>\n",
       "    </tr>\n",
       "    <tr>\n",
       "      <th>25</th>\n",
       "      <td>2.0</td>\n",
       "      <td>0.0</td>\n",
       "    </tr>\n",
       "    <tr>\n",
       "      <th>26</th>\n",
       "      <td>0.0</td>\n",
       "      <td>2.0</td>\n",
       "    </tr>\n",
       "    <tr>\n",
       "      <th>27</th>\n",
       "      <td>0.0</td>\n",
       "      <td>2.0</td>\n",
       "    </tr>\n",
       "    <tr>\n",
       "      <th>28</th>\n",
       "      <td>0.0</td>\n",
       "      <td>0.0</td>\n",
       "    </tr>\n",
       "    <tr>\n",
       "      <th>29</th>\n",
       "      <td>1.0</td>\n",
       "      <td>1.0</td>\n",
       "    </tr>\n",
       "    <tr>\n",
       "      <th>30</th>\n",
       "      <td>1.0</td>\n",
       "      <td>1.0</td>\n",
       "    </tr>\n",
       "    <tr>\n",
       "      <th>31</th>\n",
       "      <td>0.0</td>\n",
       "      <td>0.0</td>\n",
       "    </tr>\n",
       "    <tr>\n",
       "      <th>32</th>\n",
       "      <td>1.0</td>\n",
       "      <td>1.0</td>\n",
       "    </tr>\n",
       "    <tr>\n",
       "      <th>33</th>\n",
       "      <td>2.0</td>\n",
       "      <td>2.0</td>\n",
       "    </tr>\n",
       "    <tr>\n",
       "      <th>34</th>\n",
       "      <td>1.0</td>\n",
       "      <td>0.0</td>\n",
       "    </tr>\n",
       "    <tr>\n",
       "      <th>35</th>\n",
       "      <td>0.0</td>\n",
       "      <td>0.0</td>\n",
       "    </tr>\n",
       "    <tr>\n",
       "      <th>36</th>\n",
       "      <td>2.0</td>\n",
       "      <td>1.0</td>\n",
       "    </tr>\n",
       "    <tr>\n",
       "      <th>37</th>\n",
       "      <td>1.0</td>\n",
       "      <td>2.0</td>\n",
       "    </tr>\n",
       "    <tr>\n",
       "      <th>38</th>\n",
       "      <td>2.0</td>\n",
       "      <td>0.0</td>\n",
       "    </tr>\n",
       "    <tr>\n",
       "      <th>39</th>\n",
       "      <td>0.0</td>\n",
       "      <td>2.0</td>\n",
       "    </tr>\n",
       "    <tr>\n",
       "      <th>40</th>\n",
       "      <td>2.0</td>\n",
       "      <td>0.0</td>\n",
       "    </tr>\n",
       "    <tr>\n",
       "      <th>41</th>\n",
       "      <td>2.0</td>\n",
       "      <td>2.0</td>\n",
       "    </tr>\n",
       "    <tr>\n",
       "      <th>42</th>\n",
       "      <td>2.0</td>\n",
       "      <td>2.0</td>\n",
       "    </tr>\n",
       "    <tr>\n",
       "      <th>43</th>\n",
       "      <td>0.0</td>\n",
       "      <td>2.0</td>\n",
       "    </tr>\n",
       "    <tr>\n",
       "      <th>44</th>\n",
       "      <td>1.0</td>\n",
       "      <td>1.0</td>\n",
       "    </tr>\n",
       "    <tr>\n",
       "      <th>45</th>\n",
       "      <td>0.0</td>\n",
       "      <td>2.0</td>\n",
       "    </tr>\n",
       "    <tr>\n",
       "      <th>46</th>\n",
       "      <td>0.0</td>\n",
       "      <td>2.0</td>\n",
       "    </tr>\n",
       "    <tr>\n",
       "      <th>47</th>\n",
       "      <td>2.0</td>\n",
       "      <td>2.0</td>\n",
       "    </tr>\n",
       "    <tr>\n",
       "      <th>48</th>\n",
       "      <td>2.0</td>\n",
       "      <td>1.0</td>\n",
       "    </tr>\n",
       "    <tr>\n",
       "      <th>49</th>\n",
       "      <td>2.0</td>\n",
       "      <td>1.0</td>\n",
       "    </tr>\n",
       "  </tbody>\n",
       "</table>\n",
       "</div>"
      ],
      "text/plain": [
       "    review  education\n",
       "0      1.0        0.0\n",
       "1      0.0        1.0\n",
       "2      2.0        2.0\n",
       "3      2.0        2.0\n",
       "4      1.0        1.0\n",
       "5      1.0        0.0\n",
       "6      2.0        0.0\n",
       "7      0.0        0.0\n",
       "8      1.0        1.0\n",
       "9      2.0        1.0\n",
       "10     2.0        1.0\n",
       "11     2.0        1.0\n",
       "12     0.0        0.0\n",
       "13     1.0        0.0\n",
       "14     0.0        2.0\n",
       "15     0.0        1.0\n",
       "16     0.0        1.0\n",
       "17     0.0        1.0\n",
       "18     2.0        0.0\n",
       "19     0.0        2.0\n",
       "20     1.0        0.0\n",
       "21     1.0        2.0\n",
       "22     0.0        2.0\n",
       "23     2.0        0.0\n",
       "24     1.0        2.0\n",
       "25     2.0        0.0\n",
       "26     0.0        2.0\n",
       "27     0.0        2.0\n",
       "28     0.0        0.0\n",
       "29     1.0        1.0\n",
       "30     1.0        1.0\n",
       "31     0.0        0.0\n",
       "32     1.0        1.0\n",
       "33     2.0        2.0\n",
       "34     1.0        0.0\n",
       "35     0.0        0.0\n",
       "36     2.0        1.0\n",
       "37     1.0        2.0\n",
       "38     2.0        0.0\n",
       "39     0.0        2.0\n",
       "40     2.0        0.0\n",
       "41     2.0        2.0\n",
       "42     2.0        2.0\n",
       "43     0.0        2.0\n",
       "44     1.0        1.0\n",
       "45     0.0        2.0\n",
       "46     0.0        2.0\n",
       "47     2.0        2.0\n",
       "48     2.0        1.0\n",
       "49     2.0        1.0"
      ]
     },
     "execution_count": 13,
     "metadata": {},
     "output_type": "execute_result"
    }
   ],
   "source": [
    "pd.DataFrame(X_train_transformed,columns = X_train.columns)"
   ]
  },
  {
   "cell_type": "markdown",
   "id": "517cdd1f",
   "metadata": {
    "papermill": {
     "duration": 0.005724,
     "end_time": "2022-07-12T04:52:42.846440",
     "exception": false,
     "start_time": "2022-07-12T04:52:42.840716",
     "status": "completed"
    },
    "tags": []
   },
   "source": [
    "# Label Encoding\n"
   ]
  },
  {
   "cell_type": "code",
   "execution_count": 14,
   "id": "0f2de739",
   "metadata": {
    "execution": {
     "iopub.execute_input": "2022-07-12T04:52:42.861297Z",
     "iopub.status.busy": "2022-07-12T04:52:42.860155Z",
     "iopub.status.idle": "2022-07-12T04:52:42.864815Z",
     "shell.execute_reply": "2022-07-12T04:52:42.864019Z"
    },
    "papermill": {
     "duration": 0.014027,
     "end_time": "2022-07-12T04:52:42.866981",
     "exception": false,
     "start_time": "2022-07-12T04:52:42.852954",
     "status": "completed"
    },
    "tags": []
   },
   "outputs": [],
   "source": [
    "from sklearn.preprocessing import LabelEncoder"
   ]
  },
  {
   "cell_type": "code",
   "execution_count": 15,
   "id": "764e9ee7",
   "metadata": {
    "execution": {
     "iopub.execute_input": "2022-07-12T04:52:42.882202Z",
     "iopub.status.busy": "2022-07-12T04:52:42.881410Z",
     "iopub.status.idle": "2022-07-12T04:52:42.887400Z",
     "shell.execute_reply": "2022-07-12T04:52:42.885926Z"
    },
    "papermill": {
     "duration": 0.016787,
     "end_time": "2022-07-12T04:52:42.889926",
     "exception": false,
     "start_time": "2022-07-12T04:52:42.873139",
     "status": "completed"
    },
    "tags": []
   },
   "outputs": [],
   "source": [
    "le =LabelEncoder()"
   ]
  },
  {
   "cell_type": "code",
   "execution_count": 16,
   "id": "15ea2c53",
   "metadata": {
    "execution": {
     "iopub.execute_input": "2022-07-12T04:52:42.904151Z",
     "iopub.status.busy": "2022-07-12T04:52:42.903313Z",
     "iopub.status.idle": "2022-07-12T04:52:42.910249Z",
     "shell.execute_reply": "2022-07-12T04:52:42.909050Z"
    },
    "papermill": {
     "duration": 0.016369,
     "end_time": "2022-07-12T04:52:42.912234",
     "exception": false,
     "start_time": "2022-07-12T04:52:42.895865",
     "status": "completed"
    },
    "tags": []
   },
   "outputs": [],
   "source": [
    "y_train =df['purchased']"
   ]
  },
  {
   "cell_type": "code",
   "execution_count": 17,
   "id": "07630f8c",
   "metadata": {
    "execution": {
     "iopub.execute_input": "2022-07-12T04:52:42.926266Z",
     "iopub.status.busy": "2022-07-12T04:52:42.925295Z",
     "iopub.status.idle": "2022-07-12T04:52:42.932848Z",
     "shell.execute_reply": "2022-07-12T04:52:42.932140Z"
    },
    "papermill": {
     "duration": 0.016834,
     "end_time": "2022-07-12T04:52:42.934827",
     "exception": false,
     "start_time": "2022-07-12T04:52:42.917993",
     "status": "completed"
    },
    "tags": []
   },
   "outputs": [
    {
     "data": {
      "text/plain": [
       "LabelEncoder()"
      ]
     },
     "execution_count": 17,
     "metadata": {},
     "output_type": "execute_result"
    }
   ],
   "source": [
    "le.fit(y_train)"
   ]
  },
  {
   "cell_type": "code",
   "execution_count": 18,
   "id": "653c8c9f",
   "metadata": {
    "execution": {
     "iopub.execute_input": "2022-07-12T04:52:42.948957Z",
     "iopub.status.busy": "2022-07-12T04:52:42.948281Z",
     "iopub.status.idle": "2022-07-12T04:52:42.954692Z",
     "shell.execute_reply": "2022-07-12T04:52:42.953581Z"
    },
    "papermill": {
     "duration": 0.015667,
     "end_time": "2022-07-12T04:52:42.956622",
     "exception": false,
     "start_time": "2022-07-12T04:52:42.940955",
     "status": "completed"
    },
    "tags": []
   },
   "outputs": [
    {
     "data": {
      "text/plain": [
       "array(['No', 'Yes'], dtype=object)"
      ]
     },
     "execution_count": 18,
     "metadata": {},
     "output_type": "execute_result"
    }
   ],
   "source": [
    "le.classes_"
   ]
  },
  {
   "cell_type": "code",
   "execution_count": 19,
   "id": "52b9836a",
   "metadata": {
    "execution": {
     "iopub.execute_input": "2022-07-12T04:52:42.970968Z",
     "iopub.status.busy": "2022-07-12T04:52:42.970146Z",
     "iopub.status.idle": "2022-07-12T04:52:42.975659Z",
     "shell.execute_reply": "2022-07-12T04:52:42.974319Z"
    },
    "papermill": {
     "duration": 0.014987,
     "end_time": "2022-07-12T04:52:42.977745",
     "exception": false,
     "start_time": "2022-07-12T04:52:42.962758",
     "status": "completed"
    },
    "tags": []
   },
   "outputs": [],
   "source": [
    "\n",
    "y_train = le.transform(y_train)"
   ]
  },
  {
   "cell_type": "code",
   "execution_count": 20,
   "id": "831ddc2c",
   "metadata": {
    "execution": {
     "iopub.execute_input": "2022-07-12T04:52:42.992127Z",
     "iopub.status.busy": "2022-07-12T04:52:42.991325Z",
     "iopub.status.idle": "2022-07-12T04:52:42.998502Z",
     "shell.execute_reply": "2022-07-12T04:52:42.997296Z"
    },
    "papermill": {
     "duration": 0.017029,
     "end_time": "2022-07-12T04:52:43.000763",
     "exception": false,
     "start_time": "2022-07-12T04:52:42.983734",
     "status": "completed"
    },
    "tags": []
   },
   "outputs": [
    {
     "data": {
      "text/plain": [
       "array([0, 0, 0, 0, 0, 1, 0, 1, 0, 1, 1, 1, 0, 0, 1, 0, 1, 1, 0, 1, 1, 0,\n",
       "       1, 0, 1, 0, 0, 0, 0, 1, 0, 1, 1, 1, 0, 1, 1, 1, 0, 0, 0, 1, 1, 0,\n",
       "       0, 1, 0, 1, 1, 0])"
      ]
     },
     "execution_count": 20,
     "metadata": {},
     "output_type": "execute_result"
    }
   ],
   "source": [
    "y_train"
   ]
  },
  {
   "cell_type": "code",
   "execution_count": null,
   "id": "5513cddf",
   "metadata": {
    "papermill": {
     "duration": 0.00565,
     "end_time": "2022-07-12T04:52:43.012612",
     "exception": false,
     "start_time": "2022-07-12T04:52:43.006962",
     "status": "completed"
    },
    "tags": []
   },
   "outputs": [],
   "source": []
  }
 ],
 "metadata": {
  "kernelspec": {
   "display_name": "Python 3",
   "language": "python",
   "name": "python3"
  },
  "language_info": {
   "codemirror_mode": {
    "name": "ipython",
    "version": 3
   },
   "file_extension": ".py",
   "mimetype": "text/x-python",
   "name": "python",
   "nbconvert_exporter": "python",
   "pygments_lexer": "ipython3",
   "version": "3.7.12"
  },
  "papermill": {
   "default_parameters": {},
   "duration": 11.21366,
   "end_time": "2022-07-12T04:52:43.740823",
   "environment_variables": {},
   "exception": null,
   "input_path": "__notebook__.ipynb",
   "output_path": "__notebook__.ipynb",
   "parameters": {},
   "start_time": "2022-07-12T04:52:32.527163",
   "version": "2.3.4"
  }
 },
 "nbformat": 4,
 "nbformat_minor": 5
}
