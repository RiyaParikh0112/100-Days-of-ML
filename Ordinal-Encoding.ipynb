{
 "cells": [
  {
   "cell_type": "code",
   "execution_count": 1,
   "id": "e92975d9",
   "metadata": {
    "_cell_guid": "b1076dfc-b9ad-4769-8c92-a6c4dae69d19",
    "_uuid": "8f2839f25d086af736a60e9eeb907d3b93b6e0e5",
    "execution": {
     "iopub.execute_input": "2022-07-12T04:47:41.627634Z",
     "iopub.status.busy": "2022-07-12T04:47:41.626590Z",
     "iopub.status.idle": "2022-07-12T04:47:41.638670Z",
     "shell.execute_reply": "2022-07-12T04:47:41.637502Z"
    },
    "papermill": {
     "duration": 0.022106,
     "end_time": "2022-07-12T04:47:41.641363",
     "exception": false,
     "start_time": "2022-07-12T04:47:41.619257",
     "status": "completed"
    },
    "tags": []
   },
   "outputs": [],
   "source": [
    "import pandas as pd\n",
    "import numpy as np\n"
   ]
  },
  {
   "cell_type": "code",
   "execution_count": 2,
   "id": "b4589445",
   "metadata": {
    "execution": {
     "iopub.execute_input": "2022-07-12T04:47:41.652381Z",
     "iopub.status.busy": "2022-07-12T04:47:41.651523Z",
     "iopub.status.idle": "2022-07-12T04:47:41.667662Z",
     "shell.execute_reply": "2022-07-12T04:47:41.666633Z"
    },
    "papermill": {
     "duration": 0.024118,
     "end_time": "2022-07-12T04:47:41.670205",
     "exception": false,
     "start_time": "2022-07-12T04:47:41.646087",
     "status": "completed"
    },
    "tags": []
   },
   "outputs": [],
   "source": [
    "df=pd.read_csv('../input/customer/customer.csv')"
   ]
  },
  {
   "cell_type": "code",
   "execution_count": 3,
   "id": "6c78b8f7",
   "metadata": {
    "execution": {
     "iopub.execute_input": "2022-07-12T04:47:41.680735Z",
     "iopub.status.busy": "2022-07-12T04:47:41.680368Z",
     "iopub.status.idle": "2022-07-12T04:47:41.705492Z",
     "shell.execute_reply": "2022-07-12T04:47:41.704352Z"
    },
    "papermill": {
     "duration": 0.033552,
     "end_time": "2022-07-12T04:47:41.708281",
     "exception": false,
     "start_time": "2022-07-12T04:47:41.674729",
     "status": "completed"
    },
    "tags": []
   },
   "outputs": [
    {
     "data": {
      "text/html": [
       "<div>\n",
       "<style scoped>\n",
       "    .dataframe tbody tr th:only-of-type {\n",
       "        vertical-align: middle;\n",
       "    }\n",
       "\n",
       "    .dataframe tbody tr th {\n",
       "        vertical-align: top;\n",
       "    }\n",
       "\n",
       "    .dataframe thead th {\n",
       "        text-align: right;\n",
       "    }\n",
       "</style>\n",
       "<table border=\"1\" class=\"dataframe\">\n",
       "  <thead>\n",
       "    <tr style=\"text-align: right;\">\n",
       "      <th></th>\n",
       "      <th>age</th>\n",
       "      <th>gender</th>\n",
       "      <th>review</th>\n",
       "      <th>education</th>\n",
       "      <th>purchased</th>\n",
       "    </tr>\n",
       "  </thead>\n",
       "  <tbody>\n",
       "    <tr>\n",
       "      <th>16</th>\n",
       "      <td>59</td>\n",
       "      <td>Male</td>\n",
       "      <td>Poor</td>\n",
       "      <td>UG</td>\n",
       "      <td>Yes</td>\n",
       "    </tr>\n",
       "    <tr>\n",
       "      <th>30</th>\n",
       "      <td>73</td>\n",
       "      <td>Male</td>\n",
       "      <td>Average</td>\n",
       "      <td>UG</td>\n",
       "      <td>No</td>\n",
       "    </tr>\n",
       "    <tr>\n",
       "      <th>36</th>\n",
       "      <td>34</td>\n",
       "      <td>Female</td>\n",
       "      <td>Good</td>\n",
       "      <td>UG</td>\n",
       "      <td>Yes</td>\n",
       "    </tr>\n",
       "    <tr>\n",
       "      <th>20</th>\n",
       "      <td>57</td>\n",
       "      <td>Female</td>\n",
       "      <td>Average</td>\n",
       "      <td>School</td>\n",
       "      <td>Yes</td>\n",
       "    </tr>\n",
       "    <tr>\n",
       "      <th>24</th>\n",
       "      <td>16</td>\n",
       "      <td>Female</td>\n",
       "      <td>Average</td>\n",
       "      <td>PG</td>\n",
       "      <td>Yes</td>\n",
       "    </tr>\n",
       "  </tbody>\n",
       "</table>\n",
       "</div>"
      ],
      "text/plain": [
       "    age  gender   review education purchased\n",
       "16   59    Male     Poor        UG       Yes\n",
       "30   73    Male  Average        UG        No\n",
       "36   34  Female     Good        UG       Yes\n",
       "20   57  Female  Average    School       Yes\n",
       "24   16  Female  Average        PG       Yes"
      ]
     },
     "execution_count": 3,
     "metadata": {},
     "output_type": "execute_result"
    }
   ],
   "source": [
    "df.sample(5)"
   ]
  },
  {
   "cell_type": "code",
   "execution_count": 4,
   "id": "a10faccd",
   "metadata": {
    "execution": {
     "iopub.execute_input": "2022-07-12T04:47:41.719621Z",
     "iopub.status.busy": "2022-07-12T04:47:41.719262Z",
     "iopub.status.idle": "2022-07-12T04:47:41.725091Z",
     "shell.execute_reply": "2022-07-12T04:47:41.723786Z"
    },
    "papermill": {
     "duration": 0.014219,
     "end_time": "2022-07-12T04:47:41.727450",
     "exception": false,
     "start_time": "2022-07-12T04:47:41.713231",
     "status": "completed"
    },
    "tags": []
   },
   "outputs": [],
   "source": [
    "df = df.iloc[:,2:]"
   ]
  },
  {
   "cell_type": "code",
   "execution_count": 5,
   "id": "b07a45b1",
   "metadata": {
    "execution": {
     "iopub.execute_input": "2022-07-12T04:47:41.738588Z",
     "iopub.status.busy": "2022-07-12T04:47:41.738224Z",
     "iopub.status.idle": "2022-07-12T04:47:41.749984Z",
     "shell.execute_reply": "2022-07-12T04:47:41.748935Z"
    },
    "papermill": {
     "duration": 0.02007,
     "end_time": "2022-07-12T04:47:41.752247",
     "exception": false,
     "start_time": "2022-07-12T04:47:41.732177",
     "status": "completed"
    },
    "tags": []
   },
   "outputs": [
    {
     "data": {
      "text/html": [
       "<div>\n",
       "<style scoped>\n",
       "    .dataframe tbody tr th:only-of-type {\n",
       "        vertical-align: middle;\n",
       "    }\n",
       "\n",
       "    .dataframe tbody tr th {\n",
       "        vertical-align: top;\n",
       "    }\n",
       "\n",
       "    .dataframe thead th {\n",
       "        text-align: right;\n",
       "    }\n",
       "</style>\n",
       "<table border=\"1\" class=\"dataframe\">\n",
       "  <thead>\n",
       "    <tr style=\"text-align: right;\">\n",
       "      <th></th>\n",
       "      <th>review</th>\n",
       "      <th>education</th>\n",
       "      <th>purchased</th>\n",
       "    </tr>\n",
       "  </thead>\n",
       "  <tbody>\n",
       "    <tr>\n",
       "      <th>36</th>\n",
       "      <td>Good</td>\n",
       "      <td>UG</td>\n",
       "      <td>Yes</td>\n",
       "    </tr>\n",
       "    <tr>\n",
       "      <th>48</th>\n",
       "      <td>Good</td>\n",
       "      <td>UG</td>\n",
       "      <td>Yes</td>\n",
       "    </tr>\n",
       "    <tr>\n",
       "      <th>2</th>\n",
       "      <td>Good</td>\n",
       "      <td>PG</td>\n",
       "      <td>No</td>\n",
       "    </tr>\n",
       "    <tr>\n",
       "      <th>32</th>\n",
       "      <td>Average</td>\n",
       "      <td>UG</td>\n",
       "      <td>Yes</td>\n",
       "    </tr>\n",
       "    <tr>\n",
       "      <th>12</th>\n",
       "      <td>Poor</td>\n",
       "      <td>School</td>\n",
       "      <td>No</td>\n",
       "    </tr>\n",
       "  </tbody>\n",
       "</table>\n",
       "</div>"
      ],
      "text/plain": [
       "     review education purchased\n",
       "36     Good        UG       Yes\n",
       "48     Good        UG       Yes\n",
       "2      Good        PG        No\n",
       "32  Average        UG       Yes\n",
       "12     Poor    School        No"
      ]
     },
     "execution_count": 5,
     "metadata": {},
     "output_type": "execute_result"
    }
   ],
   "source": [
    "df.sample(5)"
   ]
  },
  {
   "cell_type": "code",
   "execution_count": 6,
   "id": "3192b179",
   "metadata": {
    "execution": {
     "iopub.execute_input": "2022-07-12T04:47:41.764057Z",
     "iopub.status.busy": "2022-07-12T04:47:41.763658Z",
     "iopub.status.idle": "2022-07-12T04:47:42.817317Z",
     "shell.execute_reply": "2022-07-12T04:47:42.816214Z"
    },
    "papermill": {
     "duration": 1.062718,
     "end_time": "2022-07-12T04:47:42.820085",
     "exception": false,
     "start_time": "2022-07-12T04:47:41.757367",
     "status": "completed"
    },
    "tags": []
   },
   "outputs": [],
   "source": [
    "#let us import the Ordinal Encoder\n",
    "from sklearn.preprocessing import OrdinalEncoder"
   ]
  },
  {
   "cell_type": "code",
   "execution_count": 7,
   "id": "62466174",
   "metadata": {
    "execution": {
     "iopub.execute_input": "2022-07-12T04:47:42.831495Z",
     "iopub.status.busy": "2022-07-12T04:47:42.831089Z",
     "iopub.status.idle": "2022-07-12T04:47:42.840402Z",
     "shell.execute_reply": "2022-07-12T04:47:42.839340Z"
    },
    "papermill": {
     "duration": 0.017602,
     "end_time": "2022-07-12T04:47:42.842598",
     "exception": false,
     "start_time": "2022-07-12T04:47:42.824996",
     "status": "completed"
    },
    "tags": []
   },
   "outputs": [],
   "source": [
    "X_train = df.drop('purchased',axis=1)"
   ]
  },
  {
   "cell_type": "code",
   "execution_count": 8,
   "id": "333f4fe4",
   "metadata": {
    "execution": {
     "iopub.execute_input": "2022-07-12T04:47:42.855269Z",
     "iopub.status.busy": "2022-07-12T04:47:42.854154Z",
     "iopub.status.idle": "2022-07-12T04:47:42.865766Z",
     "shell.execute_reply": "2022-07-12T04:47:42.864682Z"
    },
    "papermill": {
     "duration": 0.020393,
     "end_time": "2022-07-12T04:47:42.867897",
     "exception": false,
     "start_time": "2022-07-12T04:47:42.847504",
     "status": "completed"
    },
    "tags": []
   },
   "outputs": [
    {
     "data": {
      "text/html": [
       "<div>\n",
       "<style scoped>\n",
       "    .dataframe tbody tr th:only-of-type {\n",
       "        vertical-align: middle;\n",
       "    }\n",
       "\n",
       "    .dataframe tbody tr th {\n",
       "        vertical-align: top;\n",
       "    }\n",
       "\n",
       "    .dataframe thead th {\n",
       "        text-align: right;\n",
       "    }\n",
       "</style>\n",
       "<table border=\"1\" class=\"dataframe\">\n",
       "  <thead>\n",
       "    <tr style=\"text-align: right;\">\n",
       "      <th></th>\n",
       "      <th>review</th>\n",
       "      <th>education</th>\n",
       "    </tr>\n",
       "  </thead>\n",
       "  <tbody>\n",
       "    <tr>\n",
       "      <th>41</th>\n",
       "      <td>Good</td>\n",
       "      <td>PG</td>\n",
       "    </tr>\n",
       "    <tr>\n",
       "      <th>1</th>\n",
       "      <td>Poor</td>\n",
       "      <td>UG</td>\n",
       "    </tr>\n",
       "    <tr>\n",
       "      <th>42</th>\n",
       "      <td>Good</td>\n",
       "      <td>PG</td>\n",
       "    </tr>\n",
       "    <tr>\n",
       "      <th>46</th>\n",
       "      <td>Poor</td>\n",
       "      <td>PG</td>\n",
       "    </tr>\n",
       "    <tr>\n",
       "      <th>9</th>\n",
       "      <td>Good</td>\n",
       "      <td>UG</td>\n",
       "    </tr>\n",
       "  </tbody>\n",
       "</table>\n",
       "</div>"
      ],
      "text/plain": [
       "   review education\n",
       "41   Good        PG\n",
       "1    Poor        UG\n",
       "42   Good        PG\n",
       "46   Poor        PG\n",
       "9    Good        UG"
      ]
     },
     "execution_count": 8,
     "metadata": {},
     "output_type": "execute_result"
    }
   ],
   "source": [
    "X_train.sample(5)"
   ]
  },
  {
   "cell_type": "code",
   "execution_count": 9,
   "id": "9f6725f1",
   "metadata": {
    "execution": {
     "iopub.execute_input": "2022-07-12T04:47:42.880325Z",
     "iopub.status.busy": "2022-07-12T04:47:42.879322Z",
     "iopub.status.idle": "2022-07-12T04:47:42.884033Z",
     "shell.execute_reply": "2022-07-12T04:47:42.883211Z"
    },
    "papermill": {
     "duration": 0.012994,
     "end_time": "2022-07-12T04:47:42.886138",
     "exception": false,
     "start_time": "2022-07-12T04:47:42.873144",
     "status": "completed"
    },
    "tags": []
   },
   "outputs": [],
   "source": [
    "# As in ordinal data there is a relationship between the terms lets us define them\n",
    "oe = OrdinalEncoder(categories=[['Poor','Average','Good'], ['School','UG','PG']])"
   ]
  },
  {
   "cell_type": "code",
   "execution_count": 10,
   "id": "e76e0d1b",
   "metadata": {
    "execution": {
     "iopub.execute_input": "2022-07-12T04:47:42.898833Z",
     "iopub.status.busy": "2022-07-12T04:47:42.897711Z",
     "iopub.status.idle": "2022-07-12T04:47:42.907431Z",
     "shell.execute_reply": "2022-07-12T04:47:42.906334Z"
    },
    "papermill": {
     "duration": 0.018353,
     "end_time": "2022-07-12T04:47:42.909624",
     "exception": false,
     "start_time": "2022-07-12T04:47:42.891271",
     "status": "completed"
    },
    "tags": []
   },
   "outputs": [
    {
     "data": {
      "text/plain": [
       "OrdinalEncoder(categories=[['Poor', 'Average', 'Good'], ['School', 'UG', 'PG']])"
      ]
     },
     "execution_count": 10,
     "metadata": {},
     "output_type": "execute_result"
    }
   ],
   "source": [
    "oe.fit(X_train)"
   ]
  },
  {
   "cell_type": "code",
   "execution_count": 11,
   "id": "a35663e8",
   "metadata": {
    "execution": {
     "iopub.execute_input": "2022-07-12T04:47:42.921997Z",
     "iopub.status.busy": "2022-07-12T04:47:42.921261Z",
     "iopub.status.idle": "2022-07-12T04:47:42.926875Z",
     "shell.execute_reply": "2022-07-12T04:47:42.926111Z"
    },
    "papermill": {
     "duration": 0.014317,
     "end_time": "2022-07-12T04:47:42.929172",
     "exception": false,
     "start_time": "2022-07-12T04:47:42.914855",
     "status": "completed"
    },
    "tags": []
   },
   "outputs": [],
   "source": [
    "X_train_transformed= oe.transform(X_train)"
   ]
  },
  {
   "cell_type": "code",
   "execution_count": 12,
   "id": "9a48627f",
   "metadata": {
    "execution": {
     "iopub.execute_input": "2022-07-12T04:47:42.941463Z",
     "iopub.status.busy": "2022-07-12T04:47:42.940753Z",
     "iopub.status.idle": "2022-07-12T04:47:42.949320Z",
     "shell.execute_reply": "2022-07-12T04:47:42.948195Z"
    },
    "papermill": {
     "duration": 0.017216,
     "end_time": "2022-07-12T04:47:42.951543",
     "exception": false,
     "start_time": "2022-07-12T04:47:42.934327",
     "status": "completed"
    },
    "tags": []
   },
   "outputs": [
    {
     "data": {
      "text/plain": [
       "array([[1., 0.],\n",
       "       [0., 1.],\n",
       "       [2., 2.],\n",
       "       [2., 2.],\n",
       "       [1., 1.],\n",
       "       [1., 0.],\n",
       "       [2., 0.],\n",
       "       [0., 0.],\n",
       "       [1., 1.],\n",
       "       [2., 1.],\n",
       "       [2., 1.],\n",
       "       [2., 1.],\n",
       "       [0., 0.],\n",
       "       [1., 0.],\n",
       "       [0., 2.],\n",
       "       [0., 1.],\n",
       "       [0., 1.],\n",
       "       [0., 1.],\n",
       "       [2., 0.],\n",
       "       [0., 2.],\n",
       "       [1., 0.],\n",
       "       [1., 2.],\n",
       "       [0., 2.],\n",
       "       [2., 0.],\n",
       "       [1., 2.],\n",
       "       [2., 0.],\n",
       "       [0., 2.],\n",
       "       [0., 2.],\n",
       "       [0., 0.],\n",
       "       [1., 1.],\n",
       "       [1., 1.],\n",
       "       [0., 0.],\n",
       "       [1., 1.],\n",
       "       [2., 2.],\n",
       "       [1., 0.],\n",
       "       [0., 0.],\n",
       "       [2., 1.],\n",
       "       [1., 2.],\n",
       "       [2., 0.],\n",
       "       [0., 2.],\n",
       "       [2., 0.],\n",
       "       [2., 2.],\n",
       "       [2., 2.],\n",
       "       [0., 2.],\n",
       "       [1., 1.],\n",
       "       [0., 2.],\n",
       "       [0., 2.],\n",
       "       [2., 2.],\n",
       "       [2., 1.],\n",
       "       [2., 1.]])"
      ]
     },
     "execution_count": 12,
     "metadata": {},
     "output_type": "execute_result"
    }
   ],
   "source": [
    "X_train_transformed"
   ]
  },
  {
   "cell_type": "code",
   "execution_count": 13,
   "id": "24158e42",
   "metadata": {
    "execution": {
     "iopub.execute_input": "2022-07-12T04:47:42.964197Z",
     "iopub.status.busy": "2022-07-12T04:47:42.963489Z",
     "iopub.status.idle": "2022-07-12T04:47:42.986260Z",
     "shell.execute_reply": "2022-07-12T04:47:42.985155Z"
    },
    "papermill": {
     "duration": 0.031526,
     "end_time": "2022-07-12T04:47:42.988400",
     "exception": false,
     "start_time": "2022-07-12T04:47:42.956874",
     "status": "completed"
    },
    "tags": []
   },
   "outputs": [
    {
     "data": {
      "text/html": [
       "<div>\n",
       "<style scoped>\n",
       "    .dataframe tbody tr th:only-of-type {\n",
       "        vertical-align: middle;\n",
       "    }\n",
       "\n",
       "    .dataframe tbody tr th {\n",
       "        vertical-align: top;\n",
       "    }\n",
       "\n",
       "    .dataframe thead th {\n",
       "        text-align: right;\n",
       "    }\n",
       "</style>\n",
       "<table border=\"1\" class=\"dataframe\">\n",
       "  <thead>\n",
       "    <tr style=\"text-align: right;\">\n",
       "      <th></th>\n",
       "      <th>review</th>\n",
       "      <th>education</th>\n",
       "    </tr>\n",
       "  </thead>\n",
       "  <tbody>\n",
       "    <tr>\n",
       "      <th>0</th>\n",
       "      <td>1.0</td>\n",
       "      <td>0.0</td>\n",
       "    </tr>\n",
       "    <tr>\n",
       "      <th>1</th>\n",
       "      <td>0.0</td>\n",
       "      <td>1.0</td>\n",
       "    </tr>\n",
       "    <tr>\n",
       "      <th>2</th>\n",
       "      <td>2.0</td>\n",
       "      <td>2.0</td>\n",
       "    </tr>\n",
       "    <tr>\n",
       "      <th>3</th>\n",
       "      <td>2.0</td>\n",
       "      <td>2.0</td>\n",
       "    </tr>\n",
       "    <tr>\n",
       "      <th>4</th>\n",
       "      <td>1.0</td>\n",
       "      <td>1.0</td>\n",
       "    </tr>\n",
       "    <tr>\n",
       "      <th>5</th>\n",
       "      <td>1.0</td>\n",
       "      <td>0.0</td>\n",
       "    </tr>\n",
       "    <tr>\n",
       "      <th>6</th>\n",
       "      <td>2.0</td>\n",
       "      <td>0.0</td>\n",
       "    </tr>\n",
       "    <tr>\n",
       "      <th>7</th>\n",
       "      <td>0.0</td>\n",
       "      <td>0.0</td>\n",
       "    </tr>\n",
       "    <tr>\n",
       "      <th>8</th>\n",
       "      <td>1.0</td>\n",
       "      <td>1.0</td>\n",
       "    </tr>\n",
       "    <tr>\n",
       "      <th>9</th>\n",
       "      <td>2.0</td>\n",
       "      <td>1.0</td>\n",
       "    </tr>\n",
       "    <tr>\n",
       "      <th>10</th>\n",
       "      <td>2.0</td>\n",
       "      <td>1.0</td>\n",
       "    </tr>\n",
       "    <tr>\n",
       "      <th>11</th>\n",
       "      <td>2.0</td>\n",
       "      <td>1.0</td>\n",
       "    </tr>\n",
       "    <tr>\n",
       "      <th>12</th>\n",
       "      <td>0.0</td>\n",
       "      <td>0.0</td>\n",
       "    </tr>\n",
       "    <tr>\n",
       "      <th>13</th>\n",
       "      <td>1.0</td>\n",
       "      <td>0.0</td>\n",
       "    </tr>\n",
       "    <tr>\n",
       "      <th>14</th>\n",
       "      <td>0.0</td>\n",
       "      <td>2.0</td>\n",
       "    </tr>\n",
       "    <tr>\n",
       "      <th>15</th>\n",
       "      <td>0.0</td>\n",
       "      <td>1.0</td>\n",
       "    </tr>\n",
       "    <tr>\n",
       "      <th>16</th>\n",
       "      <td>0.0</td>\n",
       "      <td>1.0</td>\n",
       "    </tr>\n",
       "    <tr>\n",
       "      <th>17</th>\n",
       "      <td>0.0</td>\n",
       "      <td>1.0</td>\n",
       "    </tr>\n",
       "    <tr>\n",
       "      <th>18</th>\n",
       "      <td>2.0</td>\n",
       "      <td>0.0</td>\n",
       "    </tr>\n",
       "    <tr>\n",
       "      <th>19</th>\n",
       "      <td>0.0</td>\n",
       "      <td>2.0</td>\n",
       "    </tr>\n",
       "    <tr>\n",
       "      <th>20</th>\n",
       "      <td>1.0</td>\n",
       "      <td>0.0</td>\n",
       "    </tr>\n",
       "    <tr>\n",
       "      <th>21</th>\n",
       "      <td>1.0</td>\n",
       "      <td>2.0</td>\n",
       "    </tr>\n",
       "    <tr>\n",
       "      <th>22</th>\n",
       "      <td>0.0</td>\n",
       "      <td>2.0</td>\n",
       "    </tr>\n",
       "    <tr>\n",
       "      <th>23</th>\n",
       "      <td>2.0</td>\n",
       "      <td>0.0</td>\n",
       "    </tr>\n",
       "    <tr>\n",
       "      <th>24</th>\n",
       "      <td>1.0</td>\n",
       "      <td>2.0</td>\n",
       "    </tr>\n",
       "    <tr>\n",
       "      <th>25</th>\n",
       "      <td>2.0</td>\n",
       "      <td>0.0</td>\n",
       "    </tr>\n",
       "    <tr>\n",
       "      <th>26</th>\n",
       "      <td>0.0</td>\n",
       "      <td>2.0</td>\n",
       "    </tr>\n",
       "    <tr>\n",
       "      <th>27</th>\n",
       "      <td>0.0</td>\n",
       "      <td>2.0</td>\n",
       "    </tr>\n",
       "    <tr>\n",
       "      <th>28</th>\n",
       "      <td>0.0</td>\n",
       "      <td>0.0</td>\n",
       "    </tr>\n",
       "    <tr>\n",
       "      <th>29</th>\n",
       "      <td>1.0</td>\n",
       "      <td>1.0</td>\n",
       "    </tr>\n",
       "    <tr>\n",
       "      <th>30</th>\n",
       "      <td>1.0</td>\n",
       "      <td>1.0</td>\n",
       "    </tr>\n",
       "    <tr>\n",
       "      <th>31</th>\n",
       "      <td>0.0</td>\n",
       "      <td>0.0</td>\n",
       "    </tr>\n",
       "    <tr>\n",
       "      <th>32</th>\n",
       "      <td>1.0</td>\n",
       "      <td>1.0</td>\n",
       "    </tr>\n",
       "    <tr>\n",
       "      <th>33</th>\n",
       "      <td>2.0</td>\n",
       "      <td>2.0</td>\n",
       "    </tr>\n",
       "    <tr>\n",
       "      <th>34</th>\n",
       "      <td>1.0</td>\n",
       "      <td>0.0</td>\n",
       "    </tr>\n",
       "    <tr>\n",
       "      <th>35</th>\n",
       "      <td>0.0</td>\n",
       "      <td>0.0</td>\n",
       "    </tr>\n",
       "    <tr>\n",
       "      <th>36</th>\n",
       "      <td>2.0</td>\n",
       "      <td>1.0</td>\n",
       "    </tr>\n",
       "    <tr>\n",
       "      <th>37</th>\n",
       "      <td>1.0</td>\n",
       "      <td>2.0</td>\n",
       "    </tr>\n",
       "    <tr>\n",
       "      <th>38</th>\n",
       "      <td>2.0</td>\n",
       "      <td>0.0</td>\n",
       "    </tr>\n",
       "    <tr>\n",
       "      <th>39</th>\n",
       "      <td>0.0</td>\n",
       "      <td>2.0</td>\n",
       "    </tr>\n",
       "    <tr>\n",
       "      <th>40</th>\n",
       "      <td>2.0</td>\n",
       "      <td>0.0</td>\n",
       "    </tr>\n",
       "    <tr>\n",
       "      <th>41</th>\n",
       "      <td>2.0</td>\n",
       "      <td>2.0</td>\n",
       "    </tr>\n",
       "    <tr>\n",
       "      <th>42</th>\n",
       "      <td>2.0</td>\n",
       "      <td>2.0</td>\n",
       "    </tr>\n",
       "    <tr>\n",
       "      <th>43</th>\n",
       "      <td>0.0</td>\n",
       "      <td>2.0</td>\n",
       "    </tr>\n",
       "    <tr>\n",
       "      <th>44</th>\n",
       "      <td>1.0</td>\n",
       "      <td>1.0</td>\n",
       "    </tr>\n",
       "    <tr>\n",
       "      <th>45</th>\n",
       "      <td>0.0</td>\n",
       "      <td>2.0</td>\n",
       "    </tr>\n",
       "    <tr>\n",
       "      <th>46</th>\n",
       "      <td>0.0</td>\n",
       "      <td>2.0</td>\n",
       "    </tr>\n",
       "    <tr>\n",
       "      <th>47</th>\n",
       "      <td>2.0</td>\n",
       "      <td>2.0</td>\n",
       "    </tr>\n",
       "    <tr>\n",
       "      <th>48</th>\n",
       "      <td>2.0</td>\n",
       "      <td>1.0</td>\n",
       "    </tr>\n",
       "    <tr>\n",
       "      <th>49</th>\n",
       "      <td>2.0</td>\n",
       "      <td>1.0</td>\n",
       "    </tr>\n",
       "  </tbody>\n",
       "</table>\n",
       "</div>"
      ],
      "text/plain": [
       "    review  education\n",
       "0      1.0        0.0\n",
       "1      0.0        1.0\n",
       "2      2.0        2.0\n",
       "3      2.0        2.0\n",
       "4      1.0        1.0\n",
       "5      1.0        0.0\n",
       "6      2.0        0.0\n",
       "7      0.0        0.0\n",
       "8      1.0        1.0\n",
       "9      2.0        1.0\n",
       "10     2.0        1.0\n",
       "11     2.0        1.0\n",
       "12     0.0        0.0\n",
       "13     1.0        0.0\n",
       "14     0.0        2.0\n",
       "15     0.0        1.0\n",
       "16     0.0        1.0\n",
       "17     0.0        1.0\n",
       "18     2.0        0.0\n",
       "19     0.0        2.0\n",
       "20     1.0        0.0\n",
       "21     1.0        2.0\n",
       "22     0.0        2.0\n",
       "23     2.0        0.0\n",
       "24     1.0        2.0\n",
       "25     2.0        0.0\n",
       "26     0.0        2.0\n",
       "27     0.0        2.0\n",
       "28     0.0        0.0\n",
       "29     1.0        1.0\n",
       "30     1.0        1.0\n",
       "31     0.0        0.0\n",
       "32     1.0        1.0\n",
       "33     2.0        2.0\n",
       "34     1.0        0.0\n",
       "35     0.0        0.0\n",
       "36     2.0        1.0\n",
       "37     1.0        2.0\n",
       "38     2.0        0.0\n",
       "39     0.0        2.0\n",
       "40     2.0        0.0\n",
       "41     2.0        2.0\n",
       "42     2.0        2.0\n",
       "43     0.0        2.0\n",
       "44     1.0        1.0\n",
       "45     0.0        2.0\n",
       "46     0.0        2.0\n",
       "47     2.0        2.0\n",
       "48     2.0        1.0\n",
       "49     2.0        1.0"
      ]
     },
     "execution_count": 13,
     "metadata": {},
     "output_type": "execute_result"
    }
   ],
   "source": [
    "pd.DataFrame(X_train_transformed,columns = X_train.columns)"
   ]
  },
  {
   "cell_type": "code",
   "execution_count": null,
   "id": "8ca58c24",
   "metadata": {
    "papermill": {
     "duration": 0.005507,
     "end_time": "2022-07-12T04:47:42.999964",
     "exception": false,
     "start_time": "2022-07-12T04:47:42.994457",
     "status": "completed"
    },
    "tags": []
   },
   "outputs": [],
   "source": []
  }
 ],
 "metadata": {
  "kernelspec": {
   "display_name": "Python 3",
   "language": "python",
   "name": "python3"
  },
  "language_info": {
   "codemirror_mode": {
    "name": "ipython",
    "version": 3
   },
   "file_extension": ".py",
   "mimetype": "text/x-python",
   "name": "python",
   "nbconvert_exporter": "python",
   "pygments_lexer": "ipython3",
   "version": "3.7.12"
  },
  "papermill": {
   "default_parameters": {},
   "duration": 12.095782,
   "end_time": "2022-07-12T04:47:43.728321",
   "environment_variables": {},
   "exception": null,
   "input_path": "__notebook__.ipynb",
   "output_path": "__notebook__.ipynb",
   "parameters": {},
   "start_time": "2022-07-12T04:47:31.632539",
   "version": "2.3.4"
  }
 },
 "nbformat": 4,
 "nbformat_minor": 5
}
